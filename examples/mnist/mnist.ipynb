{
 "cells": [
  {
   "cell_type": "markdown",
   "metadata": {},
   "source": [
    "# MNIST\n",
    "\n",
    "MNIST is a simple computer vision dataset that consists of images of handwritten digits.\n",
    "\n",
    "Some examples:\n",
    "\n",
    "![MNIST digits sample](https://github.com/user-attachments/assets/996c11e0-47f9-4b21-8e23-3867b8942e64)\n",
    "\n",
    "It also includes labels for each image, which we use to train our example models.\n",
    "\n",
    "## The `mnist` library\n",
    "\n",
    "This package includes the following functionality:\n",
    "\n",
    "  - Download the dataset from [storage.googleapis.com/cvdf-datasets/mnist](https://storage.googleapis.com/cvdf-datasets/mnist),\n",
    "  - Create a `Dataset` object to iterate over it, use for training and evaluation.\n",
    "  - A linear and a CNN model demo.\n",
    "  - A command-line demo (in the `demo` sub-directory).\n",
    "\n",
    "This notebook serves as documentation and example for the [github.com/gomlx/gomlx/examples/mnist](https://github.com/gomlx/gomlx/examples/mnist) library, and the demo code in one piece can be seen in [.../examples/mnist/demo/](https://github.com/gomlx/gomlx/tree/main/examples/mnist/demo)"
   ]
  },
  {
   "cell_type": "markdown",
   "metadata": {},
   "source": [
    "## Environment Set Up\n",
    "\n",
    "Let's set up `go.mod` to use the local copy of GoMLX, so it can be developed jointly the dataset code with the model. That's often how data pre-processing and model code is developed together with experimentation.\n",
    "\n",
    "If you are not changing code, feel free to simply skip this cell. Or if you used a different directory for you projects, change it below.\n",
    "\n",
    "Notice the directory `${HOME}/Projects/gomlx` is where the GoMLX code is copied by default in [its Docker](https://hub.docker.com/repository/docker/janpfeifer/gomlx_jupyterlab/general)."
   ]
  },
  {
   "cell_type": "code",
   "execution_count": 1,
   "metadata": {},
   "outputs": [
    {
     "name": "stdout",
     "output_type": "stream",
     "text": [
      "\t- Added replace rule for module \"github.com/gomlx/gomlx\" to local directory \"/home/janpf/Projects/gomlx\".\n"
     ]
    }
   ],
   "source": [
    "!*rm -f go.work && go work init && go work use . \"${HOME}/Projects/gomlx\"\n",
    "%goworkfix"
   ]
  },
  {
   "cell_type": "markdown",
   "metadata": {},
   "source": [
    "## Data Preparation\n",
    "\n",
    "### Downloading data files\n",
    "\n",
    "To download to the local directory, simply do the following. Notice if it's already downloaded in the given `--data` directory, it returns immediately."
   ]
  },
  {
   "cell_type": "code",
   "execution_count": 2,
   "metadata": {},
   "outputs": [],
   "source": [
    "import (\n",
    "    \"github.com/gomlx/gomlx/examples/mnist\"\n",
    "    \"github.com/gomlx/gomlx/ml/data\"\n",
    "    \"github.com/janpfeifer/must\"\n",
    ")\n",
    "\n",
    "var flagDataDir = flag.String(\"data\", \"~/work/mnist\", \"Directory to cache downloaded and generated dataset files.\")\n",
    "\n",
    "func AssertDownloaded() {\n",
    "    *flagDataDir = data.ReplaceTildeInDir(*flagDataDir)\n",
    "    if !data.FileExists(*flagDataDir) {\n",
    "        must.M(os.MkdirAll(*flagDataDir, 0777))\n",
    "    }\n",
    "\n",
    "   must.M(mnist.Download(*flagDataDir))\n",
    "}\n",
    "\n",
    "%%\n",
    "AssertDownloaded()"
   ]
  },
  {
   "cell_type": "code",
   "execution_count": 3,
   "metadata": {},
   "outputs": [
    {
     "name": "stdout",
     "output_type": "stream",
     "text": [
      "total 12M\n",
      "drwxr-x--- 2 janpf janpf 4.0K Jun  3 15:38 cnn\n",
      "drwxr-x--- 2 janpf janpf 4.0K Jun  3 15:39 cnn_triplet\n",
      "drwxr-x--- 2 janpf janpf 4.0K Jun  3 15:38 linear\n",
      "drwxr-x--- 2 janpf janpf 4.0K Feb 13 12:18 linear_baseline\n",
      "-rw-r--r-- 1 janpf janpf 1.6M Feb  3 07:34 t10k-images-idx3-ubyte.gz\n",
      "-rw-r--r-- 1 janpf janpf 4.5K Feb  3 07:34 t10k-labels-idx1-ubyte.gz\n",
      "-rw-r--r-- 1 janpf janpf 9.5M Feb  3 07:34 train-images-idx3-ubyte.gz\n",
      "-rw-r--r-- 1 janpf janpf  29K Feb  3 07:34 train-labels-idx1-ubyte.gz\n"
     ]
    }
   ],
   "source": [
    "!ls -lh ~/work/mnist/"
   ]
  },
  {
   "cell_type": "markdown",
   "metadata": {},
   "source": [
    "### Sample some images\n",
    "The `mnist.NewDataset` creates a `data.InMemoryDataset` that can be used both for training, evaluation, or just to sample a few examples, which we do below:"
   ]
  },
  {
   "cell_type": "code",
   "execution_count": 4,
   "metadata": {},
   "outputs": [
    {
     "data": {
      "text/html": [
       "<p>Samples MNIST</p>\n"
      ]
     },
     "metadata": {},
     "output_type": "display_data"
    },
    {
     "data": {
      "text/html": [
       "<table><tr>\n",
       "<td><figure style=\"padding:4px;text-align: center;\"><img width=\"56\" height=\"56\" src=\"data:image/png;base64,iVBORw0KGgoAAAANSUhEUgAAABwAAAAcCAIAAAD9b0jDAAAAvUlEQVR4nOyVUcrDMAyDf352r+pmdU+m9WQexGC8NNuS1oM8TE+hhS+ybJP/vy9oDigAVSUJIM0FSS0SkRyiiBiRZA7RCjclE3s89jZqXdfLxp7lUapqTtMjMafj+UQAE03l7Q3RO77v+/FvdeiSFx5tAogpDy+CQ22GmrixuKs0I46kFFW3Rr3MNJa8LIudt20zX/7xXtRbfrNSv+bkqDUTdNb54Y2OjvRL61Ch01ZrVHO8pj/oRz0CAAD//90OQ9BSsYhHAAAAAElFTkSuQmCC\"><figcaption style=\"text-align: center;\">([6])</figcaption></figure></td>\n",
       "<td><figure style=\"padding:4px;text-align: center;\"><img width=\"56\" height=\"56\" src=\"data:image/png;base64,iVBORw0KGgoAAAANSUhEUgAAABwAAAAcCAIAAAD9b0jDAAAAp0lEQVR4nOyV3Q3CMAyEA2Iwj+bNjs1AqiXLinHg3PJQwT2lrfzl4p/mOr6gP/SXobd2pKra4r6pb0FEADySAIhI01rGRS5t8CUlPnJOVTXGA9BNYwx/zxEnj14cU+fgk8FqM4K4zpfvN3n/FJrD9trMxJgTguj9mPMYPxEVr462boM3ihU4bCIXs2htz+FM1URSuEvl19d7/2xH6TzXyXmgzwAAAP//zfpuW8J1+bUAAAAASUVORK5CYII=\"><figcaption style=\"text-align: center;\">([0])</figcaption></figure></td>\n",
       "<td><figure style=\"padding:4px;text-align: center;\"><img width=\"56\" height=\"56\" src=\"data:image/png;base64,iVBORw0KGgoAAAANSUhEUgAAABwAAAAcCAIAAAD9b0jDAAACGElEQVR4nNSVPYviUBSGkyUZMh/ODKSZmVYNYqONGMFGUtjYKvgX1MbWVisR1NI/ICJWinZGTWFh4xc2KcRIKiUQCRuMJnFhLitLdCe7rlv4Vvdw7nl8rzfn3G/Qf9DtQBHTHQ6HIxaLPT8/v7+/bzYbWZZ5nu90OoPBQJKkC392vV7r59Rutz0ez9kS2BRaLBZRFD2GBEGQJHl/fw/DsCAIFEVNJpML/RpUKBSA31ar9fj4eB0ogiC9Xg9w7Xa7IXvh7auqWq1WwdrpdP6zyZ/CcRw4DQQChtTl36nP5wMLnuevBnW73RfX/lbD4VDX9el0+vDwYEiZdJTL5QqFQuB+YRiu1WqSJHW7XcunYBhmWVaW5T9y8fHxkc/nl8ulLMuGRtI0rd/vcxwHwmg0elp+xunLy8t4PMZxfLvd6rpO0zTLshAE+f1+m82GYRhJksfNh8MBRdH9fm/iETR7Op1+fX01ZC0WS6lUMnhnGMbk4LPZTFXVer2OYdhpNhgMSpIEWCzLgsVoNPqK6PV6FUURBOHsf5LNZhVFAaByufz09JRMJsPh8Nvb21dQiqJ0XW82myAkCCISicTj8UajsVqtAG632+Vyubu7O5MjG6Capn3/1NHXrzP0tClNZLVaRVE8nceiKNI0nUgkEMT8pTgzpFOpVCaTgSCoUqkoisJxHMMwi8ViPp//ncGr63ae6NuB/ggAAP//Gz5dZLL0OaoAAAAASUVORK5CYII=\"><figcaption style=\"text-align: center;\">([2])</figcaption></figure></td>\n",
       "<td><figure style=\"padding:4px;text-align: center;\"><img width=\"56\" height=\"56\" src=\"data:image/png;base64,iVBORw0KGgoAAAANSUhEUgAAABwAAAAcCAIAAAD9b0jDAAABdUlEQVR4nOySvYrCQBSF727URAN2Flpa+oORgIVgYWOrvoFY+AKCD+Fr2EhAsJQBH0C0GLCwn0IQxGIsHJAjCw7b6K4/62y1+1UJOfly7ty80y/wL/3L0tDFfSQSUUrp6+l0ulqtrt8pl8u+7y+Xy2KxCOA68Hb5kVBoNBolk0nf9+82chzneDzel2pc102lUp1Oh4hs267X60EQ6Ee5XK5WqxER57xUKn3Z9Gna7TbOZLPZ7zJPLyqdThPRdruVUr7c8IxlWZxzAJPJxIyRiJrNJgClVLVaNSYdDocAhBC3Y0+cqeu6mUyGiObz+cv1Pul2u3rvrVbLmHS32wEYj8eWZd1OPjq+53mO4xCREMLMD09EvV5Pz+55nhljPp/f7/cABoNBNBq9m39o/EQiEYvFTqdTEASHw8FAzXA4zBgDsFgsDOg0lUpFn2aj0TAm7ff7AKSU8XjcmHSz2QCYzWa2bRuTMsbW63WhUDBm/BkfAQAA//+xipvAgqNSWQAAAABJRU5ErkJggg==\"><figcaption style=\"text-align: center;\">([7])</figcaption></figure></td>\n",
       "<td><figure style=\"padding:4px;text-align: center;\"><img width=\"56\" height=\"56\" src=\"data:image/png;base64,iVBORw0KGgoAAAANSUhEUgAAABwAAAAcCAIAAAD9b0jDAAABpklEQVR4nNyVL6ziQBDGdy+nit21oGvxWDxrCba2qcZBg2wCpqeppGtZC0HW0gSHwLANKGyne8mbpGmO3IXSXvLCJwidtr9+86fTH+Q/6FOhnudprbMs63a77Tx/Op0CQJ7naZpaltUCUUoJAEVRAIBSqimOcx4EAXoEgOPxyBhrCvV9Hz3GcdyUhRJCoMc4jtupY6/Xk1IWRaG1bgGH0lpjHV3XbYcYRVGWZQCQJEm1M5zz/X7/60vvTCs6dRynSlyv1+UkjMfjekTHcXAqbdsmhHQ6Hd/3MVL95ZzXgCqlAGCz2eChlBLd5Xk+n8/7/T7+r+ZR6uffoIwxSuntdsMXdDQaGWOWy+ViscAgpbRe7oSQJEkAIAxD27YfjwcAzGaz6gXodDAYPN/7ry2FXlzXtSzrcrmsVqvyFOecUnq/3w+HQz2oMYYQcjqdjDGe52HWSNxut8aYyWTyQs4VBUFgjCm7XMaFEBj5Y35fEmMsTdOy486XoijC+r6/q4QQ5/P5eTaVUo22H2MsDMPr9Yp+d7vdcDh8H9dE3+Br+nHQ3wEAAP//UX5B1rcxZTwAAAAASUVORK5CYII=\"><figcaption style=\"text-align: center;\">([6])</figcaption></figure></td>\n",
       "<td><figure style=\"padding:4px;text-align: center;\"><img width=\"56\" height=\"56\" src=\"data:image/png;base64,iVBORw0KGgoAAAANSUhEUgAAABwAAAAcCAIAAAD9b0jDAAABpElEQVR4nOzVLavCUBgH8OM2NYmKSXxJ+gUUi7jmBJtlZsHgG4LJz+BHGJg0iYhhQVCTYBCEFZugYUWbY6Dg5Hm8cMeVCxcWzj2Wy/23/cf57YFnbBx5Q/7RP4ZyHFcqlWazGSJqmmaaZqfT+e3DFUWBryAiABiGEYlE6MV2u42Iuq4riiJJUrVa3W63l8slnU5TirVa7Xa77ff7aDT6Knme9/v9lGI2mzU/Ew6HX6XP56PkCCGCICwWCwCQZflVJpPJ0+nUbDYp0XK5DACDwYDnebtJpVKHwwERu90uJToejwFAkiT7slgsns9ne/utVsvhoOBwz+PxuFyuTCYTi8VyuVylUrH7+/0+n88pJ63X69/fzeFwuFwuAeB4PDofdJq03+97vd5gMHi9XnVdV1VV0zRCyGQyoRzzZ0RRtCwLAOLxODN0vV4j4mq1YiYGAgHDMABAFEVmaKPRsDcWCoWYoZvNBgCm0ynHMfoEy7L8fD4fj0cikWAjEkJGoxEiqqrKTMzn85ZlIWKhUGCG9no9ANjtdm63mxlKkbf8TT8CAAD//x1g1S7y0oh+AAAAAElFTkSuQmCC\"><figcaption style=\"text-align: center;\">([9])</figcaption></figure></td>\n",
       "<td><figure style=\"padding:4px;text-align: center;\"><img width=\"56\" height=\"56\" src=\"data:image/png;base64,iVBORw0KGgoAAAANSUhEUgAAABwAAAAcCAIAAAD9b0jDAAABrElEQVR4nOyUPeviQBCH94ybBLEwoFipVRq1s7dJJVhZWFv4DQQrWy3EF7SwslZBQbARBEFshCgG8QVURLBTCIjlshmPu8D/Co13eF5x6JThyTOz82PXhP5BfaTvLGX+kON5PhwOX69XVVVf0zkQCMiyfDgcrFbrC3Qul6tarWqaBgCU0nw+bzL9xcY4jut0OqqqEkLq9XokEhkOhwBgsViel2KMa7VaqVTy+/36l0wmAwBut/t56Y8QmV8xiqK43+8nk4nZbDbi7XZ7q9VCCBkSCCFN077ssVjM4/EkEglK6V0YY5zNZjmOM9SFQqF+v5/L5QRBwBiXy2UAaDabRrwoir1e73K5OJ1OQ+l8Pk8mk6PRqNvtNhoNSmmxWGRZ9pa02WypVGq1WimK4vP5HpwbLZfLSqWixw0A4/FYEAR9xQzD8Dzv9Xqj0eh0Oj0ej7vdLh6POxyOR0aEkKIohBBZltPp9GKx0C/Ser0eDAabzUbvtN1uC4WCJEm3v3+7K+V/1vl8RgixLCtJUjAY/JrldDq12+3ZbEYI+c10L6z/5+n7SN9Z+j0AAP//E3C5K0OKr2EAAAAASUVORK5CYII=\"><figcaption style=\"text-align: center;\">([2])</figcaption></figure></td>\n",
       "<td><figure style=\"padding:4px;text-align: center;\"><img width=\"56\" height=\"56\" src=\"data:image/png;base64,iVBORw0KGgoAAAANSUhEUgAAABwAAAAcCAIAAAD9b0jDAAAB70lEQVR4nOyVvcuqUBzHfbkQIThEKA4VhLYEkrS0WPQXFFFDQ0tr0B41SH9BTQ0tgktDi01BIEFtEUSLOOYiGL3Q0OCt44UneIj7lGXUcOF+tuP5fb/nezxvCPQB/pu+H/Rhhc/n835RKpV+f3FpkiRZq9UajcZsNttut7ZtPztmLpezLAs4MhqNcBy/VsEOjjzPD4dDr9er67osy4lE4q8C0zRFUVQUZbfbPRtzMBgAAARBCAQCz2qc6Xa7x+NR0zSPx/MeR5IkNU0DAJTL5RfkN/4pDMO9Xq9QKEAQRNN0KBTief66oNVqHQ4Hd+PQNO283PP5HEWd9uKvn5/8fv91c7PZnE4nSZIwDGMYJplMchxHEIRhGC6SCoJwSWSa5mQyYVk2HA5/9zabTQDAcrmkKMqFKUVRsiwXi8VIJPKzlyCIdrsNAKhUKvccbkzfMIxMJnNPYJrmarWCYTgajbpI+hAMwyzL6vf79wpeuaVisRiCINPp9J2m9XodRVGH6bs2TaVS6XTatu3FYvFCoBvE4/HxeAwAUFU1GAy61nc6HVEUOY7LZrMMw+A4ns/nVVW9bOFXHCEIUhQFALDf78/n83q91nX9+5hWq1UYdrqI78KyrCzL10fetm1JkmiaRpCPvGwP+Hee6D8BAAD///uYFHAuEV6cAAAAAElFTkSuQmCC\"><figcaption style=\"text-align: center;\">([5])</figcaption></figure></td>\n",
       "<td><figure style=\"padding:4px;text-align: center;\"><img width=\"56\" height=\"56\" src=\"data:image/png;base64,iVBORw0KGgoAAAANSUhEUgAAABwAAAAcCAIAAAD9b0jDAAACS0lEQVR4nOyVwUukUBzHX9tCiAWJaHmKCoKQCPRQpyI6FR0K7Bj2F4RRf4FQh06domt19hh0SLJQiKDmOLcRmeN4UEZUmN/DhXnsMMw0b2yXpct+DgPz/L6PX54/9Af6B/yXlmV7e/vt7Q1jXKvVLi4u5ubm/uSGsiwvLy8vLCwghPb29pIkwRgnSRJFEbSRZfkLOp7nDcNI0xRjHEWRoiiVSgUA3t/fV1dXFUV5fHwEgCzLNjc3y0oNwyBdHMdZWlqamJggUkEQSIDjOMdxMMZnZ2eljKIoVqtVAHh9fWVZliweHx/v7+93x9bX1zHGeZ6fnJwMl97e3uI2U1NT9OT9/T3G+OHhoWf9k6dftHFdN45julTTNM/zZFlWFIUm5TiOnL3v+3me06VZlvm+L0nS0dERTTo2NjY9PU0OgW7sZmdnh+f5gdIOjUajjO76+hohNDk5OTo62ln82Z8bGRnp/A4lTdP+fG/TOI49zyuKojOSdLa2torfDJSSs0cIHRwclJEuLi4ihGzbjqKIlru5uQGAl5cXhmHoxrW1tTAM6/V6z0gNlAKAKIr0ZLPZBADTNIcYEUK6rmdZhjE+PDykdHx6eiqK4vLycriRcHd3R8rqut5ziWEY0zTDMAQA13VnZ2f7t38+N6qq2rY9Pj7earWen58tywqCACHEsuzp6enKygpCKAiC+fn5sjUJu7u75K0MXXT+np+fS5I0aC9twgVB2NjYUFV1ZmZG0zQycFdXV5ZlfXx8AMDXav4l3/01/WbprwAAAP//uCs5WAVq78wAAAAASUVORK5CYII=\"><figcaption style=\"text-align: center;\">([0])</figcaption></figure></td>\n",
       "<td><figure style=\"padding:4px;text-align: center;\"><img width=\"56\" height=\"56\" src=\"data:image/png;base64,iVBORw0KGgoAAAANSUhEUgAAABwAAAAcCAIAAAD9b0jDAAACGElEQVR4nOyVsWviUBzHX5KmJNC1FDqltCV0aCkdSqBka0tLoUOXgqKu/gtO/gOCoAjOCsFFCIjTKW46mMU4OcTJCAohRBEl+T1zXMMdvWu00aPLcZ/pwe/7Pu/3foQXEn0B/6WfcHh4mE6nTdN0XRdjrKrq/v7+X53JcVw2m4U3MMbeIpFIbG88Pj4ul8ueSJKkQqHgrYvF4pZGmqZbrRYA6Lr++vpKkuTd3V0ulzNN03GcaDS6jTGTyQCApmkPDw/vS8/Pz7Ztj0ajk5OTzaQHBwfeTSORyMeqoigAkEqlNpPKsuzNkSR9Pg+O4wCgVCoRBBHUKIriYrGYTqfn5+e+AZZlvXGfnZ35Bnwa4Xl+Z2dHluVut+u7Zz6f9/t9hFAoFAoqjcViCKFqtbrmNp1OByF0eXm5JvMbqqpalsXz/JqMIAgY48lkErRT13Vns1mv11t/tvtGUKkkSet1n+IjNQxjb29PFEWapldta7fbiqIQBMGybCDpeDxmGKbRaFxdXa2SYoyXyyXDMLe3t0H7v7+/BwBVVQVBWJVpNpuWZQU1/uifJC8uLjRNMwzj+vqaoqg/AhRF5fN5x3HC4fAGXoTQ4+OjrusAUKlUbm5u3peenp4AwLbtl5eXzaQIodPT03q97j0utVrt20+GwyEAJJPJjY0eu7u7R0dHsiz/evkBYDAYxOPxj2P5Qv6lX/QWfA8AAP//W5QUktq08yUAAAAASUVORK5CYII=\"><figcaption style=\"text-align: center;\">([0])</figcaption></figure></td>\n",
       "</tr></table>\n"
      ]
     },
     "metadata": {},
     "output_type": "display_data"
    }
   ],
   "source": [
    "import (\n",
    "    \"fmt\"\n",
    "    \"strings\"\n",
    "\t\"strconv\"\n",
    "    \"github.com/gomlx/gopjrt/dtypes\"\n",
    "    \"github.com/gomlx/gomlx/backends\"\n",
    "    \"github.com/gomlx/gomlx/examples/mnist\"\n",
    "    \"github.com/gomlx/gomlx/types/shapes\"\n",
    "    \"github.com/gomlx/gomlx/pkg/core/tensors/images\"\n",
    "    \"github.com/janpfeifer/gonb/gonbui\"\n",
    "\n",
    "    _ \"github.com/gomlx/gomlx/backends/default\"\n",
    ")\n",
    "\n",
    "var (\n",
    "    // Model DType, used everywhere.\n",
    "    DType = dtypes.Float32\n",
    ")\n",
    "\n",
    "// sampleToNotebook generates a sample of MNIST in a GoNB Jupyter Notebook.\n",
    "func sampleToNotebook() {\n",
    "    // Load data into tensors.\n",
    "    backend := backends.MustNew()\n",
    "    if ds, err := mnist.NewDataset(backend, \"Samples MNIST\", *flagDataDir, \"train\", DType); err != nil {\n",
    "        fmt.Printf(\"mnist.NewDataset: %v\", err)\n",
    "    } else {\n",
    "        ds.Shuffle()\n",
    "        sampleImages(ds, 10)\n",
    "    }\n",
    "   \n",
    "}\n",
    "\n",
    "// sampleTable generates and outputs one html table of samples, sampling rows x cols from the images/labels provided.\n",
    "func sampleImages(ds train.Dataset, numImages int) {\n",
    "    gonbui.DisplayHTML(fmt.Sprintf(\"<p>%s</p>\\n\", ds.Name()))\n",
    "    \n",
    "    parts := make([]string, 0, numImages+5) // Leave last part empty.\n",
    "    parts = append(parts, \"<table><tr>\")\n",
    "    for ii := 0; ii < numImages; ii++ {\n",
    "        _, inputs, labels := must.M3(ds.Yield())\n",
    "        imgTensor := inputs[0]\n",
    "        img := images.ToImage().Single(imgTensor)\n",
    "        label := labels[0].Value().([]int8)\n",
    "    \n",
    "        imgSrc := must.M1(gonbui.EmbedImageAsPNGSrc(img))\n",
    "        size := imgTensor.Shape().Dimensions[0]\n",
    "        parts = append(\n",
    "            parts, \n",
    "            fmt.Sprintf(`<td><figure style=\"padding:4px;text-align: center;\"><img width=\"%d\" height=\"%d\" src=\"%s\">` + \n",
    "                        `<figcaption style=\"text-align: center;\">(%d)</figcaption></figure></td>`, \n",
    "                        size*2, size*2, imgSrc, label),\n",
    "        )\n",
    "    }\n",
    "    parts = append(parts, \"</tr></table>\", \"\")\n",
    "    gonbui.DisplayHTML(strings.Join(parts, \"\\n\"))\n",
    "}\n",
    "\n",
    "%%\n",
    "AssertDownloaded()\n",
    "sampleToNotebook()"
   ]
  },
  {
   "cell_type": "markdown",
   "metadata": {},
   "source": [
    "## Training on MNIST\n",
    "\n",
    "### Models Support\n",
    "\n",
    "1. `flagModel` defines the model type, out of `validModels` options.\n",
    "1. `createDefaultContext` creates a context and set the default values for the MNIST models. \n",
    "1. `contextFromSettings` uses `createDefaultContext` and incorporate changes passed by the `-set` flag."
   ]
  },
  {
   "cell_type": "code",
   "execution_count": 5,
   "metadata": {},
   "outputs": [
    {
     "name": "stdout",
     "output_type": "stream",
     "text": [
      "Models: [\"linear\" \"cnn\"]\n",
      "Parameters set (-set): [\"batch_size\" \"model\" \"train_steps\"]\n",
      "\t\"/activation\": (string) relu\n",
      "\t\"/adam_dtype\": (string) \n",
      "\t\"/adam_epsilon\": (float64) 1e-07\n",
      "\t\"/batch_size\": (int) 17\n",
      "\t\"/cnn_dropout_rate\": (float64) 0.5\n",
      "\t\"/cnn_normalization\": (string) layer\n",
      "\t\"/cosine_schedule_steps\": (int) 0\n",
      "\t\"/dropout_rate\": (float64) 0.5\n",
      "\t\"/eval_batch_size\": (int) 1000\n",
      "\t\"/l1_regularization\": (float64) 0\n",
      "\t\"/l2_regularization\": (float64) 0\n",
      "\t\"/learning_rate\": (float64) 0.0001\n",
      "\t\"/loss\": (string) sparse_cross_logits\n",
      "\t\"/model\": (string) 'cnn'\n",
      "\t\"/nan_logger\": (bool) false\n",
      "\t\"/num_checkpoints\": (int) 3\n",
      "\t\"/optimizer\": (string) adamw\n",
      "\t\"/plots\": (bool) false\n",
      "\t\"/train_steps\": (int) 10\n",
      "\t\"/triplet_loss_margin\": (float64) 0.5\n",
      "\t\"/triplet_loss_mining_strategy\": (string) Hard\n",
      "\t\"/triplet_loss_pairwise_distance_metric\": (string) L2\n"
     ]
    }
   ],
   "source": [
    "import (\n",
    "    \"flags\"\n",
    "    \n",
    "    \"github.com/gomlx/gomlx/ml/layers\"\n",
    "    \"github.com/gomlx/gomlx/ui/commandline\"\n",
    "    \"github.com/gomlx/gomlx/ml/train/optimizers\"\n",
    "    \"github.com/gomlx/gomlx/examples/mnist\"\n",
    "    \"github.com/gomlx/gomlx/ml/context\"\n",
    ")\n",
    "\n",
    "var (\n",
    "\tflagEval      = flag.Bool(\"eval\", true, \"Whether to evaluate the model on the validation data in the end.\")\n",
    ")\n",
    "\n",
    "// settings is bound to a \"-set\" flag to be used to set context hyperparameters.\n",
    "var settings = commandline.CreateContextSettingsFlag(CreateDefaultContext(), \"set\")\n",
    "\n",
    "// createDefaultContext sets the context with default hyperparameters\n",
    "func CreateDefaultContext() *context.Context {\n",
    "\tctx := context.New()\n",
    "\tctx.RngStateReset()\n",
    "\tctx.SetParams(map[string]any{\n",
    "\t\t// Model type to use\n",
    "\t\t\"model\":           \"linear\",\n",
    "\t\t\"loss\":            \"sparse_cross_logits\",\n",
    "\t\t\"num_checkpoints\": 3,\n",
    "\t\t\"train_steps\":     4000,\n",
    "\n",
    "\t\t// batch_size for training.\n",
    "\t\t\"batch_size\": 600,\n",
    "\n",
    "\t\t// eval_batch_size can be larger than training, it's more efficient.\n",
    "\t\t\"eval_batch_size\": 1000,\n",
    "\n",
    "\t\t// Debug parameters.\n",
    "\t\t\"nan_logger\": false, // Trigger nan error as soon as it happens -- expensive, but helps debugging.\n",
    "\n",
    "\t\t// \"plots\" trigger generating intermediary eval data for plotting, and if running in GoNB, to actually\n",
    "\t\t// draw the plot with Plotly.\n",
    "\t\t//\n",
    "\t\t// From the command-line, an easy way to monitor the metrics being generated during the training of a model\n",
    "\t\t// is using the gomlx_checkpoints tool:\n",
    "\t\t//\n",
    "\t\t//\t$ gomlx_checkpoints --metrics --metrics_labels --metrics_types=accuracy  --metrics_names='E(Tra)/#loss,E(Val)/#loss' --loop=3s \"<checkpoint_path>\"\n",
    "\t\tplotly.ParamPlots: false,\n",
    "\n",
    "\t\toptimizers.ParamOptimizer:       \"adamw\",\n",
    "\t\toptimizers.ParamLearningRate:    1e-4,\n",
    "\t\toptimizers.ParamAdamEpsilon:     1e-7,\n",
    "\t\toptimizers.ParamAdamDType:       \"\",\n",
    "\t\tcosineschedule.ParamPeriodSteps: 0,\n",
    "\t\tactivations.ParamActivation:     \"relu\",\n",
    "\t\tlayers.ParamDropoutRate:         0.5,\n",
    "\t\tregularizers.ParamL2:            0.0,\n",
    "\t\tregularizers.ParamL1:            0.0,\n",
    "\n",
    "\t\t// CNN\n",
    "\t\t\"cnn_dropout_rate\":  0.5,\n",
    "\t\t\"cnn_normalization\": \"layer\", // \"layer\" or \"batch\".\n",
    "\n",
    "\t\t// Triplet\n",
    "\t\tlosses.ParamTripletLossPairwiseDistanceMetric: \"L2\",\n",
    "\t\tlosses.ParamTripletLossMiningStrategy:         \"Hard\",\n",
    "\t\tlosses.ParamTripletLossMargin:                 0.5,\n",
    "\t})\n",
    "\treturn ctx\n",
    "}\n",
    "\n",
    "// ContextFromSettings is the default context (createDefaultContext) changed by -set flag.\n",
    "func ContextFromSettings() (ctx *context.Context, paramsSet []string) {\n",
    "    ctx = mnist.CreateDefaultContext()\n",
    "    paramsSet = must.M1(commandline.ParseContextSettings(ctx, *settings))\n",
    "    return\n",
    "}\n",
    "\n",
    "// Let's test that we can set hyperparameters by setting it in the \"-set\" flag:\n",
    "%% -set=\"batch_size=17;model='cnn';train_steps=10\"\n",
    "fmt.Printf(\"Models: %q\\n\", mnist.ModelList)\n",
    "ctx, parametersSet := ContextFromSettings()\n",
    "fmt.Printf(\"Parameters set (-set): %q\\n\", parametersSet)\n",
    "fmt.Println(commandline.SprintContextSettings(ctx))"
   ]
  },
  {
   "cell_type": "markdown",
   "metadata": {},
   "source": [
    "### Linear model\n",
    "\n",
    "A linear model can easily get to ~92% accuracy (a random model would do 10%) with 4000 steps.\n",
    "\n",
    "Later we are going to define a CNN model to compare, and we just set a placeholder model here for now.\n",
    "\n",
    "> **Note**: \n",
    ">\n",
    "> * The code is here just to exemplify. We are actually using the same code from the [`mnist`](https://github.com/gomlx/gomlx/tree/main/examples/mnist) package."
   ]
  },
  {
   "cell_type": "code",
   "execution_count": 6,
   "metadata": {},
   "outputs": [
    {
     "name": "stdout",
     "output_type": "stream",
     "text": [
      "Logits shape for batch_size=10: (Float32)[10 10]\n"
     ]
    }
   ],
   "source": [
    "import (\n",
    "\t\"github.com/gomlx/gomlx/backends\"\n",
    "\t. \"github.com/gomlx/gomlx/graph\"\n",
    "\t\"github.com/gomlx/gomlx/ml/context\"\n",
    "\t\"github.com/gomlx/gomlx/ml/layers\"\n",
    ")\n",
    "\n",
    "var _ = NewGraph  // Make sure the graph package is in use.\n",
    "\n",
    "// LinearModelGraph builds a simple  model logistic model\n",
    "// It returns the logit, not the predictions, which works with most losses with shape `[batch_size, NumClasses]`.\n",
    "// inputs: only one tensor, with shape `[batch_size, width, height, depth]`.\n",
    "func LinearModelGraph(ctx *context.Context, spec any, inputs []*Node) []*Node {\n",
    "\tctx = ctx.In(\"model\") // Create the model by default under the \"/model\" scope.\n",
    "\tbatchSize := inputs[0].Shape().Dimensions[0]\n",
    "\tembeddings := Reshape(inputs[0], batchSize, -1)\n",
    "\tlogits := layers.DenseWithBias(ctx, embeddings, mnist.NumClasses)\n",
    "\treturn []*Node{logits}\n",
    "}\n",
    "\n",
    "%% -set=\"batch_size=10\"\n",
    "// Let's test that the logits are coming out with the right shape: we want [batch_size, 10], since there are 10 classes.\n",
    "AssertDownloaded()\n",
    "ctx, _ := ContextFromSettings()\n",
    "g := NewGraph(backends.MustNew(), \"placeholder\")\n",
    "batchSize := context.GetParamOr(ctx, \"batch_size\", int(100))\n",
    "logits := LinearModelGraph(ctx, nil, []*Node{Parameter(g, \"images\", shapes.Make(DType, batchSize, mnist.Height, mnist.Width, mnist.Depth))})\n",
    "fmt.Printf(\"Logits shape for batch_size=%d: %s\\n\", batchSize, logits[0].Shape())"
   ]
  },
  {
   "cell_type": "markdown",
   "metadata": {},
   "source": [
    "### Training Loop\n",
    "\n",
    "With a model function defined, we use the training loop create for the MNIST.\n",
    "\n",
    "The trainer is provided in the [`mnist` package](https://github.com/gomlx/gomlx/tree/main/examples/mnist). It is straight forward (and almost the same for every different project) and does the following for us:\n",
    "\n",
    "- If a checkpoing is given (--checkpoint) and it has previously saved model, it loads hyperparmeters and trained variables.\n",
    "- Create trainer: with selected model function (see [Linear model](#Linear-model) and [Linear model for MNIST](#CNN-model-for-MNIST) sections), optimizer, loss and metrics.\n",
    "- Create a `train.Loop` and attach to it a progressbar, a periodic checkpoint saver and a plotter (`--set=\"plots=true\"`).\n",
    "- Train the selected number of train steps.\n",
    "- Report results.\n",
    "\n",
    "Below we train 4000 steps with the default settings just to check things are working."
   ]
  },
  {
   "cell_type": "code",
   "execution_count": 7,
   "metadata": {},
   "outputs": [
    {
     "name": "stdout",
     "output_type": "stream",
     "text": [
      "Training linear model:\n",
      "Backend xla: xla:cuda - PJRT \"cuda\" plugin (/home/janpf/.local/lib/gomlx/pjrt/pjrt_c_api_cuda_plugin.so) v0.68 [StableHLO]\n",
      "\t- checkpoint in /home/janpf/work/mnist/linear\n"
     ]
    },
    {
     "data": {
      "text/html": [
       "<div id=\"fb3b86de\"></div>"
      ]
     },
     "metadata": {},
     "output_type": "display_data"
    },
    {
     "data": {
      "text/html": []
     },
     "metadata": {},
     "output_type": "display_data"
    },
    {
     "name": "stdout",
     "output_type": "stream",
     "text": [
      "\t- restarting from global step 4000\n",
      "\t - target train_steps=4000 already reached. To train further, set a number additional to current global step.\n",
      "\n",
      "Results on train:\n",
      "\tMean Loss+Regularization (#loss+): 0.287\n",
      "\tMean Loss (#loss): 0.287\n",
      "\tMean Accuracy (#acc): 92.07%\n",
      "Results on test:\n",
      "\tMean Loss+Regularization (#loss+): 0.284\n",
      "\tMean Loss (#loss): 0.284\n",
      "\tMean Accuracy (#acc): 92.09%\n",
      "\n"
     ]
    }
   ],
   "source": [
    "var flagCheckpoint = flag.String(\"checkpoint\", \"\", \"Directory save and load checkpoints from. If left empty, no checkpoints are created.\")\n",
    "\n",
    "// trainModel with hyperparameters configured with `-set=...`.\n",
    "func trainModel() {\n",
    "    ctx, paramsSet := ContextFromSettings()\n",
    "    must.M(mnist.TrainModel(ctx, *flagDataDir, *flagCheckpoint, paramsSet))\n",
    "}\n",
    "\n",
    "// Train 50 steps, only to test things are working. No plots.\n",
    "%% --checkpoint=linear  --set=\"model=linear;train_steps=4000;plots=true\"\n",
    "trainModel()"
   ]
  },
  {
   "cell_type": "markdown",
   "metadata": {},
   "source": [
    "### CNN Model for MNIST\n",
    "\n",
    "Let's now properly define a CNN model to compare.\n",
    "\n",
    "The model was built following a [Deep MNIST for Experts](https://chromium.googlesource.com/external/github.com/tensorflow/tensorflow/+/r0.10/tensorflow/g3doc/tutorials/mnist/pros/index.md)"
   ]
  },
  {
   "cell_type": "code",
   "execution_count": 8,
   "metadata": {},
   "outputs": [
    {
     "name": "stdout",
     "output_type": "stream",
     "text": [
      "Logits shape for batch_size=10: (Float32)[10 10]\n"
     ]
    }
   ],
   "source": [
    "// CnnModelGraph builds the CNN model for our demo.\n",
    "// It returns the logit, not the predictions, which works with most losses with shape `[batch_size, NumClasses]`.\n",
    "// inputs: only one tensor, with shape `[batch_size, width, height, depth]`.\n",
    "func CnnModelGraph(ctx *context.Context, spec any, inputs []*Node) []*Node {\n",
    "\tctx = ctx.In(\"model\") // Create the model by default under the \"/model\" scope.\n",
    "\tembeddings := CnnEmbeddings(ctx, inputs[0])\n",
    "\tlogits := layers.Dense(ctx, embeddings, true, mnist.NumClasses)\n",
    "\treturn []*Node{logits}\n",
    "}\n",
    "\n",
    "func CnnEmbeddings(ctx *context.Context, images *Node) *Node {\n",
    "\tbatchSize := images.Shape().Dimensions[0]\n",
    "\tg := images.Graph()\n",
    "\tdtype := images.DType()\n",
    "\n",
    "\tlayerIdx := 0\n",
    "\tnextCtx := func(name string) *context.Context {\n",
    "\t\tnewCtx := ctx.Inf(\"%03d_%s\", layerIdx, name)\n",
    "\t\tlayerIdx++\n",
    "\t\treturn newCtx\n",
    "\t}\n",
    "\t// Dropout.\n",
    "\tdropoutRate := context.GetParamOr(ctx, \"cnn_dropout_rate\", -1.0)\n",
    "\tif dropoutRate < 0 {\n",
    "\t\tdropoutRate = context.GetParamOr(ctx, layers.ParamDropoutRate, 0.0)\n",
    "\t}\n",
    "\tvar dropoutNode *Node\n",
    "\tif dropoutRate > 0.0 {\n",
    "\t\tdropoutNode = Scalar(g, dtype, dropoutRate)\n",
    "\t}\n",
    "\n",
    "\timages = layers.Convolution(nextCtx(\"conv\"), images).Filters(32).KernelSize(3).PadSame().Done()\n",
    "\timages.AssertDims(batchSize, 28, 28, 32)\n",
    "\timages = activations.Relu(images)\n",
    "\timages = normalizeCNN(nextCtx(\"norm\"), images)\n",
    "\timages = MaxPool(images).Window(2).Done()\n",
    "\timages.AssertDims(batchSize, 14, 14, 32)\n",
    "\n",
    "\timages = layers.Convolution(nextCtx(\"conv\"), images).Filters(64).KernelSize(3).PadSame().Done()\n",
    "\timages.AssertDims(batchSize, 14, 14, 64)\n",
    "\timages = activations.Relu(images)\n",
    "\timages = normalizeCNN(nextCtx(\"norm\"), images)\n",
    "\timages = MaxPool(images).Window(2).Done()\n",
    "\timages = layers.DropoutNormalize(nextCtx(\"dropout\"), images, dropoutNode, true)\n",
    "\timages.AssertDims(batchSize, 7, 7, 64)\n",
    "\n",
    "\t// Flatten images\n",
    "\timages = Reshape(images, batchSize, -1)\n",
    "\treturn images\n",
    "}\n",
    "\n",
    "func normalizeCNN(ctx *context.Context, logits *Node) *Node {\n",
    "\tnormalizationType := context.GetParamOr(ctx, \"cnn_normalization\", \"none\")\n",
    "\tswitch normalizationType {\n",
    "\tcase \"layer\":\n",
    "\t\tif logits.Rank() == 2 {\n",
    "\t\t\treturn layers.LayerNormalization(ctx, logits, -1).Done()\n",
    "\t\t} else if logits.Rank() == 4 {\n",
    "\t\t\treturn layers.LayerNormalization(ctx, logits, 2, 3).Done()\n",
    "\t\t} else {\n",
    "\t\t\treturn logits\n",
    "\t\t}\n",
    "\tcase \"batch\":\n",
    "\t\treturn batchnorm.New(ctx, logits, -1).Done()\n",
    "\tcase \"none\", \"\":\n",
    "\t\treturn logits\n",
    "\tdefault:\n",
    "\t\texceptions.Panicf(\"invalid normalization type %q -- set it with parameter %q\", normalizationType, \"cnn_normalization\")\n",
    "\t\treturn nil\n",
    "\t}\n",
    "}\n",
    "%% -set=\"batch_size=10\"\n",
    "// Let's test that the logits are coming out with the right shape: we want [batch_size, 10], since there are 10 classes.\n",
    "AssertDownloaded()\n",
    "ctx, _ := ContextFromSettings()\n",
    "g := NewGraph(backends.MustNew(), \"placeholder\")\n",
    "batchSize := context.GetParamOr(ctx, \"batch_size\", int(100))\n",
    "logits := CnnModelGraph(ctx, nil, []*Node{Parameter(g, \"images\", shapes.Make(DType, batchSize, mnist.Height, mnist.Width, mnist.Depth))})\n",
    "fmt.Printf(\"Logits shape for batch_size=%d: %s\\n\", batchSize, logits[0].Shape())"
   ]
  },
  {
   "cell_type": "markdown",
   "metadata": {},
   "source": [
    "### CNN Model Training\n",
    "\n",
    "Let's train the CNN for real this time. "
   ]
  },
  {
   "cell_type": "code",
   "execution_count": 9,
   "metadata": {},
   "outputs": [],
   "source": [
    "// Remove a previously trained model\n",
    "!rm -rf ~/work/mnist/cnn  "
   ]
  },
  {
   "cell_type": "code",
   "execution_count": 10,
   "metadata": {},
   "outputs": [
    {
     "name": "stdout",
     "output_type": "stream",
     "text": [
      "Training cnn model:\n",
      "Backend xla: xla:cuda - PJRT \"cuda\" plugin (/home/janpf/.local/lib/gomlx/pjrt/pjrt_c_api_cuda_plugin.so) v0.68 [StableHLO]\n",
      "\t- checkpoint in /home/janpf/work/mnist/cnn\n"
     ]
    },
    {
     "data": {
      "text/html": []
     },
     "metadata": {},
     "output_type": "display_data"
    },
    {
     "name": "stdout",
     "output_type": "stream",
     "text": [
      "Training (4000 steps):    0% [........................................] (19 steps/s) [0s:3m24s] [step=35] [loss+=2.355] [~loss+=3.346] [~loss=3.346] [~acc=22.71%]        "
     ]
    },
    {
     "data": {
      "text/html": []
     },
     "metadata": {},
     "output_type": "display_data"
    },
    {
     "name": "stdout",
     "output_type": "stream",
     "text": [
      "Training (4000 steps):  100% [========================================] (471 steps/s) [step=3999] [loss+=0.086] [~loss+=0.037] [~loss=0.037] [~acc=98.79%]                 \n",
      "\n",
      "\t- saving checkpoint@4000\n"
     ]
    },
    {
     "data": {
      "text/html": [
       "<p><b>Metric: accuracy</b></p>\n"
      ]
     },
     "metadata": {},
     "output_type": "display_data"
    },
    {
     "data": {
      "text/html": [
       "<div id=\"ea894cdc\"></div>"
      ]
     },
     "metadata": {},
     "output_type": "display_data"
    },
    {
     "data": {
      "text/html": [
       "<script charset=\"UTF-8\">\n",
       "(() => {\n",
       "\tconst src=\"https://cdn.plot.ly/plotly-2.29.1.min.js\";\n",
       "\tvar runJSFn = function(module) {\n",
       "\t\t\n",
       "\tif (!module) {\n",
       "\t\tmodule = window.Plotly;\n",
       "\t}\n",
       "\tlet data = JSON.parse('{\"data\":[{\"type\":\"scatter\",\"line\":{\"shape\":\"linear\"},\"mode\":\"lines+markers\",\"name\":\"Train: Moving Average Accuracy\",\"x\":[10,22,36,53,73,97,126,161,203,253,313,385,471,574,698,847,1026,1241,1499,1809,2181,2627,3162,3804,4000],\"y\":[0.12333332747220993,0.1710144728422165,0.2310360223054886,0.3073456585407257,0.38405415415763855,0.4555783271789551,0.5295279622077942,0.6080239415168762,0.6871294379234314,0.75643390417099,0.8149814009666443,0.8612520694732666,0.8957123756408691,0.9187287092208862,0.935034453868866,0.947611391544342,0.9558138847351074,0.962155818939209,0.9684673547744751,0.9730671644210815,0.9775083661079407,0.9807817935943604,0.9843015670776367,0.9871119260787964,0.9878648519515991]},{\"type\":\"scatter\",\"line\":{\"shape\":\"linear\"},\"mode\":\"lines+markers\",\"name\":\"Eval on train: Mean Accuracy\",\"x\":[10,22,36,53,73,97,126,161,203,253,313,385,471,574,698,847,1026,1241,1499,1809,2181,2627,3162,3804,4000],\"y\":[0.2577666640281677,0.5180166959762573,0.7284833192825317,0.8044666647911072,0.8460333347320557,0.87868332862854,0.9000999927520752,0.9198833703994751,0.9329666495323181,0.9435666799545288,0.9517000317573547,0.9588500261306763,0.9651833176612854,0.9698666930198669,0.9736166596412659,0.9783833622932434,0.9816499948501587,0.9840999841690063,0.9858666658401489,0.9886000156402588,0.9909166693687439,0.9917666912078857,0.9930166602134705,0.9952666759490967,0.9953833222389221]},{\"type\":\"scatter\",\"line\":{\"shape\":\"linear\"},\"mode\":\"lines+markers\",\"name\":\"Eval on test: Mean Accuracy\",\"x\":[10,22,36,53,73,97,126,161,203,253,313,385,471,574,698,847,1026,1241,1499,1809,2181,2627,3162,3804,4000],\"y\":[0.2630000114440918,0.5178000330924988,0.7331000566482544,0.8140000104904175,0.8563000559806824,0.885200023651123,0.9068000316619873,0.9249000549316406,0.9396000504493713,0.9510000348091125,0.9574000239372253,0.961400032043457,0.9658000469207764,0.9699000716209412,0.9741000533103943,0.976900041103363,0.9807000756263733,0.9818000197410583,0.9842000603675842,0.9861000180244446,0.9873000383377075,0.9880000352859497,0.9900000691413879,0.9905000329017639,0.9905000329017639]}],\"layout\":{\"legend\":{},\"title\":{\"text\":\"accuracy\"},\"xaxis\":{\"showgrid\":true,\"type\":\"log\"},\"yaxis\":{\"showgrid\":true,\"type\":\"log\"}}}');\n",
       "\tmodule.newPlot('ea894cdc', data);\n",
       "\n",
       "\t}\n",
       "\t\n",
       "    if (typeof requirejs === \"function\") {\n",
       "        // Use RequireJS to load module.\n",
       "\t\tlet srcWithoutExtension = src.substring(0, src.lastIndexOf(\".js\"));\n",
       "        requirejs.config({\n",
       "            paths: {\n",
       "                'plotly': srcWithoutExtension\n",
       "            }\n",
       "        });\n",
       "        require(['plotly'], function(plotly) {\n",
       "            runJSFn(plotly)\n",
       "        });\n",
       "        return\n",
       "    }\n",
       "\n",
       "\tvar currentScripts = document.head.getElementsByTagName(\"script\");\n",
       "\tfor (const idx in currentScripts) {\n",
       "\t\tlet script = currentScripts[idx];\n",
       "\t\tif (script.src == src) {\n",
       "\t\t\trunJSFn(null);\n",
       "\t\t\treturn;\n",
       "\t\t}\n",
       "\t}\n",
       "\n",
       "\tvar script = document.createElement(\"script\");\n",
       "\n",
       "\tscript.charset = \"utf-8\";\n",
       "\t\n",
       "\tscript.src = src;\n",
       "\tscript.onload = script.onreadystatechange = function () { runJSFn(null); };\n",
       "\tdocument.head.appendChild(script);\t\n",
       "})();\n",
       "</script>"
      ]
     },
     "metadata": {},
     "output_type": "display_data"
    },
    {
     "data": {
      "text/html": [
       "<p><b>Metric: loss</b></p>\n"
      ]
     },
     "metadata": {},
     "output_type": "display_data"
    },
    {
     "data": {
      "text/html": [
       "<div id=\"64bfc664\"></div>"
      ]
     },
     "metadata": {},
     "output_type": "display_data"
    },
    {
     "data": {
      "text/html": [
       "<script charset=\"UTF-8\">\n",
       "(() => {\n",
       "\tconst src=\"https://cdn.plot.ly/plotly-2.29.1.min.js\";\n",
       "\tvar runJSFn = function(module) {\n",
       "\t\t\n",
       "\tif (!module) {\n",
       "\t\tmodule = window.Plotly;\n",
       "\t}\n",
       "\tlet data = JSON.parse('{\"data\":[{\"type\":\"scatter\",\"line\":{\"shape\":\"linear\"},\"mode\":\"lines+markers\",\"name\":\"Train: Batch Loss+Regularization\",\"x\":[10,22,36,53,73,97,126,161,203,253,313,385,471,574,698,847,1026,1241,1499,1809,2181,2627,3162,3804,4000],\"y\":[3.56680965423584,2.7953853607177734,2.201483964920044,1.62461256980896,1.235582947731018,1.0036767721176147,0.8648297190666199,0.7688935995101929,0.4960918426513672,0.44008129835128784,0.36662599444389343,0.30158644914627075,0.2218250036239624,0.22347784042358398,0.23764631152153015,0.13471458852291107,0.11572901904582977,0.1129826158285141,0.06835395842790604,0.1150902584195137,0.09978259354829788,0.04609859734773636,0.04750095680356026,0.03900490701198578,0.08556976169347763]},{\"type\":\"scatter\",\"line\":{\"shape\":\"linear\"},\"mode\":\"lines+markers\",\"name\":\"Train: Moving Average Loss+Regularization\",\"x\":[10,22,36,53,73,97,126,161,203,253,313,385,471,574,698,847,1026,1241,1499,1809,2181,2627,3162,3804,4000],\"y\":[4.525532245635986,3.844202995300293,3.314901113510132,2.843431234359741,2.446303367614746,2.1087992191314697,1.7867375612258911,1.4614466428756714,1.1452677249908447,0.8750705718994141,0.653782308101654,0.4831443727016449,0.3599655032157898,0.27562233805656433,0.21991871297359467,0.177446186542511,0.14635586738586426,0.12550804018974304,0.10422072559595108,0.08683424443006516,0.07418286055326462,0.06076407805085182,0.048535242676734924,0.0399596206843853,0.03734984248876572]},{\"type\":\"scatter\",\"line\":{\"shape\":\"linear\"},\"mode\":\"lines+markers\",\"name\":\"Train: Moving Average Loss\",\"x\":[10,22,36,53,73,97,126,161,203,253,313,385,471,574,698,847,1026,1241,1499,1809,2181,2627,3162,3804,4000],\"y\":[4.525532245635986,3.844202995300293,3.314901113510132,2.843431234359741,2.446303367614746,2.1087992191314697,1.7867375612258911,1.4614466428756714,1.1452677249908447,0.8750705718994141,0.653782308101654,0.4831443727016449,0.3599655032157898,0.27562233805656433,0.21991871297359467,0.177446186542511,0.14635586738586426,0.12550804018974304,0.10422072559595108,0.08683424443006516,0.07418286055326462,0.06076407805085182,0.048535242676734924,0.0399596206843853,0.03734984248876572]},{\"type\":\"scatter\",\"line\":{\"shape\":\"linear\"},\"mode\":\"lines+markers\",\"name\":\"Eval on train: Mean Loss+Regularization\",\"x\":[10,22,36,53,73,97,126,161,203,253,313,385,471,574,698,847,1026,1241,1499,1809,2181,2627,3162,3804,4000],\"y\":[2.121727228164673,1.4511983394622803,0.9192923307418823,0.6400693655014038,0.4860825538635254,0.3817172050476074,0.3118878901004791,0.255170613527298,0.2149348109960556,0.18192815780639648,0.15368333458900452,0.1340162605047226,0.1121007576584816,0.0976470336318016,0.0850163921713829,0.07059285789728165,0.06104560196399689,0.05151356756687164,0.04484853893518448,0.03665512055158615,0.030265195295214653,0.02636910416185856,0.02182680368423462,0.015838269144296646,0.014965818263590336]},{\"type\":\"scatter\",\"line\":{\"shape\":\"linear\"},\"mode\":\"lines+markers\",\"name\":\"Eval on train: Mean Loss\",\"x\":[10,22,36,53,73,97,126,161,203,253,313,385,471,574,698,847,1026,1241,1499,1809,2181,2627,3162,3804,4000],\"y\":[2.121727228164673,1.4511983394622803,0.9192923307418823,0.6400693655014038,0.4860825538635254,0.3817172050476074,0.3118878901004791,0.255170613527298,0.2149348109960556,0.18192815780639648,0.15368333458900452,0.1340162605047226,0.1121007576584816,0.0976470336318016,0.0850163921713829,0.07059285789728165,0.06104560196399689,0.05151356756687164,0.04484853893518448,0.03665512055158615,0.030265195295214653,0.02636910416185856,0.02182680368423462,0.015838269144296646,0.014965818263590336]},{\"type\":\"scatter\",\"line\":{\"shape\":\"linear\"},\"mode\":\"lines+markers\",\"name\":\"Eval on test: Mean Loss+Regularization\",\"x\":[10,22,36,53,73,97,126,161,203,253,313,385,471,574,698,847,1026,1241,1499,1809,2181,2627,3162,3804,4000],\"y\":[2.1103525161743164,1.4354357719421387,0.9027069807052612,0.61937016248703,0.46304890513420105,0.36038339138031006,0.2910318672657013,0.23806482553482056,0.19801808893680573,0.16774442791938782,0.1420227438211441,0.1223677396774292,0.10489368438720703,0.09216723591089249,0.08065573126077652,0.06860723346471786,0.06031579151749611,0.052789974957704544,0.04684915766119957,0.040851347148418427,0.0362318679690361,0.03607102856040001,0.03181004896759987,0.028379572555422783,0.027796898037195206]},{\"type\":\"scatter\",\"line\":{\"shape\":\"linear\"},\"mode\":\"lines+markers\",\"name\":\"Eval on test: Mean Loss\",\"x\":[10,22,36,53,73,97,126,161,203,253,313,385,471,574,698,847,1026,1241,1499,1809,2181,2627,3162,3804,4000],\"y\":[2.1103525161743164,1.4354357719421387,0.9027069807052612,0.61937016248703,0.46304890513420105,0.36038339138031006,0.2910318672657013,0.23806482553482056,0.19801808893680573,0.16774442791938782,0.1420227438211441,0.1223677396774292,0.10489368438720703,0.09216723591089249,0.08065573126077652,0.06860723346471786,0.06031579151749611,0.052789974957704544,0.04684915766119957,0.040851347148418427,0.0362318679690361,0.03607102856040001,0.03181004896759987,0.028379572555422783,0.027796898037195206]}],\"layout\":{\"legend\":{},\"title\":{\"text\":\"loss\"},\"xaxis\":{\"showgrid\":true,\"type\":\"log\"},\"yaxis\":{\"showgrid\":true,\"type\":\"log\"}}}');\n",
       "\tmodule.newPlot('64bfc664', data);\n",
       "\n",
       "\t}\n",
       "\t\n",
       "    if (typeof requirejs === \"function\") {\n",
       "        // Use RequireJS to load module.\n",
       "\t\tlet srcWithoutExtension = src.substring(0, src.lastIndexOf(\".js\"));\n",
       "        requirejs.config({\n",
       "            paths: {\n",
       "                'plotly': srcWithoutExtension\n",
       "            }\n",
       "        });\n",
       "        require(['plotly'], function(plotly) {\n",
       "            runJSFn(plotly)\n",
       "        });\n",
       "        return\n",
       "    }\n",
       "\n",
       "\tvar currentScripts = document.head.getElementsByTagName(\"script\");\n",
       "\tfor (const idx in currentScripts) {\n",
       "\t\tlet script = currentScripts[idx];\n",
       "\t\tif (script.src == src) {\n",
       "\t\t\trunJSFn(null);\n",
       "\t\t\treturn;\n",
       "\t\t}\n",
       "\t}\n",
       "\n",
       "\tvar script = document.createElement(\"script\");\n",
       "\n",
       "\tscript.charset = \"utf-8\";\n",
       "\t\n",
       "\tscript.src = src;\n",
       "\tscript.onload = script.onreadystatechange = function () { runJSFn(null); };\n",
       "\tdocument.head.appendChild(script);\t\n",
       "})();\n",
       "</script>"
      ]
     },
     "metadata": {},
     "output_type": "display_data"
    },
    {
     "name": "stdout",
     "output_type": "stream",
     "text": [
      "\t- trained to step 4000, median train step: 1637 microseconds\n",
      "\n",
      "Results on train:\n",
      "\tMean Loss+Regularization (#loss+): 0.015\n",
      "\tMean Loss (#loss): 0.015\n",
      "\tMean Accuracy (#acc): 99.54%\n",
      "Results on test:\n",
      "\tMean Loss+Regularization (#loss+): 0.028\n",
      "\tMean Loss (#loss): 0.028\n",
      "\tMean Accuracy (#acc): 99.05%\n",
      "\n"
     ]
    }
   ],
   "source": [
    "%% --checkpoint=cnn --set=\"model=cnn;train_steps=4000;plots=true\"\n",
    "trainModel()"
   ]
  },
  {
   "cell_type": "markdown",
   "metadata": {},
   "source": [
    "### CNN Model Training with Triplet Loss\n",
    "\n",
    "Let's train the CNN using triplet loss"
   ]
  },
  {
   "cell_type": "code",
   "execution_count": 11,
   "metadata": {},
   "outputs": [
    {
     "name": "stdout",
     "output_type": "stream",
     "text": [
      "Training cnn model:\n",
      "Backend xla: xla:cuda - PJRT \"cuda\" plugin (/home/janpf/.local/lib/gomlx/pjrt/pjrt_c_api_cuda_plugin.so) v0.68 [StableHLO]\n",
      "\t- checkpoint in /home/janpf/work/mnist/cnn_triplet\n"
     ]
    },
    {
     "data": {
      "text/html": [
       "<div id=\"6555bbcb\"></div>"
      ]
     },
     "metadata": {},
     "output_type": "display_data"
    },
    {
     "data": {
      "text/html": []
     },
     "metadata": {},
     "output_type": "display_data"
    },
    {
     "name": "stdout",
     "output_type": "stream",
     "text": [
      "\t- restarting from global step 4000\n",
      "\t - target train_steps=4000 already reached. To train further, set a number additional to current global step.\n",
      "\n",
      "Results on train:\n",
      "\tMean Loss+Regularization (#loss+): 0.311\n",
      "\tMean Loss (#loss): 0.311\n",
      "\tMean Accuracy (#acc): 3.07%\n",
      "Results on test:\n",
      "\tMean Loss+Regularization (#loss+): 0.311\n",
      "\tMean Loss (#loss): 0.311\n",
      "\tMean Accuracy (#acc): 2.68%\n",
      "\n"
     ]
    }
   ],
   "source": [
    "%% --checkpoint=cnn_triplet --set=\"model=cnn;loss=triplet;triplet_loss_mining_strategy=all;triplet_loss_pairwise_distance_metric=cosine;triplet_loss_margin=-1.0;train_steps=4000;plots=true\"\n",
    "trainModel()"
   ]
  },
  {
   "cell_type": "markdown",
   "metadata": {},
   "source": [
    "## Inference\n",
    "\n",
    "Inference, or serving the model, is done by using the same code as used to train the model.\n",
    "That is, currently the way to save the model is to export the Go model creation function, along with the checkpoint with learned weights.\n",
    "\n",
    "We created a small library `mnist/classifier` that takes an image as input, convert it to a tensor and calls the trained model"
   ]
  },
  {
   "cell_type": "code",
   "execution_count": 12,
   "metadata": {},
   "outputs": [
    {
     "data": {
      "text/html": [
       "<p>Image: (28 x 28)</p>"
      ]
     },
     "metadata": {},
     "output_type": "display_data"
    },
    {
     "data": {
      "image/png": "[encoded data removed]"
     },
     "metadata": {},
     "output_type": "display_data"
    },
    {
     "name": "stderr",
     "output_type": "stream",
     "text": [
      "2025/06/03 17:04:23 Must not error: requested variable \"weights\" in scope \"/model/model/000_conv/conv\" with Context.Reuse set, but variable does not exist\n",
      "github.com/gomlx/exceptions.Panicf\n",
      "\t/home/janpf/src/go/pkg/mod/github.com/gomlx/exceptions@v0.0.3/exceptions.go:92\n",
      "github.com/gomlx/gomlx/ml/context.(*Context).VariableWithShape\n",
      "\t/home/janpf/Projects/gomlx/ml/context/context.go:805\n",
      "github.com/gomlx/gomlx/ml/layers.(*ConvBuilder).Done\n",
      "\t/home/janpf/Projects/gomlx/ml/layers/convolution.go:285\n",
      "github.com/gomlx/gomlx/examples/mnist.CnnEmbeddings\n",
      "\t/home/janpf/Projects/gomlx/examples/mnist/model.go:72\n",
      "github.com/gomlx/gomlx/examples/mnist.CnnModelGraph\n",
      "\t/home/janpf/Projects/gomlx/examples/mnist/model.go:46\n",
      "github.com/gomlx/gomlx/examples/mnist/classifier.New.func1\n",
      "\t/home/janpf/Projects/gomlx/examples/mnist/classifier/classifier.go:73\n",
      "reflect.Value.call\n",
      "\t/snap/go/current/src/reflect/value.go:584\n",
      "reflect.Value.Call\n",
      "\t/snap/go/current/src/reflect/value.go:368\n",
      "github.com/gomlx/gomlx/ml/context.(*Exec).buildGraphFn.func1\n",
      "\t/home/janpf/Projects/gomlx/ml/context/exec.go:312\n",
      "reflect.Value.call\n",
      "\t/snap/go/current/src/reflect/value.go:584\n",
      "reflect.Value.Call\n",
      "\t/snap/go/current/src/reflect/value.go:368\n",
      "github.com/gomlx/gomlx/graph.(*Exec).createAndCacheGraph\n",
      "\t/home/janpf/Projects/gomlx/graph/exec.go:560\n",
      "github.com/gomlx/gomlx/graph.(*Exec).findOrCreateGraph\n",
      "\t/home/janpf/Projects/gomlx/graph/exec.go:619\n",
      "github.com/gomlx/gomlx/graph.(*Exec).compileAndExecute\n",
      "\t/home/janpf/Projects/gomlx/graph/exec.go:468\n",
      "github.com/gomlx/gomlx/graph.(*Exec).CallWithGraph\n",
      "\t/home/janpf/Projects/gomlx/graph/exec.go:418\n",
      "github.com/gomlx/gomlx/ml/context.(*Exec).CallWithGraph\n",
      "\t/home/janpf/Projects/gomlx/ml/context/exec.go:542\n",
      "github.com/gomlx/gomlx/ml/context.(*Exec).Call\n",
      "\t/home/janpf/Projects/gomlx/ml/context/exec.go:528\n",
      "github.com/gomlx/gomlx/examples/mnist/classifier.(*Classifier).Classify.func1\n",
      "\t/home/janpf/Projects/gomlx/examples/mnist/classifier/classifier.go:90\n",
      "github.com/gomlx/exceptions.TryCatch[...]\n",
      "\t/home/janpf/src/go/pkg/mod/github.com/gomlx/exceptions@v0.0.3/exceptions.go:85\n",
      "github.com/gomlx/gomlx/examples/mnist/classifier.(*Classifier).Classify\n",
      "\t/home/janpf/Projects/gomlx/examples/mnist/classifier/classifier.go:90\n",
      "main.main\n",
      "\t \u001b[7m[[ Cell [12] Line 22 ]]\u001b[0m /tmp/gonb_ef172032/main.go:253\n",
      "runtime.main\n",
      "\t/snap/go/current/src/runtime/proc.go:283\n",
      "runtime.goexit\n",
      "\t/snap/go/current/src/runtime/asm_amd64.s:1700\n",
      "Panicking ...\n",
      "\n",
      "panic: requested variable \"weights\" in scope \"/model/model/000_conv/conv\" with Context.Reuse set, but variable does not exist\n",
      "\n",
      "goroutine 1 [running]:\n",
      "github.com/janpfeifer/must.init.func1({0x10b8e00, 0xc000169020})\n",
      "\t/home/janpf/src/go/pkg/mod/github.com/janpfeifer/must@v0.2.0/must.go:13 +0xd3\n",
      "github.com/janpfeifer/must.M1[...](...)\n",
      "\t/home/janpf/src/go/pkg/mod/github.com/janpfeifer/must@v0.2.0/must.go:41\n",
      "main.main()\n",
      "\t \u001b[7m[[ Cell [12] Line 22 ]]\u001b[0m /tmp/gonb_ef172032/main.go:253 +0x4a2\n",
      "exit status 2\n"
     ]
    }
   ],
   "source": [
    "import (\n",
    "    \"encoding/base64\"\n",
    "    \"image/png\"\n",
    "    \n",
    "    \"github.com/gomlx/gomlx/examples/mnist/classifier\"\n",
    "    // We also must import then engine that will execute the model.\n",
    "    // Currently only XLA is supported.\n",
    "    _ \"github.com/gomlx/gomlx/backends/default\"\n",
    ")\n",
    "\n",
    "%%\n",
    "// Decode and print PNG image.\n",
    "imgBase64 := bytes.NewBufferString(\"iVBORw0KGgoAAAANSUhEUgAAABwAAAAcCAIAAAD9b0jDAAAACXBIWXMAAAsTAAALEwEAmpwYAAAC+0lEQVRIia2VO0szQRSGz+6O5uKCkChWIgYEQUUjCYKlhZZWBiwsbFKIf0FSKKI2/gQhIGrAC4JBUgQEi+C1UAzYC24Es0ajk53ZGYvBEPf2+aGn2j0z85x9z2VW0nXdNE2EEOccfmeSJFFKm5ub0evrq6qqfwjFGEuVSkVVVUmSfkkUxjmvVCoyY4xS+idEAKCUcs5lWZb/ilg3VKvVAoHAP/fpur69vQ0AIlGcc4TQ9PR0S0uLA9Q0TQ+Wpmm5XI5SenBwcHh4aFm9vr5eW1tz4L68vBiGwZ0sm82OjY05BqsnLZVKNR4xDKNcLsuMMbfPLBQK+XxePA8ODo6Ojo6MjAwPD/v9flENAMhkMg7yPZopmUxijD8+Pjo6OqampgKBAGOMMZbP5+fn5zHGiqKMj487nHx6enKT72alUsnv9wNAKBTK5XLO8v+rqwzDWFpawhgDQCwWi0ajDvJ9Ph9jTFGUn+DS6fTR0dHJyYnw9Pf3t7W1OUC9R75UKl1cXMiyXKvV0un03t6e8Le2tiYSiUQi4XzMraVM01xfXx8aGoKvhm+0lZUVx3SLnCKMcTAYtAdjjC0uLj4/PwOAXc3j46OHPknTtFAohBCyQ3d2dnZ3d3t6etrb2ymlwWBQ1/X9/f2rq6ve3t7z83NVVS2nCCHVahV0XfdoKYyxxSPGIRqNvr29ucn3migA8Pl8Fk9nZ6fQ4TE1zlefiGn3X15ezszMAIA9Xd+ghBBLzM3NzXg8XiwWLVtvb28nJycLhQIAmKbZ1NTkBrUGXF1dXVhYIIQcHx9TSt/f3xFClNJsNru1tfXw8AAA8Xg8lUp5QK19OjExIfxdXV19fX2RSCQSiYg8AoCiKLOzs/f3926FFYWyVv/u7m5ubs4eOxwOJ5PJ09NTN9w3qH2iCCEbGxviHxOLxZaXl8/OzorFYrVa9SbWoZKmaeFw2H6h3NzclMvl7u7uuvafmGh+5NYcAwMDP2dZTJZlmRBSf2eM8a9J55w3vgqP22rj0ieuZu0WF49iIgAAAABJRU5ErkJggg==\")\n",
    "imgPNG := must.M1(io.ReadAll(base64.NewDecoder(base64.StdEncoding, imgBase64)))\n",
    "img := must.M1(png.Decode(bytes.NewBuffer(imgPNG)))\n",
    "size := img.Bounds()\n",
    "gonbui.DisplayHTML(fmt.Sprintf(\"<p>Image: (%d x %d)</p>\", size.Dx(), size.Dy()))\n",
    "gonbui.DisplayPNG(imgPNG)\n",
    "\n",
    "// Classify:\n",
    "inference := must.M1(classifier.New(\"~/work/mnist/cnn\"))\n",
    "classID := must.M1(inference.Classify(img))\n",
    "gonbui.DisplayHTML(fmt.Sprintf(\"<p>Class: <b>(%d)</b></p>\", classID))"
   ]
  }
 ],
 "metadata": {
  "kernelspec": {
   "display_name": "Go (gonb)",
   "language": "go",
   "name": "gonb"
  },
  "language_info": {
   "codemirror_mode": "",
   "file_extension": ".go",
   "mimetype": "text/x-go",
   "name": "go",
   "nbconvert_exporter": "",
   "pygments_lexer": "",
   "version": "go1.24.2"
  }
 },
 "nbformat": 4,
 "nbformat_minor": 4
}
