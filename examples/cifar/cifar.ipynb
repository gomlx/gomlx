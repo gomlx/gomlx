{
 "cells": [
  {
   "cell_type": "markdown",
   "id": "f431da81-4d94-4fd1-8a51-952ef824cb46",
   "metadata": {},
   "source": [
    "# Cifar Library and Demo\n",
    "\n",
    "[This is a library](https://pkg.go.dev/github.com/gomlx/gomlx/examples/cifar) to download and parse the Cifar datasets (Cifar-10 and Cifar-100), and a very small demo of a FNN (Feedforward Neural Network) with GoMLX. FNNs are notoriously bad for images, but it's only a demo. Look for the Resnet50 model for a more serious image classification model (old but still good -- best results as of the time of this writing is with ViT model).\n",
    "\n",
    "The CIFAR-10 and CIFAR-100 are labeled subsets of the 80 million tiny images dataset. They were collected by Alex Krizhevsky, Vinod Nair, and Geoffrey Hinton. See more details in [its homepage here](https://www.cs.toronto.edu/~kriz/cifar.html).\n",
    "\n",
    "This notebook serves as documentation and example for the [github.com/gomlx/gomlx/examples/cifar](https://github.com/gomlx/gomlx/examples/cifar) library, and the demo code in one piece can be seen in [.../examples/cifar/demo/](https://github.com/gomlx/gomlx/tree/main/examples/cifar/demo)"
   ]
  },
  {
   "cell_type": "markdown",
   "id": "bd398a51-c10a-4d05-91f7-f978856a8d8b",
   "metadata": {},
   "source": [
    "## Environment Set Up\n",
    "\n",
    "Let's set up `go.mod` to use the local copy of GoMLX, so it can be developed jointly the dataset code with the model. That's often how data pre-processing and model code is developed together with experimentation.\n",
    "\n",
    "If you are not changing code, feel free to simply skip this cell. Or if you used a different directory for you projects, change it below.\n",
    "\n",
    "Notice the directory `${HOME}/Projects/gomlx` is where the GoMLX code is copied by default in [its Docker](https://hub.docker.com/repository/docker/janpfeifer/gomlx_jupyterlab/general)."
   ]
  },
  {
   "cell_type": "code",
   "execution_count": 1,
   "id": "22abc207-e8b0-44ef-840d-fee3550cffca",
   "metadata": {
    "tags": []
   },
   "outputs": [
    {
     "name": "stdout",
     "output_type": "stream",
     "text": [
      "\t- Added replace rule for module \"github.com/gomlx/gomlx\" to local directory \"/home/janpf/Projects/gomlx\".\n"
     ]
    }
   ],
   "source": [
    "!*rm -f go.work && go work init && go work use . \"${HOME}/Projects/gomlx\"\n",
    "%goworkfix"
   ]
  },
  {
   "cell_type": "markdown",
   "id": "443e9e56-ef12-4d04-b7bb-99478fa2b662",
   "metadata": {},
   "source": [
    "## Data Preparation\n",
    "\n",
    "### Downloading data files\n",
    "\n",
    "To download, uncompress and untar to the local directory, simply do the following. Notice if it's already downloaded in the given `--data` directory, it returns immediately."
   ]
  },
  {
   "cell_type": "code",
   "execution_count": 2,
   "id": "a61fdd1a-74a0-46f2-9cfc-f79bfa37e298",
   "metadata": {
    "tags": []
   },
   "outputs": [],
   "source": [
    "import (\n",
    "    \"github.com/gomlx/gomlx/examples/cifar\"\n",
    "    \"github.com/gomlx/gomlx/ml/data\"\n",
    "    \"github.com/janpfeifer/must\"\n",
    ")\n",
    "\n",
    "var flagDataDir = flag.String(\"data\", \"~/work/cifar\", \"Directory to cache downloaded and generated dataset files.\")\n",
    "\n",
    "func AssertDownloaded() {\n",
    "    *flagDataDir = data.ReplaceTildeInDir(*flagDataDir)\n",
    "    if !data.FileExists(*flagDataDir) {\n",
    "        must.M(os.MkdirAll(*flagDataDir, 0777))\n",
    "    }\n",
    "\n",
    "    must.M(cifar.DownloadCifar10(*flagDataDir))\n",
    "    must.M(cifar.DownloadCifar100(*flagDataDir))\n",
    "}\n",
    "\n",
    "%%\n",
    "AssertDownloaded()"
   ]
  },
  {
   "cell_type": "code",
   "execution_count": 3,
   "id": "345076ef-e2a3-4405-b47d-801c9ec62b91",
   "metadata": {
    "tags": []
   },
   "outputs": [
    {
     "name": "stdout",
     "output_type": "stream",
     "text": [
      "total 48K\n",
      "drwxr-x--- 2 janpf janpf 4.0K Nov 12  2024 base_cnn_model\n",
      "drwxr-x--- 2 janpf janpf 4.0K Nov 12  2024 base_fnn_model\n",
      "drwxr-x--- 2 janpf janpf 4.0K Nov 12  2024 base_kan_model\n",
      "drwxr-xr-x 2 janpf janpf 4.0K Feb 20  2010 cifar-100-binary\n",
      "drwxr-xr-x 2 janpf janpf 4.0K Jun  4  2009 cifar-10-batches-bin\n",
      "drwxr-x--- 2 janpf janpf 4.0K Aug  2  2024 cnn\n",
      "drwxr-x--- 2 janpf janpf 4.0K Aug  1  2024 cnn_layer\n",
      "drwxr-x--- 2 janpf janpf 4.0K Jul 31  2024 cnn_nonorm\n",
      "drwxr-x--- 2 janpf janpf 4.0K Jul 31  2024 fnn_batchnorm_0\n",
      "drwxr-x--- 2 janpf janpf 4.0K Aug  1  2024 fnn_layer\n",
      "drwxr-x--- 2 janpf janpf 4.0K Nov 12  2024 kan\n",
      "drwxr-x--- 2 janpf janpf 4.0K Nov 12  2024 r001\n"
     ]
    }
   ],
   "source": [
    "!ls -lh ~/work/cifar/"
   ]
  },
  {
   "cell_type": "markdown",
   "id": "93d4ae39-915c-478c-887f-b1c8c080865b",
   "metadata": {},
   "source": [
    "### Sample some images\n",
    "\n",
    "The `cifar.NewDataset` creates a `data.InMemoryDataset` that can be used both for training, evaluation, or just to sample a few examples, which we do below:"
   ]
  },
  {
   "cell_type": "code",
   "execution_count": 4,
   "id": "0dabc63a-b918-4065-9b23-0c5a22446458",
   "metadata": {
    "tags": []
   },
   "outputs": [
    {
     "data": {
      "text/html": [
       "<p>Samples Cifar-10</p>\n"
      ]
     },
     "metadata": {},
     "output_type": "display_data"
    },
    {
     "data": {
      "text/html": [
       "<table><tr>\n",
       "<td><figure style=\"padding:4px;text-align: center;\"><img width=\"64\" height=\"64\" src=\"data:image/png;base64,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\"><figcaption style=\"text-align: center;\">airplane ([0])</figcaption></figure></td>\n",
       "<td><figure style=\"padding:4px;text-align: center;\"><img width=\"64\" height=\"64\" src=\"data:image/png;base64,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\"><figcaption style=\"text-align: center;\">bird ([2])</figcaption></figure></td>\n",
       "<td><figure style=\"padding:4px;text-align: center;\"><img width=\"64\" height=\"64\" src=\"data:image/png;base64,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\"><figcaption style=\"text-align: center;\">horse ([7])</figcaption></figure></td>\n",
       "<td><figure style=\"padding:4px;text-align: center;\"><img width=\"64\" height=\"64\" src=\"data:image/png;base64,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\"><figcaption style=\"text-align: center;\">horse ([7])</figcaption></figure></td>\n",
       "<td><figure style=\"padding:4px;text-align: center;\"><img width=\"64\" height=\"64\" src=\"data:image/png;base64,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\"><figcaption style=\"text-align: center;\">dog ([5])</figcaption></figure></td>\n",
       "<td><figure style=\"padding:4px;text-align: center;\"><img width=\"64\" height=\"64\" src=\"data:image/png;base64,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\"><figcaption style=\"text-align: center;\">ship ([8])</figcaption></figure></td>\n",
       "<td><figure style=\"padding:4px;text-align: center;\"><img width=\"64\" height=\"64\" src=\"data:image/png;base64,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\"><figcaption style=\"text-align: center;\">frog ([6])</figcaption></figure></td>\n",
       "<td><figure style=\"padding:4px;text-align: center;\"><img width=\"64\" height=\"64\" src=\"data:image/png;base64,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\"><figcaption style=\"text-align: center;\">deer ([4])</figcaption></figure></td>\n",
       "</tr></table>\n"
      ]
     },
     "metadata": {},
     "output_type": "display_data"
    },
    {
     "data": {
      "text/html": [
       "<p>Samples Cifar-100</p>\n"
      ]
     },
     "metadata": {},
     "output_type": "display_data"
    },
    {
     "data": {
      "text/html": [
       "<table><tr>\n",
       "<td><figure style=\"padding:4px;text-align: center;\"><img width=\"64\" height=\"64\" src=\"data:image/png;base64,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\"><figcaption style=\"text-align: center;\">bee ([6])</figcaption></figure></td>\n",
       "<td><figure style=\"padding:4px;text-align: center;\"><img width=\"64\" height=\"64\" src=\"data:image/png;base64,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\"><figcaption style=\"text-align: center;\">caterpillar ([18])</figcaption></figure></td>\n",
       "<td><figure style=\"padding:4px;text-align: center;\"><img width=\"64\" height=\"64\" src=\"data:image/png;base64,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\"><figcaption style=\"text-align: center;\">keyboard ([39])</figcaption></figure></td>\n",
       "<td><figure style=\"padding:4px;text-align: center;\"><img width=\"64\" height=\"64\" src=\"data:image/png;base64,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\"><figcaption style=\"text-align: center;\">cockroach ([24])</figcaption></figure></td>\n",
       "<td><figure style=\"padding:4px;text-align: center;\"><img width=\"64\" height=\"64\" src=\"data:image/png;base64,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\"><figcaption style=\"text-align: center;\">woman ([98])</figcaption></figure></td>\n",
       "<td><figure style=\"padding:4px;text-align: center;\"><img width=\"64\" height=\"64\" src=\"data:image/png;base64,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\"><figcaption style=\"text-align: center;\">camel ([15])</figcaption></figure></td>\n",
       "<td><figure style=\"padding:4px;text-align: center;\"><img width=\"64\" height=\"64\" src=\"data:image/png;base64,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\"><figcaption style=\"text-align: center;\">girl ([35])</figcaption></figure></td>\n",
       "<td><figure style=\"padding:4px;text-align: center;\"><img width=\"64\" height=\"64\" src=\"data:image/png;base64,iVBORw0KGgoAAAANSUhEUgAAACAAAAAgCAIAAAD8GO2jAAAFeUlEQVR4nLRWW28sRxGuqu7Z2bHNsR1yEoTyEGFAAYEQlxdu4v8/Q8xDQEqEhARRiL23me6uC6rq2fU5RCDykPZ4drSz81V1fV99NfmTJxFhQIRvZuUNqagB2jcVYMooX0n/K9H+R/j/tnUDQETI20yKmgjNf4oRCw0MAZHWffWP/0RCMHOcnp5fY0Cs4GBmVSRPCYvCfrc7HE6H46wqZibi53jIL1T9BOZ/8X3HwkhyDe0JYUJCTESYjqfjzfXVT378o5wJFuHjqYjnoqdY8zyXZVlqKY1LrYUbMztVHkERkXJCokxp3IybzSZnopQ2mzGnnFO6upoeHx+ncfj5Tz/KAKCiz/sj5vSnxz9+/PFfKA2lLLXW1lrjyq05uEpTFRFkvtQFwdNNCXMmTHR7/+3f/PYP4zTlIedhQCBCylExO56ORvnxz598+vcv7l6/X4pyhdaEW20eqpZSeDmVUsp8KsvCpZSltDq3srRW1Isq775+/4cPP3j93Q9A2MsaFHoAjAWmpDBsp2E7IqJQSyn+U8FEAEDmfJABATUk8uecfSNQZVIbEgl0nkA9QsjUfxF7V8NavSAtzsoszCLM/eJ8cHypIo7gitDOu61X61qFahFAVB2RkkuIRStL6+gvS1UlDlVH93M/rJlJ7xOXnwsOeoB+zpcbEpG5eb15RW/MzUl2nllfVo/nD0k8F3V2tZrqGXltz9xDe75Iasyy1LYIs4oyt8rOofhRJWL07fQMoj0sNIWRYe/Q3oX900Kmao3ZKIFpbSXVoucALM6HxOGi9Q3xin4u3aXJ17zxLecJDkCrKnkDa6s117knG1T3JnNgqZU9djMPL1EgWT3j7D8We2yA6pTTKlMDF2DUTktZMA+uE1VxLIdvIS1poa7G0rqauKfvCG/7VMSJe11FKtpaRUqi2MpCKemqG7agN5Tqwo2qVW9v8SNs48UN3zReUxOTtUTqxXGrEdEyz4Zoq1ik76AX3VgcPLYT6Nxdrvtwx+5N4JybOu6bjcaU1LSW2R8x16B5TBbuemVlZ5qlsFRhWenEXh/r1GqXLGB4sILZ2gchN8+Aa4HzbRWF4JK5yVp2Zimq0nnFc0UML0qyl50EC/kyPsLkoZbi8tboSVVYS1VDsi5NtUDH89C6MBxefpbs2T7WABp1S0Ap1TJTa70XtQ8aR619BBkYBeRFNvbG4Lxc96HkhRLJT59/dtjtNsOwyXmaJhFdFp9r7Ii6mhj42CYfV914o/Z47oA+IHWdaj0uUSrL8Yt/fprN5wLcv7oZiH7/6999/8OH3W73vN897Xb756fd0+fPz8+Hoy+udVmWcnYq3/V5hiNhuKBiSm78hkgpD2SkeZruxi0z/8MMxnF8ePgeGLC3gKePwUFt7XQ67Y6HUmstpY/V/cHjHva+5tNpPh2GcdiOY0qJwIZhmDavrqbbnMcR83B4/rIs1d2qGyvi9uompdRVkVLeXt9spqs8DKNP4EwU5SKiRMou41ILC9/e3RMRmP3r6cspDymmdLr91vVHDx8ennfHw6G1UuvMogNWU+R4V3BXMSAiYTm0IxikHMM40WG3e+f+fhq32+2YhmGlCOBmHN+9nfwdAGG4e3X3q1/8si3zPJ+4LhovEnPM3raUUlth7Uaq3r7kdu3MKir+7bO/Cn+gQDnWELtLmTaJXt/eEOQ+kwkAh+31Zrq+aM9CpuHbbNLCtMuyzO10rNWDllZKae/87KEqzlVK6xMVFoHG7Xq6un11PWzGfPbwtQ+tay06KSGlzQZgNIBt3L+9eA5Eh/t7h7il+1vHUpdlXsphrrv9Puf83nvfSTnhy4z+/9f5dc7eemtVDL8JB1BQoZwpDfi10b/m+ncAAAD//0ii0jnd/uhfAAAAAElFTkSuQmCC\"><figcaption style=\"text-align: center;\">television ([87])</figcaption></figure></td>\n",
       "</tr></table>\n"
      ]
     },
     "metadata": {},
     "output_type": "display_data"
    }
   ],
   "source": [
    "import (\n",
    "    \"strings\"\n",
    "    \"github.com/gomlx/gopjrt/dtypes\"\n",
    "    \"github.com/gomlx/gomlx/backends\"\n",
    "    \"github.com/gomlx/gomlx/examples/cifar\"\n",
    "    \"github.com/gomlx/gomlx/types/shapes\"\n",
    "    \"github.com/gomlx/gomlx/pkg/core/tensors/images\"\n",
    "    \"github.com/janpfeifer/gonb/gonbui\"\n",
    "\n",
    "    _ \"github.com/gomlx/gomlx/backends/default\"\n",
    ")\n",
    "\n",
    "var (\n",
    "    // Model DType, used everywhere.\n",
    "    DType = dtypes.Float32\n",
    ")\n",
    "\n",
    "// sampleToNotebook generates a sample of Cifar-10 and Cifar-100 in a GoNB Jupyter Notebook.\n",
    "func sampleToNotebook() {\n",
    "    // Load data into tensors.\n",
    "    backend := backends.MustNew()\n",
    "    ds10 := cifar.NewDataset(backend, \"Samples Cifar-10\", *flagDataDir, cifar.C10, DType, cifar.Train).Shuffle()\n",
    "    ds100 := cifar.NewDataset(backend, \"Samples Cifar-100\", *flagDataDir, cifar.C100, DType, cifar.Train).Shuffle()\n",
    "    sampleImages(ds10, 8, cifar.C10Labels)\n",
    "    sampleImages(ds100, 8, cifar.C100FineLabels)\n",
    "}\n",
    "\n",
    "// sampleTable generates and outputs one html table of samples, sampling rows x cols from the images/labels provided.\n",
    "func sampleImages(ds train.Dataset, numImages int, labelNames []string) {\n",
    "    gonbui.DisplayHTML(fmt.Sprintf(\"<p>%s</p>\\n\", ds.Name()))\n",
    "    \n",
    "    parts := make([]string, 0, numImages+5) // Leave last part empty.\n",
    "    parts = append(parts, \"<table><tr>\")\n",
    "    for ii := 0; ii < numImages; ii++ {\n",
    "        _, inputs, labels := must.M3(ds.Yield())\n",
    "        imgTensor := inputs[0]\n",
    "        img := images.ToImage().Single(imgTensor)\n",
    "        label := labels[0].Value().([]int64)\n",
    "        labelStr := labelNames[label[0]]\n",
    "    \n",
    "        imgSrc := must.M1(gonbui.EmbedImageAsPNGSrc(img))\n",
    "        size := imgTensor.Shape().Dimensions[0]\n",
    "        parts = append(\n",
    "            parts, \n",
    "            fmt.Sprintf(`<td><figure style=\"padding:4px;text-align: center;\"><img width=\"%d\" height=\"%d\" src=\"%s\">` + \n",
    "                        `<figcaption style=\"text-align: center;\">%s (%d)</figcaption></figure></td>`, \n",
    "                        size*2, size*2, imgSrc, labelStr, label),\n",
    "        )\n",
    "    }\n",
    "    parts = append(parts, \"</tr></table>\", \"\")\n",
    "    gonbui.DisplayHTML(strings.Join(parts, \"\\n\"))\n",
    "}\n",
    "\n",
    "%%\n",
    "AssertDownloaded()\n",
    "sampleToNotebook()"
   ]
  },
  {
   "cell_type": "markdown",
   "id": "7fa8c06c-ede0-4cd1-80bd-9331422e3a63",
   "metadata": {},
   "source": [
    "## Training on Cifar-10\n",
    "\n",
    "### Models Support\n",
    "\n",
    "1. `flagModel` defines the model type, out of `validModels` options.\n",
    "1. `createDefaultContex` creates a context and set the default values for the CIFAR models. \n",
    "1. `contextFromSettings` uses `createDefaultContext` and incorporate changes passed by the `-set` flag.\n"
   ]
  },
  {
   "cell_type": "code",
   "execution_count": 5,
   "id": "c8d3c19e-af0c-4fef-a76c-dabb375972d0",
   "metadata": {
    "tags": []
   },
   "outputs": [
    {
     "name": "stdout",
     "output_type": "stream",
     "text": [
      "Model types: [\"fnn\" \"kan\" \"cnn\"]\n",
      "Parameters set (-set): [\"batch_size\" \"fnn_num_hidden_layers\"]\n",
      "\t\"/activation\": (string) swish\n",
      "\t\"/adam_dtype\": (string) \n",
      "\t\"/adam_epsilon\": (float64) 1e-07\n",
      "\t\"/batch_size\": (int) 17\n",
      "\t\"/checkpoint\": (string) \n",
      "\t\"/dropout_rate\": (float64) 0\n",
      "\t\"/eval_batch_size\": (int) 200\n",
      "\t\"/fnn_dropout_rate\": (float64) -1\n",
      "\t\"/fnn_normalization\": (string) \n",
      "\t\"/fnn_num_hidden_layers\": (int) 12\n",
      "\t\"/fnn_num_hidden_nodes\": (int) 128\n",
      "\t\"/fnn_residual\": (bool) true\n",
      "\t\"/kan_bspline_degree\": (int) 2\n",
      "\t\"/kan_bspline_magnitude_l1\": (float64) 1e-05\n",
      "\t\"/kan_bspline_magnitude_l2\": (float64) 0\n",
      "\t\"/kan_discrete\": (bool) false\n",
      "\t\"/kan_discrete_softness\": (float64) 0.1\n",
      "\t\"/kan_num_hidden_layers\": (int) 4\n",
      "\t\"/kan_num_hidden_nodes\": (int) 64\n",
      "\t\"/kan_num_points\": (int) 10\n",
      "\t\"/kan_residual\": (bool) true\n",
      "\t\"/l1_regularization\": (float64) 1e-05\n",
      "\t\"/l2_regularization\": (float64) 1e-05\n",
      "\t\"/learning_rate\": (float64) 0.0001\n",
      "\t\"/model\": (string) fnn\n",
      "\t\"/normalization\": (string) none\n",
      "\t\"/num_checkpoints\": (int) 3\n",
      "\t\"/optimizer\": (string) adamw\n",
      "\t\"/plots\": (bool) true\n",
      "\t\"/train_steps\": (int) 3000\n"
     ]
    }
   ],
   "source": [
    "import (\n",
    "    \"flags\"\n",
    "    \n",
    "    \"github.com/gomlx/gomlx/ml/layers\"\n",
    "    \"github.com/gomlx/gomlx/ml/layers/fnn\"\n",
    "    \"github.com/gomlx/gomlx/ml/layers/kan\"\n",
    "    \"github.com/gomlx/gomlx/ml/layers/regularizers\"\n",
    "    \"github.com/gomlx/gomlx/ui/commandline\"\n",
    "    \"github.com/gomlx/gomlx/ml/train/optimizers\"\n",
    "    \"github.com/gomlx/gomlx/examples/cifar\"\n",
    "    \"github.com/gomlx/gomlx/ml/context\"\n",
    ")\n",
    "\n",
    "var (\n",
    "    // ValidModels is the list of model types supported.\n",
    "    ValidModels = []string{\"fnn\", \"kan\", \"cnn\"}\n",
    "\tflagEval      = flag.Bool(\"eval\", true, \"Whether to evaluate the model on the validation data in the end.\")\n",
    "\tflagVerbosity = flag.Int(\"verbosity\", 1, \"Level of verbosity, the higher the more verbose.\")\n",
    ")\n",
    "\n",
    "// settings is bound to a \"-set\" flag to be used to set context hyperparameters.\n",
    "var settings = commandline.CreateContextSettingsFlag(createDefaultContext(), \"set\")\n",
    "\n",
    "// createDefaultContext sets the context with default hyperparameters\n",
    "func createDefaultContext() *context.Context {\n",
    "\tctx := context.New()\n",
    "\tctx.RngStateReset()\n",
    "\tctx.SetParams(map[string]any{\n",
    "        // Model type to use: valid values are fnn, kan and cnn.\n",
    "\t\t\"model\":           cifar.C10ValidModels[0],\n",
    "\t\t\"checkpoint\":      \"\",\n",
    "\t\t\"num_checkpoints\": 3,\n",
    "\t\t\"train_steps\":     3000,\n",
    "\n",
    "\t\t// batch_size for training.\n",
    "\t\t\"batch_size\": 64,\n",
    "\n",
    "\t\t// eval_batch_size can be larger than training, it's more efficient.\n",
    "\t\t\"eval_batch_size\": 200,\n",
    "\n",
    "\t\t// \"plots\" trigger generating intermediary eval data for plotting, and if running in GoNB, to actually\n",
    "\t\t// draw the plot with Plotly.\n",
    "\t\tplotly.ParamPlots: true,\n",
    "\n",
    "\t\t// If \"normalization\" is set, it overrides \"fnn_normalization\" and \"cnn_normalization\".\n",
    "\t\tlayers.ParamNormalization: \"none\",\n",
    "\n",
    "\t\toptimizers.ParamOptimizer:           \"adamw\",\n",
    "\t\toptimizers.ParamLearningRate:        1e-4,\n",
    "\t\toptimizers.ParamAdamEpsilon:         1e-7,\n",
    "\t\toptimizers.ParamAdamDType:           \"\",\n",
    "\t\tactivations.ParamActivation:         \"swish\",\n",
    "\t\tlayers.ParamDropoutRate:             0.0,\n",
    "\t\tregularizers.ParamL2:                1e-5,\n",
    "\t\tregularizers.ParamL1:                1e-5,\n",
    "\n",
    "\t\t// FNN network parameters:\n",
    "\t\tfnn.ParamNumHiddenLayers: 8,\n",
    "\t\tfnn.ParamNumHiddenNodes:  128,\n",
    "\t\tfnn.ParamResidual:        true,\n",
    "\t\tfnn.ParamNormalization:   \"\",   // Set to none for no normalization, otherwise it falls back to layers.ParamNormalization.\n",
    "\t\tfnn.ParamDropoutRate:     -1.0, // Set to 0.0 for no dropout, otherwise it falls back to layers.ParamDropoutRate.\n",
    "\n",
    "\t\t// KAN network parameters:\n",
    "\t\tkan.ParamNumControlPoints:   10, // Number of control points\n",
    "\t\tkan.ParamNumHiddenNodes:     64,\n",
    "\t\tkan.ParamNumHiddenLayers:    4,\n",
    "\t\tkan.ParamBSplineDegree:      2,\n",
    "\t\tkan.ParamBSplineMagnitudeL1: 1e-5,\n",
    "\t\tkan.ParamBSplineMagnitudeL2: 0.0,\n",
    "\t\tkan.ParamDiscrete:           false,\n",
    "\t\tkan.ParamDiscreteSoftness:   0.1,\n",
    "        kan.ParamResidual:           true,\n",
    "\t})\n",
    "\treturn ctx\n",
    "}\n",
    "\n",
    "// ContextFromSettings is the default context (createDefaultContext) changed by -set flag.\n",
    "func ContextFromSettings() (ctx *context.Context, paramsSet []string) {\n",
    "    ctx = createDefaultContext()\n",
    "    paramsSet = must.M1(commandline.ParseContextSettings(ctx, *settings))\n",
    "    return\n",
    "}\n",
    "\n",
    "// Let's test that we can set hyperparameters by setting it in the \"-set\" flag:\n",
    "%% -set=\"batch_size=17;fnn_num_hidden_layers=12\"\n",
    "fmt.Printf(\"Model types: %q\\n\", cifar.C10ValidModels)\n",
    "ctx, parametersSet := ContextFromSettings()\n",
    "fmt.Printf(\"Parameters set (-set): %q\\n\", parametersSet)\n",
    "fmt.Println(commandline.SprintContextSettings(ctx))"
   ]
  },
  {
   "cell_type": "markdown",
   "id": "f771ca6f-5912-4406-9f2a-a838fd7cd065",
   "metadata": {},
   "source": [
    "### Simple FNN model\n",
    "\n",
    "A trivial model, that can easily get to ~50% accuracy (a random model would do 10%), but hardly much more than that.\n",
    "\n",
    "Later we are going to define a CNN model to compare, and we just set a placeholder model here for now.\n",
    "\n",
    "> **Note**: \n",
    ">\n",
    "> * The code is here just to exemplify. We are actually using the same code from the [`cifar`](https://github.com/gomlx/gomlx/tree/main/examples/cifar) package."
   ]
  },
  {
   "cell_type": "code",
   "execution_count": 13,
   "id": "0ac4e4da-2c3b-431c-9e54-00e31045785f",
   "metadata": {
    "tags": []
   },
   "outputs": [
    {
     "name": "stdout",
     "output_type": "stream",
     "text": [
      "Logits shape for batch_size=7: (Float32)[7 10]\n"
     ]
    }
   ],
   "source": [
    "import (\n",
    "    \"flags\"    \n",
    "    . \"github.com/gomlx/gomlx/pkg/core/graph\"\n",
    "    \"github.com/gomlx/gomlx/examples/cifar\"\n",
    "    \"github.com/gomlx/gomlx/ml/context\"\n",
    "    \"github.com/gomlx/gomlx/ml/train/optimizers\"\n",
    "    \"github.com/gomlx/gomlx/types/shapes\"\n",
    ")\n",
    "\n",
    "var _ = NewGraph  // Make sure the graph package is in use.\n",
    "\n",
    "// C10PlainModelGraph implements train.ModelFn, and returns the logit Node, given the input image.\n",
    "// It's a basic FNN (Feedforward Neural Network), so no convolutions. It is meant only as an example.\n",
    "func C10PlainModelGraph(ctx *context.Context, spec any, inputs []*graph.Node) []*graph.Node {\n",
    "    _ = spec  // Not needed, the input type is always the same.\n",
    "\tctx = ctx.In(\"model\")\n",
    "\tbatchedImages := inputs[0]\n",
    "\tbatchSize := batchedImages.Shape().Dimensions[0]\n",
    "\tlogits := graph.Reshape(batchedImages, batchSize, -1)\n",
    "\tnumClasses := len(cifar.C10Labels)\n",
    "\tmodelType := context.GetParamOr(ctx, \"model\", cifar.C10ValidModels[0])\n",
    "\tif modelType == \"kan\" {\n",
    "\t\t// Configuration of the KAN layer(s) use the context hyperparameters.\n",
    "\t\tlogits = kan.New(ctx, logits, numClasses).Done()\n",
    "\t} else {\n",
    "\t\t// Configuration of the FNN layer(s) use the context hyperparameters.\n",
    "\t\tlogits = fnn.New(ctx, logits, numClasses).Done()\n",
    "\t}\n",
    "\tlogits.AssertDims(batchSize, numClasses)\n",
    "\treturn []*graph.Node{logits}\n",
    "}\n",
    "\n",
    "%% -set=\"batch_size=7\"\n",
    "// Let's test that the logits are coming out with the right shape: we want [batch_size, 10], since there are 10 classes.\n",
    "AssertDownloaded()\n",
    "ctx, _ := ContextFromSettings()\n",
    "g := NewGraph(backends.MustNew(), \"placeholder\")\n",
    "batchSize := context.GetParamOr(ctx, \"batch_size\", int(100))\n",
    "logits := C10PlainModelGraph(ctx, nil, []*Node{Parameter(g, \"images\", shapes.Make(DType, batchSize, cifar.Height, cifar.Width, cifar.Depth))})\n",
    "fmt.Printf(\"Logits shape for batch_size=%d: %s\\n\", batchSize, logits[0].Shape())"
   ]
  },
  {
   "cell_type": "markdown",
   "id": "aef7d6ee-ca2b-40c7-ac3d-4242ecd8ed1b",
   "metadata": {},
   "source": [
    "### Training Loop\n",
    "\n",
    "With a model function defined, we use the training loop create for the Cifar10.\n",
    "\n",
    "The trainer is provided in the [`cifar` package](https://github.com/gomlx/gomlx/tree/main/examples/cifar). It is straight forward (and almost the same for every different project) and does the following for us:\n",
    "\n",
    "- If a checkpoing is given (--checkpoint) and it has previously saved model, it loads hyperparmeters and trained variables.\n",
    "- Create trainer: with selected model function (see [Simple FNN model](#Simple-FNN-model) and [CNN model for Cifar10](#CNN-model-for-Cifar10) sections), optimizer, loss and metrics.\n",
    "- Create a `train.Loop` and attach to it a progressbar, a periodic checkpoint saver and a plotter (`--set=\"plots=true\"`).\n",
    "- Train the selected number of train steps.\n",
    "- Report results.\n",
    "\n",
    "Below we train 50 steps with the default settings just to check things are working."
   ]
  },
  {
   "cell_type": "code",
   "execution_count": 7,
   "id": "d72336ef-d96d-4d98-a3a6-5df912be5f24",
   "metadata": {
    "tags": []
   },
   "outputs": [
    {
     "name": "stdout",
     "output_type": "stream",
     "text": [
      "Backend \"xla\":\txla:cuda - PJRT \"cuda\" plugin (/home/janpf/.local/lib/gomlx/pjrt/pjrt_c_api_cuda_plugin.so) v0.68 [StableHLO]\n",
      "Training (50 steps):  100% [========================================] (1883 steps/s) [step=49] [loss+=2.316] [~loss+=2.367] [~loss=2.235] [~acc=17.34%]                \n",
      "\t[Step 50] median train step: 414 microseconds\n",
      "\n",
      "Results on Validation:\n",
      "\tMean Loss+Regularization (#loss+): 2.274\n",
      "\tMean Loss (#loss): 2.143\n",
      "\tMean Accuracy (#acc): 21.79%\n",
      "Results on Training:\n",
      "\tMean Loss+Regularization (#loss+): 2.274\n",
      "\tMean Loss (#loss): 2.143\n",
      "\tMean Accuracy (#acc): 22.05%\n"
     ]
    }
   ],
   "source": [
    "var flagCheckpoint = flag.String(\"checkpoint\", \"\", \"Directory save and load checkpoints from. If left empty, no checkpoints are created.\")\n",
    "\n",
    "// trainModel with hyperparameters configured with `-set=...`.\n",
    "func trainModel() {\n",
    "    ctx, paramsSet := ContextFromSettings()\n",
    "    cifar.TrainCifar10Model(ctx, *flagDataDir, *flagCheckpoint, *flagEval, *flagVerbosity, paramsSet)\n",
    "}\n",
    "\n",
    "// Train 50 steps, only to test things are working. No plots.\n",
    "%% --set=\"train_steps=50;plots=false\"\n",
    "trainModel()"
   ]
  },
  {
   "cell_type": "markdown",
   "id": "300a8419-5679-42ba-9149-51c17c7c427d",
   "metadata": {},
   "source": [
    "### FNN Model Training\n",
    "\n",
    "Let's train the FNN for real this time. \n",
    "\n",
    "* **Note**: The FNN model quickly overfits to the data."
   ]
  },
  {
   "cell_type": "code",
   "execution_count": 8,
   "id": "4de9b879-4790-4aac-ace7-3c8a348ac961",
   "metadata": {},
   "outputs": [],
   "source": [
    "// Remove a previously trained model. Skip this if you want to continue training a previous model.\n",
    "!rm -rf ~/work/cifar/base_fnn_model  "
   ]
  },
  {
   "cell_type": "code",
   "execution_count": 9,
   "id": "cf876f49-e737-4dfa-aa05-48aad3d7a128",
   "metadata": {
    "tags": []
   },
   "outputs": [
    {
     "name": "stdout",
     "output_type": "stream",
     "text": [
      "Backend \"xla\":\txla:cuda - PJRT \"cuda\" plugin (/home/janpf/.local/lib/gomlx/pjrt/pjrt_c_api_cuda_plugin.so) v0.68 [StableHLO]\n",
      "Checkpointing model to \"/home/janpf/work/cifar/base_fnn_model\"\n"
     ]
    },
    {
     "data": {
      "text/html": []
     },
     "metadata": {},
     "output_type": "display_data"
    },
    {
     "name": "stdout",
     "output_type": "stream",
     "text": [
      "Training (50000 steps):    1% [........................................] (206 steps/s) [1s:3m59s] [step=699] [loss+=1.819] [~loss+=1.913] [~loss=1.783] [~acc=36.75%]        "
     ]
    },
    {
     "data": {
      "text/html": []
     },
     "metadata": {},
     "output_type": "display_data"
    },
    {
     "name": "stdout",
     "output_type": "stream",
     "text": [
      "Training (50000 steps):  100% [========================================] (532 steps/s) [step=49999] [loss+=0.866] [~loss+=0.911] [~loss=0.765] [~acc=72.50%]        7%]         \n"
     ]
    },
    {
     "data": {
      "text/html": [
       "<p><b>Metric: accuracy</b></p>\n"
      ]
     },
     "metadata": {},
     "output_type": "display_data"
    },
    {
     "data": {
      "text/html": [
       "<div id=\"961c4e4b\"></div>"
      ]
     },
     "metadata": {},
     "output_type": "display_data"
    },
    {
     "data": {
      "text/html": [
       "<script charset=\"UTF-8\">\n",
       "(() => {\n",
       "\tconst src=\"https://cdn.plot.ly/plotly-2.29.1.min.js\";\n",
       "\tvar runJSFn = function(module) {\n",
       "\t\t\n",
       "\tif (!module) {\n",
       "\t\tmodule = window.Plotly;\n",
       "\t}\n",
       "\tlet data = JSON.parse('{\"data\":[{\"type\":\"scatter\",\"line\":{\"shape\":\"linear\"},\"mode\":\"lines+markers\",\"name\":\"Train: Moving Average Accuracy\",\"x\":[200,440,728,1074,1489,1987,2585,3303,4165,5199,6440,7929,9716,11860,14433,17521,21227,25674,31010,37413,45097,50000],\"y\":[0.2689197361469269,0.335286021232605,0.36901435256004333,0.3976632058620453,0.40862539410591125,0.4329797029495239,0.4563348591327667,0.4648810923099518,0.4768499732017517,0.4917075037956238,0.510226309299469,0.5279123783111572,0.5394514799118042,0.5617300868034363,0.5830008387565613,0.5877613425254822,0.6121135354042053,0.6295589804649353,0.6549941301345825,0.6742567420005798,0.7048279047012329,0.7250107526779175]},{\"type\":\"scatter\",\"line\":{\"shape\":\"linear\"},\"mode\":\"lines+markers\",\"name\":\"Eval on Training: Mean Accuracy\",\"x\":[200,440,728,1074,1489,1987,2585,3303,4165,5199,6440,7929,9716,11860,14433,17521,21227,25674,31010,37413,45097,50000],\"y\":[0.31922000646591187,0.35057997703552246,0.38001999258995056,0.402459979057312,0.42985999584198,0.44457998871803284,0.4609600007534027,0.47461998462677,0.4882799983024597,0.4911399781703949,0.5201399922370911,0.5239199995994568,0.5494199991226196,0.5661399960517883,0.5855799913406372,0.596780002117157,0.619979977607727,0.6334800124168396,0.6629599928855896,0.6868599653244019,0.7237199544906616,0.7433800101280212]},{\"type\":\"scatter\",\"line\":{\"shape\":\"linear\"},\"mode\":\"lines+markers\",\"name\":\"Eval on Validation: Mean Accuracy\",\"x\":[200,440,728,1074,1489,1987,2585,3303,4165,5199,6440,7929,9716,11860,14433,17521,21227,25674,31010,37413,45097,50000],\"y\":[0.31710001826286316,0.3514000177383423,0.3765000104904175,0.40130001306533813,0.42820000648498535,0.44140002131462097,0.45490002632141113,0.4650000333786011,0.480400025844574,0.47290003299713135,0.4992000162601471,0.49250003695487976,0.5157999992370605,0.5198000073432922,0.5304000377655029,0.5338000059127808,0.5393000245094299,0.5339000225067139,0.5454000234603882,0.5445000529289246,0.5451000332832336,0.5575000047683716]}],\"layout\":{\"legend\":{},\"title\":{\"text\":\"accuracy\"},\"xaxis\":{\"showgrid\":true,\"type\":\"log\"},\"yaxis\":{\"showgrid\":true,\"type\":\"log\"}}}');\n",
       "\tmodule.newPlot('961c4e4b', data);\n",
       "\n",
       "\t}\n",
       "\t\n",
       "    if (typeof requirejs === \"function\") {\n",
       "        // Use RequireJS to load module.\n",
       "\t\tlet srcWithoutExtension = src.substring(0, src.lastIndexOf(\".js\"));\n",
       "        requirejs.config({\n",
       "            paths: {\n",
       "                'plotly': srcWithoutExtension\n",
       "            }\n",
       "        });\n",
       "        require(['plotly'], function(plotly) {\n",
       "            runJSFn(plotly)\n",
       "        });\n",
       "        return\n",
       "    }\n",
       "\n",
       "\tvar currentScripts = document.head.getElementsByTagName(\"script\");\n",
       "\tfor (const idx in currentScripts) {\n",
       "\t\tlet script = currentScripts[idx];\n",
       "\t\tif (script.src == src) {\n",
       "\t\t\trunJSFn(null);\n",
       "\t\t\treturn;\n",
       "\t\t}\n",
       "\t}\n",
       "\n",
       "\tvar script = document.createElement(\"script\");\n",
       "\n",
       "\tscript.charset = \"utf-8\";\n",
       "\t\n",
       "\tscript.src = src;\n",
       "\tscript.onload = script.onreadystatechange = function () { runJSFn(null); };\n",
       "\tdocument.head.appendChild(script);\t\n",
       "})();\n",
       "</script>"
      ]
     },
     "metadata": {},
     "output_type": "display_data"
    },
    {
     "data": {
      "text/html": [
       "<p><b>Metric: loss</b></p>\n"
      ]
     },
     "metadata": {},
     "output_type": "display_data"
    },
    {
     "data": {
      "text/html": [
       "<div id=\"d2bf1067\"></div>"
      ]
     },
     "metadata": {},
     "output_type": "display_data"
    },
    {
     "data": {
      "text/html": [
       "<script charset=\"UTF-8\">\n",
       "(() => {\n",
       "\tconst src=\"https://cdn.plot.ly/plotly-2.29.1.min.js\";\n",
       "\tvar runJSFn = function(module) {\n",
       "\t\t\n",
       "\tif (!module) {\n",
       "\t\tmodule = window.Plotly;\n",
       "\t}\n",
       "\tlet data = JSON.parse('{\"data\":[{\"type\":\"scatter\",\"line\":{\"shape\":\"linear\"},\"mode\":\"lines+markers\",\"name\":\"Train: Batch Loss+Regularization\",\"x\":[200,440,728,1074,1489,1987,2585,3303,4165,5199,6440,7929,9716,11860,14433,17521,21227,25674,31010,37413,45097,50000],\"y\":[2.151768445968628,1.8612500429153442,1.764680027961731,1.958804965019226,1.8642754554748535,1.671913743019104,1.6180744171142578,1.5210530757904053,1.74237060546875,1.5779831409454346,1.588248372077942,1.574981689453125,1.0734901428222656,1.283217430114746,1.2434203624725342,1.296854853630066,1.196722388267517,1.3120965957641602,1.1197794675827026,0.9968639612197876,1.233973503112793,0.8656760454177856]},{\"type\":\"scatter\",\"line\":{\"shape\":\"linear\"},\"mode\":\"lines+markers\",\"name\":\"Train: Moving Average Loss+Regularization\",\"x\":[200,440,728,1074,1489,1987,2585,3303,4165,5199,6440,7929,9716,11860,14433,17521,21227,25674,31010,37413,45097,50000],\"y\":[2.1586802005767822,2.001469850540161,1.9104461669921875,1.8219062089920044,1.78460693359375,1.7244449853897095,1.6638370752334595,1.6210371255874634,1.5936322212219238,1.5509295463562012,1.4879661798477173,1.4486000537872314,1.4069716930389404,1.3561105728149414,1.3041592836380005,1.2763700485229492,1.2127468585968018,1.1852060556411743,1.1005998849868774,1.0440038442611694,0.9671245217323303,0.9107739329338074]},{\"type\":\"scatter\",\"line\":{\"shape\":\"linear\"},\"mode\":\"lines+markers\",\"name\":\"Train: Moving Average Loss\",\"x\":[200,440,728,1074,1489,1987,2585,3303,4165,5199,6440,7929,9716,11860,14433,17521,21227,25674,31010,37413,45097,50000],\"y\":[2.0276033878326416,1.870942234992981,1.7803817987442017,1.6921478509902954,1.6551017761230469,1.5951685905456543,1.5348408222198486,1.4923325777053833,1.4651941061019897,1.4227039813995361,1.3598462343215942,1.3206202983856201,1.27894926071167,1.2279057502746582,1.1755677461624146,1.147098422050476,1.0824038982391357,1.0532084703445435,0.9661648273468018,0.9061968326568604,0.8246909976005554,0.7651962041854858]},{\"type\":\"scatter\",\"line\":{\"shape\":\"linear\"},\"mode\":\"lines+markers\",\"name\":\"Eval on Training: Mean Loss+Regularization\",\"x\":[200,440,728,1074,1489,1987,2585,3303,4165,5199,6440,7929,9716,11860,14433,17521,21227,25674,31010,37413,45097,50000],\"y\":[2.0465290546417236,1.9501928091049194,1.8698925971984863,1.8112118244171143,1.738229513168335,1.6891335248947144,1.645058274269104,1.6095603704452515,1.5642616748809814,1.5408287048339844,1.4804918766021729,1.4569342136383057,1.386860728263855,1.3388402462005615,1.286903738975525,1.2595258951187134,1.1913213729858398,1.1558992862701416,1.081462025642395,1.016438364982605,0.9222584962844849,0.8672431111335754]},{\"type\":\"scatter\",\"line\":{\"shape\":\"linear\"},\"mode\":\"lines+markers\",\"name\":\"Eval on Training: Mean Loss\",\"x\":[200,440,728,1074,1489,1987,2585,3303,4165,5199,6440,7929,9716,11860,14433,17521,21227,25674,31010,37413,45097,50000],\"y\":[1.915666937828064,1.8198704719543457,1.7399426698684692,1.6815210580825806,1.6087785959243774,1.5598998069763184,1.5161149501800537,1.4808863401412964,1.4358515739440918,1.412617564201355,1.3523741960525513,1.3289464712142944,1.2588251829147339,1.2105995416641235,1.1582896709442139,1.1302268505096436,1.0609267950057983,1.0238850116729736,0.9469884037971497,0.8785905241966248,0.7797781825065613,0.7216023206710815]},{\"type\":\"scatter\",\"line\":{\"shape\":\"linear\"},\"mode\":\"lines+markers\",\"name\":\"Eval on Validation: Mean Loss+Regularization\",\"x\":[200,440,728,1074,1489,1987,2585,3303,4165,5199,6440,7929,9716,11860,14433,17521,21227,25674,31010,37413,45097,50000],\"y\":[2.047781229019165,1.949405550956726,1.8695290088653564,1.812153935432434,1.7467550039291382,1.7021139860153198,1.6662293672561646,1.6392934322357178,1.6062393188476562,1.5944255590438843,1.5488768815994263,1.5462397336959839,1.4912726879119873,1.474444031715393,1.4484140872955322,1.462592601776123,1.4402353763580322,1.4620429277420044,1.4598467350006104,1.4992514848709106,1.5492008924484253,1.6084433794021606]},{\"type\":\"scatter\",\"line\":{\"shape\":\"linear\"},\"mode\":\"lines+markers\",\"name\":\"Eval on Validation: Mean Loss\",\"x\":[200,440,728,1074,1489,1987,2585,3303,4165,5199,6440,7929,9716,11860,14433,17521,21227,25674,31010,37413,45097,50000],\"y\":[1.9169189929962158,1.8190827369689941,1.7395793199539185,1.6824641227722168,1.6173043251037598,1.5728806257247925,1.537285327911377,1.5106194019317627,1.4778286218643188,1.4662134647369385,1.420759677886963,1.418251395225525,1.3632365465164185,1.3462032079696655,1.3198000192642212,1.3332935571670532,1.309840440750122,1.3300280570983887,1.3253731727600098,1.3614044189453125,1.406720757484436,1.4628021717071533]}],\"layout\":{\"legend\":{},\"title\":{\"text\":\"loss\"},\"xaxis\":{\"showgrid\":true,\"type\":\"log\"},\"yaxis\":{\"showgrid\":true,\"type\":\"log\"}}}');\n",
       "\tmodule.newPlot('d2bf1067', data);\n",
       "\n",
       "\t}\n",
       "\t\n",
       "    if (typeof requirejs === \"function\") {\n",
       "        // Use RequireJS to load module.\n",
       "\t\tlet srcWithoutExtension = src.substring(0, src.lastIndexOf(\".js\"));\n",
       "        requirejs.config({\n",
       "            paths: {\n",
       "                'plotly': srcWithoutExtension\n",
       "            }\n",
       "        });\n",
       "        require(['plotly'], function(plotly) {\n",
       "            runJSFn(plotly)\n",
       "        });\n",
       "        return\n",
       "    }\n",
       "\n",
       "\tvar currentScripts = document.head.getElementsByTagName(\"script\");\n",
       "\tfor (const idx in currentScripts) {\n",
       "\t\tlet script = currentScripts[idx];\n",
       "\t\tif (script.src == src) {\n",
       "\t\t\trunJSFn(null);\n",
       "\t\t\treturn;\n",
       "\t\t}\n",
       "\t}\n",
       "\n",
       "\tvar script = document.createElement(\"script\");\n",
       "\n",
       "\tscript.charset = \"utf-8\";\n",
       "\t\n",
       "\tscript.src = src;\n",
       "\tscript.onload = script.onreadystatechange = function () { runJSFn(null); };\n",
       "\tdocument.head.appendChild(script);\t\n",
       "})();\n",
       "</script>"
      ]
     },
     "metadata": {},
     "output_type": "display_data"
    },
    {
     "name": "stdout",
     "output_type": "stream",
     "text": [
      "\t[Step 50000] median train step: 423 microseconds\n",
      "\n",
      "Results on Validation:\n",
      "\tMean Loss+Regularization (#loss+): 1.608\n",
      "\tMean Loss (#loss): 1.463\n",
      "\tMean Accuracy (#acc): 55.75%\n",
      "Results on Training:\n",
      "\tMean Loss+Regularization (#loss+): 0.867\n",
      "\tMean Loss (#loss): 0.722\n",
      "\tMean Accuracy (#acc): 74.34%\n"
     ]
    }
   ],
   "source": [
    "%% --checkpoint=base_fnn_model --set=\"model=fnn;train_steps=50_000;plots=true\"\n",
    "trainModel()"
   ]
  },
  {
   "cell_type": "markdown",
   "id": "942fdb36-4fbe-4ccf-9958-c8b67b036ada",
   "metadata": {},
   "source": [
    "### CNN model for Cifar-10\n",
    "\n",
    "Let's now properly define a CNN model to compare.\n",
    "\n",
    "The model was built following a [Keras model in Kaggle (thanks @ektasharm)](https://www.kaggle.com/code/ektasharma/simple-cifar10-cnn-keras-code-with-88-accuracy),\n",
    "which provided hardcoded values for all layers of the model -- so it doesn't make use of the hyperparamters set in the context. It achieves \\~86% on the validation set, after 80,000 steps of batch size 64 (\\~100 epochs).\n",
    "\n",
    "Notice that since it uses batch normalization, the training process will, at the end, update the moving averages of mean and variance: this improves the running estimate the model keeps during training. This [interesting blog post](https://www.mindee.com/blog/batch-normalization) explains about it. "
   ]
  },
  {
   "cell_type": "code",
   "execution_count": 10,
   "id": "e27dc442-c3aa-4ec5-98e9-e5321b474785",
   "metadata": {
    "tags": []
   },
   "outputs": [
    {
     "name": "stdout",
     "output_type": "stream",
     "text": [
      "Logits shape for batch_size=11: (Float32)[11 10]\n"
     ]
    }
   ],
   "source": [
    "// ConvolutionModelGraph implements train.ModelFn and returns the logit Node, given the input image.\n",
    "// It's a straight forward CNN (Convolution Neural Network) model.\n",
    "//\n",
    "// This is modeled after the Keras example in Kaggle:\n",
    "// https://www.kaggle.com/code/ektasharma/simple-cifar10-cnn-keras-code-with-88-accuracy\n",
    "// (Thanks @ektasharma)\n",
    "func ConvolutionModelGraph(ctx *context.Context, spec any, inputs []*Node) []*Node {\n",
    "\tctx = ctx.In(\"model\")\n",
    "\tbatchedImages := inputs[0]\n",
    "\tg := batchedImages.Graph()\n",
    "\tdtype := batchedImages.DType()\n",
    "\tbatchSize := batchedImages.Shape().Dimensions[0]\n",
    "\tlogits := batchedImages\n",
    "\n",
    "\tlayerIdx := 0\n",
    "\tnextCtx := func(name string) *context.Context {\n",
    "\t\tnewCtx := ctx.Inf(\"%03d_%s\", layerIdx, name)\n",
    "\t\tlayerIdx++\n",
    "\t\treturn newCtx\n",
    "\t}\n",
    "\n",
    "\tlogits = layers.Convolution(nextCtx(\"conv\"), logits).Filters(32).KernelSize(3).PadSame().Done()\n",
    "\tlogits.AssertDims(batchSize, 32, 32, 32)\n",
    "\tlogits = activations.Relu(logits)\n",
    "\tlogits = batchnorm.New(nextCtx(\"batchnorm\"), logits, -1).Done()\n",
    "\tlogits = layers.Convolution(nextCtx(\"conv\"), logits).Filters(32).KernelSize(3).PadSame().Done()\n",
    "\tlogits = activations.Relu(logits)\n",
    "\tlogits = batchnorm.New(nextCtx(\"batchnorm\"), logits, -1).Done()\n",
    "\tlogits = MaxPool(logits).Window(2).Done()\n",
    "\tlogits = layers.DropoutNormalize(nextCtx(\"dropout\"), logits, Scalar(g, dtype, 0.3), true)\n",
    "\tlogits.AssertDims(batchSize, 16, 16, 32)\n",
    "\n",
    "\tlogits = layers.Convolution(nextCtx(\"conv\"), logits).Filters(64).KernelSize(3).PadSame().Done()\n",
    "\tlogits.AssertDims(batchSize, 16, 16, 64)\n",
    "\tlogits = activations.Relu(logits)\n",
    "\tlogits = batchnorm.New(nextCtx(\"batchnorm\"), logits, -1).Done()\n",
    "\tlogits = layers.Convolution(nextCtx(\"conv\"), logits).Filters(64).KernelSize(3).PadSame().Done()\n",
    "\tlogits.AssertDims(batchSize, 16, 16, 64)\n",
    "\tlogits = activations.Relu(logits)\n",
    "\tlogits = batchnorm.New(nextCtx(\"batchnorm\"), logits, -1).Done()\n",
    "\tlogits = MaxPool(logits).Window(2).Done()\n",
    "\tlogits = layers.DropoutNormalize(nextCtx(\"dropout\"), logits, Scalar(g, dtype, 0.5), true)\n",
    "\tlogits.AssertDims(batchSize, 8, 8, 64)\n",
    "\n",
    "\tlogits = layers.Convolution(nextCtx(\"conv\"), logits).Filters(128).KernelSize(3).PadSame().Done()\n",
    "\tlogits.AssertDims(batchSize, 8, 8, 128)\n",
    "\tlogits = activations.Relu(logits)\n",
    "\tlogits = batchnorm.New(nextCtx(\"batchnorm\"), logits, -1).Done()\n",
    "\tlogits = layers.Convolution(nextCtx(\"conv\"), logits).Filters(128).KernelSize(3).PadSame().Done()\n",
    "\tlogits.AssertDims(batchSize, 8, 8, 128)\n",
    "\tlogits = activations.Relu(logits)\n",
    "\tlogits = batchnorm.New(nextCtx(\"batchnorm\"), logits, -1).Done()\n",
    "\tlogits = MaxPool(logits).Window(2).Done()\n",
    "\tlogits = layers.DropoutNormalize(nextCtx(\"dropout\"), logits, Scalar(g, dtype, 0.5), true)\n",
    "\tlogits.AssertDims(batchSize, 4, 4, 128)\n",
    "\n",
    "\t// Flatten logits, and we can use the usual FNN/KAN.\n",
    "\tlogits = Reshape(logits, batchSize, -1)\n",
    "\tlogits = layers.Dense(nextCtx(\"dense\"), logits, true, 128)\n",
    "\tlogits = activations.Relu(logits)\n",
    "\tlogits = batchnorm.New(nextCtx(\"batchnorm\"), logits, -1).Done()\n",
    "\tlogits = layers.DropoutNormalize(nextCtx(\"dropout\"), logits, Scalar(g, dtype, 0.5), true)\n",
    "\tnumClasses := len(cifar.C10Labels)\n",
    "\tlogits = layers.Dense(nextCtx(\"dense\"), logits, true, numClasses)\n",
    "\treturn []*Node{logits}\n",
    "}\n",
    "\n",
    "%% -set=\"batch_size=11\"\n",
    "// Let's test that the logits are coming out with the right shape: we want [batch_size, 10], since there are 10 classes.\n",
    "AssertDownloaded()\n",
    "ctx, _ := ContextFromSettings()\n",
    "g := NewGraph(backends.MustNew(), \"placeholder\")\n",
    "batchSize := context.GetParamOr(ctx, \"batch_size\", int(100))\n",
    "logits := ConvolutionModelGraph(ctx, nil, []*Node{Parameter(g, \"images\", shapes.Make(DType, batchSize, cifar.Height, cifar.Width, cifar.Depth))})\n",
    "fmt.Printf(\"Logits shape for batch_size=%d: %s\\n\", batchSize, logits[0].Shape())\n"
   ]
  },
  {
   "cell_type": "markdown",
   "id": "6e3b2b04-8ca7-49d6-921d-3527c9169da9",
   "metadata": {},
   "source": [
    "### Training the CNN model\n",
    "\n",
    "CNNs have a much better inductive bias for machine learning on images, and it can easily achieve > 80% accuracy in training data, and some less on validation data, due to overfitting.\n",
    "\n",
    "Likely it would benefit from pre-training the model on a larger unlabeled datasets -- see the \"Dogs vs Cats\" example to see transfer learning in action for an image model."
   ]
  },
  {
   "cell_type": "code",
   "execution_count": 11,
   "id": "6af158e6-b9f9-423a-8ef9-3b54366d35ef",
   "metadata": {},
   "outputs": [],
   "source": [
    "!rm -rf ~/work/cifar/base_cnn_model"
   ]
  },
  {
   "cell_type": "code",
   "execution_count": 12,
   "id": "b2739281-6e70-4bd4-90e5-ed493678b8ce",
   "metadata": {
    "tags": []
   },
   "outputs": [
    {
     "name": "stdout",
     "output_type": "stream",
     "text": [
      "Backend \"xla\":\txla:cuda - PJRT \"cuda\" plugin (/home/janpf/.local/lib/gomlx/pjrt/pjrt_c_api_cuda_plugin.so) v0.68 [StableHLO]\n",
      "Checkpointing model to \"/home/janpf/work/cifar/base_cnn_model\"\n"
     ]
    },
    {
     "data": {
      "text/html": []
     },
     "metadata": {},
     "output_type": "display_data"
    },
    {
     "name": "stdout",
     "output_type": "stream",
     "text": [
      "Training (80000 steps):    0% [........................................] (396 steps/s) [2s:3m20s] [step=719] [loss+=1.712] [~loss+=1.747] [~loss=1.747] [~acc=34.53%]        "
     ]
    },
    {
     "data": {
      "text/html": []
     },
     "metadata": {},
     "output_type": "display_data"
    },
    {
     "name": "stdout",
     "output_type": "stream",
     "text": [
      "Training (80000 steps):  100% [========================================] (849 steps/s) [step=79999] [loss+=0.587] [~loss+=0.644] [~loss=0.644] [~acc=78.02%]        9%]         \n"
     ]
    },
    {
     "data": {
      "text/html": [
       "<p><b>Metric: accuracy</b></p>\n"
      ]
     },
     "metadata": {},
     "output_type": "display_data"
    },
    {
     "data": {
      "text/html": [
       "<div id=\"3b8242c2\"></div>"
      ]
     },
     "metadata": {},
     "output_type": "display_data"
    },
    {
     "data": {
      "text/html": [
       "<script charset=\"UTF-8\">\n",
       "(() => {\n",
       "\tconst src=\"https://cdn.plot.ly/plotly-2.29.1.min.js\";\n",
       "\tvar runJSFn = function(module) {\n",
       "\t\t\n",
       "\tif (!module) {\n",
       "\t\tmodule = window.Plotly;\n",
       "\t}\n",
       "\tlet data = JSON.parse('{\"data\":[{\"type\":\"scatter\",\"line\":{\"shape\":\"linear\"},\"mode\":\"lines+markers\",\"name\":\"Train: Moving Average Accuracy\",\"x\":[200,440,728,1074,1489,1987,2585,3303,4165,5199,6440,7929,9716,11860,14433,17521,21227,25674,31010,37413,45097,54318,65383,78661,80000],\"y\":[0.15243932604789734,0.2776542603969574,0.34893178939819336,0.41107726097106934,0.459715873003006,0.500828742980957,0.551106333732605,0.5841766595840454,0.6071105599403381,0.624528169631958,0.6482939124107361,0.6621894240379333,0.6857050061225891,0.6992929577827454,0.7162927985191345,0.7244969606399536,0.7315230965614319,0.746411144733429,0.7533604502677917,0.7503818273544312,0.7638025879859924,0.7710392475128174,0.7748399972915649,0.7834534645080566,0.7802048325538635]},{\"type\":\"scatter\",\"line\":{\"shape\":\"linear\"},\"mode\":\"lines+markers\",\"name\":\"Eval on Training: Mean Accuracy\",\"x\":[200,440,728,1074,1489,1987,2585,3303,4165,5199,6440,7929,9716,11860,14433,17521,21227,25674,31010,37413,45097,54318,65383,78661,80000],\"y\":[0.22511999309062958,0.340939998626709,0.39747998118400574,0.4798799753189087,0.5057799816131592,0.5755000114440918,0.5852400064468384,0.64028000831604,0.6734600067138672,0.6835199594497681,0.6936799883842468,0.7342599630355835,0.7539799809455872,0.7425999641418457,0.7783199548721313,0.7737199664115906,0.8021399974822998,0.8102399706840515,0.8367799520492554,0.8335599899291992,0.8483399748802185,0.8618399500846863,0.8590399622917175,0.8588799834251404,0.85725998878479]},{\"type\":\"scatter\",\"line\":{\"shape\":\"linear\"},\"mode\":\"lines+markers\",\"name\":\"Eval on Validation: Mean Accuracy\",\"x\":[200,440,728,1074,1489,1987,2585,3303,4165,5199,6440,7929,9716,11860,14433,17521,21227,25674,31010,37413,45097,54318,65383,78661,80000],\"y\":[0.2353000044822693,0.3434000015258789,0.3993000090122223,0.47470003366470337,0.49890002608299255,0.5666000247001648,0.5826000571250916,0.6317000389099121,0.6532000303268433,0.6699000597000122,0.6780000329017639,0.7148000597953796,0.727400004863739,0.7135000228881836,0.7443000078201294,0.7442000508308411,0.7657000422477722,0.7682000398635864,0.7854000329971313,0.7847000360488892,0.7961000204086304,0.8030000329017639,0.7974000573158264,0.7979000210762024,0.7943000197410583]}],\"layout\":{\"legend\":{},\"title\":{\"text\":\"accuracy\"},\"xaxis\":{\"showgrid\":true,\"type\":\"log\"},\"yaxis\":{\"showgrid\":true,\"type\":\"log\"}}}');\n",
       "\tmodule.newPlot('3b8242c2', data);\n",
       "\n",
       "\t}\n",
       "\t\n",
       "    if (typeof requirejs === \"function\") {\n",
       "        // Use RequireJS to load module.\n",
       "\t\tlet srcWithoutExtension = src.substring(0, src.lastIndexOf(\".js\"));\n",
       "        requirejs.config({\n",
       "            paths: {\n",
       "                'plotly': srcWithoutExtension\n",
       "            }\n",
       "        });\n",
       "        require(['plotly'], function(plotly) {\n",
       "            runJSFn(plotly)\n",
       "        });\n",
       "        return\n",
       "    }\n",
       "\n",
       "\tvar currentScripts = document.head.getElementsByTagName(\"script\");\n",
       "\tfor (const idx in currentScripts) {\n",
       "\t\tlet script = currentScripts[idx];\n",
       "\t\tif (script.src == src) {\n",
       "\t\t\trunJSFn(null);\n",
       "\t\t\treturn;\n",
       "\t\t}\n",
       "\t}\n",
       "\n",
       "\tvar script = document.createElement(\"script\");\n",
       "\n",
       "\tscript.charset = \"utf-8\";\n",
       "\t\n",
       "\tscript.src = src;\n",
       "\tscript.onload = script.onreadystatechange = function () { runJSFn(null); };\n",
       "\tdocument.head.appendChild(script);\t\n",
       "})();\n",
       "</script>"
      ]
     },
     "metadata": {},
     "output_type": "display_data"
    },
    {
     "data": {
      "text/html": [
       "<p><b>Metric: loss</b></p>\n"
      ]
     },
     "metadata": {},
     "output_type": "display_data"
    },
    {
     "data": {
      "text/html": [
       "<div id=\"c890e07d\"></div>"
      ]
     },
     "metadata": {},
     "output_type": "display_data"
    },
    {
     "data": {
      "text/html": [
       "<script charset=\"UTF-8\">\n",
       "(() => {\n",
       "\tconst src=\"https://cdn.plot.ly/plotly-2.29.1.min.js\";\n",
       "\tvar runJSFn = function(module) {\n",
       "\t\t\n",
       "\tif (!module) {\n",
       "\t\tmodule = window.Plotly;\n",
       "\t}\n",
       "\tlet data = JSON.parse('{\"data\":[{\"type\":\"scatter\",\"line\":{\"shape\":\"linear\"},\"mode\":\"lines+markers\",\"name\":\"Train: Batch Loss+Regularization\",\"x\":[200,440,728,1074,1489,1987,2585,3303,4165,5199,6440,7929,9716,11860,14433,17521,21227,25674,31010,37413,45097,54318,65383,78661,80000],\"y\":[2.0202789306640625,1.7790814638137817,1.6668837070465088,1.6305646896362305,1.5942847728729248,1.3887317180633545,1.3860268592834473,1.1802990436553955,0.8584315180778503,1.0597381591796875,0.9137109518051147,0.8297150135040283,0.8783857822418213,0.9519282579421997,0.8586916923522949,0.6875450611114502,0.6659837365150452,0.6250624656677246,0.672073483467102,0.5609300136566162,0.5086543560028076,0.7611929774284363,0.720508337020874,0.5001338124275208,0.58724445104599]},{\"type\":\"scatter\",\"line\":{\"shape\":\"linear\"},\"mode\":\"lines+markers\",\"name\":\"Train: Moving Average Loss+Regularization\",\"x\":[200,440,728,1074,1489,1987,2585,3303,4165,5199,6440,7929,9716,11860,14433,17521,21227,25674,31010,37413,45097,54318,65383,78661,80000],\"y\":[2.20902419090271,1.9354301691055298,1.734557867050171,1.5906543731689453,1.4762113094329834,1.3651390075683594,1.248125433921814,1.1596888303756714,1.098166823387146,1.0628082752227783,1.0021710395812988,0.963711142539978,0.9029004573822021,0.8811939358711243,0.8299379348754883,0.7889918088912964,0.7779361009597778,0.735794186592102,0.7117984294891357,0.726319432258606,0.6809150576591492,0.6665590405464172,0.6524621844291687,0.6342296600341797,0.6438960433006287]},{\"type\":\"scatter\",\"line\":{\"shape\":\"linear\"},\"mode\":\"lines+markers\",\"name\":\"Train: Moving Average Loss\",\"x\":[200,440,728,1074,1489,1987,2585,3303,4165,5199,6440,7929,9716,11860,14433,17521,21227,25674,31010,37413,45097,54318,65383,78661,80000],\"y\":[2.20902419090271,1.9354301691055298,1.734557867050171,1.5906543731689453,1.4762113094329834,1.3651390075683594,1.248125433921814,1.1596888303756714,1.098166823387146,1.0628082752227783,1.0021710395812988,0.963711142539978,0.9029004573822021,0.8811939358711243,0.8299379348754883,0.7889918088912964,0.7779361009597778,0.735794186592102,0.7117984294891357,0.726319432258606,0.6809150576591492,0.6665590405464172,0.6524621844291687,0.6342296600341797,0.6438960433006287]},{\"type\":\"scatter\",\"line\":{\"shape\":\"linear\"},\"mode\":\"lines+markers\",\"name\":\"Eval on Training: Mean Loss+Regularization\",\"x\":[200,440,728,1074,1489,1987,2585,3303,4165,5199,6440,7929,9716,11860,14433,17521,21227,25674,31010,37413,45097,54318,65383,78661,80000],\"y\":[2.0434961318969727,1.7560439109802246,1.5831029415130615,1.400545597076416,1.3414931297302246,1.1879414319992065,1.1234880685806274,0.9919386506080627,0.9111403822898865,0.8818319439888,0.8495468497276306,0.7440476417541504,0.6809824109077454,0.7151827216148376,0.6206442713737488,0.6231269240379333,0.5575653910636902,0.5236607193946838,0.4654324948787689,0.47977685928344727,0.43979156017303467,0.3934444487094879,0.40044480562210083,0.40302470326423645,0.3972336947917938]},{\"type\":\"scatter\",\"line\":{\"shape\":\"linear\"},\"mode\":\"lines+markers\",\"name\":\"Eval on Training: Mean Loss\",\"x\":[200,440,728,1074,1489,1987,2585,3303,4165,5199,6440,7929,9716,11860,14433,17521,21227,25674,31010,37413,45097,54318,65383,78661,80000],\"y\":[2.0434961318969727,1.7560439109802246,1.5831029415130615,1.400545597076416,1.3414931297302246,1.1879414319992065,1.1234880685806274,0.9919386506080627,0.9111403822898865,0.8818319439888,0.8495468497276306,0.7440476417541504,0.6809824109077454,0.7151827216148376,0.6206442713737488,0.6231269240379333,0.5575653910636902,0.5236607193946838,0.4654324948787689,0.47977685928344727,0.43979156017303467,0.3934444487094879,0.40044480562210083,0.40302470326423645,0.3972336947917938]},{\"type\":\"scatter\",\"line\":{\"shape\":\"linear\"},\"mode\":\"lines+markers\",\"name\":\"Eval on Validation: Mean Loss+Regularization\",\"x\":[200,440,728,1074,1489,1987,2585,3303,4165,5199,6440,7929,9716,11860,14433,17521,21227,25674,31010,37413,45097,54318,65383,78661,80000],\"y\":[2.037555456161499,1.745794415473938,1.5777045488357544,1.4062451124191284,1.3524755239486694,1.2075130939483643,1.1475456953048706,1.0271437168121338,0.9607899188995361,0.9345771074295044,0.9176924228668213,0.827567994594574,0.7766392230987549,0.8172968029975891,0.7321341633796692,0.7475582361221313,0.692916214466095,0.6754170656204224,0.638224720954895,0.632870614528656,0.6127719283103943,0.5957725644111633,0.6017034649848938,0.605726957321167,0.604444682598114]},{\"type\":\"scatter\",\"line\":{\"shape\":\"linear\"},\"mode\":\"lines+markers\",\"name\":\"Eval on Validation: Mean Loss\",\"x\":[200,440,728,1074,1489,1987,2585,3303,4165,5199,6440,7929,9716,11860,14433,17521,21227,25674,31010,37413,45097,54318,65383,78661,80000],\"y\":[2.037555456161499,1.745794415473938,1.5777045488357544,1.4062451124191284,1.3524755239486694,1.2075130939483643,1.1475456953048706,1.0271437168121338,0.9607899188995361,0.9345771074295044,0.9176924228668213,0.827567994594574,0.7766392230987549,0.8172968029975891,0.7321341633796692,0.7475582361221313,0.692916214466095,0.6754170656204224,0.638224720954895,0.632870614528656,0.6127719283103943,0.5957725644111633,0.6017034649848938,0.605726957321167,0.604444682598114]}],\"layout\":{\"legend\":{},\"title\":{\"text\":\"loss\"},\"xaxis\":{\"showgrid\":true,\"type\":\"log\"},\"yaxis\":{\"showgrid\":true,\"type\":\"log\"}}}');\n",
       "\tmodule.newPlot('c890e07d', data);\n",
       "\n",
       "\t}\n",
       "\t\n",
       "    if (typeof requirejs === \"function\") {\n",
       "        // Use RequireJS to load module.\n",
       "\t\tlet srcWithoutExtension = src.substring(0, src.lastIndexOf(\".js\"));\n",
       "        requirejs.config({\n",
       "            paths: {\n",
       "                'plotly': srcWithoutExtension\n",
       "            }\n",
       "        });\n",
       "        require(['plotly'], function(plotly) {\n",
       "            runJSFn(plotly)\n",
       "        });\n",
       "        return\n",
       "    }\n",
       "\n",
       "\tvar currentScripts = document.head.getElementsByTagName(\"script\");\n",
       "\tfor (const idx in currentScripts) {\n",
       "\t\tlet script = currentScripts[idx];\n",
       "\t\tif (script.src == src) {\n",
       "\t\t\trunJSFn(null);\n",
       "\t\t\treturn;\n",
       "\t\t}\n",
       "\t}\n",
       "\n",
       "\tvar script = document.createElement(\"script\");\n",
       "\n",
       "\tscript.charset = \"utf-8\";\n",
       "\t\n",
       "\tscript.src = src;\n",
       "\tscript.onload = script.onreadystatechange = function () { runJSFn(null); };\n",
       "\tdocument.head.appendChild(script);\t\n",
       "})();\n",
       "</script>"
      ]
     },
     "metadata": {},
     "output_type": "display_data"
    },
    {
     "name": "stdout",
     "output_type": "stream",
     "text": [
      "\t[Step 80000] median train step: 1011 microseconds\n",
      "\n",
      "Results on Validation:\n",
      "\tMean Loss+Regularization (#loss+): 0.604\n",
      "\tMean Loss (#loss): 0.604\n",
      "\tMean Accuracy (#acc): 79.43%\n",
      "Results on Training:\n",
      "\tMean Loss+Regularization (#loss+): 0.397\n",
      "\tMean Loss (#loss): 0.397\n",
      "\tMean Accuracy (#acc): 85.73%\n"
     ]
    }
   ],
   "source": [
    "%% --checkpoint=base_cnn_model --set=\"model=cnn;learning_rate=1e-3;l2_regularization=0;l1_regularization=0;train_steps=80000\"\n",
    "trainModel()"
   ]
  },
  {
   "cell_type": "markdown",
   "id": "924fd269-625f-4f16-852c-9796f6b34630",
   "metadata": {},
   "source": [
    "## Inference\n",
    "\n",
    "Inference, or serving the model, is done by using the same code as used to train the model.\n",
    "That is, currently the way to save the model is to export the Go model creation function, along with the checkpoint with learned weights.\n",
    "\n",
    "We created a small library `cifar/classifier` that takes an image as input, convert it to a tensor and calls the trained model\n"
   ]
  },
  {
   "cell_type": "code",
   "execution_count": 13,
   "id": "f6db808a-dde2-4676-b1f4-f4b651c405f4",
   "metadata": {},
   "outputs": [
    {
     "data": {
      "text/html": [
       "<p>Image: (32 x 32)</p>"
      ]
     },
     "metadata": {},
     "output_type": "display_data"
    },
    {
     "data": {
      "image/png": "[encoded data removed]"
     },
     "metadata": {},
     "output_type": "display_data"
    },
    {
     "data": {
      "text/html": [
       "<p>Class: <b>horse (7)</b></p>"
      ]
     },
     "metadata": {},
     "output_type": "display_data"
    }
   ],
   "source": [
    "import (\n",
    "    \"encoding/base64\"\n",
    "    \"image/png\"\n",
    "    \n",
    "    \"github.com/gomlx/gomlx/examples/cifar/classifier\"\n",
    "    // We also must import then engine that will execute the model.\n",
    "    // Currently only XLA is supported.\n",
    "    _ \"github.com/gomlx/gomlx/backends/default\"\n",
    ")\n",
    "\n",
    "%%\n",
    "// Decode and print PNG image.\n",
    "imgBase64 := bytes.NewBufferString(\n",
    "    \"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\")\n",
    "imgPNG := must.M1(io.ReadAll(base64.NewDecoder(base64.StdEncoding, imgBase64)))\n",
    "img := must.M1(png.Decode(bytes.NewBuffer(imgPNG)))\n",
    "size := img.Bounds()\n",
    "gonbui.DisplayHTML(fmt.Sprintf(\"<p>Image: (%d x %d)</p>\", size.Dx(), size.Dy()))\n",
    "gonbui.DisplayPNG(imgPNG)\n",
    "\n",
    "// Classify:\n",
    "c10Classifier := must.M1(classifier.New(\"~/work/cifar/base_fnn_model\"))\n",
    "classID := must.M1(c10Classifier.Classify(img))\n",
    "className := cifar.C10Labels[classID]\n",
    "gonbui.DisplayHTML(fmt.Sprintf(\"<p>Class: <b>%s (%d)</b></p>\", className, classID))"
   ]
  },
  {
   "cell_type": "markdown",
   "id": "df79459f-9aca-4f52-b244-0b6109a69b9d",
   "metadata": {},
   "source": [
    "### Generate a random image as base64"
   ]
  },
  {
   "cell_type": "code",
   "execution_count": 16,
   "id": "898eaefe-5934-473e-a47c-6f01bfb81df0",
   "metadata": {},
   "outputs": [
    {
     "data": {
      "text/html": [
       "<img width=\"64\" height=\"64\" src=\"data:image/png;base64,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\"/>"
      ]
     },
     "metadata": {},
     "output_type": "display_data"
    }
   ],
   "source": [
    "// \n",
    "%%\n",
    "backend := backends.MustNew()\n",
    "ds := cifar.NewDataset(backend, \"Samples Cifar-10\", *flagDataDir, cifar.C10, DType, cifar.Train).Shuffle()\n",
    "_, inputs, _ := must.M3(ds.Yield())\n",
    "imgTensor := inputs[0]\n",
    "img := images.ToImage().Single(imgTensor)\n",
    "imgSrc := must.M1(gonbui.EmbedImageAsPNGSrc(img))\n",
    "// imgBase64 := imgSrc[22:]  // Strip the preamble for a <img> src tag.\n",
    "// fmt.Printf(\"%s\\n\\n\", imgBase64)\n",
    "size := imgTensor.Shape().Dimensions[0]\n",
    "gonbui.DisplayHTML(fmt.Sprintf(`<img width=\"%d\" height=\"%d\" src=\"%s\"/>`, size*2, size*2, imgSrc))"
   ]
  }
 ],
 "metadata": {
  "kernelspec": {
   "display_name": "Go (gonb)",
   "language": "go",
   "name": "gonb"
  },
  "language_info": {
   "codemirror_mode": "",
   "file_extension": ".go",
   "mimetype": "text/x-go",
   "name": "go",
   "nbconvert_exporter": "",
   "pygments_lexer": "",
   "version": "go1.24.2"
  }
 },
 "nbformat": 4,
 "nbformat_minor": 5
}
