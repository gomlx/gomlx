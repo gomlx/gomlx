{
 "cells": [
  {
   "cell_type": "markdown",
   "id": "f431da81-4d94-4fd1-8a51-952ef824cb46",
   "metadata": {},
   "source": [
    "# Cifar Library and Demo\n",
    "\n",
    "[This is a library](https://pkg.go.dev/github.com/gomlx/gomlx/examples/cifar) to download and parse the Cifar datasets (Cifar-10 and Cifar-100), and a very small demo of a FNN (Feedforward Neural Network) with GoMLX. FNNs are notoriously bad for images, but it's only a demo. Look for the Resnet50 model for a more serious image classification model (old but still good -- best results as of the time of this writing is with ViT model).\n",
    "\n",
    "The CIFAR-10 and CIFAR-100 are labeled subsets of the 80 million tiny images dataset. They were collected by Alex Krizhevsky, Vinod Nair, and Geoffrey Hinton. See more details in [its homepage here](https://www.cs.toronto.edu/~kriz/cifar.html).\n",
    "\n",
    "This notebook serves as documentation and example for the [github.com/gomlx/gomlx/examples/cifar](https://github.com/gomlx/gomlx/examples/cifar) library, and the demo code in one piece can be seen in [.../examples/cifar/demo/](https://github.com/gomlx/gomlx/tree/main/examples/cifar/demo)"
   ]
  },
  {
   "cell_type": "markdown",
   "id": "bd398a51-c10a-4d05-91f7-f978856a8d8b",
   "metadata": {},
   "source": [
    "## Environment Set Up\n",
    "\n",
    "Let's set up `go.mod` to use the local copy of GoMLX, so it can be developed jointly the dataset code with the model. That's often how data pre-processing and model code is developed together with experimentation.\n",
    "\n",
    "If you are not changing code, feel free to simply skip this cell. Or if you used a different directory for you projects, change it below.\n",
    "\n",
    "Notice the directory `${HOME}/Projects/gomlx` is where the GoMLX code is copied by default in [its Docker](https://hub.docker.com/repository/docker/janpfeifer/gomlx_jupyterlab/general)."
   ]
  },
  {
   "cell_type": "code",
   "execution_count": 1,
   "id": "22abc207-e8b0-44ef-840d-fee3550cffca",
   "metadata": {
    "tags": []
   },
   "outputs": [
    {
     "name": "stdout",
     "output_type": "stream",
     "text": [
      "\t- Added replace rule for module \"github.com/gomlx/gomlx\" to local directory \"/home/janpf/Projects/gomlx\".\n"
     ]
    }
   ],
   "source": [
    "!*rm -f go.work && go work init && go work use . \"${HOME}/Projects/gomlx\"\n",
    "%goworkfix"
   ]
  },
  {
   "cell_type": "markdown",
   "id": "443e9e56-ef12-4d04-b7bb-99478fa2b662",
   "metadata": {},
   "source": [
    "## Data Preparation\n",
    "\n",
    "### Downloading data files\n",
    "\n",
    "To download, uncompress and untar to the local directory, simply do the following. Notice if it's already downloaded in the given `--data` directory, it returns immediately."
   ]
  },
  {
   "cell_type": "code",
   "execution_count": 2,
   "id": "a61fdd1a-74a0-46f2-9cfc-f79bfa37e298",
   "metadata": {
    "tags": []
   },
   "outputs": [],
   "source": [
    "import (\n",
    "    \"github.com/gomlx/gomlx/examples/cifar\"\n",
    "    \"github.com/gomlx/gomlx/pkg/support/fsutil\"\n",
    "    \"github.com/janpfeifer/must\"\n",
    ")\n",
    "\n",
    "var flagDataDir = flag.String(\"data\", \"~/work/cifar\", \"Directory to cache downloaded and generated dataset files.\")\n",
    "\n",
    "func AssertDownloaded() {\n",
    "    *flagDataDir = must.M1(fsutil.ReplaceTildeInDir(*flagDataDir))\n",
    "    if !fsutil.MustFileExists(*flagDataDir) {\n",
    "        must.M(os.MkdirAll(*flagDataDir, 0777))\n",
    "    }\n",
    "\n",
    "    must.M(cifar.DownloadCifar10(*flagDataDir))\n",
    "    must.M(cifar.DownloadCifar100(*flagDataDir))\n",
    "}\n",
    "\n",
    "%%\n",
    "AssertDownloaded()"
   ]
  },
  {
   "cell_type": "code",
   "execution_count": 3,
   "id": "345076ef-e2a3-4405-b47d-801c9ec62b91",
   "metadata": {
    "tags": []
   },
   "outputs": [
    {
     "name": "stdout",
     "output_type": "stream",
     "text": [
      "total 48K\n",
      "drwxr-x--- 2 janpf janpf 4.0K Oct 10 17:53 base_cnn_model\n",
      "drwxr-x--- 2 janpf janpf 4.0K Oct 10 17:52 base_fnn_model\n",
      "drwxr-x--- 2 janpf janpf 4.0K Nov 12  2024 base_kan_model\n",
      "drwxr-xr-x 2 janpf janpf 4.0K Jun  4  2009 cifar-10-batches-bin\n",
      "drwxr-xr-x 2 janpf janpf 4.0K Feb 20  2010 cifar-100-binary\n",
      "drwxr-x--- 2 janpf janpf 4.0K Aug  2  2024 cnn\n",
      "drwxr-x--- 2 janpf janpf 4.0K Aug  1  2024 cnn_layer\n",
      "drwxr-x--- 2 janpf janpf 4.0K Jul 31  2024 cnn_nonorm\n",
      "drwxr-x--- 2 janpf janpf 4.0K Jul 31  2024 fnn_batchnorm_0\n",
      "drwxr-x--- 2 janpf janpf 4.0K Aug  1  2024 fnn_layer\n",
      "drwxr-x--- 2 janpf janpf 4.0K Nov 12  2024 kan\n",
      "drwxr-x--- 2 janpf janpf 4.0K Nov 12  2024 r001\n"
     ]
    }
   ],
   "source": [
    "!ls -lh ~/work/cifar/"
   ]
  },
  {
   "cell_type": "markdown",
   "id": "93d4ae39-915c-478c-887f-b1c8c080865b",
   "metadata": {},
   "source": [
    "### Sample some images\n",
    "\n",
    "The `cifar.NewDataset` creates a `data.InMemoryDataset` that can be used both for training, evaluation, or just to sample a few examples, which we do below:"
   ]
  },
  {
   "cell_type": "code",
   "execution_count": 4,
   "id": "0dabc63a-b918-4065-9b23-0c5a22446458",
   "metadata": {
    "tags": []
   },
   "outputs": [
    {
     "data": {
      "text/html": [
       "<p>Samples Cifar-10</p>\n"
      ]
     },
     "metadata": {},
     "output_type": "display_data"
    },
    {
     "data": {
      "text/html": [
       "<table><tr>\n",
       "<td><figure style=\"padding:4px;text-align: center;\"><img width=\"64\" height=\"64\" src=\"data:image/png;base64,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\"><figcaption style=\"text-align: center;\">truck ([9])</figcaption></figure></td>\n",
       "<td><figure style=\"padding:4px;text-align: center;\"><img width=\"64\" height=\"64\" src=\"data:image/png;base64,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\"><figcaption style=\"text-align: center;\">frog ([6])</figcaption></figure></td>\n",
       "<td><figure style=\"padding:4px;text-align: center;\"><img width=\"64\" height=\"64\" src=\"data:image/png;base64,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\"><figcaption style=\"text-align: center;\">horse ([7])</figcaption></figure></td>\n",
       "<td><figure style=\"padding:4px;text-align: center;\"><img width=\"64\" height=\"64\" src=\"data:image/png;base64,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\"><figcaption style=\"text-align: center;\">truck ([9])</figcaption></figure></td>\n",
       "<td><figure style=\"padding:4px;text-align: center;\"><img width=\"64\" height=\"64\" src=\"data:image/png;base64,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\"><figcaption style=\"text-align: center;\">dog ([5])</figcaption></figure></td>\n",
       "<td><figure style=\"padding:4px;text-align: center;\"><img width=\"64\" height=\"64\" src=\"data:image/png;base64,iVBORw0KGgoAAAANSUhEUgAAACAAAAAgCAIAAAD8GO2jAAAHoUlEQVR4nLRW229cV/Xea1/OPufMjMcztpM0thPHdpykN/1a9aeCWmjVVgVUgQSUtlJV8V8BEq/wwAOCUpWrKKBAUgJt06SXpE7TJI4vGY/t8Zwz57Iva6EzEyVWkra8sOSH47P3nG/tb+21vk8SEftfhvTeCyG+GGa0CsAAgDEYvUTE4b93brsVAOC9l6NNd2y9IwCIMUDy3W43SVJCDKN4oj0ZBAEM454ANAz5pYkTsZ3dfrezceGDdz84995uv7+92282my9+9/uPP/F1AjU8G2N0Z5YA8F8C0Ha3+96Zt8/8/c+rVy/pSMdjTemDtWuXikceiRsTyAjYvWkAgC8CuMkeY5Ot+qOPPNweC699tjxIe4RWBlrKm79FqvZAlQ2wu5j+cgAG0JqYak3uXzjxkLVlZ/3qW797fbvbmZqaCsPIIzLGR+Tfs473Aqioodul885a4xkgcB3WgnjMCzU+ue/I4hKXynkEzu9O/HMBhpVHDkSIxSDprK4mvR2hSEgluAqjaHXtatLbWFg4FteaaJ2UigHh8AD3hJF7P13VHSpGjSkvnD+3fvUK5YVWkivnye/2UmKU5X3M++nO1jv/fHty34H2xGSzPVEfGwcu6K6LVMF67znnozs7JMTeWFs5d/bdtZVrriwAfZ6lg3w3SdIit9PT00JRafp57vNC1MfGlQ4PHJw5fuL+peMnWhP7aFi5WzBVMzrvBeeIWJGCuLL8yT/++IeV61d1HBo0SZ6WpnDGDdKcCI4dO1aUKVKZ7iY73SSK61wGQgVxrT43P//Vrz29ePT43u7z6GV1Caou8Zyzna3u6VMnL3+2rKPQeVeUJTAR6nrJjA5BSiEUL/oFAKZZ2UtTUEGzFhP57e6N9fWVXn/rBy+/NntoAZG4FMMeRckIgTEBzJri8qWLq9evIqNBnu3s7NzY3GQcdBSiR6lkVD3YIFCI3hiTDjIV6MKUHHi9Xo9C3dve6mysHpo9LERAVdIV55JX53Db3c6Z06fe+deZnW63SNJ0kPbTNMtzBMIdElxwIYJAHjx4II4ja0290eC8W8Gk6ah4rVY77aUn//oWEM4tLI63J6XUQCDzLD3//tlTJ/92+dJykQ2cMWkvyYsChzfWeecRS1+Wxhw6NDPWHDO2KI2ZmZ4xJa6srAwGAyISQnjnIx1/dO7cxQvnjywuvPTKa/PzDxCCeOH5p3/zq1+urqxYY/r9fj9J+0mC3mjFnS2zPC9K6z1GWj14YikO5Y31tTQdINLs9ExZFJ0bG6YoGKEaTg4huCmyzY2N/Qem5xeWGAixND994aMPvffW2a3t7X6aVBkBBhKAobHOenLOt8ebC3Oztkj7/d0kzcrCBFJOttt5NijLQgrhvTPOondacvLIuTw8vzjWHJcr1671k6QsS+99kiQekTOmamE1CGWlFoieGGu320EQpEnirMvz3Hnc2ursm9p3dGleKdjt9wHAmDwtBgJjrcNuZ2Nrc2Nmdo5rrYui2NzspkM2XRUeETnnOGw+IUS9Xm80GtVEGh7UI1prSpMNBrtay7kjhxqNKAhELdSBBG8K5k3W7213NgidHG9PplmKaAQoRqSlCgJFxLK88JUoMil4LQw5gDUuCKJAai0948x5l+YDAtBBEIaxMYmSTKBg3npnt7e6q9evW2v5U89+49CROSTDsKwFqlWLw0AwYIV1xqFSSktQzNl8kGWZdRjHcSMKQsUFB2esLU0+KCQEkinmPSMvpbDWEYggrgMX4sc/+dFYo/7pJ8vMO60EA/RExljBuZQyqLLTWgtd3WknFQs0l5IUZyGHSHJy1paFd6bIBwACuPAePcHhxWPPfevb+++blVLo5559oVVv/uJnP12+eNY7bww455RSnPOR7ACDoqgKAIzV6lEFKhSzWJRlmhdZabd6PaG0VoKs5yB0HD/6/48vHD3OgIMtrRSCfPnx+bfffOPnp0+d3ljvEYNABUII4JxzwQl0oMMwIOaBszAMODFvrScwiJ1er58XYRTVhAoAWuPNZ5//5ndeerW1f4aISxBQTSII7n/0ybGpman7fv2X37++tnod0QnOql42iExyAMaJS16U5VayG2nNCYDzvLR5bgQIQTzgotloPPP8Cy+++sPmxH5PvFLGvXoAwPNs950zJ3/7xuvXLl8a7G6ZIjV5xkFIpaRSTAjrvfNVME8q0CDkICsIeK3emGpPPf6VJ7738ivTRxa9YyBkpQcjgL1ajERJb/vK8sfXryzvbK5fuXSxs3ZZcDbenur100FWcKkAZBzFKtBC6bjesB4PTs8+9H+P3f/gw83xFgM+/AP0fi/ATRBEFByGHoHQ2jJPz//7Txc+PDs9M1dadnju6FhrItC1MIorSwEiqtW9p7hW50IgDaWXjawmeY+ShmP7tumrdJUPp0O1QkxEYxPHH36y09ncvLG6/8D80gOPyVrTs5Flu63Ansgh8j2COXwgieT5UB1GM4eDGPqDao0PsyBbhrrRak19+vHZWjThHUH1LQfs5rlHBPDbzu5WtpWlld4MuFJEVLU15yIIudDsliUq8iLLyKPSIano/Q8uevXmE8881Z6aECJkn+OHbr2VUv4nAAD//8rPuI03TsBDAAAAAElFTkSuQmCC\"><figcaption style=\"text-align: center;\">bird ([2])</figcaption></figure></td>\n",
       "<td><figure style=\"padding:4px;text-align: center;\"><img width=\"64\" height=\"64\" src=\"data:image/png;base64,iVBORw0KGgoAAAANSUhEUgAAACAAAAAgCAIAAAD8GO2jAAAJ3klEQVR4nCTVWW9kZ14G8Hc/71lrL7uqbMfubi/pqJPRqAkTIIERS4IACSTmii+A+DLcIr4BXMDFCNAwIA3DovR0hoR0u9Nd7fZadtlVdarqrO9Z3gUZng/wl/4Xz/MjP/v7vxJF2uu1MUIYIiCVKiopteV6RZ6auvA8V+RZmcwX4W1cyiypXcd5/PhguZzrChiNZ+G8UNVod7vbby6nZ1SDptsQOlnFiYYYWYRCZVQtjcEaMDvoOO0+cTytNWUMQiQK4TUDx/fDdbKxsdVr9x/t7pdZBRVqBEHguw3Pl1l1/N//U+TJ5s5WBaTtsnxVNO2OSwJCEW76ATZAxAml3ChJGNPQAKkYwYZgQjGzWRSqbn/gBh0EWFHny/UCY7DKVrbtIUY4dw1QWZJh28KOP5lOhdDcteqqJFBrirHFqMxEtAyxbTmBJyVABlnUwZhIJcPVsqiqdnujqDTx6dXViRCp0tXGcJTVlVbIMKtpdW4u787m8c6wF7g4DMPp2wuACUmTnNuUUuzYjCC3Umo1v2222o7japVVVeI4zjzKalm5niOFLGRcgNTteNzittd7/m9fFknyYOuR1vD2diZtV2XFoMkdz02yzHU5yfMSYgCRgUBRy7IISdI0WoaCraBRLd/mFNjUqmp1NjlhvMt88N7Dw8DvzGfRs2evj1+Of+OTDwirbq8Wo97Acv20ju3AX1zfSbF8b39EpK4xcctaQqDKSnsu9YPWOopOTycOZwQwCOuiyipZYosQyvcffvjq1fE6XD9//twP0B/98Q8eHx2Gd2ukIVS4VnI4GEhZKkq7m12MShJnMbUZxrjV8CEwaS5kbSzubwz2OMWUWXkhizq7mU26/e0kzabT2zfj14RVox1+9P4jipgQSFRWXsPxyRvPbew8+MH1PGRB0Gtajg0JtoiGsK6U0jhNYoQQwtwYyWzkcGZZdBFO42IlQbVYh0nEKIePDjrh6trxiGPTcFZG66zR2fjoVzdFJqZX06vJhNn48OhxGc9Oz0/IKlphYjlOkGQiy0pmMVkXUtecU0TRMlq9efuat+Th0aHS/OamajSDOClsO+h3OzeTSau1SbnvtnCZxZZrUc4IwUcH+xcnZ7Pri9ndLapLkMQ50CBaJ8aALE3zPEUIkPuG2JPpbBre5am+fBXl0aysr8fvTgzh3cHWu5MzLclsESpQ5WF88ebSwHrQdz/88PFkGi5mdxZvdDsj1G5uaAmlNABArY3tcG4zx+YI4vF4PF/efPzJk163N/7u7O7mptm2ap1Sh1S6Lov6+MWJZbnGqIu3F22v/WB3hyD17t27Z8++6nW7nut3Wk3UbvcdJ6hK5Xm+ZVmcc8aYkspINb0+azXJ06dHQZu7HdraGClpHj7aJLTOsux6svr663HQ8BsNb7jVbbW9PBPnV3cvXoyTKOGeL6uiLgUpigxhUNeFlBRAUJal0rIUQhbV3u5OrRcXZ6e7exsG65u7GOGq1cfz9fKbb16H4epXnj6FgN3/bdvL+WIxD+erfLBhHzzqKGVEEpV5gqJkliTzdTy7ujoH5j5amzxLlSwxwDeX81/817HIl3YLhVGxmMcWZbbNe/3O3sPhaLiVJeb45bvX351STNarOMllFGe+61m2HbjcIogU96siMcZVWa7WYasVMEo4ZxbGCJPBcNjZdN5dXUkGGy3LZvT6dlnUut9pRaUej984Tc933bvFbLmKq1oZg7ygMRhsaikRwZBgxIjlu1633XJcsghvTs/G4XJucS61CePF3uMh8sswk0WhRyPa7uLx28n15axp2+v59P0nA8RiBLJO17uZ3UVJYmG8t7fb7neIqYXWxAtII2jVqshzUZY151wIUZaVUSpJVqmI6GVe6NXmsEcQWs5uHe4+3t0lGH791YvlKnvAGADGcXi0CO8LJMHW1qjVatmOs14aSi2v7SMAkFawLCQwkBLWanbKoo7TSMJ0YyuYTC+zXDQb1nJ+e31xW2fGJ/Dq3bgsc2w3f/yPz5NY9bojm3vTm2W4yIfDAUIgTXJGea+3qaQhCFFGDe9YEMKiEJTSMFxDnBx91BNV3EbOg/2D2fQSarO3u0sM+aef/ixK09F7u+PXd199+XbUH1yeTOc3IUaO0aTb63a6bVlWda201vN5SCDExoC6VhACpYxlkUbQ1KQCNOq0WW975/L8KpyFw42NWqhvXnxjbDwaPHg7vru8SD568tRzNmWZOnYniUrH9jvtdrRelaLGUN2DGjRIVUutkVK4ruI8S0qRx/GqMQK06e092L4YX9KSXLxK05m6vrpezJe/9flvH3ywJ7P/lHHnz370o+n1a4KduipfrMbD0ZBzdxmGGJFOq5lkWSUVkapCGPV7/XiljKxs7gAtfNfutR58+8vx1clkcr54+ert4dFgnWa//tnv+bQXEPsv/vwPv3w2Xs2+67WbGKEXL18qVW5vbxLCGLMpxvNwnYvQAIX/9A8+LSthTI2ARgb5flPqSql4ejM+O/92Z7/18PH2o8ODdq8nCrRY1D/58b9blvrex7ur+Oon//BlO9i1HX/85rTb23jy4RPX5nmWlmVZFPk95zonUbSmjCVJ7FCW56VWSVnXtxeT4ba9v/sQYXh6fvvd18nrV5OL80XDa//up0+7nc2f/+vZP//0xSpE3HXXSdYfjJ48+cDzvLIS6v+ijZR1gRAkhDjAQAiw1qgRtAhhJq9Exld3G+dn89lq+fP/+CpZicDvfPrxZ5/95ve3Bu756enf/O2/VNL+/S++2N7bOT4+3n9/v9VtlSI3UnLODSMGCkr9NBGkEXSllFmWOYzZjmdZPMmWaS7W8TllyIbe94++l8RZoxl89skHWwP2y+e/uL6ZM4t+/sUPDw736iq3OakrkWUx0FpWBSNYaY0xrMra9/rw7/76L5XSlNI0jS2LIYTSNJnPZstw4dkcGNXwfcKINsYAWcuyrslqHfc3O8PhJoG4KkrKGKNUGgUxzLMMAFBXhU1NWdSbG9tE3a9CQggpijwvMkpoq9XqdDrTyTWGAEOFoNHQpGm6jtYH+4fcbYXhUqpiuVwBpZtBoxAizzJEkYEGAGDbNrestudFUYQwwH/y+Q+Loqhr6bg2MEYpJaXECEForq/OhUggMBZ3pNKccaVNUUhCCaFYiBwh6HheuFyG4RJAgDCS9zQaSphF7LIQUpX4d37tKYRQay1Ero1WSiGEhMi0KoVIRZ4YoxuNtuf6uSjyTPT6GwYAKas0jSspGecWt4qqTNIUIUgprcqKEAKNwRgxRomUCkINALA4hxD8vzl1XWfpqqoLSjHnlhBlVWnX8SAs8jzPhajq3BhTVNU8nHe73Xa3m6UxAqaq7q87DidAYkwJsf43AAD//+BjChf3EVhTAAAAAElFTkSuQmCC\"><figcaption style=\"text-align: center;\">frog ([6])</figcaption></figure></td>\n",
       "<td><figure style=\"padding:4px;text-align: center;\"><img width=\"64\" height=\"64\" src=\"data:image/png;base64,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\"><figcaption style=\"text-align: center;\">automobile ([1])</figcaption></figure></td>\n",
       "</tr></table>\n"
      ]
     },
     "metadata": {},
     "output_type": "display_data"
    },
    {
     "data": {
      "text/html": [
       "<p>Samples Cifar-100</p>\n"
      ]
     },
     "metadata": {},
     "output_type": "display_data"
    },
    {
     "data": {
      "text/html": [
       "<table><tr>\n",
       "<td><figure style=\"padding:4px;text-align: center;\"><img width=\"64\" height=\"64\" src=\"data:image/png;base64,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\"><figcaption style=\"text-align: center;\">spider ([79])</figcaption></figure></td>\n",
       "<td><figure style=\"padding:4px;text-align: center;\"><img width=\"64\" height=\"64\" src=\"data:image/png;base64,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\"><figcaption style=\"text-align: center;\">lobster ([45])</figcaption></figure></td>\n",
       "<td><figure style=\"padding:4px;text-align: center;\"><img width=\"64\" height=\"64\" src=\"data:image/png;base64,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\"><figcaption style=\"text-align: center;\">hamster ([36])</figcaption></figure></td>\n",
       "<td><figure style=\"padding:4px;text-align: center;\"><img width=\"64\" height=\"64\" src=\"data:image/png;base64,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\"><figcaption style=\"text-align: center;\">trout ([91])</figcaption></figure></td>\n",
       "<td><figure style=\"padding:4px;text-align: center;\"><img width=\"64\" height=\"64\" src=\"data:image/png;base64,iVBORw0KGgoAAAANSUhEUgAAACAAAAAgCAIAAAD8GO2jAAAHkUlEQVR4nCRWyY4dx3KNKTOr6k7dTbEpmrRAyAMEy4AAL7Twwh/jH/LSf2Qb3hnw1n54EClOYg+371CVmRHxELdjV903Y45zjvzrv/8bEokIESEhMSOiu+PFAI2QAMg9/omITAQO5oYADmgIZqaqpqbawRwBulpX7w7qIMJEiAQe7wARPL6BAJGZVA3ACYGEEBnNmRDczfE5gAMpAoIrOiA5KCE6kpGzubtLlkiZno0JmQDQ3ViYiRTi81JLeMGI64BADhAB4LlWYmKE7uCIGtbcQFJCcxGOyjkKiQ4A4eUpcYQjCleOgH7J/dKfZ4OLNzSPF07Y1NH6PM8OwMTM5OEPJTGKSPzUNElCpkgqslMCT1nc3TTyJEahiB9/eR4SoClq09N8qstCxNfbrSH2mIh3M3OTRFiSRP3OSJGvpIgXAwFImRFwWdqlHon2RIXhGhBMff94eHzcbzbrF9dXpgYcW7E0JTNUUu1SsjwHiGVwJ+GUJPLXnnImhN57EmIRQtam6IaXaMuyfPn8RRt8f3t7dbWbl2WeZxB+blBTb7FXLOIkbsDdSIqMbt21p5SA0jCUOp+11mlaCUvvZgi5TAh8/+3+w4f3683q7Y9vUkrmmgU9czSEsSt0hbmaEshURkal7M7ZvSCk4+l0OOxTWAEjpiQg67KadelWpcF+//ThT++315vXr14WAWGfawW3cZBhyAh2OHcwmxI1dSmJ0YHZH4+n///zb7+9//Tp08dlWXIu6/V6t9lsxlVG3g4TO6xLIaTPX78Nm+nd2zcyYE5YSnFXcIsZ9ZZLXg3DvDRH4qZyPj4NORXgp4f9f/7Hf3/bL+7OLDwvdw/nLI+rXK7ysCLZlUluXsTBnfqpPS7H42azc6990ZIoSTHHWJyumaVjdHQ1DJQJC9OY8+uXr3bbm6WhYzYQg0QyMY9Cg1WEBbZpdTNutzKteGjH+fGPO2/KAFPJY0rRfDd2s1ah9d16fb3ZkBltpiEh9nkh80wJHdEJDD0wAl1Bq3q3TAS9LYfDkFJGwu73X++hY6GktetSoVlCXg/jbrWeSmEHdi/CUoRPhyO6a2PGWDMMKDN3CkQjIMRYZSGw1vvcWhaRMY/7b0/fPt3d/PS292YEJNnjSpwZ1eF4nnsL7JPEXFIqUyqWp2EIYAJzNyJAx+hATlNJY5ZSWKE9PD2kYb0aVzofPn/4/O7dq2EsBpiHqK232rUygvaEASdI86lpd2+4Tmk9DR2IPEAO1UQk57JJ6aXIxjHjQFh6Xbwtu3F4ff3dvJ+/fLxrSxtzmoTEjBxa7fU0TyVvV+OYmBgocUIDNn15vZqKBHijAHHr7XQ+1Xn2VqdSxnGFkiTlNs/Q2tV6nVAe7h4YJc7bdcxpzCVLLilTzECHLFLnJuwcAKR/++a7F4P/0dzzoLZ4PRPoOVEdE5bsQsEsYEmYkcRxO0xabchDCuboy7J0C/iN0Q45pTUg0fl09q6Rttu7290vP36fKFDckVIcMVXtZ9PH+fj7l4/3+3t1TzkLMXSb8ggdrGrmlEhaq/d3dw93948PD4fH/XKeCZDO51abautosBuHf/7lH15uR/YeKMuSCVOW2fT9l8+fPn88nw7aO2FsAAJEmOZ3n7+hwlgGJuytmSoaCDO4n48nOddaFnnCZT6en9hf7a5+/fnv7//rfwwlICooBs7LgkstQNYaA/KFLmutjJmBH7491r++jZnVKkSSeBiiRAmeFDrMNaC141KpteChf/mnf/z5r64HrQkDVK231jsSTUNZD0MmTsQpehhbOHAhCxbutbv7elpt15vVNI25MARHyv3+ybpuy1BI1oOw0PZq/evPf3d3d9ovqbAhGoUjud5uN2XMGKlBkKUz03q1TgK99tVq5CyX+6HgX0bVru5yWqobnM+1cNqf6dhPL9Vub9+8ff31f//v95NREZ4It2XcDmPhVHIBDJmB2qE2XKk2OB/0xe22WTW2Z9braq1ZbVWO86xdK/HCaa4wNzzNNaXy6vb2y8Pp6/19EDdRsL47ChvC0qsh1qW3ruM4UOLTcW6La2CA9lYdQC4MOJZRIhQoCyt6VbRqrR+Fzo7y09/88MPy8nQ42HnJgBXsUOdMfZxWzOiJ1L22LuDLsrgZMRN7Em4xtZ5zLqWIqnUIbdAB1bE5NPQEQLAQ0Si0ulrjbkNAWSKLp8en+bhvCMxJWAyhaVftGI1jQE+JEkuNhYnDFHO4SAwn9GcJpO7de76gNnUI5ABkTgYpYdpc73rX87JAbze7m0CzemD2lDAmDyF/AKhc0g9lp+bo3kDRLq4k5KBdgDd5CA0IceVETS0pZiNNKW93W0Ba6rIcz9NI0yYn8a6KUXrIPrzISgAUVUUCRVQwNAVVp6T4LNcAPc7WrLXeQs5GsJg2EZdcNle7VS431+P1zar1E0JQBYX4BFW9qDyU0CIO3REZCBS8gaChMALHMgZ6w0VQau9KjEi1hR5PIl2bOndb3DuEmiZtLlzUrC6LqQKx2EWCd1AwZ7CYlRqxGWC/3NSlcQwuYNZDtZr2ztxVvasttZ9PdNovu0kNFwgohd718PRksazpLwEAAP//UOfXV0wxAMoAAAAASUVORK5CYII=\"><figcaption style=\"text-align: center;\">ray ([67])</figcaption></figure></td>\n",
       "<td><figure style=\"padding:4px;text-align: center;\"><img width=\"64\" height=\"64\" src=\"data:image/png;base64,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\"><figcaption style=\"text-align: center;\">bed ([5])</figcaption></figure></td>\n",
       "<td><figure style=\"padding:4px;text-align: center;\"><img width=\"64\" height=\"64\" src=\"data:image/png;base64,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\"><figcaption style=\"text-align: center;\">couch ([25])</figcaption></figure></td>\n",
       "<td><figure style=\"padding:4px;text-align: center;\"><img width=\"64\" height=\"64\" src=\"data:image/png;base64,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\"><figcaption style=\"text-align: center;\">bear ([3])</figcaption></figure></td>\n",
       "</tr></table>\n"
      ]
     },
     "metadata": {},
     "output_type": "display_data"
    }
   ],
   "source": [
    "import (\n",
    "    \"strings\"\n",
    "    \"github.com/gomlx/gopjrt/dtypes\"\n",
    "    \"github.com/gomlx/gomlx/backends\"\n",
    "    \"github.com/gomlx/gomlx/examples/cifar\"\n",
    "    \"github.com/gomlx/gomlx/pkg/core/shapes\"\n",
    "    \"github.com/gomlx/gomlx/pkg/core/tensors/images\"\n",
    "    \"github.com/janpfeifer/gonb/gonbui\"\n",
    "\n",
    "    _ \"github.com/gomlx/gomlx/backends/default\"\n",
    ")\n",
    "\n",
    "var (\n",
    "    // Model DType, used everywhere.\n",
    "    DType = dtypes.Float32\n",
    ")\n",
    "\n",
    "// sampleToNotebook generates a sample of Cifar-10 and Cifar-100 in a GoNB Jupyter Notebook.\n",
    "func sampleToNotebook() {\n",
    "    // Load data into tensors.\n",
    "    backend := backends.MustNew()\n",
    "    ds10 := cifar.NewDataset(backend, \"Samples Cifar-10\", *flagDataDir, cifar.C10, DType, cifar.Train).Shuffle()\n",
    "    ds100 := cifar.NewDataset(backend, \"Samples Cifar-100\", *flagDataDir, cifar.C100, DType, cifar.Train).Shuffle()\n",
    "    sampleImages(ds10, 8, cifar.C10Labels)\n",
    "    sampleImages(ds100, 8, cifar.C100FineLabels)\n",
    "}\n",
    "\n",
    "// sampleTable generates and outputs one html table of samples, sampling rows x cols from the images/labels provided.\n",
    "func sampleImages(ds train.Dataset, numImages int, labelNames []string) {\n",
    "    gonbui.DisplayHTML(fmt.Sprintf(\"<p>%s</p>\\n\", ds.Name()))\n",
    "    \n",
    "    parts := make([]string, 0, numImages+5) // Leave last part empty.\n",
    "    parts = append(parts, \"<table><tr>\")\n",
    "    for ii := 0; ii < numImages; ii++ {\n",
    "        _, inputs, labels := must.M3(ds.Yield())\n",
    "        imgTensor := inputs[0]\n",
    "        img := images.ToImage().Single(imgTensor)\n",
    "        label := labels[0].Value().([]int64)\n",
    "        labelStr := labelNames[label[0]]\n",
    "    \n",
    "        imgSrc := must.M1(gonbui.EmbedImageAsPNGSrc(img))\n",
    "        size := imgTensor.Shape().Dimensions[0]\n",
    "        parts = append(\n",
    "            parts, \n",
    "            fmt.Sprintf(`<td><figure style=\"padding:4px;text-align: center;\"><img width=\"%d\" height=\"%d\" src=\"%s\">` + \n",
    "                        `<figcaption style=\"text-align: center;\">%s (%d)</figcaption></figure></td>`, \n",
    "                        size*2, size*2, imgSrc, labelStr, label),\n",
    "        )\n",
    "    }\n",
    "    parts = append(parts, \"</tr></table>\", \"\")\n",
    "    gonbui.DisplayHTML(strings.Join(parts, \"\\n\"))\n",
    "}\n",
    "\n",
    "%%\n",
    "AssertDownloaded()\n",
    "sampleToNotebook()"
   ]
  },
  {
   "cell_type": "markdown",
   "id": "7fa8c06c-ede0-4cd1-80bd-9331422e3a63",
   "metadata": {},
   "source": [
    "## Training on Cifar-10\n",
    "\n",
    "### Models Support\n",
    "\n",
    "1. `flagModel` defines the model type, out of `validModels` options.\n",
    "1. `createDefaultContex` creates a context and set the default values for the CIFAR models. \n",
    "1. `contextFromSettings` uses `createDefaultContext` and incorporate changes passed by the `-set` flag.\n"
   ]
  },
  {
   "cell_type": "code",
   "execution_count": 5,
   "id": "c8d3c19e-af0c-4fef-a76c-dabb375972d0",
   "metadata": {
    "tags": []
   },
   "outputs": [
    {
     "name": "stdout",
     "output_type": "stream",
     "text": [
      "Model types: [\"fnn\" \"kan\" \"cnn\"]\n",
      "Parameters set (-set): [\"batch_size\" \"fnn_num_hidden_layers\"]\n",
      "\t\"/activation\": (string) swish\n",
      "\t\"/adam_dtype\": (string) \n",
      "\t\"/adam_epsilon\": (float64) 1e-07\n",
      "\t\"/batch_size\": (int) 17\n",
      "\t\"/checkpoint\": (string) \n",
      "\t\"/dropout_rate\": (float64) 0\n",
      "\t\"/eval_batch_size\": (int) 200\n",
      "\t\"/fnn_dropout_rate\": (float64) -1\n",
      "\t\"/fnn_normalization\": (string) \n",
      "\t\"/fnn_num_hidden_layers\": (int) 12\n",
      "\t\"/fnn_num_hidden_nodes\": (int) 128\n",
      "\t\"/fnn_residual\": (bool) true\n",
      "\t\"/kan_bspline_degree\": (int) 2\n",
      "\t\"/kan_bspline_magnitude_l1\": (float64) 1e-05\n",
      "\t\"/kan_bspline_magnitude_l2\": (float64) 0\n",
      "\t\"/kan_discrete\": (bool) false\n",
      "\t\"/kan_discrete_softness\": (float64) 0.1\n",
      "\t\"/kan_num_hidden_layers\": (int) 4\n",
      "\t\"/kan_num_hidden_nodes\": (int) 64\n",
      "\t\"/kan_num_points\": (int) 10\n",
      "\t\"/kan_residual\": (bool) true\n",
      "\t\"/l1_regularization\": (float64) 1e-05\n",
      "\t\"/l2_regularization\": (float64) 1e-05\n",
      "\t\"/learning_rate\": (float64) 0.0001\n",
      "\t\"/model\": (string) fnn\n",
      "\t\"/normalization\": (string) none\n",
      "\t\"/num_checkpoints\": (int) 3\n",
      "\t\"/optimizer\": (string) adamw\n",
      "\t\"/plots\": (bool) true\n",
      "\t\"/train_steps\": (int) 3000\n"
     ]
    }
   ],
   "source": [
    "import (\n",
    "    \"flags\"\n",
    "    \n",
    "    \"github.com/gomlx/gomlx/pkg/ml/layers\"\n",
    "    \"github.com/gomlx/gomlx/pkg/ml/layers/fnn\"\n",
    "    \"github.com/gomlx/gomlx/pkg/ml/layers/kan\"\n",
    "    \"github.com/gomlx/gomlx/pkg/ml/layers/regularizers\"\n",
    "    \"github.com/gomlx/gomlx/ui/commandline\"\n",
    "    \"github.com/gomlx/gomlx/pkg/ml/train/optimizers\"\n",
    "    \"github.com/gomlx/gomlx/examples/cifar\"\n",
    "    \"github.com/gomlx/gomlx/pkg/ml/context\"\n",
    ")\n",
    "\n",
    "var (\n",
    "    // ValidModels is the list of model types supported.\n",
    "    ValidModels = []string{\"fnn\", \"kan\", \"cnn\"}\n",
    "\tflagEval      = flag.Bool(\"eval\", true, \"Whether to evaluate the model on the validation data in the end.\")\n",
    "\tflagVerbosity = flag.Int(\"verbosity\", 1, \"Level of verbosity, the higher the more verbose.\")\n",
    ")\n",
    "\n",
    "// settings is bound to a \"-set\" flag to be used to set context hyperparameters.\n",
    "var settings = commandline.CreateContextSettingsFlag(createDefaultContext(), \"set\")\n",
    "\n",
    "// createDefaultContext sets the context with default hyperparameters\n",
    "func createDefaultContext() *context.Context {\n",
    "\tctx := context.New()\n",
    "\tctx.RngStateReset()\n",
    "\tctx.SetParams(map[string]any{\n",
    "        // Model type to use: valid values are fnn, kan and cnn.\n",
    "\t\t\"model\":           cifar.C10ValidModels[0],\n",
    "\t\t\"checkpoint\":      \"\",\n",
    "\t\t\"num_checkpoints\": 3,\n",
    "\t\t\"train_steps\":     3000,\n",
    "\n",
    "\t\t// batch_size for training.\n",
    "\t\t\"batch_size\": 64,\n",
    "\n",
    "\t\t// eval_batch_size can be larger than training, it's more efficient.\n",
    "\t\t\"eval_batch_size\": 200,\n",
    "\n",
    "\t\t// \"plots\" trigger generating intermediary eval data for plotting, and if running in GoNB, to actually\n",
    "\t\t// draw the plot with Plotly.\n",
    "\t\tplotly.ParamPlots: true,\n",
    "\n",
    "\t\t// If \"normalization\" is set, it overrides \"fnn_normalization\" and \"cnn_normalization\".\n",
    "\t\tlayers.ParamNormalization: \"none\",\n",
    "\n",
    "\t\toptimizers.ParamOptimizer:           \"adamw\",\n",
    "\t\toptimizers.ParamLearningRate:        1e-4,\n",
    "\t\toptimizers.ParamAdamEpsilon:         1e-7,\n",
    "\t\toptimizers.ParamAdamDType:           \"\",\n",
    "\t\tactivations.ParamActivation:         \"swish\",\n",
    "\t\tlayers.ParamDropoutRate:             0.0,\n",
    "\t\tregularizers.ParamL2:                1e-5,\n",
    "\t\tregularizers.ParamL1:                1e-5,\n",
    "\n",
    "\t\t// FNN network parameters:\n",
    "\t\tfnn.ParamNumHiddenLayers: 8,\n",
    "\t\tfnn.ParamNumHiddenNodes:  128,\n",
    "\t\tfnn.ParamResidual:        true,\n",
    "\t\tfnn.ParamNormalization:   \"\",   // Set to none for no normalization, otherwise it falls back to layers.ParamNormalization.\n",
    "\t\tfnn.ParamDropoutRate:     -1.0, // Set to 0.0 for no dropout, otherwise it falls back to layers.ParamDropoutRate.\n",
    "\n",
    "\t\t// KAN network parameters:\n",
    "\t\tkan.ParamNumControlPoints:   10, // Number of control points\n",
    "\t\tkan.ParamNumHiddenNodes:     64,\n",
    "\t\tkan.ParamNumHiddenLayers:    4,\n",
    "\t\tkan.ParamBSplineDegree:      2,\n",
    "\t\tkan.ParamBSplineMagnitudeL1: 1e-5,\n",
    "\t\tkan.ParamBSplineMagnitudeL2: 0.0,\n",
    "\t\tkan.ParamDiscrete:           false,\n",
    "\t\tkan.ParamDiscreteSoftness:   0.1,\n",
    "        kan.ParamResidual:           true,\n",
    "\t})\n",
    "\treturn ctx\n",
    "}\n",
    "\n",
    "// ContextFromSettings is the default context (createDefaultContext) changed by -set flag.\n",
    "func ContextFromSettings() (ctx *context.Context, paramsSet []string) {\n",
    "    ctx = createDefaultContext()\n",
    "    paramsSet = must.M1(commandline.ParseContextSettings(ctx, *settings))\n",
    "    return\n",
    "}\n",
    "\n",
    "// Let's test that we can set hyperparameters by setting it in the \"-set\" flag:\n",
    "%% -set=\"batch_size=17;fnn_num_hidden_layers=12\"\n",
    "fmt.Printf(\"Model types: %q\\n\", cifar.C10ValidModels)\n",
    "ctx, parametersSet := ContextFromSettings()\n",
    "fmt.Printf(\"Parameters set (-set): %q\\n\", parametersSet)\n",
    "fmt.Println(commandline.SprintContextSettings(ctx))"
   ]
  },
  {
   "cell_type": "markdown",
   "id": "f771ca6f-5912-4406-9f2a-a838fd7cd065",
   "metadata": {},
   "source": [
    "### Simple FNN model\n",
    "\n",
    "A trivial model, that can easily get to ~50% accuracy (a random model would do 10%), but hardly much more than that.\n",
    "\n",
    "Later we are going to define a CNN model to compare, and we just set a placeholder model here for now.\n",
    "\n",
    "> **Note**: \n",
    ">\n",
    "> * The code is here just to exemplify. We are actually using the same code from the [`cifar`](https://github.com/gomlx/gomlx/tree/main/examples/cifar) package."
   ]
  },
  {
   "cell_type": "code",
   "execution_count": 6,
   "id": "0ac4e4da-2c3b-431c-9e54-00e31045785f",
   "metadata": {
    "tags": []
   },
   "outputs": [
    {
     "name": "stdout",
     "output_type": "stream",
     "text": [
      "Logits shape for batch_size=7: (Float32)[7 10]\n"
     ]
    }
   ],
   "source": [
    "import (\n",
    "    \"flags\"    \n",
    "    . \"github.com/gomlx/gomlx/pkg/core/graph\"\n",
    "    \"github.com/gomlx/gomlx/examples/cifar\"\n",
    "    \"github.com/gomlx/gomlx/pkg/ml/context\"\n",
    "    \"github.com/gomlx/gomlx/pkg/ml/train/optimizers\"\n",
    "    \"github.com/gomlx/gomlx/pkg/core/shapes\"\n",
    ")\n",
    "\n",
    "var _ = NewGraph  // Make sure the graph package is in use.\n",
    "\n",
    "// C10PlainModelGraph implements train.ModelFn, and returns the logit Node, given the input image.\n",
    "// It's a basic FNN (Feedforward Neural Network), so no convolutions. It is meant only as an example.\n",
    "func C10PlainModelGraph(ctx *context.Context, spec any, inputs []*graph.Node) []*graph.Node {\n",
    "    _ = spec  // Not needed, the input type is always the same.\n",
    "\tctx = ctx.In(\"model\")\n",
    "\tbatchedImages := inputs[0]\n",
    "\tbatchSize := batchedImages.Shape().Dimensions[0]\n",
    "\tlogits := graph.Reshape(batchedImages, batchSize, -1)\n",
    "\tnumClasses := len(cifar.C10Labels)\n",
    "\tmodelType := context.GetParamOr(ctx, \"model\", cifar.C10ValidModels[0])\n",
    "\tif modelType == \"kan\" {\n",
    "\t\t// Configuration of the KAN layer(s) use the context hyperparameters.\n",
    "\t\tlogits = kan.New(ctx, logits, numClasses).Done()\n",
    "\t} else {\n",
    "\t\t// Configuration of the FNN layer(s) use the context hyperparameters.\n",
    "\t\tlogits = fnn.New(ctx, logits, numClasses).Done()\n",
    "\t}\n",
    "\tlogits.AssertDims(batchSize, numClasses)\n",
    "\treturn []*graph.Node{logits}\n",
    "}\n",
    "\n",
    "%% -set=\"batch_size=7\"\n",
    "// Let's test that the logits are coming out with the right shape: we want [batch_size, 10], since there are 10 classes.\n",
    "AssertDownloaded()\n",
    "ctx, _ := ContextFromSettings()\n",
    "g := NewGraph(backends.MustNew(), \"placeholder\")\n",
    "batchSize := context.GetParamOr(ctx, \"batch_size\", int(100))\n",
    "logits := C10PlainModelGraph(ctx, nil, []*Node{Parameter(g, \"images\", shapes.Make(DType, batchSize, cifar.Height, cifar.Width, cifar.Depth))})\n",
    "fmt.Printf(\"Logits shape for batch_size=%d: %s\\n\", batchSize, logits[0].Shape())"
   ]
  },
  {
   "cell_type": "markdown",
   "id": "aef7d6ee-ca2b-40c7-ac3d-4242ecd8ed1b",
   "metadata": {},
   "source": [
    "### Training Loop\n",
    "\n",
    "With a model function defined, we use the training loop create for the Cifar10.\n",
    "\n",
    "The trainer is provided in the [`cifar` package](https://github.com/gomlx/gomlx/tree/main/examples/cifar). It is straight forward (and almost the same for every different project) and does the following for us:\n",
    "\n",
    "- If a checkpoing is given (--checkpoint) and it has previously saved model, it loads hyperparmeters and trained variables.\n",
    "- Create trainer: with selected model function (see [Simple FNN model](#Simple-FNN-model) and [CNN model for Cifar10](#CNN-model-for-Cifar10) sections), optimizer, loss and metrics.\n",
    "- Create a `train.Loop` and attach to it a progressbar, a periodic checkpoint saver and a plotter (`--set=\"plots=true\"`).\n",
    "- Train the selected number of train steps.\n",
    "- Report results.\n",
    "\n",
    "Below we train 50 steps with the default settings just to check things are working."
   ]
  },
  {
   "cell_type": "code",
   "execution_count": 7,
   "id": "d72336ef-d96d-4d98-a3a6-5df912be5f24",
   "metadata": {
    "tags": []
   },
   "outputs": [
    {
     "name": "stdout",
     "output_type": "stream",
     "text": [
      "Backend \"stablehlo\":\tstablehlo:cuda - PJRT \"cuda\" plugin (/home/janpf/.local/lib/gomlx/pjrt/pjrt_c_api_cuda_plugin.so) v0.76 [StableHLO]\n",
      "      \u001b[1m 100% [========================================] (2119 steps/s)\u001b[0m [step=49] [loss+=2.45] [~loss+=3.05] [~loss=2.84] [~acc=16.91%]                \n",
      "\t[Step 50] median train step: 386 microseconds\n",
      "\n",
      "Results on Validation:\n",
      "\tMean Loss+Regularization (#loss+): 2.44\n",
      "\tMean Loss (#loss): 2.23\n",
      "\tMean Accuracy (#acc): 20.19%\n",
      "Results on Training:\n",
      "\tMean Loss+Regularization (#loss+): 2.44\n",
      "\tMean Loss (#loss): 2.23\n",
      "\tMean Accuracy (#acc): 19.72%\n"
     ]
    }
   ],
   "source": [
    "var flagCheckpoint = flag.String(\"checkpoint\", \"\", \"Directory save and load checkpoints from. If left empty, no checkpoints are created.\")\n",
    "\n",
    "// trainModel with hyperparameters configured with `-set=...`.\n",
    "func trainModel() {\n",
    "    ctx, paramsSet := ContextFromSettings()\n",
    "    cifar.TrainCifar10Model(ctx, *flagDataDir, *flagCheckpoint, *flagEval, *flagVerbosity, paramsSet)\n",
    "}\n",
    "\n",
    "// Train 50 steps, only to test things are working. No plots.\n",
    "%% --set=\"train_steps=50;plots=false\"\n",
    "trainModel()"
   ]
  },
  {
   "cell_type": "markdown",
   "id": "300a8419-5679-42ba-9149-51c17c7c427d",
   "metadata": {},
   "source": [
    "### FNN Model Training\n",
    "\n",
    "Let's train the FNN for real this time. \n",
    "\n",
    "* **Note**: The FNN model quickly overfits to the data."
   ]
  },
  {
   "cell_type": "code",
   "execution_count": 8,
   "id": "4de9b879-4790-4aac-ace7-3c8a348ac961",
   "metadata": {},
   "outputs": [],
   "source": [
    "// Remove a previously trained model. Skip this if you want to continue training a previous model.\n",
    "!rm -rf ~/work/cifar/base_fnn_model  "
   ]
  },
  {
   "cell_type": "code",
   "execution_count": 9,
   "id": "cf876f49-e737-4dfa-aa05-48aad3d7a128",
   "metadata": {
    "tags": []
   },
   "outputs": [
    {
     "name": "stdout",
     "output_type": "stream",
     "text": [
      "Backend \"stablehlo\":\tstablehlo:cuda - PJRT \"cuda\" plugin (/home/janpf/.local/lib/gomlx/pjrt/pjrt_c_api_cuda_plugin.so) v0.76 [StableHLO]\n",
      "Checkpointing model to \"/home/janpf/work/cifar/base_fnn_model\"\n"
     ]
    },
    {
     "data": {
      "text/html": []
     },
     "metadata": {},
     "output_type": "display_data"
    },
    {
     "name": "stdout",
     "output_type": "stream",
     "text": [
      "      \u001b[1m   1% [........................................] (391 steps/s) [0s:2m5s]\u001b[0m [step=699] [loss+=1.93] [~loss+=1.98] [~loss=1.76] [~acc=36.94%]        "
     ]
    },
    {
     "data": {
      "text/html": []
     },
     "metadata": {},
     "output_type": "display_data"
    },
    {
     "name": "stdout",
     "output_type": "stream",
     "text": [
      "      \u001b[1m 100% [========================================] (2285 steps/s)\u001b[0m [step=49999] [loss+=0.472] [~loss+=0.68] [~loss=0.454] [~acc=83.93%]        ]         \n"
     ]
    },
    {
     "data": {
      "text/html": [
       "<p><b>Metric: accuracy</b></p>\n"
      ]
     },
     "metadata": {},
     "output_type": "display_data"
    },
    {
     "data": {
      "text/html": [
       "<div id=\"7b3688c8\"></div>"
      ]
     },
     "metadata": {},
     "output_type": "display_data"
    },
    {
     "data": {
      "text/html": [
       "<script charset=\"UTF-8\">\n",
       "(() => {\n",
       "\tconst src=\"https://cdn.plot.ly/plotly-2.34.0.min.js\";\n",
       "\tvar runJSFn = function(module) {\n",
       "\t\t\n",
       "\tif (!module) {\n",
       "\t\tmodule = window.Plotly;\n",
       "\t}\n",
       "\tlet data = JSON.parse('{\"data\":[{\"type\":\"scatter\",\"line\":{\"shape\":\"linear\"},\"mode\":\"lines+markers\",\"name\":\"Train: Moving Average Accuracy\",\"x\":[201,441,729,1075,1490,1988,2586,3304,4166,5200,6441,7930,9717,11861,14434,17522,21228,25675,31011,37414,45098,50000],\"y\":[0.2718499004840851,0.33310237526893616,0.3727899491786957,0.40385714173316956,0.4214908182621002,0.43983137607574463,0.45598113536834717,0.4709991216659546,0.4949967563152313,0.5142630934715271,0.5370389223098755,0.5564768314361572,0.5729963779449463,0.6066710352897644,0.6162790656089783,0.6383858919143677,0.6856624484062195,0.7130618691444397,0.7344680428504944,0.7787956595420837,0.823291540145874,0.8393142819404602]},{\"type\":\"scatter\",\"line\":{\"shape\":\"linear\"},\"mode\":\"lines+markers\",\"name\":\"Mean Accuracy on Training\",\"x\":[201,441,729,1075,1490,1988,2586,3304,4166,5200,6441,7930,9717,11861,14434,17522,21228,25675,31011,37414,45098,50000],\"y\":[0.2892400026321411,0.3479999899864197,0.40359997749328613,0.4195399880409241,0.4402399957180023,0.4468799829483032,0.46313998103141785,0.46173998713493347,0.5036999583244324,0.5111600160598755,0.5507799983024597,0.5665599703788757,0.5873599648475647,0.6113199591636658,0.6364399790763855,0.6594600081443787,0.6951599717140198,0.7319999933242798,0.7418799996376038,0.788379967212677,0.8439799547195435,0.8496399521827698]},{\"type\":\"scatter\",\"line\":{\"shape\":\"linear\"},\"mode\":\"lines+markers\",\"name\":\"Mean Accuracy on Validation\",\"x\":[201,441,729,1075,1490,1988,2586,3304,4166,5200,6441,7930,9717,11861,14434,17522,21228,25675,31011,37414,45098,50000],\"y\":[0.29090002179145813,0.34530001878738403,0.40570002794265747,0.4147000312805176,0.42260003089904785,0.43540000915527344,0.45190003514289856,0.43310001492500305,0.4723000228404999,0.4686000347137451,0.5001000165939331,0.5100000500679016,0.5139999985694885,0.5200000405311584,0.5188000202178955,0.5188000202178955,0.5246000289916992,0.5204000473022461,0.5164999961853027,0.5083000063896179,0.5190000534057617,0.5064000487327576]}],\"layout\":{\"legend\":{},\"title\":{\"text\":\"accuracy\"},\"xaxis\":{\"showgrid\":true,\"title\":{\"text\":\"Steps\"},\"type\":\"log\"},\"yaxis\":{\"showgrid\":true,\"type\":\"log\"}}}');\n",
       "\tmodule.newPlot('7b3688c8', data);\n",
       "\n",
       "\t}\n",
       "\t\n",
       "    if (typeof requirejs === \"function\") {\n",
       "        // Use RequireJS to load module.\n",
       "\t\tlet srcWithoutExtension = src.substring(0, src.lastIndexOf(\".js\"));\n",
       "        requirejs.config({\n",
       "            paths: {\n",
       "                'plotly': srcWithoutExtension\n",
       "            }\n",
       "        });\n",
       "        require(['plotly'], function(plotly) {\n",
       "            runJSFn(plotly)\n",
       "        });\n",
       "        return\n",
       "    }\n",
       "\n",
       "\tvar currentScripts = document.head.getElementsByTagName(\"script\");\n",
       "\tfor (const idx in currentScripts) {\n",
       "\t\tlet script = currentScripts[idx];\n",
       "\t\tif (script.src == src) {\n",
       "\t\t\trunJSFn(null);\n",
       "\t\t\treturn;\n",
       "\t\t}\n",
       "\t}\n",
       "\n",
       "\tvar script = document.createElement(\"script\");\n",
       "\n",
       "\tscript.charset = \"utf-8\";\n",
       "\t\n",
       "\tscript.src = src;\n",
       "\tscript.onload = script.onreadystatechange = function () { runJSFn(null); };\n",
       "\tdocument.head.appendChild(script);\t\n",
       "})();\n",
       "</script>"
      ]
     },
     "metadata": {},
     "output_type": "display_data"
    },
    {
     "data": {
      "text/html": [
       "<p><b>Metric: loss</b></p>\n"
      ]
     },
     "metadata": {},
     "output_type": "display_data"
    },
    {
     "data": {
      "text/html": [
       "<div id=\"da627516\"></div>"
      ]
     },
     "metadata": {},
     "output_type": "display_data"
    },
    {
     "data": {
      "text/html": [
       "<script charset=\"UTF-8\">\n",
       "(() => {\n",
       "\tconst src=\"https://cdn.plot.ly/plotly-2.34.0.min.js\";\n",
       "\tvar runJSFn = function(module) {\n",
       "\t\t\n",
       "\tif (!module) {\n",
       "\t\tmodule = window.Plotly;\n",
       "\t}\n",
       "\tlet data = JSON.parse('{\"data\":[{\"type\":\"scatter\",\"line\":{\"shape\":\"linear\"},\"mode\":\"lines+markers\",\"name\":\"Train: Batch Loss+Regularization\",\"x\":[201,441,729,1075,1490,1988,2586,3304,4166,5200,6441,7930,9717,11861,14434,17522,21228,25675,31011,37414,45098,50000],\"y\":[2.3047239780426025,2.0565249919891357,1.8981355428695679,1.7886199951171875,1.6463298797607422,1.947914958000183,1.684484601020813,1.916835904121399,1.5099726915359497,1.514784574508667,1.5636131763458252,1.642513632774353,1.4374361038208008,1.1111009120941162,1.19437575340271,1.239422082901001,1.2347511053085327,1.28165602684021,0.7321380972862244,0.7985636591911316,0.5997051000595093,0.47181737422943115]},{\"type\":\"scatter\",\"line\":{\"shape\":\"linear\"},\"mode\":\"lines+markers\",\"name\":\"Train: Moving Average Loss+Regularization\",\"x\":[201,441,729,1075,1490,1988,2586,3304,4166,5200,6441,7930,9717,11861,14434,17522,21228,25675,31011,37414,45098,50000],\"y\":[2.3419415950775146,2.0864555835723877,1.972267746925354,1.8823868036270142,1.8464716672897339,1.7811715602874756,1.7278045415878296,1.6905312538146973,1.622129201889038,1.589526653289795,1.5079638957977295,1.4602669477462769,1.4129899740219116,1.3253189325332642,1.281771183013916,1.223850131034851,1.1003196239471436,1.0367711782455444,0.9583731889724731,0.8412587642669678,0.7297943830490112,0.6803523898124695]},{\"type\":\"scatter\",\"line\":{\"shape\":\"linear\"},\"mode\":\"lines+markers\",\"name\":\"Train: Moving Average Loss\",\"x\":[201,441,729,1075,1490,1988,2586,3304,4166,5200,6441,7930,9717,11861,14434,17522,21228,25675,31011,37414,45098,50000],\"y\":[2.125455617904663,1.8700706958770752,1.7560051679611206,1.6662753820419312,1.6305737495422363,1.5655443668365479,1.5124746561050415,1.4755487442016602,1.4075313806533813,1.375354290008545,1.2942408323287964,1.2469351291656494,1.199937105178833,1.112388014793396,1.0686962604522705,1.0103092193603516,0.8858439326286316,0.8208240866661072,0.7402878403663635,0.6204277276992798,0.5055776238441467,0.4540979266166687]},{\"type\":\"scatter\",\"line\":{\"shape\":\"linear\"},\"mode\":\"lines+markers\",\"name\":\"Mean Loss+Regularization on Training\",\"x\":[201,441,729,1075,1490,1988,2586,3304,4166,5200,6441,7930,9717,11861,14434,17522,21228,25675,31011,37414,45098,50000],\"y\":[2.1918601989746094,2.034148693084717,1.8932268619537354,1.8499062061309814,1.7898163795471191,1.761637568473816,1.731433391571045,1.711868405342102,1.6040719747543335,1.5801236629486084,1.4817596673965454,1.4320400953292847,1.3759907484054565,1.307309865951538,1.23677396774292,1.1808717250823975,1.0806201696395874,0.9868822693824768,0.9505578875541687,0.8223467469215393,0.6734500527381897,0.6603193879127502]},{\"type\":\"scatter\",\"line\":{\"shape\":\"linear\"},\"mode\":\"lines+markers\",\"name\":\"Mean Loss on Training\",\"x\":[201,441,729,1075,1490,1988,2586,3304,4166,5200,6441,7930,9717,11861,14434,17522,21228,25675,31011,37414,45098,50000],\"y\":[1.975412130355835,1.8178071975708008,1.6770073175430298,1.6338436603546143,1.5739741325378418,1.546060562133789,1.5161515474319458,1.496924638748169,1.3895082473754883,1.3659896850585938,1.2680485248565674,1.21871817111969,1.1629536151885986,1.0943665504455566,1.0236914157867432,0.9673190116882324,0.8661024570465088,0.770906388759613,0.7324333190917969,0.6014794707298279,0.44919249415397644,0.4340272545814514]},{\"type\":\"scatter\",\"line\":{\"shape\":\"linear\"},\"mode\":\"lines+markers\",\"name\":\"Mean Loss+Regularization on Validation\",\"x\":[201,441,729,1075,1490,1988,2586,3304,4166,5200,6441,7930,9717,11861,14434,17522,21228,25675,31011,37414,45098,50000],\"y\":[2.192713975906372,2.037653684616089,1.9061682224273682,1.8657385110855103,1.8201364278793335,1.8061549663543701,1.780536413192749,1.7838258743286133,1.6960991621017456,1.7012794017791748,1.6345783472061157,1.6267406940460205,1.6206631660461426,1.6032363176345825,1.6155810356140137,1.6454981565475464,1.6860487461090088,1.7482020854949951,1.904830813407898,2.0721731185913086,2.2476465702056885,2.369826078414917]},{\"type\":\"scatter\",\"line\":{\"shape\":\"linear\"},\"mode\":\"lines+markers\",\"name\":\"Mean Loss on Validation\",\"x\":[201,441,729,1075,1490,1988,2586,3304,4166,5200,6441,7930,9717,11861,14434,17522,21228,25675,31011,37414,45098,50000],\"y\":[1.9762659072875977,1.8213108777999878,1.689948320388794,1.6496760845184326,1.6042943000793457,1.5905776023864746,1.565255045890808,1.5688823461532593,1.4815359115600586,1.487146019935608,1.4208672046661377,1.4134190082550049,1.4076263904571533,1.3902925252914429,1.4024983644485474,1.4319450855255127,1.4715303182601929,1.5322257280349731,1.686706304550171,1.8513057231903076,2.0233888626098633,2.143533945083618]}],\"layout\":{\"legend\":{},\"title\":{\"text\":\"loss\"},\"xaxis\":{\"showgrid\":true,\"title\":{\"text\":\"Steps\"},\"type\":\"log\"},\"yaxis\":{\"showgrid\":true,\"type\":\"log\"}}}');\n",
       "\tmodule.newPlot('da627516', data);\n",
       "\n",
       "\t}\n",
       "\t\n",
       "    if (typeof requirejs === \"function\") {\n",
       "        // Use RequireJS to load module.\n",
       "\t\tlet srcWithoutExtension = src.substring(0, src.lastIndexOf(\".js\"));\n",
       "        requirejs.config({\n",
       "            paths: {\n",
       "                'plotly': srcWithoutExtension\n",
       "            }\n",
       "        });\n",
       "        require(['plotly'], function(plotly) {\n",
       "            runJSFn(plotly)\n",
       "        });\n",
       "        return\n",
       "    }\n",
       "\n",
       "\tvar currentScripts = document.head.getElementsByTagName(\"script\");\n",
       "\tfor (const idx in currentScripts) {\n",
       "\t\tlet script = currentScripts[idx];\n",
       "\t\tif (script.src == src) {\n",
       "\t\t\trunJSFn(null);\n",
       "\t\t\treturn;\n",
       "\t\t}\n",
       "\t}\n",
       "\n",
       "\tvar script = document.createElement(\"script\");\n",
       "\n",
       "\tscript.charset = \"utf-8\";\n",
       "\t\n",
       "\tscript.src = src;\n",
       "\tscript.onload = script.onreadystatechange = function () { runJSFn(null); };\n",
       "\tdocument.head.appendChild(script);\t\n",
       "})();\n",
       "</script>"
      ]
     },
     "metadata": {},
     "output_type": "display_data"
    },
    {
     "name": "stdout",
     "output_type": "stream",
     "text": [
      "\t[Step 50000] median train step: 343 microseconds\n",
      "\n",
      "Results on Validation:\n",
      "\tMean Loss+Regularization (#loss+): 2.37\n",
      "\tMean Loss (#loss): 2.14\n",
      "\tMean Accuracy (#acc): 50.64%\n",
      "Results on Training:\n",
      "\tMean Loss+Regularization (#loss+): 0.66\n",
      "\tMean Loss (#loss): 0.434\n",
      "\tMean Accuracy (#acc): 84.96%\n"
     ]
    }
   ],
   "source": [
    "%% --checkpoint=base_fnn_model --set=\"model=fnn;train_steps=50_000;plots=true\"\n",
    "trainModel()"
   ]
  },
  {
   "cell_type": "markdown",
   "id": "942fdb36-4fbe-4ccf-9958-c8b67b036ada",
   "metadata": {},
   "source": [
    "### CNN model for Cifar-10\n",
    "\n",
    "Let's now properly define a CNN model to compare.\n",
    "\n",
    "The model was built following a [Keras model in Kaggle (thanks @ektasharm)](https://www.kaggle.com/code/ektasharma/simple-cifar10-cnn-keras-code-with-88-accuracy),\n",
    "which provided hardcoded values for all layers of the model -- so it doesn't make use of the hyperparamters set in the context. It achieves \\~86% on the validation set, after 80,000 steps of batch size 64 (\\~100 epochs).\n",
    "\n",
    "Notice that since it uses batch normalization, the training process will, at the end, update the moving averages of mean and variance: this improves the running estimate the model keeps during training. This [interesting blog post](https://www.mindee.com/blog/batch-normalization) explains about it. "
   ]
  },
  {
   "cell_type": "code",
   "execution_count": 10,
   "id": "e27dc442-c3aa-4ec5-98e9-e5321b474785",
   "metadata": {
    "tags": []
   },
   "outputs": [
    {
     "name": "stdout",
     "output_type": "stream",
     "text": [
      "Logits shape for batch_size=11: (Float32)[11 10]\n"
     ]
    }
   ],
   "source": [
    "// ConvolutionModelGraph implements train.ModelFn and returns the logit Node, given the input image.\n",
    "// It's a straight forward CNN (Convolution Neural Network) model.\n",
    "//\n",
    "// This is modeled after the Keras example in Kaggle:\n",
    "// https://www.kaggle.com/code/ektasharma/simple-cifar10-cnn-keras-code-with-88-accuracy\n",
    "// (Thanks @ektasharma)\n",
    "func ConvolutionModelGraph(ctx *context.Context, spec any, inputs []*Node) []*Node {\n",
    "\tctx = ctx.In(\"model\")\n",
    "\tbatchedImages := inputs[0]\n",
    "\tg := batchedImages.Graph()\n",
    "\tdtype := batchedImages.DType()\n",
    "\tbatchSize := batchedImages.Shape().Dimensions[0]\n",
    "\tlogits := batchedImages\n",
    "\n",
    "\tlayerIdx := 0\n",
    "\tnextCtx := func(name string) *context.Context {\n",
    "\t\tnewCtx := ctx.Inf(\"%03d_%s\", layerIdx, name)\n",
    "\t\tlayerIdx++\n",
    "\t\treturn newCtx\n",
    "\t}\n",
    "\n",
    "\tlogits = layers.Convolution(nextCtx(\"conv\"), logits).Filters(32).KernelSize(3).PadSame().Done()\n",
    "\tlogits.AssertDims(batchSize, 32, 32, 32)\n",
    "\tlogits = activations.Relu(logits)\n",
    "\tlogits = batchnorm.New(nextCtx(\"batchnorm\"), logits, -1).Done()\n",
    "\tlogits = layers.Convolution(nextCtx(\"conv\"), logits).Filters(32).KernelSize(3).PadSame().Done()\n",
    "\tlogits = activations.Relu(logits)\n",
    "\tlogits = batchnorm.New(nextCtx(\"batchnorm\"), logits, -1).Done()\n",
    "\tlogits = MaxPool(logits).Window(2).Done()\n",
    "\tlogits = layers.DropoutNormalize(nextCtx(\"dropout\"), logits, Scalar(g, dtype, 0.3), true)\n",
    "\tlogits.AssertDims(batchSize, 16, 16, 32)\n",
    "\n",
    "\tlogits = layers.Convolution(nextCtx(\"conv\"), logits).Filters(64).KernelSize(3).PadSame().Done()\n",
    "\tlogits.AssertDims(batchSize, 16, 16, 64)\n",
    "\tlogits = activations.Relu(logits)\n",
    "\tlogits = batchnorm.New(nextCtx(\"batchnorm\"), logits, -1).Done()\n",
    "\tlogits = layers.Convolution(nextCtx(\"conv\"), logits).Filters(64).KernelSize(3).PadSame().Done()\n",
    "\tlogits.AssertDims(batchSize, 16, 16, 64)\n",
    "\tlogits = activations.Relu(logits)\n",
    "\tlogits = batchnorm.New(nextCtx(\"batchnorm\"), logits, -1).Done()\n",
    "\tlogits = MaxPool(logits).Window(2).Done()\n",
    "\tlogits = layers.DropoutNormalize(nextCtx(\"dropout\"), logits, Scalar(g, dtype, 0.5), true)\n",
    "\tlogits.AssertDims(batchSize, 8, 8, 64)\n",
    "\n",
    "\tlogits = layers.Convolution(nextCtx(\"conv\"), logits).Filters(128).KernelSize(3).PadSame().Done()\n",
    "\tlogits.AssertDims(batchSize, 8, 8, 128)\n",
    "\tlogits = activations.Relu(logits)\n",
    "\tlogits = batchnorm.New(nextCtx(\"batchnorm\"), logits, -1).Done()\n",
    "\tlogits = layers.Convolution(nextCtx(\"conv\"), logits).Filters(128).KernelSize(3).PadSame().Done()\n",
    "\tlogits.AssertDims(batchSize, 8, 8, 128)\n",
    "\tlogits = activations.Relu(logits)\n",
    "\tlogits = batchnorm.New(nextCtx(\"batchnorm\"), logits, -1).Done()\n",
    "\tlogits = MaxPool(logits).Window(2).Done()\n",
    "\tlogits = layers.DropoutNormalize(nextCtx(\"dropout\"), logits, Scalar(g, dtype, 0.5), true)\n",
    "\tlogits.AssertDims(batchSize, 4, 4, 128)\n",
    "\n",
    "\t// Flatten logits, and we can use the usual FNN/KAN.\n",
    "\tlogits = Reshape(logits, batchSize, -1)\n",
    "\tlogits = layers.Dense(nextCtx(\"dense\"), logits, true, 128)\n",
    "\tlogits = activations.Relu(logits)\n",
    "\tlogits = batchnorm.New(nextCtx(\"batchnorm\"), logits, -1).Done()\n",
    "\tlogits = layers.DropoutNormalize(nextCtx(\"dropout\"), logits, Scalar(g, dtype, 0.5), true)\n",
    "\tnumClasses := len(cifar.C10Labels)\n",
    "\tlogits = layers.Dense(nextCtx(\"dense\"), logits, true, numClasses)\n",
    "\treturn []*Node{logits}\n",
    "}\n",
    "\n",
    "%% -set=\"batch_size=11\"\n",
    "// Let's test that the logits are coming out with the right shape: we want [batch_size, 10], since there are 10 classes.\n",
    "AssertDownloaded()\n",
    "ctx, _ := ContextFromSettings()\n",
    "g := NewGraph(backends.MustNew(), \"placeholder\")\n",
    "batchSize := context.GetParamOr(ctx, \"batch_size\", int(100))\n",
    "logits := ConvolutionModelGraph(ctx, nil, []*Node{Parameter(g, \"images\", shapes.Make(DType, batchSize, cifar.Height, cifar.Width, cifar.Depth))})\n",
    "fmt.Printf(\"Logits shape for batch_size=%d: %s\\n\", batchSize, logits[0].Shape())\n"
   ]
  },
  {
   "cell_type": "markdown",
   "id": "6e3b2b04-8ca7-49d6-921d-3527c9169da9",
   "metadata": {},
   "source": [
    "### Training the CNN model\n",
    "\n",
    "CNNs have a much better inductive bias for machine learning on images, and it can easily achieve > 80% accuracy in training data, and some less on validation data, due to overfitting.\n",
    "\n",
    "Likely it would benefit from pre-training the model on a larger unlabeled datasets -- see the \"Dogs vs Cats\" example to see transfer learning in action for an image model."
   ]
  },
  {
   "cell_type": "code",
   "execution_count": 11,
   "id": "6af158e6-b9f9-423a-8ef9-3b54366d35ef",
   "metadata": {},
   "outputs": [],
   "source": [
    "!rm -rf ~/work/cifar/base_cnn_model"
   ]
  },
  {
   "cell_type": "code",
   "execution_count": 12,
   "id": "b2739281-6e70-4bd4-90e5-ed493678b8ce",
   "metadata": {
    "tags": []
   },
   "outputs": [
    {
     "name": "stdout",
     "output_type": "stream",
     "text": [
      "Backend \"stablehlo\":\tstablehlo:cuda - PJRT \"cuda\" plugin (/home/janpf/.local/lib/gomlx/pjrt/pjrt_c_api_cuda_plugin.so) v0.76 [StableHLO]\n",
      "Checkpointing model to \"/home/janpf/work/cifar/base_cnn_model\"\n"
     ]
    },
    {
     "data": {
      "text/html": []
     },
     "metadata": {},
     "output_type": "display_data"
    },
    {
     "name": "stdout",
     "output_type": "stream",
     "text": [
      "      \u001b[1m   0% [........................................] (517 steps/s) [1s:2m33s]\u001b[0m [step=719] [loss+=1.66] [~loss+=1.67] [~loss=1.67] [~acc=37.29%]        "
     ]
    },
    {
     "data": {
      "text/html": []
     },
     "metadata": {},
     "output_type": "display_data"
    },
    {
     "name": "stdout",
     "output_type": "stream",
     "text": [
      "      \u001b[1m 100% [========================================] (969 steps/s)\u001b[0m [step=79999] [loss+=0.822] [~loss+=0.63] [~loss=0.63] [~acc=78.56%]        28%]          \n"
     ]
    },
    {
     "data": {
      "text/html": [
       "<p><b>Metric: accuracy</b></p>\n"
      ]
     },
     "metadata": {},
     "output_type": "display_data"
    },
    {
     "data": {
      "text/html": [
       "<div id=\"294146f2\"></div>"
      ]
     },
     "metadata": {},
     "output_type": "display_data"
    },
    {
     "data": {
      "text/html": [
       "<script charset=\"UTF-8\">\n",
       "(() => {\n",
       "\tconst src=\"https://cdn.plot.ly/plotly-2.34.0.min.js\";\n",
       "\tvar runJSFn = function(module) {\n",
       "\t\t\n",
       "\tif (!module) {\n",
       "\t\tmodule = window.Plotly;\n",
       "\t}\n",
       "\tlet data = JSON.parse('{\"data\":[{\"type\":\"scatter\",\"line\":{\"shape\":\"linear\"},\"mode\":\"lines+markers\",\"name\":\"Train: Moving Average Accuracy\",\"x\":[201,441,729,1075,1490,1988,2586,3304,4166,5200,6441,7930,9717,11861,14434,17522,21228,25675,31011,37414,45098,54319,65384,78662,80000],\"y\":[0.18372006714344025,0.2884494960308075,0.37545257806777954,0.44579750299453735,0.49114879965782166,0.5476747751235962,0.5808466672897339,0.6150075793266296,0.64619380235672,0.6479228138923645,0.6758214831352234,0.6941400170326233,0.7090026140213013,0.7260935306549072,0.7332726120948792,0.7508320808410645,0.7648523449897766,0.7698003649711609,0.7771881222724915,0.7890937924385071,0.7921884059906006,0.7865213751792908,0.7879019975662231,0.7946189045906067,0.7856067419052124]},{\"type\":\"scatter\",\"line\":{\"shape\":\"linear\"},\"mode\":\"lines+markers\",\"name\":\"Mean Accuracy on Training\",\"x\":[201,441,729,1075,1490,1988,2586,3304,4166,5200,6441,7930,9717,11861,14434,17522,21228,25675,31011,37414,45098,54319,65384,78662,80000],\"y\":[0.26802000403404236,0.3809199929237366,0.4485799968242645,0.5207799673080444,0.5472800135612488,0.5994600057601929,0.6157799959182739,0.6553599834442139,0.6785999536514282,0.6772399544715881,0.7376399636268616,0.7544999718666077,0.7712199687957764,0.7791199684143066,0.8071799874305725,0.8238799571990967,0.8251199722290039,0.836139976978302,0.8400200009346008,0.8558799624443054,0.8629199862480164,0.8643999695777893,0.861799955368042,0.8741999864578247,0.8674799799919128]},{\"type\":\"scatter\",\"line\":{\"shape\":\"linear\"},\"mode\":\"lines+markers\",\"name\":\"Mean Accuracy on Validation\",\"x\":[201,441,729,1075,1490,1988,2586,3304,4166,5200,6441,7930,9717,11861,14434,17522,21228,25675,31011,37414,45098,54319,65384,78662,80000],\"y\":[0.27580001950263977,0.38120001554489136,0.44700002670288086,0.5164000391960144,0.5414000153541565,0.5903000235557556,0.6097000241279602,0.6431000232696533,0.6607000231742859,0.6587000489234924,0.7148000597953796,0.7338000535964966,0.738800048828125,0.7465000152587891,0.766800045967102,0.7808000445365906,0.7807000279426575,0.787600040435791,0.7866000533103943,0.7968000173568726,0.8067000508308411,0.8017000555992126,0.8059000372886658,0.8133000135421753,0.8090000152587891]}],\"layout\":{\"legend\":{},\"title\":{\"text\":\"accuracy\"},\"xaxis\":{\"showgrid\":true,\"title\":{\"text\":\"Steps\"},\"type\":\"log\"},\"yaxis\":{\"showgrid\":true,\"type\":\"log\"}}}');\n",
       "\tmodule.newPlot('294146f2', data);\n",
       "\n",
       "\t}\n",
       "\t\n",
       "    if (typeof requirejs === \"function\") {\n",
       "        // Use RequireJS to load module.\n",
       "\t\tlet srcWithoutExtension = src.substring(0, src.lastIndexOf(\".js\"));\n",
       "        requirejs.config({\n",
       "            paths: {\n",
       "                'plotly': srcWithoutExtension\n",
       "            }\n",
       "        });\n",
       "        require(['plotly'], function(plotly) {\n",
       "            runJSFn(plotly)\n",
       "        });\n",
       "        return\n",
       "    }\n",
       "\n",
       "\tvar currentScripts = document.head.getElementsByTagName(\"script\");\n",
       "\tfor (const idx in currentScripts) {\n",
       "\t\tlet script = currentScripts[idx];\n",
       "\t\tif (script.src == src) {\n",
       "\t\t\trunJSFn(null);\n",
       "\t\t\treturn;\n",
       "\t\t}\n",
       "\t}\n",
       "\n",
       "\tvar script = document.createElement(\"script\");\n",
       "\n",
       "\tscript.charset = \"utf-8\";\n",
       "\t\n",
       "\tscript.src = src;\n",
       "\tscript.onload = script.onreadystatechange = function () { runJSFn(null); };\n",
       "\tdocument.head.appendChild(script);\t\n",
       "})();\n",
       "</script>"
      ]
     },
     "metadata": {},
     "output_type": "display_data"
    },
    {
     "data": {
      "text/html": [
       "<p><b>Metric: loss</b></p>\n"
      ]
     },
     "metadata": {},
     "output_type": "display_data"
    },
    {
     "data": {
      "text/html": [
       "<div id=\"bcc9bce5\"></div>"
      ]
     },
     "metadata": {},
     "output_type": "display_data"
    },
    {
     "data": {
      "text/html": [
       "<script charset=\"UTF-8\">\n",
       "(() => {\n",
       "\tconst src=\"https://cdn.plot.ly/plotly-2.34.0.min.js\";\n",
       "\tvar runJSFn = function(module) {\n",
       "\t\t\n",
       "\tif (!module) {\n",
       "\t\tmodule = window.Plotly;\n",
       "\t}\n",
       "\tlet data = JSON.parse('{\"data\":[{\"type\":\"scatter\",\"line\":{\"shape\":\"linear\"},\"mode\":\"lines+markers\",\"name\":\"Train: Batch Loss+Regularization\",\"x\":[201,441,729,1075,1490,1988,2586,3304,4166,5200,6441,7930,9717,11861,14434,17522,21228,25675,31011,37414,45098,54319,65384,78662,80000],\"y\":[1.9373050928115845,1.740271806716919,1.608765721321106,1.4295493364334106,1.4091596603393555,1.3459317684173584,1.276282787322998,0.9538552165031433,1.1211469173431396,1.0575112104415894,0.8651746511459351,1.0079002380371094,0.945870041847229,0.7179523706436157,1.1049443483352661,0.9717222452163696,0.3986932635307312,0.5114235281944275,0.7100256681442261,0.4445623457431793,0.7852447032928467,0.6405561566352844,0.6460273861885071,0.4668564796447754,0.8220787048339844]},{\"type\":\"scatter\",\"line\":{\"shape\":\"linear\"},\"mode\":\"lines+markers\",\"name\":\"Train: Moving Average Loss+Regularization\",\"x\":[201,441,729,1075,1490,1988,2586,3304,4166,5200,6441,7930,9717,11861,14434,17522,21228,25675,31011,37414,45098,54319,65384,78662,80000],\"y\":[2.147197723388672,1.8619349002838135,1.6680160760879517,1.5029330253601074,1.3859893083572388,1.2567625045776367,1.1691949367523193,1.0817595720291138,1.0030250549316406,0.9882437586784363,0.907646894454956,0.8728981018066406,0.8384736180305481,0.7889049053192139,0.7585740685462952,0.7252750396728516,0.690473735332489,0.6712998747825623,0.6502280235290527,0.6272006630897522,0.6160404682159424,0.6397783756256104,0.626043975353241,0.6057541966438293,0.6298123598098755]},{\"type\":\"scatter\",\"line\":{\"shape\":\"linear\"},\"mode\":\"lines+markers\",\"name\":\"Train: Moving Average Loss\",\"x\":[201,441,729,1075,1490,1988,2586,3304,4166,5200,6441,7930,9717,11861,14434,17522,21228,25675,31011,37414,45098,54319,65384,78662,80000],\"y\":[2.147197723388672,1.8619349002838135,1.6680160760879517,1.5029330253601074,1.3859893083572388,1.2567625045776367,1.1691949367523193,1.0817595720291138,1.0030250549316406,0.9882437586784363,0.907646894454956,0.8728981018066406,0.8384736180305481,0.7889049053192139,0.7585740685462952,0.7252750396728516,0.690473735332489,0.6712998747825623,0.6502280235290527,0.6272006630897522,0.6160404682159424,0.6397783756256104,0.626043975353241,0.6057541966438293,0.6298123598098755]},{\"type\":\"scatter\",\"line\":{\"shape\":\"linear\"},\"mode\":\"lines+markers\",\"name\":\"Mean Loss+Regularization on Training\",\"x\":[201,441,729,1075,1490,1988,2586,3304,4166,5200,6441,7930,9717,11861,14434,17522,21228,25675,31011,37414,45098,54319,65384,78662,80000],\"y\":[1.9479873180389404,1.6887431144714355,1.4762221574783325,1.3028804063796997,1.2308348417282104,1.0973913669586182,1.047282099723816,0.9451701045036316,0.9107500314712524,0.910388708114624,0.73036128282547,0.6891148090362549,0.6405664086341858,0.6169004440307617,0.5417259335517883,0.5046582818031311,0.4987126290798187,0.45865583419799805,0.45154401659965515,0.4079904854297638,0.39691370725631714,0.39174652099609375,0.3909326493740082,0.3597249388694763,0.37641701102256775]},{\"type\":\"scatter\",\"line\":{\"shape\":\"linear\"},\"mode\":\"lines+markers\",\"name\":\"Mean Loss on Training\",\"x\":[201,441,729,1075,1490,1988,2586,3304,4166,5200,6441,7930,9717,11861,14434,17522,21228,25675,31011,37414,45098,54319,65384,78662,80000],\"y\":[1.9479873180389404,1.6887431144714355,1.4762221574783325,1.3028804063796997,1.2308348417282104,1.0973913669586182,1.047282099723816,0.9451701045036316,0.9107500314712524,0.910388708114624,0.73036128282547,0.6891148090362549,0.6405664086341858,0.6169004440307617,0.5417259335517883,0.5046582818031311,0.4987126290798187,0.45865583419799805,0.45154401659965515,0.4079904854297638,0.39691370725631714,0.39174652099609375,0.3909326493740082,0.3597249388694763,0.37641701102256775]},{\"type\":\"scatter\",\"line\":{\"shape\":\"linear\"},\"mode\":\"lines+markers\",\"name\":\"Mean Loss+Regularization on Validation\",\"x\":[201,441,729,1075,1490,1988,2586,3304,4166,5200,6441,7930,9717,11861,14434,17522,21228,25675,31011,37414,45098,54319,65384,78662,80000],\"y\":[1.9429305791854858,1.6821945905685425,1.4791098833084106,1.310433030128479,1.2543238401412964,1.1241520643234253,1.0784733295440674,0.9899420142173767,0.9700405597686768,0.9807898998260498,0.8136986494064331,0.7802551984786987,0.7508494257926941,0.741960883140564,0.6681351661682129,0.6396552324295044,0.6495312452316284,0.6357854008674622,0.6252809762954712,0.5922130942344666,0.5761780142784119,0.5982009172439575,0.6054201722145081,0.5713459849357605,0.5762442350387573]},{\"type\":\"scatter\",\"line\":{\"shape\":\"linear\"},\"mode\":\"lines+markers\",\"name\":\"Mean Loss on Validation\",\"x\":[201,441,729,1075,1490,1988,2586,3304,4166,5200,6441,7930,9717,11861,14434,17522,21228,25675,31011,37414,45098,54319,65384,78662,80000],\"y\":[1.9429305791854858,1.6821945905685425,1.4791098833084106,1.310433030128479,1.2543238401412964,1.1241520643234253,1.0784733295440674,0.9899420142173767,0.9700405597686768,0.9807898998260498,0.8136986494064331,0.7802551984786987,0.7508494257926941,0.741960883140564,0.6681351661682129,0.6396552324295044,0.6495312452316284,0.6357854008674622,0.6252809762954712,0.5922130942344666,0.5761780142784119,0.5982009172439575,0.6054201722145081,0.5713459849357605,0.5762442350387573]}],\"layout\":{\"legend\":{},\"title\":{\"text\":\"loss\"},\"xaxis\":{\"showgrid\":true,\"title\":{\"text\":\"Steps\"},\"type\":\"log\"},\"yaxis\":{\"showgrid\":true,\"type\":\"log\"}}}');\n",
       "\tmodule.newPlot('bcc9bce5', data);\n",
       "\n",
       "\t}\n",
       "\t\n",
       "    if (typeof requirejs === \"function\") {\n",
       "        // Use RequireJS to load module.\n",
       "\t\tlet srcWithoutExtension = src.substring(0, src.lastIndexOf(\".js\"));\n",
       "        requirejs.config({\n",
       "            paths: {\n",
       "                'plotly': srcWithoutExtension\n",
       "            }\n",
       "        });\n",
       "        require(['plotly'], function(plotly) {\n",
       "            runJSFn(plotly)\n",
       "        });\n",
       "        return\n",
       "    }\n",
       "\n",
       "\tvar currentScripts = document.head.getElementsByTagName(\"script\");\n",
       "\tfor (const idx in currentScripts) {\n",
       "\t\tlet script = currentScripts[idx];\n",
       "\t\tif (script.src == src) {\n",
       "\t\t\trunJSFn(null);\n",
       "\t\t\treturn;\n",
       "\t\t}\n",
       "\t}\n",
       "\n",
       "\tvar script = document.createElement(\"script\");\n",
       "\n",
       "\tscript.charset = \"utf-8\";\n",
       "\t\n",
       "\tscript.src = src;\n",
       "\tscript.onload = script.onreadystatechange = function () { runJSFn(null); };\n",
       "\tdocument.head.appendChild(script);\t\n",
       "})();\n",
       "</script>"
      ]
     },
     "metadata": {},
     "output_type": "display_data"
    },
    {
     "name": "stdout",
     "output_type": "stream",
     "text": [
      "\t[Step 80000] median train step: 916 microseconds\n",
      "\n",
      "Results on Validation:\n",
      "\tMean Loss+Regularization (#loss+): 0.576\n",
      "\tMean Loss (#loss): 0.576\n",
      "\tMean Accuracy (#acc): 80.90%\n",
      "Results on Training:\n",
      "\tMean Loss+Regularization (#loss+): 0.376\n",
      "\tMean Loss (#loss): 0.376\n",
      "\tMean Accuracy (#acc): 86.75%\n"
     ]
    }
   ],
   "source": [
    "%% --checkpoint=base_cnn_model --set=\"model=cnn;learning_rate=1e-3;l2_regularization=0;l1_regularization=0;train_steps=80000\"\n",
    "trainModel()"
   ]
  },
  {
   "cell_type": "markdown",
   "id": "924fd269-625f-4f16-852c-9796f6b34630",
   "metadata": {},
   "source": [
    "## Inference\n",
    "\n",
    "Inference, or serving the model, is done by using the same code as used to train the model.\n",
    "That is, currently the way to save the model is to export the Go model creation function, along with the checkpoint with learned weights.\n",
    "\n",
    "We created a small library `cifar/classifier` that takes an image as input, convert it to a tensor and calls the trained model\n"
   ]
  },
  {
   "cell_type": "code",
   "execution_count": 13,
   "id": "f6db808a-dde2-4676-b1f4-f4b651c405f4",
   "metadata": {},
   "outputs": [
    {
     "data": {
      "text/html": [
       "<p>Image: (32 x 32)</p>"
      ]
     },
     "metadata": {},
     "output_type": "display_data"
    },
    {
     "data": {
      "image/png": "[encoded data removed]"
     },
     "metadata": {},
     "output_type": "display_data"
    },
    {
     "data": {
      "text/html": [
       "<p>Class: <b>horse (7)</b></p>"
      ]
     },
     "metadata": {},
     "output_type": "display_data"
    }
   ],
   "source": [
    "import (\n",
    "    \"encoding/base64\"\n",
    "    \"image/png\"\n",
    "    \n",
    "    \"github.com/gomlx/gomlx/examples/cifar/classifier\"\n",
    "    // We also must import then engine that will execute the model.\n",
    "    // Currently only XLA is supported.\n",
    "    _ \"github.com/gomlx/gomlx/backends/default\"\n",
    ")\n",
    "\n",
    "%%\n",
    "// Decode and print PNG image.\n",
    "imgBase64 := bytes.NewBufferString(\n",
    "    \"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\")\n",
    "imgPNG := must.M1(io.ReadAll(base64.NewDecoder(base64.StdEncoding, imgBase64)))\n",
    "img := must.M1(png.Decode(bytes.NewBuffer(imgPNG)))\n",
    "size := img.Bounds()\n",
    "gonbui.DisplayHTML(fmt.Sprintf(\"<p>Image: (%d x %d)</p>\", size.Dx(), size.Dy()))\n",
    "gonbui.DisplayPNG(imgPNG)\n",
    "\n",
    "// Classify:\n",
    "c10Classifier := must.M1(classifier.New(\"~/work/cifar/base_fnn_model\"))\n",
    "classID := must.M1(c10Classifier.Classify(img))\n",
    "className := cifar.C10Labels[classID]\n",
    "gonbui.DisplayHTML(fmt.Sprintf(\"<p>Class: <b>%s (%d)</b></p>\", className, classID))"
   ]
  },
  {
   "cell_type": "markdown",
   "id": "df79459f-9aca-4f52-b244-0b6109a69b9d",
   "metadata": {},
   "source": [
    "### Generate a random image as base64"
   ]
  },
  {
   "cell_type": "code",
   "execution_count": 15,
   "id": "898eaefe-5934-473e-a47c-6f01bfb81df0",
   "metadata": {},
   "outputs": [
    {
     "data": {
      "text/html": [
       "<img width=\"64\" height=\"64\" src=\"data:image/png;base64,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\"/>"
      ]
     },
     "metadata": {},
     "output_type": "display_data"
    }
   ],
   "source": [
    "// \n",
    "%%\n",
    "backend := backends.MustNew()\n",
    "ds := cifar.NewDataset(backend, \"Samples Cifar-10\", *flagDataDir, cifar.C10, DType, cifar.Train).Shuffle()\n",
    "_, inputs, _ := must.M3(ds.Yield())\n",
    "imgTensor := inputs[0]\n",
    "img := images.ToImage().Single(imgTensor)\n",
    "imgSrc := must.M1(gonbui.EmbedImageAsPNGSrc(img))\n",
    "// imgBase64 := imgSrc[22:]  // Strip the preamble for a <img> src tag.\n",
    "// fmt.Printf(\"%s\\n\\n\", imgBase64)\n",
    "size := imgTensor.Shape().Dimensions[0]\n",
    "gonbui.DisplayHTML(fmt.Sprintf(`<img width=\"%d\" height=\"%d\" src=\"%s\"/>`, size*2, size*2, imgSrc))"
   ]
  }
 ],
 "metadata": {
  "kernelspec": {
   "display_name": "Go (gonb)",
   "language": "go",
   "name": "gonb"
  },
  "language_info": {
   "codemirror_mode": "",
   "file_extension": ".go",
   "mimetype": "text/x-go",
   "name": "go",
   "nbconvert_exporter": "",
   "pygments_lexer": "",
   "version": "go1.24.2"
  }
 },
 "nbformat": 4,
 "nbformat_minor": 5
}
