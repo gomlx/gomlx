{
 "cells": [
  {
   "cell_type": "markdown",
   "id": "f431da81-4d94-4fd1-8a51-952ef824cb46",
   "metadata": {},
   "source": [
    "# Cifar Library and Demo\n",
    "\n",
    "[This is a library](https://pkg.go.dev/github.com/gomlx/gomlx/examples/cifar) to download and parse the Cifar datasets (Cifar-10 and Cifar-100), and a very small demo of a FNN (Feedforward Neural Network) with GoMLX. FNNs are notoriously bad for images, but it's only a demo. Look for the Resnet50 model for a more serious image classification model (old but still good -- best results as of the time of this writing is with ViT model).\n",
    "\n",
    "The CIFAR-10 and CIFAR-100 are labeled subsets of the 80 million tiny images dataset. They were collected by Alex Krizhevsky, Vinod Nair, and Geoffrey Hinton. See more details in [its homepage here](https://www.cs.toronto.edu/~kriz/cifar.html).\n",
    "\n",
    "This notebook serves as documentation and example for the [github.com/gomlx/gomlx/examples/cifar](https://github.com/gomlx/gomlx/examples/cifar) library."
   ]
  },
  {
   "cell_type": "markdown",
   "id": "bd398a51-c10a-4d05-91f7-f978856a8d8b",
   "metadata": {},
   "source": [
    "## Environment Set Up\n",
    "\n",
    "Let's set up `go.mod` to use the local copy of GoMLX, so it can be developed jointly the dataset code with the model. That's often how data pre-processing and model code is developed together with experimentation.\n",
    "\n",
    "If you are not changing code, feel free to simply skip this cell. Or if you used a different directory for you projects, change it below.\n",
    "\n",
    "Notice the directory `${HOME}/Projects/gomlx` is where the GoMLX code is copied by default in [its Docker](https://hub.docker.com/repository/docker/janpfeifer/gomlx_jupyterlab/general)."
   ]
  },
  {
   "cell_type": "code",
   "execution_count": 1,
   "id": "22abc207-e8b0-44ef-840d-fee3550cffca",
   "metadata": {
    "tags": []
   },
   "outputs": [],
   "source": [
    "!*go mod edit -replace github.com/gomlx/gomlx=\"${HOME}/Projects/gomlx\""
   ]
  },
  {
   "cell_type": "markdown",
   "id": "443e9e56-ef12-4d04-b7bb-99478fa2b662",
   "metadata": {},
   "source": [
    "## Data Preparation\n",
    "\n",
    "### Downloading data files\n",
    "\n",
    "To download, uncompress and untar to the local directory, simply do the following. Notice if it's already downloaded in the given `--data` directory, it returns immediately."
   ]
  },
  {
   "cell_type": "code",
   "execution_count": 2,
   "id": "a61fdd1a-74a0-46f2-9cfc-f79bfa37e298",
   "metadata": {
    "tags": []
   },
   "outputs": [],
   "source": [
    "import (\n",
    "    \"github.com/gomlx/gomlx/examples/cifar\"\n",
    "    \"github.com/gomlx/gomlx/ml/data\"\n",
    ")\n",
    "\n",
    "var flagDataDir = flag.String(\"data\", \"~/work/cifar\", \"Directory to cache downloaded and generated dataset files.\")\n",
    "\n",
    "func AssertNoError(err error) {\n",
    "    if err != nil { panic(err) }\n",
    "}\n",
    "\n",
    "func AssertDownloaded() {\n",
    "    *flagDataDir = data.ReplaceTildeInDir(*flagDataDir)\n",
    "    if !data.FileExists(*flagDataDir) {\n",
    "        AssertNoError(os.MkdirAll(*flagDataDir, 0777))\n",
    "    }\n",
    "\n",
    "    AssertNoError(cifar.DownloadCifar10(*flagDataDir))\n",
    "    AssertNoError(cifar.DownloadCifar100(*flagDataDir))\n",
    "}\n",
    "\n",
    "%%\n",
    "AssertDownloaded()"
   ]
  },
  {
   "cell_type": "code",
   "execution_count": 3,
   "id": "345076ef-e2a3-4405-b47d-801c9ec62b91",
   "metadata": {
    "tags": []
   },
   "outputs": [
    {
     "name": "stdout",
     "output_type": "stream",
     "text": [
      "total 323M\n",
      "drwxr-x--- 2 jupyter users 4.0K Nov 26 11:52 base_cnn_model\n",
      "drwxr-x--- 2 jupyter users 4.0K Nov 26 11:51 base_fnn_model\n",
      "drwxr-xr-x 2 jupyter  1000 4.0K Jun  4  2009 cifar-10-batches-bin\n",
      "-rw-r--r-- 1 jupyter  1000 163M Jul  6 14:33 cifar-10-binary.tar.gz\n",
      "drwxr-xr-x 2 jupyter  1000 4.0K Feb 20  2010 cifar-100-binary\n",
      "-rw-r--r-- 1 jupyter  1000 161M Jul  6 14:33 cifar-100-binary.tar.gz\n"
     ]
    }
   ],
   "source": [
    "!ls -lh ~/work/cifar/"
   ]
  },
  {
   "cell_type": "markdown",
   "id": "93d4ae39-915c-478c-887f-b1c8c080865b",
   "metadata": {},
   "source": [
    "### Sample some images\n",
    "\n",
    "The `cifar.NewDataset` creates a `data.InMemoryDataset` that can be used both for training, evaluation, or just to sample a few examples, which we do below:"
   ]
  },
  {
   "cell_type": "code",
   "execution_count": 4,
   "id": "0dabc63a-b918-4065-9b23-0c5a22446458",
   "metadata": {
    "tags": []
   },
   "outputs": [
    {
     "data": {
      "text/html": [
       "<p>Samples Cifar-10</p>\n"
      ]
     },
     "metadata": {},
     "output_type": "display_data"
    },
    {
     "data": {
      "text/html": [
       "<table><tr>\n",
       "<td><figure style=\"padding:4px;text-align: center;\"><img width=\"64\" height=\"64\" src=\"data:image/png;base64,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\"><figcaption style=\"text-align: center;\">bird ([2])</figcaption></figure></td>\n",
       "<td><figure style=\"padding:4px;text-align: center;\"><img width=\"64\" height=\"64\" src=\"data:image/png;base64,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\"><figcaption style=\"text-align: center;\">horse ([7])</figcaption></figure></td>\n",
       "<td><figure style=\"padding:4px;text-align: center;\"><img width=\"64\" height=\"64\" src=\"data:image/png;base64,iVBORw0KGgoAAAANSUhEUgAAACAAAAAgCAIAAAD8GO2jAAAIPklEQVR4nDRWa29cyXGtV9/3vEhRS3JFeZ3dyIltwHACxPkn+ZYfnDgIEiNAkLW8Em2REofDed5nd1cFPUoG98PFne4+XadOVR3553961+P62e8VtCRZFYs6q5HIMAL4fuoOUzeG4AE0gnmYFCIiKppiVOdVTBmM4Pwz9ACBLaIGMAMA2e32PJ9ELCoQIaIBRAM0Q1PR6GLAGCACmIJFMEUgNiNVCipBGSIhfD3NgCC9g6Vjzh8FEUSA2ciAAQAVQBHN0h0FzEH6rPh1R9oOkNaKIiuKnjeR6vl8RAQgMP36hmYmZoBkRAmN7PwR1EyDJ8YsYyZoiTT9T6iUoCEtJAUxYAMBjaoJGM/oaUEKIfFBAHRso06cIwoCM1KKRRHUhqaIVdFlC1syMhMyOqB05QgUz5HC+U54vqlZUJtIg5gSKJgmCtioH4YYVAgTUQLImHDVSiljPziTd2+/n2U1w/k65FgyooyYOa1Pakg4oOcnpYhSqIkhgxSXmHkwFpfoZVDmSECoblmKq+qf/fwd53iKuz8+vm/JCzvMxCV+khL8hKpRMRqqQaQUekKjBGtoSVvCYsQkDgGBTJk0acILh+ndL97shyGcejtGDpDlphJQ0opoNHlDhBgBIirS1yx/FRP+n6DgDJBBDIHlrDAFTgoHAL55fSGk9/f3ry8vasluL18/xkfNI7oImATKA4KqZkBKJhpTqhVDwogpJYAGTCSamU3ACOAAQ6LSRrGBvvnuZ8uKf8N5VH1zMxvp9vf3uOUNZQHIwmSiQAHI05SFED3EwGaagY/mg4VoDjmTnL//W8kmq14ZuCQvgSyOZenu/u7vf+e9vnlz4/2+dFRUyxAKIhGnlAdiTaV4luZXCQlpzkCcCCJANKw4WxWVlBnpKdqUWT6lYgVOWaO8n/B5czrsN3c3q/XD43q9LmJ5FV+PuTu6zx2fyPRMA4YIUYlNGCJEYDBHMs/dnPOLspGmdFLXGCBGj4bRYNbM3r663m0ejvunh5fHT38cUP0ERb34ZibOhVmd4zM9xrwNHryYOJJAZEpqquCIKy5mrnkl2SIvaLls3tzegZYxoCl4H8si/9Vfv1mUULpx0eTTaBoBdDocHmI8llDBpijHJWuOZ0GeH0BQUD0XULZqZlfzxavZYllWAjxs+3HXT1kOyorgD91hOk396RiiZWU5v7Tjdpe7nCHi1I7qHJW2npoil+wk/JJBQJcXRVO5sqjmwcd2eySNg8aCMxlCv376MoXp1WXKGEJsh+PTdrNsauSs7w4XzXyWO4tDhipZ+fHzgVFu6/nj7jhbXl/IMqtONfHq8vXl1fVhDI9f1utTSGk5a1WiaBt6HSkGYj43Rpy2067hRVkvBTUGb+qDPw7jYFYcdl0GsOAejk9t25RlNWvKssw+fvr0uDvECRzwzeJCUle0Y+/5b/7Rtk+kndQXkTNlgtTwZLGcX2fEVUmalEHIPExxUhdMIHjfPyuGz5uOxZqri8/t+OP942kyQa5clomA6tD1+91Rgqm3YF78ZDkRUGS2+/WfFuXNb3/45XgMkI9B4eLqupqNH+7vT/7ggE2zySSg7gfUzen55bScXc+LusmRhcg5yXMWXj9v+df/QH4gf8K6QWpSk2fUwP54GAUXzlXoR4LEZ5bndTObr5YmPAFOwSazMdLQnxZFvsiaZZnVJarS6eSznO9+fvX8sudf/45Q8/FgZcH5LI2ppDkBP+nz+qWqyuV8XtX5YllNY9f3Y1Hm89Vy158OUycOF02xLHDussw1wbBXed50u+eNxaFpysennaSplgGxDidbTIyZj+f6J9d308N//M/Y3f3m+ze3TrMQmcj+/JePCtCFMTieF1mN6Gi1PcjHh3Y7+HHoGp3uVm6z77s/jI/bQWJUIk3TRou55BPHwTGbqASpeZzaH5/+c9T196/f8jQN7X42q172uxzhsqgqyLJIY8xf9t3T+tSqH8ejWXfM8u2uO/Qxq1f87rdpaMc2L6C5uZ5BMahzghUmE8CuxGx2UN13p+c4+cvVlffDbr9ndDkU2lO3j93hYGP33fXVqlQf28l37dh+mcI+4mAgQngeevXxqJtDnC2pZFQT0IIR2EGZFxUWl9Xsh9tfPn04bZ/XdV592fj2tM+Bx0NbFZMjrYp5Vdd/eupeovcEXkTBur6VrGbyboTqRcOmHWY5kMTU2E0oDV+skW6W3/7iu189fjz99P7jd9cXh+Mw7LffXl5dXdz8+7/+YevbgH6vUs7y6IxLjJji15j8hUjBGUouXDd1hBdjwAxY05zKqKjA3ZbLv/rmXftlfP9fHxfNYjWfv6z/rH2n/aE9lbvutA9tEIVhzZ31NLmGLBVXjJiaoNR5mVeyLfppMxYaM3SphZgTdWWs3l68fVN+45+DI7LR/3T/Yf+ged4w15823eHp/a5EyhcWQgBr4TixT3PIgKM5R8ogum9aB0OMguGyaq5chcJtF4edj0HY8Y8/flhdzI08arDgT7tuq8PBOy0kzEJVVsQSdx0L6+T7bkweEJMDIqQYTe7/jR6PY8Fulht5cpuLt7d3//LT79u91Vn2fv/f43HcbOeHtsuaeXKHVn5a7z/H6faHql72wxC6VvoQpzaYoTPW5F4NBY0MUaVwxe2qOey33Wk4HWm3HSCsd89bnTgc4+xbF1Ee1tvH3XHEHZrOMnjBtnyNzVVnMFAkiiguhBBjOPtHOzugZI0w5aCq5G65WBdxu00tYr3vPn0+rJ/3jqgS+nC/tUgtwF/2e6pldUnZa7wrhAtF6/wEPkKIPjkWOxufszPC//dGiPC/AQAA//8F+kccxc0SAAAAAABJRU5ErkJggg==\"><figcaption style=\"text-align: center;\">bird ([2])</figcaption></figure></td>\n",
       "<td><figure style=\"padding:4px;text-align: center;\"><img width=\"64\" height=\"64\" src=\"data:image/png;base64,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\"><figcaption style=\"text-align: center;\">horse ([7])</figcaption></figure></td>\n",
       "<td><figure style=\"padding:4px;text-align: center;\"><img width=\"64\" height=\"64\" src=\"data:image/png;base64,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\"><figcaption style=\"text-align: center;\">frog ([6])</figcaption></figure></td>\n",
       "<td><figure style=\"padding:4px;text-align: center;\"><img width=\"64\" height=\"64\" src=\"data:image/png;base64,iVBORw0KGgoAAAANSUhEUgAAACAAAAAgCAIAAAD8GO2jAAAJ/UlEQVR4nBSUR3McZ2KGv9Q5TE9OmAEGGARmhd0VpVpTlr1r++qyb77YJ/9D+2TLpUDJtRIVSJEgwSEwACaH7ukcvrDF9wc8h/epesjRaYVzZmtS0yFhAsaLkHOmqUal0rKtiuCZQhDiMKUMEElVVNN2bLvl71bj8S95FhBJ1zVLUy3BKITQqbQB5N52rsmkXdu/md0SExNDQ6ZBwpQu3YJzhhDinOZZHqGAYKEQg9G8yFirdWzodrPZHxw9Gr97sZiN4yCQZKIbJmSc8xRhSVMkjDnXCUZElrBpaqTryEmWLTfpJskLygmGGCMBeJy4GBZEL3EOBACMA1WxNKPcP3rUH9z3dkvLLKXBEgrK09SxbL1i62a5XOtyGtkKS6OMiNxUJGxbfLpjGQdECME4ZQBBTIgEAICAc8ERQJpm+JEXBS5jBZLUzXb27uKH7WYWxT7jtNVo9ru9er1hO+U0zsNg63qLxWoOirwoCnK1yFWVqDLKKU8pf8+F2HEagLMwnBeskCC2dNOyrSh0pzdBFIem7fAiztK0ZJfbrXq7VSMIBNFWRMRzd7vdOkrCOIpkoWKsEsYBp7SAhAGBCUKIVJzu4eHHgrHz118LnmVJnGd5Y+9suZ6sppd0dWtoVqPRr1YcUyOORTx3M1nt4jQWgEVRnCaJJBOMCYWYc0A4Y5QKDN/TMZGIpBt6yTBKGAFZUbOUCoEd0zrrHe53j4LBkDFRrnY1zYAiLOL1dHK9dqONt/N2LuMFYzzPc0XBikx0yTIV+b1rFXPBOWSCMZDl8SR+m6a+Yepx5OpaudMenD36Xad7ylnOxZ6AQLebglN39my+maRJkRYKhxoTcRBFXHAIUBalOOEq1iQL4WENAgAwF7IQRSGyPI/zTECu6wbBlmV0zobHTYcnGcVE45Qqir1zPVSMdbDdeGtVVd+OR1GUAYApyzGEsqwIwSgrIIK6JCMDCSwAhihnKKGCAsChoFQU2XvbWe4hkM9uLieT7wVUKp27ilbGyEvji/XktlJ2En/tepsg3sSJKzgFAAghwPuJJEmKPCc+k900B1jEKeAQSQoom9Vm61jQbLd926xXGtWSZh4KYkiKWnbsOKZpLAvYKkplx3YubwNayAJklMYEK/D9HRJEmAtBOaNCkAzpOUttXa1W7J0fUYHPzj47OvyAFb6p/0kzJCRxTXcyjhbjn6evvx7c+QRCpeAVq91Oi/zgBJ2s/Rcvf8oplSRdllREVI1UMXIhYAIRXDclSvnpnT988fheycCut6uXSvcffPjw0d9XKl2nqnX6ndHbl2niyyiHHGRZnkSegAotUtNCdx7eXyxmCKPZciYAlGUNY2IYVUwkxjIFwfepUCCoVo4v3rz2Flc6Kjp73cPj31WrrZcv/vfi/Juy7fQOelFYCKZVD3uqZkZhJug8CWdn9+798utzlLF/+ef/bDX+64dnT8MkxCjlAlCW8TyAioP399puGBAROzVrOt8qVuX+7/98dPp54E7Xi6tgcT56c244lqKaYYiT9LrR6Fp2O8l3O89dz+auuyEEHd/5VFPlOJ4mWQEgybI0T32MhaYahAFUYCXmQrYcxTQY4MvlZL64nI6fB36QwHJCZ9420TXz9O6JbQg/BXGwxgJZVi1ajzJvFsepu7wuVZrdVocLHMbZcrnxvYBxLoTA7aoW+v5q403evXV0vXtw13Saob9bzC5UWTo4vOfYlf3esNmoxcF653nr5VW4vRRFFEcuoH4ax5vJCBLVqgymk/OPP/rkyZMvup2G45QQgJAz0msfpCnN3EW13v3kyb8e3/3DLkzWm7FlQdskNFiyyHvz2xjjACEkAJARezA8LjfEzXSuVJt6RY38q5yG8+WN520TbrUPPxscf/ok84tsvVzMyHB4r9Z/9Hb0XX/v9Ozh32y2c1WvUSbPr96M/O+2q22axJpJet16t9PmNIl9//mzZbVRJUpexPOdHyhqoRolWZK6e6eT0a8/MFFp9m5uR6PRq053j7x8N9k7+ejOoyclrcQBefXymao3aq1OgbXJdBzuPF1VWEq2S5oHCyQYBphVdTUhw/5ACPHit+sE1vRe0zaaek9b3P6c7S4SNfvx+//+6uunHBN8MrwfptFqvWzW9+utwXz2Itwty3al1WsKliaBR4sUI4ZgoamkUrVNW1d0bJoKkXUk11VrIOQ9WSFJ4qsKc5zu1nN3fnA1Hhc063T6+PEnn1/f3uRJ0KjU682D5fy3NFyzYlXWYbdbz/JovfIhEJQCTZEMBcmq0urs7XX2+kcf1Jp394f3ojBZL9bXt5dRsOvv3wFM/Pjs/0rVYaN1olslcj1fr9aLSkl2vWnkb9rN9mx8DkH+62qOkYAcHQ16nZYOOS5XzMFhz7ZLuqrYTq3eOlxvigKwg/3Sm/Pnq+m70qCfFaygfDGZNHBtMHi42KxwXVd71TLmnAuaUQG5NJu+uXg33myWWRRiyGXCLdNSZJlAALF6MBgyjuczN0uy5t5gOp1k6fbpdz/c3lyWbbV98Ps02o5HP4UJCMIYYUj26xYm4DLIub813VmpdLLfP/TdxcWNv6CwUQshAKtV4FhEkph8fbNcLJySNVu4Aqi9F6Pp9ObNePb0p7eqxDcbf7O+oakPkERk2XQczQlJCsCLi8tSqSHxTIJBxS51O3+SEdP117NNMFtMozQv6+l+17QMlLv50n2hqXqccCzx//nq262fJwwRWTVUpds/3nkb3504jToh9WrLdJox/ru//accAJqzouB5sqV56JTavcGwXjbPTu/u91oQ89XW50htNBoCqm6Elh7Y7jLdKtuNpmaWjg/3P7w3OD66s3/yAeN5VmyxxnPKSeU6CGb48af/CGW1yPJ69Shj7GL06ptvv1xv4wcPH5yfv966xV63f//OQ0b57WSe51zCxuDgVNKwbVrtZv/e3Qdnx6e2YTU7B5PbcZ5M/d1alni1VVJ0nCUAnw07q/mkXKkbprnauIu1u3W3V+PR3ZOP+0enXz796s3oahdkYRRdXt/kmcCS4ic7LqhM4MHhsOo0NdXBsvnNt19evvqRZ5lhSLahUg6zmMkmhP/xb/++2vo5zeN4d3Rw36nUxlevWOavdy5lmmPrQbi4uHjHWR7EuabqmmbaZfOPjz9r1Ruvzi+r9Wq90Xr27PvAW1dtO/SXss0yVPBCQRgfPHLw8PCAYBYngSPhfrN/cPJQwnKnWkp4MLp4++hD44svBu1Gud2sEuI0yjWNICjojvp/+f4vP/3y/17uzubTPIkIQgyb1/PVdLGo2K1qvZTSIAcBPjsaOiWzZjv7FTtKgl0itus5yGMJGN32HlISynIkZx89/uiPT/68DdZJXLh+ZA+zg2GlpQ+dOgIK1EBZhnTruYIDU3N6nWp3L+udyJ8//oe/BgAA//+0l9kx/dQumAAAAABJRU5ErkJggg==\"><figcaption style=\"text-align: center;\">frog ([6])</figcaption></figure></td>\n",
       "<td><figure style=\"padding:4px;text-align: center;\"><img width=\"64\" height=\"64\" src=\"data:image/png;base64,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\"><figcaption style=\"text-align: center;\">bird ([2])</figcaption></figure></td>\n",
       "<td><figure style=\"padding:4px;text-align: center;\"><img width=\"64\" height=\"64\" src=\"data:image/png;base64,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\"><figcaption style=\"text-align: center;\">ship ([8])</figcaption></figure></td>\n",
       "</tr></table>\n"
      ]
     },
     "metadata": {},
     "output_type": "display_data"
    },
    {
     "data": {
      "text/html": [
       "<p>Samples Cifar-100</p>\n"
      ]
     },
     "metadata": {},
     "output_type": "display_data"
    },
    {
     "data": {
      "text/html": [
       "<table><tr>\n",
       "<td><figure style=\"padding:4px;text-align: center;\"><img width=\"64\" height=\"64\" src=\"data:image/png;base64,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\"><figcaption style=\"text-align: center;\">road ([68])</figcaption></figure></td>\n",
       "<td><figure style=\"padding:4px;text-align: center;\"><img width=\"64\" height=\"64\" src=\"data:image/png;base64,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\"><figcaption style=\"text-align: center;\">snake ([78])</figcaption></figure></td>\n",
       "<td><figure style=\"padding:4px;text-align: center;\"><img width=\"64\" height=\"64\" src=\"data:image/png;base64,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\"><figcaption style=\"text-align: center;\">pickup_truck ([58])</figcaption></figure></td>\n",
       "<td><figure style=\"padding:4px;text-align: center;\"><img width=\"64\" height=\"64\" src=\"data:image/png;base64,iVBORw0KGgoAAAANSUhEUgAAACAAAAAgCAIAAAD8GO2jAAAFbklEQVR4nGRW65LTSg7WzbdkmDqHhS1e4eybb9Xu+7A/eAOYIYQktrtb2pLkmAynB1J2u63b9+mT5d///U9rDWJh/JlZ3hr6LxEhoqoSICJaLDUjQrjfxmkD88Oquu+wiIzjWGtFRPjbSgfolmB3kO/7FRPEvp9BtLZd7AcAgJmltVZKQUQiynAwVjp4vFUzBLxcLoR0OB5arZ6Kaj423YymSyKKHEz22DP935LYz0VGQITn85mZp8PUWlPbbJmXdzP9pgZmslv/Vbu7Rbt73fbDXr0H7sjhFkFagAcf+QoiSm1FtZlpAEy/+a8t9994ylDMS4g7nnEODfLJrwIIQGu6YeCJGgC9LZWBAjDdgUkWRaQ7Zls8alvs5lHk2xKJ+D/VFhEBwZusNwq+zWxzALYf2zf99s51x+D19ZWI+r5nligG7LTZY8yL3PREA5y7ffjtZLyMZhkByOf/fWbiw+Hw7umddKOwEFHXdUTEsR5bJCElQkLUB7uP1iOULS0EEG26Luv1ev327YWpQyQR2R30fT9Nk6o+Pz8Pw8DMrTXLdsVfUf+Wd7bYhoF0krXTWFFJXdd1f60TP/Djx4/n52czu1wux+MxDT+SYUciANgeBYsebiAeA24NIShmUEs10/PpdLtcPN2ytlKP02E4jCKy1w28bF51jK77BTK84Xju3oFSTdij5qDVNVFre/n6db7dhmnsh0FEPnz40HddJuQuw8FeMdkbeFOVB+Xw662NjIgx4sriIsDlcnn9/r3Wervd3r9/P02TiKRu7stLtKP/2PSuHKZ8bwhVFZFUQ2Z2/N2Wv1hrfXl5WZbl6emp73tEfHp6mqYprfmL4zhmj6S85GzYJN//b/PgkYibNLgGtNw8n8/X6zWPffz48dOnTxTLi6baiLjrOlVlZjNb13Vzk0oZy6Uzwk8HrfpfKcU1NRagA2Vmy7LUWkUkCkuyrtWsdJ0gUgRIwzDmkCBFYS9r7Dt2zLzpAREbCvN8u9VaxmEkZgSoUYM07WV3eUCppWhr986A6N+eekFXJ0NiL2HTyCYDJRHuOmKCdb60svA0QgwcBnAFLtX6gWKoSqboyuxCv6mip8YstDV9xEKppxGaS1Ft1by8yEymzTwztDuedw1RqWUtpWSjxAPnYK1WEBgtJ0GKEqF1HYYBE6E0ISJJHiDKqVlrPZ2+N9C+75v28v4ffyRQ+ZvlK2VtTZ0lwettzAoBtj///ENVb7cbC7Ny1jq/SIgpafL6+nr6eZLONU3evTtiNqpuxEy2ElIrpZaaDdh1zopxHP/611+m+uXLl3ledsxa01paHHM21lbqUthx6mRerkGKqGxASIwsHZgJjeOwTYKuEyI8Hg///PhBtX379vV0+pGa6N8m0vWuv5SAGSqwSifDMEgpVZviXcLVlDB7BMgoxxYhNq3TOLAwgCKhCLVW13UVcQsINE3T4XBwMxGrYYUISxDu9LSY+s600FuFBnHUh3YFtcG/cczAOUbs873vu3GYarV5vvUDG3TO44g2qKlWm9x1Fcy85ilK0fSuaA4aKLEDmPIg4t9q67rWsnrfrusyl2VdxknWdVW1UCHvfAAoVOV0Ou3KN8+zfyKGTrWmCE4DtcKMfc/r0B8OB1UtZb1eb8uyzvNi2diA87zGuLJ+6FNggrImt9utlCIiKZP3oRo4oEs0eyd7s/fC8zx77NW/o2p1XUDEjd8Kzm3XCYczxGbVprKPPe/eSP9hvsc3rsuWZyAiy7KEg3K9XJdlOZ9/rktdlqqpE9EEqisihFcXR+/DfRJEREDEqXpOn2w6LcxjsWKqP39eai3fT6fr9Vp8VedAbdM0DcO4Ty2RTQL+HwAA//84W7vbbziWWQAAAABJRU5ErkJggg==\"><figcaption style=\"text-align: center;\">rocket ([69])</figcaption></figure></td>\n",
       "<td><figure style=\"padding:4px;text-align: center;\"><img width=\"64\" height=\"64\" src=\"data:image/png;base64,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\"><figcaption style=\"text-align: center;\">maple_tree ([47])</figcaption></figure></td>\n",
       "<td><figure style=\"padding:4px;text-align: center;\"><img width=\"64\" height=\"64\" src=\"data:image/png;base64,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\"><figcaption style=\"text-align: center;\">lamp ([40])</figcaption></figure></td>\n",
       "<td><figure style=\"padding:4px;text-align: center;\"><img width=\"64\" height=\"64\" src=\"data:image/png;base64,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\"><figcaption style=\"text-align: center;\">pear ([57])</figcaption></figure></td>\n",
       "<td><figure style=\"padding:4px;text-align: center;\"><img width=\"64\" height=\"64\" src=\"data:image/png;base64,iVBORw0KGgoAAAANSUhEUgAAACAAAAAgCAIAAAD8GO2jAAAIR0lEQVR4nGRW+W8bxxWeNzN7cJdLkcv70GXrsiI5jnygaZAERYGif2t/aX5qgBaIGzd14iaxLVuUZFEWKVHiId4il+ReM8WQoiLHDwR2Cbx5783b7/veo31rwDlHCEkYM+Rj3z/J5wuHe41aZXH5zsM/fj2XzCIEGBNAwIEjQAghABBnEALEEeIc4ck7QuLv5DkzOvVGCDGOMGdvfvrh2bf/kAhctVvn+3k8HG198VViaU0E/uDgBwbcF3EBo4+c8C0vaFUuXnz3LxgNMHOiESOsq8X8m++++duw1xV1AkPXdU9rn5XMOeL+5Mf4R7kx3BjzjvNvw5qaTMaTi7n4Qi6xkBt74/eH+Z+/fwq+L7ox8xWBOWeMiegiB5s0hyH2+xx0Vj3Uz8/evvw5bmghM21kUwHdaNfqSA04pdNRt9mtnUdy2WnoqXHOAfGrXvf05MQeDeKJZDo7L6sB0TCObjxnLeLstHDojYdqMBhbWtl+9OX2k693vvpLemUzmsldFAu/fP9P5vtTOMyMWdZgb3cXYwib0Xq9vvfmtTu2OGPT9FPDEyOu41TPSvFoxEyk7mw/CEZSQPVQNP3pky/iuSXu2eV3+UGvxyYJpic91yuenKzf29jc2lpZv/dg56GmKvtvXjPfExjj08YgjBl2EQya7W71Qg2GI9klYy7K2OQbAsyZibUHO0Yq41p2YW/X55PozEPMrVYrkWg0GksAJhyBrGrL6+sec2vl94z5Ag+2Pe41KWLAgfUaDRmDpOnhRBoTIiCDxE0B4/k7K+U7q4NKs1UtI+5zRDlnvW6HMTafyXCYVCLgBZKqr2xsvnrxYySRw0Q5+N/z40KeMkDYd5v1i2QmHTDmImb05oJTk6hyZ32j/u4oKEuOZVEj1L/qD/qDTCZzg6gJvYBzrIdMM5rsXVYvK9XjgzeX7RYVlx5bxaN9TSFJMyorKv8d0ICY6YwWi5SLxaXmpRrQXNdLplJUkn9DC4jrMgSYyOnswtGrF1a7HgxQksthhHi/cdnvNDgmkVgcUwoTctwwHCEI6EY0l2s3m+1aBQOKxuKyqgImcE1dwRAuuireA2qgU68gd4gQz8wvYkDsrFCQJdDDkXAsJuj+AdtFOkKk9MJSKBxpnJ8h5mOMEeDf+nMN9Eken3kjK6gqCHBgLry2uYVte1QsvJNkKRQ19VCYzSRgdnfOAAGDcDSuBI3z0ok9HH4sOAhEQsw54X6jVPAchynBpc374VgKNy7rlbOyosipbJYqyu3o15KAGOJI0+e0cESmpNNszqTogwyMceC8cV66OMozxu/tfJ5eXueY4Fa9ommqEY6Z8QwAudGxa7kRvBevkizHswtz4Wj55D1i/u9wwDgCb1zc/fH925cuR4wQogQIVYRUOL1mPBWZS8xroThH5LowJvSec+5zwGIIcAYslVuuNTsHr34ddVpCNW4l8BE6O9zNP/2m37yIrXwSy+QoIRiBgEGxUBhYVnAuTKl0S2q4D5gBBi5EFBCSAJKpeDgU5J5bOz+bzJlb5gyP87scaGJxeWN72xoNOeNTH2r1r8JGwAhHJjj7raU+EMQRRa7TH5T2Dy8aVTOeSMXMXvPyMP82t/kJxiqaoWjUayrI1+aX1h7+gSpqq91xfTadHVQioOu6EggAxrdgJwSeAG9Xy6/++2+v1nKQL7NRt1kH7g2uuv1O20xmbpytZq1VO3/4p7/Khmn1OpZlSbI84TfCguCMUYKvSXUNIE6YP2w387/85F41JDZWsQ/OwB0NZAkT8NvVCmeMz8R12O9ag14okeVYHvb7ZjSqqIEJVji1x/bYspjv3sxxoSuMY2fw5vnTcaejKSrGqi/RTveKSlgBOuh1+s0G8zwsydMDY3tMJCppBiDertcIkICuTZmNXcfptJpX3fZNOZM1AUr7u63iQbde41SPrW6l7z+OL21giSJgEkbHe3vdVvvmk9mMYYlyQnzXqZfLvutRSWHTjxwMzc1JvF4u3d16TOUATNJelE/fvviBerYRT9zdepi6u+GripdpD5oXalAdW26l0j4rnZjJBAci8Aw4kckBh0GnXTs//+SzHUzJtB84nEwy7p3v7Z7ld51+x+n3zo/eHv/61LN6WDVynz7KrG9JAV3Bkm7G0pufDR0Pc1vXaHn/9eiqxxjjzLY7zd5ATKHi0V7AMGLZ3KRQghCmZib7/YtnEVV59u3fY9lFjEm/fbl6N2eHI2buzvLmFpk0WqguxunltXcvn1udFpGCVq999v547cGO59hX1cqg73Sq1ZODw9zCkplM3Yx7fHfzvpHMAqX9VtXtXTZO3ynIKZ1VSSS2vvNIVvRbgiZ0OzO/RGWFIj9k6IWDveJBvt9ojjqdWFB79fy5O7aNiCnEHF3vUNhMz9979LmHqaHr8+mkEVADiqKHY2ufPQ4m0xzwbc5yTBdWN0BSfG88vGp1q8WDF8/2fvyP7zpqQBnbo2g8ubi6CpigmShgROUnX/559f7OwMcv9wtjREnQ3HzwOLW85oIkls5bog+Ao6n51OKKpOmL84k5yVO9vuyNdDPKFCVgRu5ubwUj0cksItdHrmyXcN/r1M9Kp912S9O07MJiPDPvKwoHLHF+W8B9hAhzWuXCT999i+0B9hwM1IgkbSo1BuPFe9vbD5/IckDMrKnuAILhyBaLkZhcDPmueFIFxNpGJlH9a/W+ng0TrnijYv717vOnfNSXJSUQzYRSC4YZW1q/R1UNiwYhNJM2sIcjwNgDCQiXwBcLJ0hUkBkDIE48xPFNAsQ9H4i4lWtdlo5rpSMMOLP+qWbENV0HKonxBwhP+u+DANL/AwAA//+LETq1BAlviwAAAABJRU5ErkJggg==\"><figcaption style=\"text-align: center;\">snake ([78])</figcaption></figure></td>\n",
       "</tr></table>\n"
      ]
     },
     "metadata": {},
     "output_type": "display_data"
    }
   ],
   "source": [
    "import (\n",
    "    \"strings\"\n",
    "    . \"github.com/gomlx/gomlx/graph\"\n",
    "    \"github.com/gomlx/gomlx/examples/cifar\"\n",
    "    \"github.com/gomlx/gomlx/types/shapes\"\n",
    "    timage \"github.com/gomlx/gomlx/types/tensor/image\"\n",
    "    \"github.com/janpfeifer/gonb/gonbui\"\n",
    ")\n",
    "\n",
    "var (\n",
    "    // Model DType, used everywhere.\n",
    "    DType = shapes.F32\n",
    "    \n",
    "    // Global manager, also used for all graphs.\n",
    "    manager = NewManager()\n",
    ")\n",
    "\n",
    "// sampleToNotebook generates a sample of Cifar-10 and Cifar-100 in a GoNB Jupyter Notebook.\n",
    "func sampleToNotebook() {\n",
    "    // Load data into tensors.\n",
    "    ds10 := cifar.NewDataset(manager, \"Samples Cifar-10\", *flagDataDir, cifar.C10, DType, cifar.Train).Shuffle()\n",
    "    ds100 := cifar.NewDataset(manager, \"Samples Cifar-100\", *flagDataDir, cifar.C100, DType, cifar.Train).Shuffle()\n",
    "    sampleImages(ds10, 8, cifar.C10Labels)\n",
    "    sampleImages(ds100, 8, cifar.C100FineLabels)\n",
    "}\n",
    "\n",
    "// sampleTable generates and outputs one html table of samples, sampling rows x cols from the images/labels provided.\n",
    "func sampleImages(ds train.Dataset, numImages int, labelNames []string) {\n",
    "    gonbui.DisplayHTML(fmt.Sprintf(\"<p>%s</p>\\n\", ds.Name()))\n",
    "    \n",
    "    parts := make([]string, 0, numImages+5) // Leave last part empty.\n",
    "    parts = append(parts, \"<table><tr>\")\n",
    "    for ii := 0; ii < numImages; ii++ {\n",
    "        _, inputs, labels, err := ds.Yield()\n",
    "        AssertNoError(err)\n",
    "        imgTensor := inputs[0]\n",
    "        img, err := timage.ToImage().Single(imgTensor)\n",
    "        AssertNoError(err)\n",
    "        label := labels[0].Local().Value().([]int64)\n",
    "        labelStr := labelNames[label[0]]\n",
    "    \n",
    "        imgSrc, err := gonbui.EmbedImageAsPNGSrc(img)\n",
    "        AssertNoError(err)\n",
    "        size := imgTensor.Shape().Dimensions[0]\n",
    "        parts = append(\n",
    "            parts, \n",
    "            fmt.Sprintf(`<td><figure style=\"padding:4px;text-align: center;\"><img width=\"%d\" height=\"%d\" src=\"%s\">` + \n",
    "                        `<figcaption style=\"text-align: center;\">%s (%d)</figcaption></figure></td>`, \n",
    "                        size*2, size*2, imgSrc, labelStr, label),\n",
    "        )\n",
    "    }\n",
    "    parts = append(parts, \"</tr></table>\", \"\")\n",
    "    gonbui.DisplayHTML(strings.Join(parts, \"\\n\"))\n",
    "}\n",
    "\n",
    "%%\n",
    "AssertDownloaded()\n",
    "sampleToNotebook()"
   ]
  },
  {
   "cell_type": "markdown",
   "id": "7fa8c06c-ede0-4cd1-80bd-9331422e3a63",
   "metadata": {},
   "source": [
    "## Training on Cifar-10\n",
    "\n",
    "### Models Support\n",
    "\n",
    "1. `CreateDatasets` creates 3 datasets: one for training, and two for evaluation: of the training dataset and of the validation dataset.\n",
    "1. `normalizeImage` and `normalizeFeatures`: they normalize `x` according to the hyperparameter given in `flagNormalization` flag.\n"
   ]
  },
  {
   "cell_type": "code",
   "execution_count": 5,
   "id": "c8d3c19e-af0c-4fef-a76c-dabb375972d0",
   "metadata": {
    "tags": []
   },
   "outputs": [],
   "source": [
    "import (\n",
    "    \"flags\"\n",
    "    \n",
    "    . \"github.com/gomlx/gomlx/graph\"\n",
    "    . \"github.com/gomlx/gomlx/types/exceptions\"\n",
    "    \"github.com/gomlx/gomlx/examples/cifar\"\n",
    "    \"github.com/gomlx/gomlx/ml/context\"\n",
    ")\n",
    "\n",
    "var (\n",
    "    // BatchSize for training.\n",
    "    flagBatchSize        = flag.Int(\"batch\", 50, \"Batch size for training\")\n",
    "\n",
    "    // EvalBatchSize can be larger than training, more efficient.\n",
    "    EvalBatchSize = 2000\n",
    "\n",
    "    // Model hyper-parameters.\n",
    "    flagL2Regularization = flag.Float64(\"l2_reg\", 0, \"L2 regularization on kernels. It doesn't interact well with --batch_norm.\")\n",
    "    flagNormalization    = flag.String(\"norm\", \"layer\", \"Type of normalization to use. Valid values are \\\"none\\\", \\\"batch\\\", \\\"layer\\\".\")\n",
    "\n",
    "    // Model hyperparameters:\n",
    "    flagNumHiddenLayers = flag.Int(\"hidden_layers\", 8, \"Number of hidden layers, stacked with residual connection.\")\n",
    "    flagNumNodes        = flag.Int(\"num_nodes\", 128, \"Number of nodes in hidden layers.\")\n",
    "    flagDropoutRate     = flag.Float64(\"dropout\", 0, \"Dropout rate\")\n",
    ")\n",
    "\n",
    "func CreateDatasets() (trainDS, trainEvalDS, validationEvalDS train.Dataset) {\n",
    "    baseTrain := cifar.NewDataset(manager, \"Training\", *flagDataDir, cifar.C10, DType, cifar.Train)\n",
    "    baseTest := cifar.NewDataset(manager, \"Validation\", *flagDataDir, cifar.C10, DType, cifar.Test)\n",
    "    trainDS = baseTrain.Copy().BatchSize(*flagBatchSize, true).Shuffle().Infinite(true)\n",
    "    trainEvalDS = baseTrain.BatchSize(EvalBatchSize, false)\n",
    "    validationEvalDS = baseTest.BatchSize(EvalBatchSize, false)\n",
    "    return\n",
    "}\n",
    "\n",
    "func normalizeImage(ctx *context.Context, x *Node) *Node {\n",
    "    x.AssertRank(4)  // [batch_size, width, height, depth]\n",
    "    switch *flagNormalization {\n",
    "    case \"layer\":\n",
    "        return layers.LayerNormalization(ctx, x, 1, 2).ScaleNormalization(false).Done()\n",
    "    case \"batch\":\n",
    "        return layers.BatchNormalization(ctx, x, -1).Done()\n",
    "    case \"none\":\n",
    "        return x\n",
    "    }\n",
    "    Panicf(\"invalid normalization selected %q -- valid values are batch, layer, none\", *flagNormalization)\n",
    "    return nil\n",
    "}\n",
    "\n",
    "func normalizeFeatures(ctx *context.Context, x *Node) *Node {\n",
    "    x.AssertRank(2)  // [batch_size, embedding_dim]\n",
    "    switch *flagNormalization {\n",
    "    case \"layer\":\n",
    "        return layers.LayerNormalization(ctx, x, -1).Done()\n",
    "    case \"batch\":\n",
    "        return layers.BatchNormalization(ctx, x, -1).Done()\n",
    "    case \"none\":\n",
    "        return x\n",
    "    }\n",
    "    Panicf(\"invalid normalization selected %q -- valid values are batch, layer, none\", *flagNormalization)\n",
    "    return nil\n",
    "}"
   ]
  },
  {
   "cell_type": "markdown",
   "id": "f771ca6f-5912-4406-9f2a-a838fd7cd065",
   "metadata": {},
   "source": [
    "### Simple FNN model\n",
    "\n",
    "A trivial model, that can easily get to ~45% accuracy (a random model would do 10%), but hardly much more than that.\n",
    "\n",
    "Later we are going to define a CNN model to compare, and we just set a placeholder model here for now.\n",
    "\n",
    "> **Note**: \n",
    ">\n",
    "> * Cifar datasets yields (`Dataset.Yield()`) only the indices to the images of the batch as a `Tensor`. But it provides a `GatherImagesGraph` method that gathers the images from a static variable that holds the whole dataset (~1Gb in memory, stored as float32). We access it through the `getBatchedImatges()` defined above. \n"
   ]
  },
  {
   "cell_type": "code",
   "execution_count": 6,
   "id": "0ac4e4da-2c3b-431c-9e54-00e31045785f",
   "metadata": {
    "tags": []
   },
   "outputs": [
    {
     "name": "stdout",
     "output_type": "stream",
     "text": [
      "Logits shape for batch_size=50: (Float32)[50 10]\n"
     ]
    }
   ],
   "source": [
    "import (\n",
    "    \"flags\"\n",
    "    \n",
    "    . \"github.com/gomlx/gomlx/graph\"\n",
    "    \"github.com/gomlx/gomlx/examples/cifar\"\n",
    "    \"github.com/gomlx/gomlx/ml/context\"\n",
    "    \"github.com/gomlx/gomlx/ml/train/optimizers\"\n",
    "    \"github.com/gomlx/gomlx/types/shapes\"\n",
    ")\n",
    "\n",
    "func FNNModelGraph(ctx *context.Context, spec any, inputs []*Node) []*Node {\n",
    "    g := inputs[0].Graph()\n",
    "    batchedImages := inputs[0]\n",
    "    batchSize := batchedImages.Shape().Dimensions[0]\n",
    "    logits := Reshape(batchedImages, batchSize, -1)\n",
    "    {\n",
    "        ctx := ctx.In(\"Dense_0\")\n",
    "        logits = layers.DenseWithBias(ctx, logits, *flagNumNodes)\n",
    "        logits = normalizeFeatures(ctx, logits)\n",
    "    }\n",
    "    for ii := 1; ii < *flagNumHiddenLayers; ii++ {\n",
    "        ctx := ctx.In(fmt.Sprintf(\"Dense_%d\", ii))\n",
    "        // Add layer with residual connection.\n",
    "        tmp := Sigmoid(logits)\n",
    "        if *flagDropoutRate > 0 {\n",
    "            tmp = layers.Dropout(ctx, tmp, Const(g, shapes.CastAsDType(*flagDropoutRate, tmp.DType())))\n",
    "        }\n",
    "        tmp = layers.DenseWithBias(ctx, tmp, *flagNumNodes)\n",
    "        tmp = normalizeFeatures(ctx, tmp)\n",
    "        logits = Add(logits, tmp)\n",
    "    }\n",
    "    logits = Sigmoid(logits)\n",
    "    logits = layers.DenseWithBias(ctx.In(\"denseFinal\"), logits, len(cifar.C10Labels))\n",
    "    return []*Node{logits}\n",
    "}\n",
    "\n",
    "// Only a placeholder for now.\n",
    "func CNNModelGraph(ctx *context.Context, spec any, inputs []*Node) []*Node {\n",
    "    return nil   \n",
    "}\n",
    "\n",
    "%%\n",
    "// Let's test that the logits are coming out with the right shape: we want [batch_size, 10], since there are 10 classes.\n",
    "AssertDownloaded()\n",
    "ctx := context.NewContext(manager)\n",
    "g := manager.NewGraph(\"placeholder\")\n",
    "logits := FNNModelGraph(ctx, nil, []*Node{g.Parameter(\"images\", shapes.Make(DType, *flagBatchSize, cifar.Height, cifar.Width, cifar.Depth))})\n",
    "fmt.Printf(\"Logits shape for batch_size=%d: %s\\n\", *flagBatchSize, logits[0].Shape())\n"
   ]
  },
  {
   "cell_type": "markdown",
   "id": "aef7d6ee-ca2b-40c7-ac3d-4242ecd8ed1b",
   "metadata": {},
   "source": [
    "### Training Loop\n",
    "\n",
    "With a model function defined, let's create our training loop, with the usual bells and whistles: accuracy metrics, progress-bar, plot of metrics, checkpoints."
   ]
  },
  {
   "cell_type": "code",
   "execution_count": 7,
   "id": "d72336ef-d96d-4d98-a3a6-5df912be5f24",
   "metadata": {
    "tags": []
   },
   "outputs": [
    {
     "name": "stdout",
     "output_type": "stream",
     "text": [
      "Platform: CUDA\n",
      "Training (500 steps):  100% [\u001b[32m=\u001b[0m\u001b[32m=\u001b[0m\u001b[32m=\u001b[0m\u001b[32m=\u001b[0m\u001b[32m=\u001b[0m\u001b[32m=\u001b[0m\u001b[32m=\u001b[0m\u001b[32m=\u001b[0m\u001b[32m=\u001b[0m\u001b[32m=\u001b[0m\u001b[32m=\u001b[0m\u001b[32m=\u001b[0m\u001b[32m=\u001b[0m\u001b[32m=\u001b[0m\u001b[32m=\u001b[0m\u001b[32m=\u001b[0m\u001b[32m=\u001b[0m\u001b[32m=\u001b[0m\u001b[32m=\u001b[0m\u001b[32m=\u001b[0m\u001b[32m=\u001b[0m\u001b[32m=\u001b[0m\u001b[32m=\u001b[0m\u001b[32m=\u001b[0m\u001b[32m=\u001b[0m\u001b[32m=\u001b[0m\u001b[32m=\u001b[0m\u001b[32m=\u001b[0m\u001b[32m=\u001b[0m\u001b[32m=\u001b[0m\u001b[32m=\u001b[0m\u001b[32m=\u001b[0m\u001b[32m=\u001b[0m\u001b[32m=\u001b[0m\u001b[32m=\u001b[0m\u001b[32m=\u001b[0m\u001b[32m=\u001b[0m\u001b[32m=\u001b[0m\u001b[32m=\u001b[0m\u001b[32m=\u001b[0m] (138 steps/s)\u001b[0m [loss=1.906] [~loss=1.919] [~acc=32.35%]        \n",
      "\t[Step 500] median train step: 2002 microseconds\n",
      "\n",
      "Results on Training:\n",
      "\tMean Loss (#loss): 1.865\n",
      "\tMean Accuracy (#acc): 34.48%\n",
      "Results on Validation:\n",
      "\tMean Loss (#loss): 1.869\n",
      "\tMean Accuracy (#acc): 34.88%\n",
      "\n"
     ]
    }
   ],
   "source": [
    "import (\n",
    "    \"flags\"\n",
    "    \n",
    "    \"github.com/gomlx/gomlx/examples/cifar\"\n",
    "    \"github.com/gomlx/gomlx/ml/context\"\n",
    "    \"github.com/gomlx/gomlx/ml/train\"\n",
    "    \"github.com/gomlx/gomlx/types/slices\"\n",
    ")\n",
    "\n",
    "var (\n",
    "    // Training flags:\n",
    "    flagModel            = flag.String(\"model\", \"fnn\", \"Model type: fnn or cnn.\")\n",
    "    flagNumSteps         = flag.Int(\"steps\", 2000, \"Number of gradient descent steps to perform\")\n",
    "    flagOptimizer        = flag.String(\"optimizer\", \"adamw\", fmt.Sprintf(\"Optimizer, options: %v\", slices.Keys(optimizers.KnownOptimizers)))\n",
    "    flagLearningRate     = flag.Float64(\"learning_rate\", 0.0001, \"Initial learning rate.\")\n",
    "    flagCheckpoint       = flag.String(\"checkpoint\", \"\", \"Directory save and load checkpoints from. If left empty, no checkpoints are created.\")\n",
    "    flagCheckpointKeep   = flag.Int(\"checkpoint_keep\", 10, \"Number of checkpoints to keep, if --checkpoint is set.\")\n",
    "    \n",
    "    // Training UI:\n",
    "    flagUseProgressBar = flag.Bool(\"bar\", true, \"If to display a progress bar during training\")\n",
    "    flagPlots          = flag.Bool(\"plots\", true, \"Plots during training: perform periodic evaluations, \"+\n",
    "                                   \"save results if --checkpoint is set and draw plots, if in a Jupyter notebook.\")\n",
    ")\n",
    "\n",
    "func trainModel() {\n",
    "    // Make sure data is downloaded.\n",
    "    AssertDownloaded()\n",
    "\n",
    "    // Manager handles creation of ML computation graphs, accelerator resources, etc.\n",
    "    fmt.Printf(\"Platform: %s\\n\", manager.Platform())\n",
    "\n",
    "    // Create datasets used for training and evaluation.\n",
    "    trainDS, evalOnTrainDS, evalOnTestDS := CreateDatasets()\n",
    "\n",
    "    // Create closure for model graph building function, that uses statically the dataset\n",
    "    // used for its `cifar.Dataset.GatherImageGraph`, to convert image indices to the actual images.\n",
    "    // This is the signature of model function that the train.Trainer accepts.\n",
    "    modelFn := FNNModelGraph\n",
    "    if *flagModel == \"cnn\" {\n",
    "        modelFn = CNNModelGraph\n",
    "    }\n",
    "\n",
    "    // Metrics we are interested.\n",
    "    meanAccuracyMetric := metrics.NewSparseCategoricalAccuracy(\"Mean Accuracy\", \"#acc\")\n",
    "    movingAccuracyMetric := metrics.NewMovingAverageSparseCategoricalAccuracy(\"Moving Average Accuracy\", \"~acc\", 0.01)\n",
    "\n",
    "    // Context holds the variables and hyperparameters for the model.\n",
    "    ctx := context.NewContext(manager)\n",
    "    ctx.SetParam(optimizers.LearningRateKey, *flagLearningRate)\n",
    "    ctx.SetParam(layers.L2RegularizationKey, *flagL2Regularization)\n",
    "\n",
    "    // Checkpoints saving.\n",
    "    var checkpoint *checkpoints.Handler\n",
    "    if *flagCheckpoint != \"\" {\n",
    "        var err error\n",
    "        checkpoint, err = checkpoints.Build(ctx).DirFromBase(*flagCheckpoint, *flagDataDir).Keep(*flagCheckpointKeep).Done()\n",
    "        if err != nil { panic(err) }\n",
    "        fmt.Printf(\"Checkpointing model to %q\\n\", checkpoint.Dir())\n",
    "        globalStep := optimizers.GetGlobalStep(ctx)\n",
    "        if globalStep != 0 {\n",
    "            fmt.Printf(\"Restarting training from global_step=%d\\n\", globalStep)\n",
    "        }\n",
    "    }\n",
    "    \n",
    "    // Create a train.Trainer: this object will orchestrate running the model, feeding\n",
    "    // results to the optimizer, evaluating the metrics, etc. (all happens in trainer.TrainStep)\n",
    "    trainer := train.NewTrainer(manager, ctx, modelFn,\n",
    "        losses.SparseCategoricalCrossEntropyLogits,\n",
    "        optimizers.MustOptimizerByName(*flagOptimizer),\n",
    "        []metrics.Interface{movingAccuracyMetric}, // trainMetrics\n",
    "        []metrics.Interface{meanAccuracyMetric})   // evalMetrics\n",
    "\n",
    "    // Use standard training loop.\n",
    "    loop := train.NewLoop(trainer)\n",
    "    commandline.AttachProgressBar(loop) // Attaches a progress bar to the loop.\n",
    "\n",
    "    // Attach a checkpoint: checkpoint every 1 minute of training.\n",
    "    if checkpoint != nil {\n",
    "        period := time.Minute * 1\n",
    "        train.PeriodicCallback(loop, period, true, \"saving checkpoint\", 100,\n",
    "            func(loop *train.Loop, metrics []tensor.Tensor) error {\n",
    "                fmt.Printf(\"\\n[saving checkpoint@%d] [median train step (ms): %d]\\n\", loop.LoopStep, loop.MedianTrainStepDuration().Milliseconds())\n",
    "                return checkpoint.Save()\n",
    "            })\n",
    "    }\n",
    "\n",
    "    // Attach a margaid plots: plot points at exponential steps, that are saved along the checkpoint directory (if one is given).\n",
    "    if *flagPlots {\n",
    "        _ = margaid.NewDefault(loop, checkpoint.Dir(), 100, 1.1, evalOnTrainDS, evalOnTestDS)\n",
    "    }\n",
    "\n",
    "    // Run the given number of steps.\n",
    "    _, err := loop.RunSteps(trainDS, *flagNumSteps)\n",
    "    AssertNoError(err)\n",
    "    fmt.Printf(\"\\t[Step %d] median train step: %d microseconds\\n\", loop.LoopStep, loop.MedianTrainStepDuration().Microseconds())\n",
    "\n",
    "    // Finally print an evaluation on train and test datasets.\n",
    "    fmt.Println()\n",
    "    err = commandline.ReportEval(trainer, evalOnTrainDS, evalOnTestDS)\n",
    "    AssertNoError(err)\n",
    "    fmt.Println()\n",
    "}\n",
    "\n",
    "%% --model=fnn --steps=500 --plots=false\n",
    "trainModel()"
   ]
  },
  {
   "cell_type": "markdown",
   "id": "300a8419-5679-42ba-9149-51c17c7c427d",
   "metadata": {},
   "source": [
    "### FNN Model Training\n",
    "\n",
    "Let's train the FNN for real this time."
   ]
  },
  {
   "cell_type": "code",
   "execution_count": 8,
   "id": "4de9b879-4790-4aac-ace7-3c8a348ac961",
   "metadata": {},
   "outputs": [],
   "source": [
    "// Remove a previously trained model. Skip this if you want to continue training a previous model.\n",
    "!rm -rf ~/work/cifar/base_fnn_model  "
   ]
  },
  {
   "cell_type": "code",
   "execution_count": 9,
   "id": "cf876f49-e737-4dfa-aa05-48aad3d7a128",
   "metadata": {
    "tags": []
   },
   "outputs": [
    {
     "name": "stdout",
     "output_type": "stream",
     "text": [
      "Platform: CUDA\n",
      "Checkpointing model to \"/home/jupyter/work/cifar/base_fnn_model\"\n"
     ]
    },
    {
     "data": {
      "text/html": []
     },
     "metadata": {},
     "output_type": "display_data"
    },
    {
     "name": "stdout",
     "output_type": "stream",
     "text": [
      "Training (10000 steps):  100% [\u001b[32m=\u001b[0m\u001b[32m=\u001b[0m\u001b[32m=\u001b[0m\u001b[32m=\u001b[0m\u001b[32m=\u001b[0m\u001b[32m=\u001b[0m\u001b[32m=\u001b[0m\u001b[32m=\u001b[0m\u001b[32m=\u001b[0m\u001b[32m=\u001b[0m\u001b[32m=\u001b[0m\u001b[32m=\u001b[0m\u001b[32m=\u001b[0m\u001b[32m=\u001b[0m\u001b[32m=\u001b[0m\u001b[32m=\u001b[0m\u001b[32m=\u001b[0m\u001b[32m=\u001b[0m\u001b[32m=\u001b[0m\u001b[32m=\u001b[0m\u001b[32m=\u001b[0m\u001b[32m=\u001b[0m\u001b[32m=\u001b[0m\u001b[32m=\u001b[0m\u001b[32m=\u001b[0m\u001b[32m=\u001b[0m\u001b[32m=\u001b[0m\u001b[32m=\u001b[0m\u001b[32m=\u001b[0m\u001b[32m=\u001b[0m\u001b[32m=\u001b[0m\u001b[32m=\u001b[0m\u001b[32m=\u001b[0m\u001b[32m=\u001b[0m\u001b[32m=\u001b[0m\u001b[32m=\u001b[0m\u001b[32m=\u001b[0m\u001b[32m=\u001b[0m\u001b[32m=\u001b[0m\u001b[32m=\u001b[0m] (259 steps/s)\u001b[0m [loss=1.212] [~loss=1.414] [~acc=49.20%]        \n",
      "\n",
      "[saving checkpoint@10000] [median train step (ms): 1]\n"
     ]
    },
    {
     "data": {
      "text/html": [
       "<svg viewbox=\"0 0 1024 400\" style=\"background-color:#f8f8f8\" preserveAspectRatio=\"xMidYMid meet\" xmlns=\"http://www.w3.org/2000/svg\" width=\"1024\" height=\"454\"><defs><marker markerHeight=\"2%\" id=\"circle\" viewBox=\"0 0 10 10 \" refX=\"5\" refY=\"5\" markerUnits=\"userSpaceOnUse\" markerWidth=\"2%\"><circle cy=\"5\" r=\"3\" fill=\"none\" stroke=\"black\" cx=\"5\"/></marker><marker refX=\"5\" refY=\"5\" markerUnits=\"userSpaceOnUse\" markerWidth=\"2%\" markerHeight=\"2%\" id=\"filled-circle\" viewBox=\"0 0 10 10 \"><circle cx=\"5\" cy=\"5\" r=\"3\" fill=\"black\" stroke=\"none\"/></marker><marker id=\"square\" viewBox=\"0 0 10 10 \" refX=\"5\" refY=\"5\" markerUnits=\"userSpaceOnUse\" markerWidth=\"2%\" markerHeight=\"2%\"><rect width=\"6\" height=\"6\" fill=\"none\" stroke=\"black\" x=\"2\" y=\"2\"/></marker><marker refX=\"5\" refY=\"5\" markerUnits=\"userSpaceOnUse\" markerWidth=\"2%\" markerHeight=\"2%\" id=\"filled-square\" viewBox=\"0 0 10 10 \"><rect height=\"6\" fill=\"black\" stroke=\"none\" x=\"2\" y=\"2\" width=\"6\"/></marker></defs><g fill=\"none\" stroke-linecap=\"round\" marker-start=\"url(#square)\" marker-mid=\"url(#square)\" stroke=\"hsl(90, 47%, 65%)\" stroke-width=\"2px\" stroke-linejoin=\"round\" transform=\"translate(70 330 )scale(1 -1 )\" marker-end=\"url(#square)\"><path vector-effect=\"non-scaling-stroke\" d=\"M1.768000e+01,3.194049e+01 L1.544041e+02,8.615281e+01 L2.382534e+02,1.090398e+02 L3.004969e+02,1.136561e+02 L3.509112e+02,1.269807e+02 L3.940749e+02,1.427782e+02 L4.321593e+02,1.462405e+02 L4.666302e+02,1.487435e+02 L4.983920e+02,1.604043e+02 L5.280354e+02,1.610938e+02 L5.559630e+02,1.636268e+02 L5.824593e+02,1.823621e+02 L6.078067e+02,1.886871e+02 L6.321982e+02,1.880276e+02 L6.557685e+02,1.907255e+02 L6.786125e+02,1.954767e+02 L7.008441e+02,2.056687e+02 L7.225391e+02,2.200724e+02 L7.437834e+02,2.218709e+02 L7.646305e+02,2.180490e+02 L7.851406e+02,2.279861e+02 L8.053477e+02,2.322128e+02 L8.252913e+02,2.418802e+02 L8.449900e+02,2.409659e+02 L8.644679e+02,2.548000e+02 L8.663200e+02,2.394671e+02 \"/></g><g stroke-width=\"2px\" marker-mid=\"url(#square)\" stroke-linejoin=\"round\" fill=\"none\" stroke-linecap=\"round\" marker-end=\"url(#square)\" stroke=\"hsl(301, 88%, 65%)\" marker-start=\"url(#square)\" transform=\"translate(70 330 )scale(1 -1 )\"><path d=\"M1.768000e+01,3.367913e+01 L1.544041e+02,8.823619e+01 L2.382534e+02,1.099691e+02 L3.004969e+02,1.134913e+02 L3.509112e+02,1.268308e+02 L3.940749e+02,1.394958e+02 L4.321593e+02,1.438424e+02 L4.666302e+02,1.457159e+02 L4.983920e+02,1.598798e+02 L5.280354e+02,1.582311e+02 L5.559630e+02,1.618282e+02 L5.824593e+02,1.797391e+02 L6.078067e+02,1.799640e+02 L6.321982e+02,1.840108e+02 L6.557685e+02,1.867086e+02 L6.786125e+02,1.915049e+02 L7.008441e+02,2.004228e+02 L7.225391e+02,2.088162e+02 L7.437834e+02,2.120387e+02 L7.646305e+02,2.070926e+02 L7.851406e+02,2.172096e+02 L8.053477e+02,2.178092e+02 L8.252913e+02,2.259777e+02 L8.449900e+02,2.262775e+02 L8.644679e+02,2.334718e+02 L8.663200e+02,2.195328e+02 \" vector-effect=\"non-scaling-stroke\"/></g><g fill=\"none\" marker-end=\"url(#square)\" stroke=\"hsl(152, 76%, 65%)\" marker-mid=\"url(#square)\" transform=\"translate(70 330 )scale(1 -1 )\" stroke-linecap=\"round\" stroke-linejoin=\"round\" stroke-width=\"2px\" marker-start=\"url(#square)\"><path vector-effect=\"non-scaling-stroke\" d=\"M1.768000e+01,5.200000e+00 L1.544041e+02,5.292932e+01 L2.382534e+02,8.503103e+01 L3.004969e+02,1.080814e+02 L3.509112e+02,1.214205e+02 L3.940749e+02,1.305010e+02 L4.321593e+02,1.349259e+02 L4.666302e+02,1.410885e+02 L4.983920e+02,1.497594e+02 L5.280354e+02,1.588289e+02 L5.559630e+02,1.672784e+02 L5.824593e+02,1.801559e+02 L6.078067e+02,1.771645e+02 L6.321982e+02,1.882337e+02 L6.557685e+02,1.865279e+02 L6.786125e+02,1.992958e+02 L7.008441e+02,1.990259e+02 L7.225391e+02,2.064146e+02 L7.437834e+02,2.128845e+02 L7.646305e+02,2.214739e+02 L7.851406e+02,2.192042e+02 L8.053477e+02,2.266730e+02 L8.252913e+02,2.332694e+02 L8.449900e+02,2.332912e+02 L8.644679e+02,2.379669e+02 L8.663200e+02,2.383016e+02 \"/></g><g stroke-width=\"2px\" stroke-linejoin=\"round\" fill=\"none\" stroke-linecap=\"round\" transform=\"translate(70 330 )scale(1 -1 )\" stroke=\"black\"><path vector-effect=\"non-scaling-stroke\" d=\"M1.768000e+01,0 L1.768000e+01,-6 M1.454130e+02,0 L1.454130e+02,-6 M2.201321e+02,0 L2.201321e+02,-6 M2.731461e+02,0 L2.731461e+02,-6 M3.142670e+02,0 L3.142670e+02,-6 M3.478651e+02,0 L3.478651e+02,-6 M3.762720e+02,0 L3.762720e+02,-6 M4.008791e+02,0 L4.008791e+02,-6 M4.225842e+02,0 L4.225842e+02,-6 M442,0 L442,-6 M4.595637e+02,0 L4.595637e+02,-6 M5.697330e+02,0 L5.697330e+02,-6 M6.444521e+02,0 L6.444521e+02,-6 M6.974661e+02,0 L6.974661e+02,-6 M7.385870e+02,0 L7.385870e+02,-6 M7.721851e+02,0 L7.721851e+02,-6 M8.005920e+02,0 L8.005920e+02,-6 M8.251991e+02,0 L8.251991e+02,-6 M8.469042e+02,0 L8.469042e+02,-6 M8.663200e+02,0 L8.663200e+02,-6 \"/></g><g font-weight=\"normal\" stroke-width=\"2px\" font-family=\"sans-serif\" font-size=\"12px\" fill=\"black\" dominant-baseline=\"hanging\" font-style=\"normal\" text-anchor=\"middle\" stroke=\"black\" stroke-linejoin=\"round\" stroke-linecap=\"round\" transform=\"translate(70 330 )scale(1 1 )\"><text dominant-baseline=\"hanging\" stroke=\"none\" vector-effect=\"non-scaling-stroke\" x=\"1.768000e+01\" y=\"10\">100</text><text x=\"1.454130e+02\" y=\"10\" dominant-baseline=\"hanging\" stroke=\"none\" vector-effect=\"non-scaling-stroke\">200</text><text x=\"2.201321e+02\" y=\"10\" dominant-baseline=\"hanging\" stroke=\"none\" vector-effect=\"non-scaling-stroke\">300</text><text stroke=\"none\" vector-effect=\"non-scaling-stroke\" x=\"2.731461e+02\" y=\"10\" dominant-baseline=\"hanging\">400</text><text stroke=\"none\" vector-effect=\"non-scaling-stroke\" x=\"3.142670e+02\" y=\"10\" dominant-baseline=\"hanging\">500</text><text vector-effect=\"non-scaling-stroke\" x=\"3.478651e+02\" y=\"10\" dominant-baseline=\"hanging\" stroke=\"none\">600</text><text y=\"10\" dominant-baseline=\"hanging\" stroke=\"none\" vector-effect=\"non-scaling-stroke\" x=\"3.762720e+02\">700</text><text x=\"4.008791e+02\" y=\"10\" dominant-baseline=\"hanging\" stroke=\"none\" vector-effect=\"non-scaling-stroke\">800</text><text x=\"4.225842e+02\" y=\"10\" dominant-baseline=\"hanging\" stroke=\"none\" vector-effect=\"non-scaling-stroke\">900</text><text dominant-baseline=\"hanging\" stroke=\"none\" vector-effect=\"non-scaling-stroke\" x=\"442\" y=\"10\">1000</text><text stroke=\"none\" vector-effect=\"non-scaling-stroke\" x=\"4.595637e+02\" y=\"10\" dominant-baseline=\"hanging\">1100</text><text stroke=\"none\" vector-effect=\"non-scaling-stroke\" x=\"5.697330e+02\" y=\"10\" dominant-baseline=\"hanging\">2000</text><text stroke=\"none\" vector-effect=\"non-scaling-stroke\" x=\"6.444521e+02\" y=\"10\" dominant-baseline=\"hanging\">3000</text><text stroke=\"none\" vector-effect=\"non-scaling-stroke\" x=\"6.974661e+02\" y=\"10\" dominant-baseline=\"hanging\">4000</text><text stroke=\"none\" vector-effect=\"non-scaling-stroke\" x=\"7.385870e+02\" y=\"10\" dominant-baseline=\"hanging\">5000</text><text y=\"10\" dominant-baseline=\"hanging\" stroke=\"none\" vector-effect=\"non-scaling-stroke\" x=\"7.721851e+02\">6000</text><text vector-effect=\"non-scaling-stroke\" x=\"8.005920e+02\" y=\"10\" dominant-baseline=\"hanging\" stroke=\"none\">7000</text><text dominant-baseline=\"hanging\" stroke=\"none\" vector-effect=\"non-scaling-stroke\" x=\"8.251991e+02\" y=\"10\">8000</text><text x=\"8.469042e+02\" y=\"10\" dominant-baseline=\"hanging\" stroke=\"none\" vector-effect=\"non-scaling-stroke\">9000</text><text vector-effect=\"non-scaling-stroke\" x=\"8.663200e+02\" y=\"10\" dominant-baseline=\"hanging\" stroke=\"none\">10000</text></g><g font-size=\"12px\" stroke-linecap=\"round\" dominant-baseline=\"baseline\" text-anchor=\"middle\" stroke-width=\"2px\" stroke-linejoin=\"round\" font-family=\"sans-serif\" transform=\"translate(70 330 )scale(1 1 )rotate(0 0 0 )\" font-style=\"normal\" font-weight=\"bold\" stroke=\"black\" fill=\"black\"><text stroke=\"none\" vector-effect=\"non-scaling-stroke\" x=\"442\" y=\"-6\" dominant-baseline=\"baseline\">Steps</text></g><g stroke-linejoin=\"round\" font-style=\"normal\" stroke=\"black\" fill=\"black\" stroke-linecap=\"round\" transform=\"translate(70 330 )scale(1 -1 )\" dominant-baseline=\"baseline\" stroke-width=\"2px\" font-family=\"sans-serif\" font-size=\"12px\" font-weight=\"bold\" text-anchor=\"middle\"><path vector-effect=\"non-scaling-stroke\" d=\"M0,1.944033e+01 L-6,1.944033e+01 M0,9.438133e+01 L-6,9.438133e+01 M0,1.693223e+02 L-6,1.693223e+02 M0,2.442633e+02 L-6,2.442633e+02 \"/></g><g stroke-linecap=\"round\" stroke=\"black\" font-size=\"12px\" font-style=\"normal\" font-weight=\"normal\" fill=\"black\" dominant-baseline=\"middle\" stroke-width=\"2px\" stroke-linejoin=\"round\" font-family=\"sans-serif\" text-anchor=\"end\" transform=\"translate(70 330 )scale(1 1 )\"><text dominant-baseline=\"middle\" stroke=\"none\" vector-effect=\"non-scaling-stroke\" x=\"-10\" y=\"-1.944033e+01\">0.200</text><text stroke=\"none\" vector-effect=\"non-scaling-stroke\" x=\"-10\" y=\"-9.438133e+01\" dominant-baseline=\"middle\">0.300</text><text y=\"-1.693223e+02\" dominant-baseline=\"middle\" stroke=\"none\" vector-effect=\"non-scaling-stroke\" x=\"-10\">0.400</text><text dominant-baseline=\"middle\" stroke=\"none\" vector-effect=\"non-scaling-stroke\" x=\"-10\" y=\"-2.442633e+02\">0.500</text></g><g fill=\"black\" stroke-width=\"2px\" stroke-linejoin=\"round\" font-family=\"sans-serif\" stroke-linecap=\"round\" stroke=\"black\" transform=\"translate(70 330 )scale(1 1 )rotate(-90 0 0 )\" dominant-baseline=\"hanging\" font-size=\"12px\" font-style=\"normal\" font-weight=\"bold\" text-anchor=\"middle\"><text vector-effect=\"non-scaling-stroke\" x=\"130\" y=\"6\" dominant-baseline=\"hanging\" stroke=\"none\">accuracy</text></g><g font-weight=\"bold\" stroke-linejoin=\"round\" dominant-baseline=\"hanging\" fill=\"black\" font-family=\"sans-serif\" font-size=\"12px\" font-style=\"normal\" text-anchor=\"middle\" stroke=\"gray\" stroke-width=\"0.5px\" stroke-linecap=\"round\" transform=\"translate(70 330 )scale(1 -1 )\"><path vector-effect=\"non-scaling-stroke\" d=\"M0,1.944033e+01 L884,1.944033e+01 M0,9.438133e+01 L884,9.438133e+01 M0,1.693223e+02 L884,1.693223e+02 M0,2.442633e+02 L884,2.442633e+02 \"/></g><g stroke-linecap=\"round\" dominant-baseline=\"hanging\" font-size=\"12px\" font-weight=\"bold\" text-anchor=\"middle\" fill=\"none\" stroke-width=\"2px\" stroke-linejoin=\"round\" font-family=\"sans-serif\" font-style=\"normal\" stroke=\"black\"><rect y=\"70\" width=\"884\" height=\"260\" vector-effect=\"non-scaling-stroke\" x=\"70\"/><g dominant-baseline=\"middle\" font-size=\"18px\" fill=\"black\"><text x=\"512\" y=\"35\" dominant-baseline=\"middle\" stroke=\"none\" vector-effect=\"non-scaling-stroke\">accuracy metrics</text></g><g font-family=\"sans-serif\" font-style=\"normal\" stroke=\"hsl(90, 47%, 65%)\" stroke-linecap=\"round\" stroke-width=\"1px\" stroke-linejoin=\"round\" font-weight=\"normal\" text-anchor=\"start\" dominant-baseline=\"hanging\" fill=\"hsl(90, 47%, 65%)\" font-size=\"12px\"><rect vector-effect=\"non-scaling-stroke\" x=\"76\" y=\"366\" width=\"12\" height=\"12\"/><g fill=\"black\" stroke=\"black\"><text dominant-baseline=\"hanging\" stroke=\"none\" vector-effect=\"non-scaling-stroke\" x=\"92\" y=\"366\">Eval on Training: Mean Accuracy</text></g><g stroke-linecap=\"round\" dominant-baseline=\"hanging\" font-size=\"12px\" stroke-width=\"1px\" fill=\"hsl(301, 88%, 65%)\" font-weight=\"normal\" text-anchor=\"start\" stroke=\"hsl(301, 88%, 65%)\" stroke-linejoin=\"round\" font-family=\"sans-serif\" font-style=\"normal\"><rect y=\"384\" width=\"12\" height=\"12\" vector-effect=\"non-scaling-stroke\" x=\"76\"/><g fill=\"black\" stroke=\"black\"><text stroke=\"none\" vector-effect=\"non-scaling-stroke\" x=\"92\" y=\"384\" dominant-baseline=\"hanging\">Eval on Validation: Mean Accuracy</text></g><g stroke-linejoin=\"round\" font-size=\"12px\" font-weight=\"normal\" fill=\"hsl(152, 76%, 65%)\" stroke=\"hsl(152, 76%, 65%)\" font-family=\"sans-serif\" font-style=\"normal\" text-anchor=\"start\" stroke-linecap=\"round\" dominant-baseline=\"hanging\" stroke-width=\"1px\"><rect vector-effect=\"non-scaling-stroke\" x=\"76\" y=\"402\" width=\"12\" height=\"12\"/><g stroke=\"black\" fill=\"black\"><text stroke=\"none\" vector-effect=\"non-scaling-stroke\" x=\"92\" y=\"402\" dominant-baseline=\"hanging\">Train: Moving Average Accuracy</text></g></g></g></g></g></svg>"
      ]
     },
     "metadata": {},
     "output_type": "display_data"
    },
    {
     "data": {
      "text/html": [
       "<svg preserveAspectRatio=\"xMidYMid meet\" xmlns=\"http://www.w3.org/2000/svg\" width=\"1024\" height=\"454\" viewbox=\"0 0 1024 400\" style=\"background-color:#f8f8f8\"><defs><marker markerHeight=\"2%\" id=\"circle\" viewBox=\"0 0 10 10 \" refX=\"5\" refY=\"5\" markerUnits=\"userSpaceOnUse\" markerWidth=\"2%\"><circle r=\"3\" fill=\"none\" stroke=\"black\" cx=\"5\" cy=\"5\"/></marker><marker markerUnits=\"userSpaceOnUse\" markerWidth=\"2%\" markerHeight=\"2%\" id=\"filled-circle\" viewBox=\"0 0 10 10 \" refX=\"5\" refY=\"5\"><circle cx=\"5\" cy=\"5\" r=\"3\" fill=\"black\" stroke=\"none\"/></marker><marker id=\"square\" viewBox=\"0 0 10 10 \" refX=\"5\" refY=\"5\" markerUnits=\"userSpaceOnUse\" markerWidth=\"2%\" markerHeight=\"2%\"><rect fill=\"none\" stroke=\"black\" x=\"2\" y=\"2\" width=\"6\" height=\"6\"/></marker><marker refX=\"5\" refY=\"5\" markerUnits=\"userSpaceOnUse\" markerWidth=\"2%\" markerHeight=\"2%\" id=\"filled-square\" viewBox=\"0 0 10 10 \"><rect stroke=\"none\" x=\"2\" y=\"2\" width=\"6\" height=\"6\" fill=\"black\"/></marker></defs><g fill=\"none\" marker-mid=\"url(#square)\" transform=\"translate(70 330 )scale(1 -1 )\" stroke=\"hsl(90, 47%, 65%)\" stroke-linecap=\"round\" stroke-linejoin=\"round\" stroke-width=\"2px\" marker-start=\"url(#square)\" marker-end=\"url(#square)\"><path vector-effect=\"non-scaling-stroke\" d=\"M1.768000e+01,2.324309e+02 L1.544041e+02,1.868220e+02 L2.382534e+02,1.670451e+02 L3.004969e+02,1.567530e+02 L3.509112e+02,1.408162e+02 L3.940749e+02,1.301772e+02 L4.321593e+02,1.244796e+02 L4.666302e+02,1.162418e+02 L4.983920e+02,1.058876e+02 L5.280354e+02,1.043083e+02 L5.559630e+02,9.829903e+01 L5.824593e+02,8.438988e+01 L6.078067e+02,7.708003e+01 L6.321982e+02,7.618243e+01 L6.557685e+02,7.915246e+01 L6.786125e+02,7.217928e+01 L7.008441e+02,5.688663e+01 L7.225391e+02,4.372465e+01 L7.437834e+02,4.054438e+01 L7.646305e+02,4.138765e+01 L7.851406e+02,3.506947e+01 L8.053477e+02,2.724419e+01 L8.252913e+02,1.722697e+01 L8.449900e+02,2.017938e+01 L8.644679e+02,5.200000e+00 L8.663200e+02,1.813242e+01 \"/></g><g stroke-linecap=\"round\" stroke-linejoin=\"round\" marker-mid=\"url(#square)\" stroke=\"hsl(301, 88%, 65%)\" stroke-width=\"2px\" marker-start=\"url(#square)\" fill=\"none\" marker-end=\"url(#square)\" transform=\"translate(70 330 )scale(1 -1 )\"><path d=\"M1.768000e+01,2.323020e+02 L1.544041e+02,1.866011e+02 L2.382534e+02,1.672993e+02 L3.004969e+02,1.572262e+02 L3.509112e+02,1.422063e+02 L3.940749e+02,1.314148e+02 L4.321593e+02,1.245916e+02 L4.666302e+02,1.174210e+02 L4.983920e+02,1.073169e+02 L5.280354e+02,1.059143e+02 L5.559630e+02,9.998351e+01 L5.824593e+02,8.669038e+01 L6.078067e+02,8.028086e+01 L6.321982e+02,7.986860e+01 L6.557685e+02,8.321144e+01 L6.786125e+02,7.677338e+01 L7.008441e+02,6.317229e+01 L7.225391e+02,5.107796e+01 L7.437834e+02,4.908997e+01 L7.646305e+02,5.047364e+01 L7.851406e+02,4.751909e+01 L8.053477e+02,4.119860e+01 L8.252913e+02,3.340050e+01 L8.449900e+02,3.550977e+01 L8.644679e+02,2.425634e+01 L8.663200e+02,3.704836e+01 \" vector-effect=\"non-scaling-stroke\"/></g><g stroke=\"hsl(152, 76%, 65%)\" marker-start=\"url(#square)\" marker-end=\"url(#square)\" stroke-linecap=\"round\" stroke-linejoin=\"round\" stroke-width=\"2px\" fill=\"none\" marker-mid=\"url(#square)\" transform=\"translate(70 330 )scale(1 -1 )\"><path vector-effect=\"non-scaling-stroke\" d=\"M1.768000e+01,2.548000e+02 L1.544041e+02,2.209830e+02 L2.382534e+02,1.881009e+02 L3.004969e+02,1.657482e+02 L3.509112e+02,1.503138e+02 L3.940749e+02,1.380563e+02 L4.321593e+02,1.332978e+02 L4.666302e+02,1.231195e+02 L4.983920e+02,1.156318e+02 L5.280354e+02,1.045730e+02 L5.559630e+02,9.764280e+01 L5.824593e+02,8.974404e+01 L6.078067e+02,8.796122e+01 L6.321982e+02,7.676612e+01 L6.557685e+02,7.469075e+01 L6.786125e+02,6.243368e+01 L7.008441e+02,6.417302e+01 L7.225391e+02,5.538412e+01 L7.437834e+02,5.013516e+01 L7.646305e+02,4.055551e+01 L7.851406e+02,4.158067e+01 L8.053477e+02,3.033925e+01 L8.252913e+02,2.830165e+01 L8.449900e+02,2.513696e+01 L8.644679e+02,2.083277e+01 L8.663200e+02,1.742625e+01 \"/></g><g stroke=\"black\" stroke-linecap=\"round\" stroke-linejoin=\"round\" transform=\"translate(70 330 )scale(1 -1 )\" fill=\"none\" stroke-width=\"2px\"><path vector-effect=\"non-scaling-stroke\" d=\"M1.768000e+01,0 L1.768000e+01,-6 M1.454130e+02,0 L1.454130e+02,-6 M2.201321e+02,0 L2.201321e+02,-6 M2.731461e+02,0 L2.731461e+02,-6 M3.142670e+02,0 L3.142670e+02,-6 M3.478651e+02,0 L3.478651e+02,-6 M3.762720e+02,0 L3.762720e+02,-6 M4.008791e+02,0 L4.008791e+02,-6 M4.225842e+02,0 L4.225842e+02,-6 M442,0 L442,-6 M4.595637e+02,0 L4.595637e+02,-6 M5.697330e+02,0 L5.697330e+02,-6 M6.444521e+02,0 L6.444521e+02,-6 M6.974661e+02,0 L6.974661e+02,-6 M7.385870e+02,0 L7.385870e+02,-6 M7.721851e+02,0 L7.721851e+02,-6 M8.005920e+02,0 L8.005920e+02,-6 M8.251991e+02,0 L8.251991e+02,-6 M8.469042e+02,0 L8.469042e+02,-6 M8.663200e+02,0 L8.663200e+02,-6 \"/></g><g font-weight=\"normal\" dominant-baseline=\"hanging\" font-style=\"normal\" text-anchor=\"middle\" fill=\"black\" stroke-linejoin=\"round\" stroke=\"black\" font-family=\"sans-serif\" transform=\"translate(70 330 )scale(1 1 )\" font-size=\"12px\" stroke-width=\"2px\" stroke-linecap=\"round\"><text dominant-baseline=\"hanging\" stroke=\"none\" vector-effect=\"non-scaling-stroke\" x=\"1.768000e+01\" y=\"10\">100</text><text vector-effect=\"non-scaling-stroke\" x=\"1.454130e+02\" y=\"10\" dominant-baseline=\"hanging\" stroke=\"none\">200</text><text stroke=\"none\" vector-effect=\"non-scaling-stroke\" x=\"2.201321e+02\" y=\"10\" dominant-baseline=\"hanging\">300</text><text vector-effect=\"non-scaling-stroke\" x=\"2.731461e+02\" y=\"10\" dominant-baseline=\"hanging\" stroke=\"none\">400</text><text stroke=\"none\" vector-effect=\"non-scaling-stroke\" x=\"3.142670e+02\" y=\"10\" dominant-baseline=\"hanging\">500</text><text stroke=\"none\" vector-effect=\"non-scaling-stroke\" x=\"3.478651e+02\" y=\"10\" dominant-baseline=\"hanging\">600</text><text stroke=\"none\" vector-effect=\"non-scaling-stroke\" x=\"3.762720e+02\" y=\"10\" dominant-baseline=\"hanging\">700</text><text stroke=\"none\" vector-effect=\"non-scaling-stroke\" x=\"4.008791e+02\" y=\"10\" dominant-baseline=\"hanging\">800</text><text stroke=\"none\" vector-effect=\"non-scaling-stroke\" x=\"4.225842e+02\" y=\"10\" dominant-baseline=\"hanging\">900</text><text vector-effect=\"non-scaling-stroke\" x=\"442\" y=\"10\" dominant-baseline=\"hanging\" stroke=\"none\">1000</text><text x=\"4.595637e+02\" y=\"10\" dominant-baseline=\"hanging\" stroke=\"none\" vector-effect=\"non-scaling-stroke\">1100</text><text x=\"5.697330e+02\" y=\"10\" dominant-baseline=\"hanging\" stroke=\"none\" vector-effect=\"non-scaling-stroke\">2000</text><text x=\"6.444521e+02\" y=\"10\" dominant-baseline=\"hanging\" stroke=\"none\" vector-effect=\"non-scaling-stroke\">3000</text><text y=\"10\" dominant-baseline=\"hanging\" stroke=\"none\" vector-effect=\"non-scaling-stroke\" x=\"6.974661e+02\">4000</text><text vector-effect=\"non-scaling-stroke\" x=\"7.385870e+02\" y=\"10\" dominant-baseline=\"hanging\" stroke=\"none\">5000</text><text stroke=\"none\" vector-effect=\"non-scaling-stroke\" x=\"7.721851e+02\" y=\"10\" dominant-baseline=\"hanging\">6000</text><text stroke=\"none\" vector-effect=\"non-scaling-stroke\" x=\"8.005920e+02\" y=\"10\" dominant-baseline=\"hanging\">7000</text><text x=\"8.251991e+02\" y=\"10\" dominant-baseline=\"hanging\" stroke=\"none\" vector-effect=\"non-scaling-stroke\">8000</text><text x=\"8.469042e+02\" y=\"10\" dominant-baseline=\"hanging\" stroke=\"none\" vector-effect=\"non-scaling-stroke\">9000</text><text stroke=\"none\" vector-effect=\"non-scaling-stroke\" x=\"8.663200e+02\" y=\"10\" dominant-baseline=\"hanging\">10000</text></g><g transform=\"translate(70 330 )scale(1 1 )rotate(0 0 0 )\" font-style=\"normal\" font-weight=\"bold\" dominant-baseline=\"baseline\" stroke=\"black\" font-family=\"sans-serif\" font-size=\"12px\" text-anchor=\"middle\" fill=\"black\" stroke-linecap=\"round\" stroke-linejoin=\"round\" stroke-width=\"2px\"><text vector-effect=\"non-scaling-stroke\" x=\"442\" y=\"-6\" dominant-baseline=\"baseline\" stroke=\"none\">Steps</text></g><g stroke-width=\"2px\" font-family=\"sans-serif\" font-size=\"12px\" font-style=\"normal\" stroke-linejoin=\"round\" stroke-linecap=\"round\" font-weight=\"bold\" dominant-baseline=\"baseline\" stroke=\"black\" transform=\"translate(70 330 )scale(1 -1 )\" text-anchor=\"middle\" fill=\"black\"><path vector-effect=\"non-scaling-stroke\" d=\"M0,1.339930e+01 L-6,1.339930e+01 M0,6.948565e+01 L-6,6.948565e+01 M0,1.255720e+02 L-6,1.255720e+02 M0,1.816584e+02 L-6,1.816584e+02 M0,2.377447e+02 L-6,2.377447e+02 \"/></g><g dominant-baseline=\"middle\" stroke=\"black\" stroke-width=\"2px\" font-family=\"sans-serif\" font-weight=\"normal\" stroke-linejoin=\"round\" transform=\"translate(70 330 )scale(1 1 )\" font-size=\"12px\" font-style=\"normal\" text-anchor=\"end\" fill=\"black\" stroke-linecap=\"round\"><text stroke=\"none\" vector-effect=\"non-scaling-stroke\" x=\"-10\" y=\"-1.339930e+01\" dominant-baseline=\"middle\">1.400</text><text stroke=\"none\" vector-effect=\"non-scaling-stroke\" x=\"-10\" y=\"-6.948565e+01\" dominant-baseline=\"middle\">1.600</text><text vector-effect=\"non-scaling-stroke\" x=\"-10\" y=\"-1.255720e+02\" dominant-baseline=\"middle\" stroke=\"none\">1.800</text><text y=\"-1.816584e+02\" dominant-baseline=\"middle\" stroke=\"none\" vector-effect=\"non-scaling-stroke\" x=\"-10\">2.000</text><text y=\"-2.377447e+02\" dominant-baseline=\"middle\" stroke=\"none\" vector-effect=\"non-scaling-stroke\" x=\"-10\">2.200</text></g><g font-size=\"12px\" text-anchor=\"middle\" fill=\"black\" stroke-linecap=\"round\" stroke=\"black\" stroke-width=\"2px\" font-family=\"sans-serif\" transform=\"translate(70 330 )scale(1 1 )rotate(-90 0 0 )\" font-style=\"normal\" stroke-linejoin=\"round\" font-weight=\"bold\" dominant-baseline=\"hanging\"><text y=\"6\" dominant-baseline=\"hanging\" stroke=\"none\" vector-effect=\"non-scaling-stroke\" x=\"130\">loss</text></g><g stroke=\"gray\" stroke-width=\"0.5px\" font-family=\"sans-serif\" font-weight=\"bold\" stroke-linejoin=\"round\" text-anchor=\"middle\" dominant-baseline=\"hanging\" fill=\"black\" stroke-linecap=\"round\" transform=\"translate(70 330 )scale(1 -1 )\" font-size=\"12px\" font-style=\"normal\"><path vector-effect=\"non-scaling-stroke\" d=\"M0,1.339930e+01 L884,1.339930e+01 M0,6.948565e+01 L884,6.948565e+01 M0,1.255720e+02 L884,1.255720e+02 M0,1.816584e+02 L884,1.816584e+02 M0,2.377447e+02 L884,2.377447e+02 \"/></g><g stroke-linejoin=\"round\" font-weight=\"bold\" stroke=\"black\" stroke-width=\"2px\" font-size=\"12px\" font-style=\"normal\" stroke-linecap=\"round\" dominant-baseline=\"hanging\" font-family=\"sans-serif\" text-anchor=\"middle\" fill=\"none\"><rect vector-effect=\"non-scaling-stroke\" x=\"70\" y=\"70\" width=\"884\" height=\"260\"/><g dominant-baseline=\"middle\" font-size=\"18px\" fill=\"black\"><text y=\"35\" dominant-baseline=\"middle\" stroke=\"none\" vector-effect=\"non-scaling-stroke\" x=\"512\">loss metrics</text></g><g stroke-linecap=\"round\" stroke-linejoin=\"round\" stroke=\"hsl(90, 47%, 65%)\" font-weight=\"normal\" fill=\"hsl(90, 47%, 65%)\" font-style=\"normal\" text-anchor=\"start\" dominant-baseline=\"hanging\" stroke-width=\"1px\" font-family=\"sans-serif\" font-size=\"12px\"><rect vector-effect=\"non-scaling-stroke\" x=\"76\" y=\"366\" width=\"12\" height=\"12\"/><g fill=\"black\" stroke=\"black\"><text y=\"366\" dominant-baseline=\"hanging\" stroke=\"none\" vector-effect=\"non-scaling-stroke\" x=\"92\">Eval on Training: Mean Loss</text></g><g stroke-linecap=\"round\" dominant-baseline=\"hanging\" stroke=\"hsl(301, 88%, 65%)\" font-style=\"normal\" font-size=\"12px\" text-anchor=\"start\" fill=\"hsl(301, 88%, 65%)\" font-family=\"sans-serif\" font-weight=\"normal\" stroke-width=\"1px\" stroke-linejoin=\"round\"><rect x=\"76\" y=\"384\" width=\"12\" height=\"12\" vector-effect=\"non-scaling-stroke\"/><g fill=\"black\" stroke=\"black\"><text y=\"384\" dominant-baseline=\"hanging\" stroke=\"none\" vector-effect=\"non-scaling-stroke\" x=\"92\">Eval on Validation: Mean Loss</text></g><g text-anchor=\"start\" stroke-linecap=\"round\" font-size=\"12px\" font-style=\"normal\" stroke=\"hsl(152, 76%, 65%)\" stroke-width=\"1px\" font-family=\"sans-serif\" font-weight=\"normal\" fill=\"hsl(152, 76%, 65%)\" stroke-linejoin=\"round\" dominant-baseline=\"hanging\"><rect x=\"76\" y=\"402\" width=\"12\" height=\"12\" vector-effect=\"non-scaling-stroke\"/><g stroke=\"black\" fill=\"black\"><text y=\"402\" dominant-baseline=\"hanging\" stroke=\"none\" vector-effect=\"non-scaling-stroke\" x=\"92\">Train: Moving Average Loss</text></g></g></g></g></g></svg>"
      ]
     },
     "metadata": {},
     "output_type": "display_data"
    },
    {
     "name": "stdout",
     "output_type": "stream",
     "text": [
      "\t[Step 10000] median train step: 1856 microseconds\n",
      "\n",
      "Results on Training:\n",
      "\tMean Loss (#loss): 1.417\n",
      "\tMean Accuracy (#acc): 49.36%\n",
      "Results on Validation:\n",
      "\tMean Loss (#loss): 1.484\n",
      "\tMean Accuracy (#acc): 46.70%\n",
      "\n"
     ]
    }
   ],
   "source": [
    "%% --model=fnn --steps=10000 --norm=layer --checkpoint=base_fnn_model\n",
    "trainModel()"
   ]
  },
  {
   "cell_type": "markdown",
   "id": "942fdb36-4fbe-4ccf-9958-c8b67b036ada",
   "metadata": {},
   "source": [
    "### CNN model for Cifar-10\n",
    "\n",
    "Let's now properly define our CNN model to compare:"
   ]
  },
  {
   "cell_type": "code",
   "execution_count": 10,
   "id": "e27dc442-c3aa-4ec5-98e9-e5321b474785",
   "metadata": {
    "tags": []
   },
   "outputs": [
    {
     "name": "stdout",
     "output_type": "stream",
     "text": [
      "Logits shape for batch_size=50: (Float32)[50 10]\n"
     ]
    }
   ],
   "source": [
    "import (\n",
    "    . \"github.com/gomlx/gomlx/graph\"\n",
    "    \"github.com/gomlx/gomlx/examples/cifar\"\n",
    "    \"github.com/gomlx/gomlx/ml/context\"\n",
    "    \"github.com/gomlx/gomlx/types/shapes\"\n",
    ")\n",
    "\n",
    "func CNNModelGraph(ctx *context.Context, spec any, inputs []*Node) []*Node {\n",
    "    g := inputs[0].Graph()\n",
    "    batchedImages := inputs[0]\n",
    "    batchSize := batchedImages.Shape().Dimensions[0]\n",
    "    logits := batchedImages\n",
    "    {\n",
    "        ctx := ctx.In(\"conv_0\")\n",
    "        logits = layers.Convolution(ctx, logits).Filters(32).KernelSize(3).Done()\n",
    "        logits = normalizeImage(ctx, logits)\n",
    "        logits = layers.Relu(logits)\n",
    "        logits = MaxPool(logits).Window(2).Done()\n",
    "    }\n",
    "    {\n",
    "        ctx := ctx.In(\"conv_1\")\n",
    "        logits = layers.Convolution(ctx, logits).Filters(64).KernelSize(3).Done()\n",
    "        logits = normalizeImage(ctx, logits)\n",
    "        logits = layers.Relu(logits)\n",
    "        logits = MaxPool(logits).Window(2).Done()\n",
    "    }\n",
    "    {\n",
    "        ctx := ctx.In(\"conv_2\")\n",
    "        logits = layers.Convolution(ctx, logits).Filters(64).KernelSize(3).Done()\n",
    "        logits = normalizeImage(ctx, logits)\n",
    "        logits = Reshape(logits, batchSize, -1)\n",
    "        logits = layers.Relu(logits)\n",
    "    }\n",
    "    {\n",
    "        ctx := ctx.In(\"dense_0\")\n",
    "        logits = layers.DenseWithBias(ctx, logits, *flagNumNodes)\n",
    "        logits = normalizeFeatures(ctx, logits)\n",
    "    }\n",
    "    for ii := 1; ii < *flagNumHiddenLayers; ii++ {\n",
    "        ctx := ctx.In(fmt.Sprintf(\"dense_%d\", ii))\n",
    "        // Add layer with residual connection.\n",
    "        tmp := layers.Relu(logits)\n",
    "        if *flagDropoutRate > 0 {\n",
    "            tmp = layers.Dropout(ctx, tmp, Const(g, shapes.CastAsDType(*flagDropoutRate, tmp.DType())))\n",
    "        }\n",
    "        tmp = layers.DenseWithBias(ctx, tmp, *flagNumNodes)\n",
    "        tmp = normalizeFeatures(ctx, tmp)\n",
    "        logits = Add(logits, tmp)\n",
    "    }\n",
    "    logits = layers.Relu(logits)\n",
    "    logits = layers.DenseWithBias(ctx.In(\"denseFinal\"), logits, len(cifar.C10Labels))\n",
    "    return []*Node{logits}\n",
    "}\n",
    "\n",
    "%%\n",
    "// Let's test that the logits are coming out with the right shape: we want [batch_size, 10], since there are 10 classes.\n",
    "AssertDownloaded()\n",
    "g := manager.NewGraph(\"test\")\n",
    "ctx := context.NewContext(manager)\n",
    "logits := CNNModelGraph(ctx, nil, []*Node{g.Parameter(\"images\", shapes.Make(DType, *flagBatchSize, cifar.Height, cifar.Width, cifar.Depth))})\n",
    "fmt.Printf(\"Logits shape for batch_size=%d: %s\\n\", *flagBatchSize, logits[0].Shape())\n"
   ]
  },
  {
   "cell_type": "markdown",
   "id": "6e3b2b04-8ca7-49d6-921d-3527c9169da9",
   "metadata": {},
   "source": [
    "### Training the CNN model\n",
    "\n",
    "CNNs have a much better inductive bias for machine learning on images, and it can easily achieve > 80% accuracy in training data, but only > 65% on test data, due to overfitting.\n",
    "\n",
    "Likely it would benefit from pre-training the model on a larger unlabeled datasets -- see the \"Dogs vs Cats\" example to see transfer learning in action for an image model."
   ]
  },
  {
   "cell_type": "code",
   "execution_count": 11,
   "id": "6af158e6-b9f9-423a-8ef9-3b54366d35ef",
   "metadata": {},
   "outputs": [],
   "source": [
    "!rm -rf ~/work/cifar/base_cnn_model"
   ]
  },
  {
   "cell_type": "code",
   "execution_count": 12,
   "id": "b2739281-6e70-4bd4-90e5-ed493678b8ce",
   "metadata": {
    "tags": []
   },
   "outputs": [
    {
     "name": "stdout",
     "output_type": "stream",
     "text": [
      "Platform: CUDA\n",
      "Checkpointing model to \"/home/jupyter/work/cifar/base_cnn_model\"\n"
     ]
    },
    {
     "data": {
      "text/html": []
     },
     "metadata": {},
     "output_type": "display_data"
    },
    {
     "name": "stdout",
     "output_type": "stream",
     "text": [
      "Training (20000 steps):   82% [\u001b[32m=\u001b[0m\u001b[32m=\u001b[0m\u001b[32m=\u001b[0m\u001b[32m=\u001b[0m\u001b[32m=\u001b[0m\u001b[32m=\u001b[0m\u001b[32m=\u001b[0m\u001b[32m=\u001b[0m\u001b[32m=\u001b[0m\u001b[32m=\u001b[0m\u001b[32m=\u001b[0m\u001b[32m=\u001b[0m\u001b[32m=\u001b[0m\u001b[32m=\u001b[0m\u001b[32m=\u001b[0m\u001b[32m=\u001b[0m\u001b[32m=\u001b[0m\u001b[32m=\u001b[0m\u001b[32m=\u001b[0m\u001b[32m=\u001b[0m\u001b[32m=\u001b[0m\u001b[32m=\u001b[0m\u001b[32m=\u001b[0m\u001b[32m=\u001b[0m\u001b[32m=\u001b[0m\u001b[32m=\u001b[0m\u001b[32m=\u001b[0m\u001b[32m=\u001b[0m\u001b[32m=\u001b[0m\u001b[32m=\u001b[0m\u001b[32m=\u001b[0m\u001b[32m>\u001b[0m........] (275 steps/s) [1m2s:12s]\u001b[0m [loss=1.472] [~loss=1.323] [~acc=82.51%]        \n",
      "[saving checkpoint@16479] [median train step (ms): 1]\n",
      "Training (20000 steps):  100% [\u001b[32m=\u001b[0m\u001b[32m=\u001b[0m\u001b[32m=\u001b[0m\u001b[32m=\u001b[0m\u001b[32m=\u001b[0m\u001b[32m=\u001b[0m\u001b[32m=\u001b[0m\u001b[32m=\u001b[0m\u001b[32m=\u001b[0m\u001b[32m=\u001b[0m\u001b[32m=\u001b[0m\u001b[32m=\u001b[0m\u001b[32m=\u001b[0m\u001b[32m=\u001b[0m\u001b[32m=\u001b[0m\u001b[32m=\u001b[0m\u001b[32m=\u001b[0m\u001b[32m=\u001b[0m\u001b[32m=\u001b[0m\u001b[32m=\u001b[0m\u001b[32m=\u001b[0m\u001b[32m=\u001b[0m\u001b[32m=\u001b[0m\u001b[32m=\u001b[0m\u001b[32m=\u001b[0m\u001b[32m=\u001b[0m\u001b[32m=\u001b[0m\u001b[32m=\u001b[0m\u001b[32m=\u001b[0m\u001b[32m=\u001b[0m\u001b[32m=\u001b[0m\u001b[32m=\u001b[0m\u001b[32m=\u001b[0m\u001b[32m=\u001b[0m\u001b[32m=\u001b[0m\u001b[32m=\u001b[0m\u001b[32m=\u001b[0m\u001b[32m=\u001b[0m\u001b[32m=\u001b[0m\u001b[32m=\u001b[0m] (265 steps/s)\u001b[0m [loss=1.398] [~loss=1.252] [~acc=82.65%]          \n",
      "\n",
      "[saving checkpoint@20000] [median train step (ms): 1]\n"
     ]
    },
    {
     "data": {
      "text/html": [
       "<svg width=\"1024\" height=\"454\" viewbox=\"0 0 1024 400\" style=\"background-color:#f8f8f8\" preserveAspectRatio=\"xMidYMid meet\" xmlns=\"http://www.w3.org/2000/svg\"><defs><marker id=\"circle\" viewBox=\"0 0 10 10 \" refX=\"5\" refY=\"5\" markerUnits=\"userSpaceOnUse\" markerWidth=\"2%\" markerHeight=\"2%\"><circle fill=\"none\" stroke=\"black\" cx=\"5\" cy=\"5\" r=\"3\"/></marker><marker id=\"filled-circle\" viewBox=\"0 0 10 10 \" refX=\"5\" refY=\"5\" markerUnits=\"userSpaceOnUse\" markerWidth=\"2%\" markerHeight=\"2%\"><circle fill=\"black\" stroke=\"none\" cx=\"5\" cy=\"5\" r=\"3\"/></marker><marker viewBox=\"0 0 10 10 \" refX=\"5\" refY=\"5\" markerUnits=\"userSpaceOnUse\" markerWidth=\"2%\" markerHeight=\"2%\" id=\"square\"><rect stroke=\"black\" x=\"2\" y=\"2\" width=\"6\" height=\"6\" fill=\"none\"/></marker><marker id=\"filled-square\" viewBox=\"0 0 10 10 \" refX=\"5\" refY=\"5\" markerUnits=\"userSpaceOnUse\" markerWidth=\"2%\" markerHeight=\"2%\"><rect x=\"2\" y=\"2\" width=\"6\" height=\"6\" fill=\"black\" stroke=\"none\"/></marker></defs><g stroke-width=\"2px\" stroke-linejoin=\"round\" marker-start=\"url(#square)\" marker-end=\"url(#square)\" fill=\"none\" transform=\"translate(70 330 )scale(1 -1 )\" stroke=\"hsl(90, 47%, 65%)\" stroke-linecap=\"round\" marker-mid=\"url(#square)\"><path vector-effect=\"non-scaling-stroke\" d=\"M1.768000e+01,4.178341e+01 L1.365173e+02,7.086761e+01 L2.093971e+02,8.811216e+01 L2.634977e+02,1.040337e+02 L3.073165e+02,1.088522e+02 L3.448334e+02,1.204964e+02 L3.779355e+02,1.275326e+02 L4.078967e+02,1.369442e+02 L4.355033e+02,1.507158e+02 L4.612687e+02,1.538880e+02 L4.855427e+02,1.599319e+02 L5.085726e+02,1.717114e+02 L5.306039e+02,1.829046e+02 L5.518045e+02,1.742823e+02 L5.722912e+02,1.873322e+02 L5.921466e+02,1.892642e+02 L6.114698e+02,2.038100e+02 L6.303266e+02,2.136275e+02 L6.487916e+02,2.111243e+02 L6.669114e+02,2.088015e+02 L6.847383e+02,2.041032e+02 L7.023018e+02,2.264670e+02 L7.196363e+02,2.260235e+02 L7.367580e+02,2.329168e+02 L7.536877e+02,2.179650e+02 L7.704470e+02,2.421855e+02 L7.870558e+02,2.445384e+02 L8.035318e+02,2.272713e+02 L8.198887e+02,2.238886e+02 L8.361372e+02,2.381187e+02 L8.522929e+02,2.468688e+02 L8.663200e+02,2.526495e+02 \"/></g><g stroke-linecap=\"round\" marker-start=\"url(#square)\" stroke=\"hsl(301, 88%, 65%)\" stroke-width=\"2px\" marker-end=\"url(#square)\" fill=\"none\" transform=\"translate(70 330 )scale(1 -1 )\" stroke-linejoin=\"round\" marker-mid=\"url(#square)\"><path vector-effect=\"non-scaling-stroke\" d=\"M1.768000e+01,4.162554e+01 L1.365173e+02,6.970245e+01 L2.093971e+02,8.545107e+01 L2.634977e+02,9.969624e+01 L3.073165e+02,1.071007e+02 L3.448334e+02,1.177000e+02 L3.779355e+02,1.241273e+02 L4.078967e+02,1.322083e+02 L4.355033e+02,1.410787e+02 L4.612687e+02,1.463407e+02 L4.855427e+02,1.507759e+02 L5.085726e+02,1.587818e+02 L5.306039e+02,1.675769e+02 L5.518045e+02,1.590824e+02 L5.722912e+02,1.716738e+02 L5.921466e+02,1.731773e+02 L6.114698e+02,1.816718e+02 L6.303266e+02,1.882869e+02 L6.487916e+02,1.861821e+02 L6.669114e+02,1.864828e+02 L6.847383e+02,1.784018e+02 L7.023018e+02,1.964807e+02 L7.196363e+02,1.952404e+02 L7.367580e+02,2.008783e+02 L7.536877e+02,1.876104e+02 L7.704470e+02,2.083580e+02 L7.870558e+02,2.064787e+02 L8.035318e+02,1.906549e+02 L8.198887e+02,1.839269e+02 L8.361372e+02,1.948645e+02 L8.522929e+02,2.012918e+02 L8.663200e+02,2.042611e+02 \"/></g><g stroke-linejoin=\"round\" marker-start=\"url(#square)\" marker-mid=\"url(#square)\" stroke=\"hsl(152, 76%, 65%)\" stroke-width=\"2px\" stroke-linecap=\"round\" fill=\"none\" transform=\"translate(70 330 )scale(1 -1 )\" marker-end=\"url(#square)\"><path d=\"M1.768000e+01,5.200000e+00 L1.365173e+02,4.133770e+01 L2.093971e+02,6.488520e+01 L2.634977e+02,8.419456e+01 L3.073165e+02,1.007142e+02 L3.448334e+02,1.091482e+02 L3.779355e+02,1.204671e+02 L4.078967e+02,1.316653e+02 L4.355033e+02,1.387545e+02 L4.612687e+02,1.482176e+02 L4.855427e+02,1.542389e+02 L5.085726e+02,1.643947e+02 L5.306039e+02,1.704611e+02 L5.518045e+02,1.799412e+02 L5.722912e+02,1.867859e+02 L5.921466e+02,1.889408e+02 L6.114698e+02,1.963074e+02 L6.303266e+02,2.018131e+02 L6.487916e+02,2.097051e+02 L6.669114e+02,2.079681e+02 L6.847383e+02,2.154501e+02 L7.023018e+02,2.201779e+02 L7.196363e+02,2.177030e+02 L7.367580e+02,2.227150e+02 L7.536877e+02,2.306780e+02 L7.704470e+02,2.272518e+02 L7.870558e+02,2.422449e+02 L8.035318e+02,2.403780e+02 L8.198887e+02,2.382572e+02 L8.361372e+02,2.455861e+02 L8.522929e+02,2.548000e+02 L8.663200e+02,2.473729e+02 \" vector-effect=\"non-scaling-stroke\"/></g><g stroke=\"black\" stroke-width=\"2px\" stroke-linecap=\"round\" stroke-linejoin=\"round\" fill=\"none\" transform=\"translate(70 330 )scale(1 -1 )\"><path vector-effect=\"non-scaling-stroke\" d=\"M1.768000e+01,0 L1.768000e+01,-6 M1.287025e+02,0 L1.287025e+02,-6 M1.936465e+02,0 L1.936465e+02,-6 M2.397250e+02,0 L2.397250e+02,-6 M2.754663e+02,0 L2.754663e+02,-6 M3.046690e+02,0 L3.046690e+02,-6 M3.293596e+02,0 L3.293596e+02,-6 M3.507475e+02,0 L3.507475e+02,-6 M3.696130e+02,0 L3.696130e+02,-6 M3.864888e+02,0 L3.864888e+02,-6 M4.017547e+02,0 L4.017547e+02,-6 M4.975112e+02,0 L4.975112e+02,-6 M5.624552e+02,0 L5.624552e+02,-6 M6.085337e+02,0 L6.085337e+02,-6 M6.442750e+02,0 L6.442750e+02,-6 M6.734777e+02,0 L6.734777e+02,-6 M6.981683e+02,0 L6.981683e+02,-6 M7.195562e+02,0 L7.195562e+02,-6 M7.384217e+02,0 L7.384217e+02,-6 M7.552975e+02,0 L7.552975e+02,-6 M8.663200e+02,0 L8.663200e+02,-6 \"/></g><g font-style=\"normal\" font-weight=\"normal\" stroke-width=\"2px\" stroke-linejoin=\"round\" transform=\"translate(70 330 )scale(1 1 )\" font-family=\"sans-serif\" font-size=\"12px\" text-anchor=\"middle\" dominant-baseline=\"hanging\" stroke=\"black\" stroke-linecap=\"round\" fill=\"black\"><text stroke=\"none\" vector-effect=\"non-scaling-stroke\" x=\"1.768000e+01\" y=\"10\" dominant-baseline=\"hanging\">100</text><text vector-effect=\"non-scaling-stroke\" x=\"1.287025e+02\" y=\"10\" dominant-baseline=\"hanging\" stroke=\"none\">200</text><text stroke=\"none\" vector-effect=\"non-scaling-stroke\" x=\"1.936465e+02\" y=\"10\" dominant-baseline=\"hanging\">300</text><text x=\"2.397250e+02\" y=\"10\" dominant-baseline=\"hanging\" stroke=\"none\" vector-effect=\"non-scaling-stroke\">400</text><text y=\"10\" dominant-baseline=\"hanging\" stroke=\"none\" vector-effect=\"non-scaling-stroke\" x=\"2.754663e+02\">500</text><text vector-effect=\"non-scaling-stroke\" x=\"3.046690e+02\" y=\"10\" dominant-baseline=\"hanging\" stroke=\"none\">600</text><text dominant-baseline=\"hanging\" stroke=\"none\" vector-effect=\"non-scaling-stroke\" x=\"3.293596e+02\" y=\"10\">700</text><text x=\"3.507475e+02\" y=\"10\" dominant-baseline=\"hanging\" stroke=\"none\" vector-effect=\"non-scaling-stroke\">800</text><text vector-effect=\"non-scaling-stroke\" x=\"3.696130e+02\" y=\"10\" dominant-baseline=\"hanging\" stroke=\"none\">900</text><text stroke=\"none\" vector-effect=\"non-scaling-stroke\" x=\"3.864888e+02\" y=\"10\" dominant-baseline=\"hanging\">1000</text><text stroke=\"none\" vector-effect=\"non-scaling-stroke\" x=\"4.017547e+02\" y=\"10\" dominant-baseline=\"hanging\">1100</text><text vector-effect=\"non-scaling-stroke\" x=\"4.975112e+02\" y=\"10\" dominant-baseline=\"hanging\" stroke=\"none\">2000</text><text y=\"10\" dominant-baseline=\"hanging\" stroke=\"none\" vector-effect=\"non-scaling-stroke\" x=\"5.624552e+02\">3000</text><text y=\"10\" dominant-baseline=\"hanging\" stroke=\"none\" vector-effect=\"non-scaling-stroke\" x=\"6.085337e+02\">4000</text><text dominant-baseline=\"hanging\" stroke=\"none\" vector-effect=\"non-scaling-stroke\" x=\"6.442750e+02\" y=\"10\">5000</text><text dominant-baseline=\"hanging\" stroke=\"none\" vector-effect=\"non-scaling-stroke\" x=\"6.734777e+02\" y=\"10\">6000</text><text x=\"6.981683e+02\" y=\"10\" dominant-baseline=\"hanging\" stroke=\"none\" vector-effect=\"non-scaling-stroke\">7000</text><text vector-effect=\"non-scaling-stroke\" x=\"7.195562e+02\" y=\"10\" dominant-baseline=\"hanging\" stroke=\"none\">8000</text><text stroke=\"none\" vector-effect=\"non-scaling-stroke\" x=\"7.384217e+02\" y=\"10\" dominant-baseline=\"hanging\">9000</text><text stroke=\"none\" vector-effect=\"non-scaling-stroke\" x=\"7.552975e+02\" y=\"10\" dominant-baseline=\"hanging\">10000</text><text x=\"8.663200e+02\" y=\"10\" dominant-baseline=\"hanging\" stroke=\"none\" vector-effect=\"non-scaling-stroke\">20000</text></g><g stroke-width=\"2px\" fill=\"black\" font-size=\"12px\" stroke-linejoin=\"round\" font-style=\"normal\" transform=\"translate(70 330 )scale(1 1 )rotate(0 0 0 )\" font-weight=\"bold\" text-anchor=\"middle\" dominant-baseline=\"baseline\" stroke=\"black\" stroke-linecap=\"round\" font-family=\"sans-serif\"><text x=\"442\" y=\"-6\" dominant-baseline=\"baseline\" stroke=\"none\" vector-effect=\"non-scaling-stroke\">Steps</text></g><g font-weight=\"bold\" dominant-baseline=\"baseline\" stroke-width=\"2px\" stroke-linejoin=\"round\" font-style=\"normal\" text-anchor=\"middle\" stroke=\"black\" font-size=\"12px\" fill=\"black\" transform=\"translate(70 330 )scale(1 -1 )\" font-family=\"sans-serif\" stroke-linecap=\"round\"><path vector-effect=\"non-scaling-stroke\" d=\"M0,1.189485e+01 L-6,1.189485e+01 M0,8.706727e+01 L-6,8.706727e+01 M0,1.622397e+02 L-6,1.622397e+02 M0,2.374121e+02 L-6,2.374121e+02 \"/></g><g font-weight=\"normal\" dominant-baseline=\"middle\" stroke=\"black\" fill=\"black\" transform=\"translate(70 330 )scale(1 1 )\" font-family=\"sans-serif\" font-size=\"12px\" font-style=\"normal\" stroke-linejoin=\"round\" text-anchor=\"end\" stroke-width=\"2px\" stroke-linecap=\"round\"><text stroke=\"none\" vector-effect=\"non-scaling-stroke\" x=\"-10\" y=\"-1.189485e+01\" dominant-baseline=\"middle\">0.200</text><text stroke=\"none\" vector-effect=\"non-scaling-stroke\" x=\"-10\" y=\"-8.706727e+01\" dominant-baseline=\"middle\">0.400</text><text dominant-baseline=\"middle\" stroke=\"none\" vector-effect=\"non-scaling-stroke\" x=\"-10\" y=\"-1.622397e+02\">0.600</text><text dominant-baseline=\"middle\" stroke=\"none\" vector-effect=\"non-scaling-stroke\" x=\"-10\" y=\"-2.374121e+02\">0.800</text></g><g font-size=\"12px\" stroke=\"black\" stroke-linejoin=\"round\" font-style=\"normal\" stroke-width=\"2px\" stroke-linecap=\"round\" fill=\"black\" transform=\"translate(70 330 )scale(1 1 )rotate(-90 0 0 )\" font-family=\"sans-serif\" font-weight=\"bold\" text-anchor=\"middle\" dominant-baseline=\"hanging\"><text y=\"6\" dominant-baseline=\"hanging\" stroke=\"none\" vector-effect=\"non-scaling-stroke\" x=\"130\">accuracy</text></g><g dominant-baseline=\"hanging\" stroke-width=\"0.5px\" stroke-linecap=\"round\" fill=\"black\" transform=\"translate(70 330 )scale(1 -1 )\" font-style=\"normal\" font-weight=\"bold\" text-anchor=\"middle\" stroke=\"gray\" font-size=\"12px\" font-family=\"sans-serif\" stroke-linejoin=\"round\"><path d=\"M0,1.189485e+01 L884,1.189485e+01 M0,8.706727e+01 L884,8.706727e+01 M0,1.622397e+02 L884,1.622397e+02 M0,2.374121e+02 L884,2.374121e+02 \" vector-effect=\"non-scaling-stroke\"/></g><g font-style=\"normal\" font-weight=\"bold\" text-anchor=\"middle\" stroke-width=\"2px\" stroke-linejoin=\"round\" font-size=\"12px\" fill=\"none\" stroke-linecap=\"round\" dominant-baseline=\"hanging\" stroke=\"black\" font-family=\"sans-serif\"><rect y=\"70\" width=\"884\" height=\"260\" vector-effect=\"non-scaling-stroke\" x=\"70\"/><g fill=\"black\" font-size=\"18px\" dominant-baseline=\"middle\"><text stroke=\"none\" vector-effect=\"non-scaling-stroke\" x=\"512\" y=\"35\" dominant-baseline=\"middle\">accuracy metrics</text></g><g font-weight=\"normal\" text-anchor=\"start\" dominant-baseline=\"hanging\" stroke=\"hsl(90, 47%, 65%)\" stroke-linecap=\"round\" fill=\"hsl(90, 47%, 65%)\" font-style=\"normal\" stroke-width=\"1px\" font-size=\"12px\" font-family=\"sans-serif\" stroke-linejoin=\"round\"><rect x=\"76\" y=\"366\" width=\"12\" height=\"12\" vector-effect=\"non-scaling-stroke\"/><g fill=\"black\" stroke=\"black\"><text stroke=\"none\" vector-effect=\"non-scaling-stroke\" x=\"92\" y=\"366\" dominant-baseline=\"hanging\">Eval on Training: Mean Accuracy</text></g><g fill=\"hsl(301, 88%, 65%)\" stroke=\"hsl(301, 88%, 65%)\" stroke-width=\"1px\" font-weight=\"normal\" text-anchor=\"start\" dominant-baseline=\"hanging\" font-family=\"sans-serif\" font-size=\"12px\" stroke-linecap=\"round\" stroke-linejoin=\"round\" font-style=\"normal\"><rect vector-effect=\"non-scaling-stroke\" x=\"76\" y=\"384\" width=\"12\" height=\"12\"/><g fill=\"black\" stroke=\"black\"><text vector-effect=\"non-scaling-stroke\" x=\"92\" y=\"384\" dominant-baseline=\"hanging\" stroke=\"none\">Eval on Validation: Mean Accuracy</text></g><g stroke-linejoin=\"round\" font-family=\"sans-serif\" dominant-baseline=\"hanging\" stroke=\"hsl(152, 76%, 65%)\" stroke-width=\"1px\" text-anchor=\"start\" stroke-linecap=\"round\" fill=\"hsl(152, 76%, 65%)\" font-size=\"12px\" font-style=\"normal\" font-weight=\"normal\"><rect x=\"76\" y=\"402\" width=\"12\" height=\"12\" vector-effect=\"non-scaling-stroke\"/><g fill=\"black\" stroke=\"black\"><text dominant-baseline=\"hanging\" stroke=\"none\" vector-effect=\"non-scaling-stroke\" x=\"92\" y=\"402\">Train: Moving Average Accuracy</text></g></g></g></g></g></svg>"
      ]
     },
     "metadata": {},
     "output_type": "display_data"
    },
    {
     "data": {
      "text/html": [
       "<svg xmlns=\"http://www.w3.org/2000/svg\" width=\"1024\" height=\"454\" viewbox=\"0 0 1024 400\" style=\"background-color:#f8f8f8\" preserveAspectRatio=\"xMidYMid meet\"><defs><marker viewBox=\"0 0 10 10 \" refX=\"5\" refY=\"5\" markerUnits=\"userSpaceOnUse\" markerWidth=\"2%\" markerHeight=\"2%\" id=\"circle\"><circle stroke=\"black\" cx=\"5\" cy=\"5\" r=\"3\" fill=\"none\"/></marker><marker markerWidth=\"2%\" markerHeight=\"2%\" id=\"filled-circle\" viewBox=\"0 0 10 10 \" refX=\"5\" refY=\"5\" markerUnits=\"userSpaceOnUse\"><circle fill=\"black\" stroke=\"none\" cx=\"5\" cy=\"5\" r=\"3\"/></marker><marker viewBox=\"0 0 10 10 \" refX=\"5\" refY=\"5\" markerUnits=\"userSpaceOnUse\" markerWidth=\"2%\" markerHeight=\"2%\" id=\"square\"><rect y=\"2\" width=\"6\" height=\"6\" fill=\"none\" stroke=\"black\" x=\"2\"/></marker><marker id=\"filled-square\" viewBox=\"0 0 10 10 \" refX=\"5\" refY=\"5\" markerUnits=\"userSpaceOnUse\" markerWidth=\"2%\" markerHeight=\"2%\"><rect y=\"2\" width=\"6\" height=\"6\" fill=\"black\" stroke=\"none\" x=\"2\"/></marker></defs><g stroke-linejoin=\"round\" marker-start=\"url(#square)\" marker-mid=\"url(#square)\" fill=\"none\" marker-end=\"url(#square)\" stroke-linecap=\"round\" stroke=\"hsl(90, 47%, 65%)\" stroke-width=\"2px\" transform=\"translate(70 330 )scale(1 -1 )\"><path d=\"M1.768000e+01,2.452142e+02 L1.365173e+02,2.293655e+02 L2.093971e+02,2.144752e+02 L2.634977e+02,1.998405e+02 L3.073165e+02,1.861806e+02 L3.448334e+02,1.722518e+02 L3.779355e+02,1.592897e+02 L4.078967e+02,1.459623e+02 L4.355033e+02,1.336627e+02 L4.612687e+02,1.219040e+02 L4.855427e+02,1.107123e+02 L5.085726e+02,1.004596e+02 L5.306039e+02,9.034005e+01 L5.518045e+02,8.343083e+01 L5.722912e+02,7.383608e+01 L5.921466e+02,6.623787e+01 L6.114698e+02,5.795691e+01 L6.303266e+02,5.063238e+01 L6.487916e+02,4.493612e+01 L6.669114e+02,3.962556e+01 L6.847383e+02,3.485584e+01 L7.023018e+02,2.799650e+01 L7.196363e+02,2.385568e+01 L7.367580e+02,1.949878e+01 L7.536877e+02,1.811900e+01 L7.704470e+02,1.366278e+01 L7.870558e+02,1.146079e+01 L8.035318e+02,1.179754e+01 L8.198887e+02,1.146595e+01 L8.361372e+02,8.642971e+00 L8.522929e+02,6.905662e+00 L8.663200e+02,5.200000e+00 \" vector-effect=\"non-scaling-stroke\"/></g><g stroke=\"hsl(301, 88%, 65%)\" marker-end=\"url(#square)\" transform=\"translate(70 330 )scale(1 -1 )\" stroke-width=\"2px\" stroke-linecap=\"round\" stroke-linejoin=\"round\" marker-start=\"url(#square)\" marker-mid=\"url(#square)\" fill=\"none\"><path vector-effect=\"non-scaling-stroke\" d=\"M1.768000e+01,2.452754e+02 L1.365173e+02,2.295335e+02 L2.093971e+02,2.147014e+02 L2.634977e+02,2.001080e+02 L3.073165e+02,1.864213e+02 L3.448334e+02,1.725683e+02 L3.779355e+02,1.596903e+02 L4.078967e+02,1.465095e+02 L4.355033e+02,1.343775e+02 L4.612687e+02,1.229247e+02 L4.855427e+02,1.119445e+02 L5.085726e+02,1.020050e+02 L5.306039e+02,9.209849e+01 L5.518045e+02,8.542524e+01 L5.722912e+02,7.583299e+01 L5.921466e+02,6.857851e+01 L6.114698e+02,6.074055e+01 L6.303266e+02,5.358225e+01 L6.487916e+02,4.824616e+01 L6.669114e+02,4.305498e+01 L6.847383e+02,3.845069e+01 L7.023018e+02,3.203467e+01 L7.196363e+02,2.789645e+01 L7.367580e+02,2.371184e+01 L7.536877e+02,2.237330e+01 L7.704470e+02,1.806340e+01 L7.870558e+02,1.641316e+01 L8.035318e+02,1.719633e+01 L8.198887e+02,1.712505e+01 L8.361372e+02,1.488105e+01 L8.522929e+02,1.331242e+01 L8.663200e+02,1.208817e+01 \"/></g><g stroke-width=\"2px\" marker-end=\"url(#square)\" marker-start=\"url(#square)\" marker-mid=\"url(#square)\" fill=\"none\" transform=\"translate(70 330 )scale(1 -1 )\" stroke=\"hsl(152, 76%, 65%)\" stroke-linecap=\"round\" stroke-linejoin=\"round\"><path vector-effect=\"non-scaling-stroke\" d=\"M1.768000e+01,2.548000e+02 L1.365173e+02,2.420743e+02 L2.093971e+02,2.270026e+02 L2.634977e+02,2.114689e+02 L3.073165e+02,1.960759e+02 L3.448334e+02,1.811553e+02 L3.779355e+02,1.666565e+02 L4.078967e+02,1.525610e+02 L4.355033e+02,1.392586e+02 L4.612687e+02,1.264291e+02 L4.855427e+02,1.155392e+02 L5.085726e+02,1.041455e+02 L5.306039e+02,9.426664e+01 L5.518045e+02,8.461308e+01 L5.722912e+02,7.579940e+01 L5.921466e+02,6.798506e+01 L6.114698e+02,6.042252e+01 L6.303266e+02,5.303624e+01 L6.487916e+02,4.593997e+01 L6.669114e+02,4.039343e+01 L6.847383e+02,3.430751e+01 L7.023018e+02,2.892317e+01 L7.196363e+02,2.537140e+01 L7.367580e+02,2.122492e+01 L7.536877e+02,1.764376e+01 L7.704470e+02,1.566839e+01 L7.870558e+02,1.222205e+01 L8.035318e+02,1.063783e+01 L8.198887e+02,9.567788e+00 L8.361372e+02,7.799131e+00 L8.522929e+02,5.939384e+00 L8.663200e+02,6.193830e+00 \"/></g><g stroke=\"black\" stroke-width=\"2px\" stroke-linecap=\"round\" stroke-linejoin=\"round\" fill=\"none\" transform=\"translate(70 330 )scale(1 -1 )\"><path vector-effect=\"non-scaling-stroke\" d=\"M1.768000e+01,0 L1.768000e+01,-6 M1.287025e+02,0 L1.287025e+02,-6 M1.936465e+02,0 L1.936465e+02,-6 M2.397250e+02,0 L2.397250e+02,-6 M2.754663e+02,0 L2.754663e+02,-6 M3.046690e+02,0 L3.046690e+02,-6 M3.293596e+02,0 L3.293596e+02,-6 M3.507475e+02,0 L3.507475e+02,-6 M3.696130e+02,0 L3.696130e+02,-6 M3.864888e+02,0 L3.864888e+02,-6 M4.017547e+02,0 L4.017547e+02,-6 M4.975112e+02,0 L4.975112e+02,-6 M5.624552e+02,0 L5.624552e+02,-6 M6.085337e+02,0 L6.085337e+02,-6 M6.442750e+02,0 L6.442750e+02,-6 M6.734777e+02,0 L6.734777e+02,-6 M6.981683e+02,0 L6.981683e+02,-6 M7.195562e+02,0 L7.195562e+02,-6 M7.384217e+02,0 L7.384217e+02,-6 M7.552975e+02,0 L7.552975e+02,-6 M8.663200e+02,0 L8.663200e+02,-6 \"/></g><g stroke=\"black\" stroke-linejoin=\"round\" dominant-baseline=\"hanging\" fill=\"black\" font-weight=\"normal\" stroke-linecap=\"round\" font-style=\"normal\" transform=\"translate(70 330 )scale(1 1 )\" font-family=\"sans-serif\" font-size=\"12px\" text-anchor=\"middle\" stroke-width=\"2px\"><text vector-effect=\"non-scaling-stroke\" x=\"1.768000e+01\" y=\"10\" dominant-baseline=\"hanging\" stroke=\"none\">100</text><text y=\"10\" dominant-baseline=\"hanging\" stroke=\"none\" vector-effect=\"non-scaling-stroke\" x=\"1.287025e+02\">200</text><text stroke=\"none\" vector-effect=\"non-scaling-stroke\" x=\"1.936465e+02\" y=\"10\" dominant-baseline=\"hanging\">300</text><text stroke=\"none\" vector-effect=\"non-scaling-stroke\" x=\"2.397250e+02\" y=\"10\" dominant-baseline=\"hanging\">400</text><text dominant-baseline=\"hanging\" stroke=\"none\" vector-effect=\"non-scaling-stroke\" x=\"2.754663e+02\" y=\"10\">500</text><text vector-effect=\"non-scaling-stroke\" x=\"3.046690e+02\" y=\"10\" dominant-baseline=\"hanging\" stroke=\"none\">600</text><text vector-effect=\"non-scaling-stroke\" x=\"3.293596e+02\" y=\"10\" dominant-baseline=\"hanging\" stroke=\"none\">700</text><text dominant-baseline=\"hanging\" stroke=\"none\" vector-effect=\"non-scaling-stroke\" x=\"3.507475e+02\" y=\"10\">800</text><text stroke=\"none\" vector-effect=\"non-scaling-stroke\" x=\"3.696130e+02\" y=\"10\" dominant-baseline=\"hanging\">900</text><text y=\"10\" dominant-baseline=\"hanging\" stroke=\"none\" vector-effect=\"non-scaling-stroke\" x=\"3.864888e+02\">1000</text><text dominant-baseline=\"hanging\" stroke=\"none\" vector-effect=\"non-scaling-stroke\" x=\"4.017547e+02\" y=\"10\">1100</text><text stroke=\"none\" vector-effect=\"non-scaling-stroke\" x=\"4.975112e+02\" y=\"10\" dominant-baseline=\"hanging\">2000</text><text stroke=\"none\" vector-effect=\"non-scaling-stroke\" x=\"5.624552e+02\" y=\"10\" dominant-baseline=\"hanging\">3000</text><text y=\"10\" dominant-baseline=\"hanging\" stroke=\"none\" vector-effect=\"non-scaling-stroke\" x=\"6.085337e+02\">4000</text><text y=\"10\" dominant-baseline=\"hanging\" stroke=\"none\" vector-effect=\"non-scaling-stroke\" x=\"6.442750e+02\">5000</text><text dominant-baseline=\"hanging\" stroke=\"none\" vector-effect=\"non-scaling-stroke\" x=\"6.734777e+02\" y=\"10\">6000</text><text dominant-baseline=\"hanging\" stroke=\"none\" vector-effect=\"non-scaling-stroke\" x=\"6.981683e+02\" y=\"10\">7000</text><text stroke=\"none\" vector-effect=\"non-scaling-stroke\" x=\"7.195562e+02\" y=\"10\" dominant-baseline=\"hanging\">8000</text><text dominant-baseline=\"hanging\" stroke=\"none\" vector-effect=\"non-scaling-stroke\" x=\"7.384217e+02\" y=\"10\">9000</text><text dominant-baseline=\"hanging\" stroke=\"none\" vector-effect=\"non-scaling-stroke\" x=\"7.552975e+02\" y=\"10\">10000</text><text x=\"8.663200e+02\" y=\"10\" dominant-baseline=\"hanging\" stroke=\"none\" vector-effect=\"non-scaling-stroke\">20000</text></g><g font-size=\"12px\" font-family=\"sans-serif\" stroke-width=\"2px\" stroke=\"black\" text-anchor=\"middle\" dominant-baseline=\"baseline\" fill=\"black\" transform=\"translate(70 330 )scale(1 1 )rotate(0 0 0 )\" stroke-linejoin=\"round\" font-style=\"normal\" font-weight=\"bold\" stroke-linecap=\"round\"><text vector-effect=\"non-scaling-stroke\" x=\"442\" y=\"-6\" dominant-baseline=\"baseline\" stroke=\"none\">Steps</text></g><g transform=\"translate(70 330 )scale(1 -1 )\" font-family=\"sans-serif\" font-size=\"12px\" stroke-width=\"2px\" font-style=\"normal\" text-anchor=\"middle\" dominant-baseline=\"baseline\" fill=\"black\" stroke-linecap=\"round\" stroke-linejoin=\"round\" font-weight=\"bold\" stroke=\"black\"><path vector-effect=\"non-scaling-stroke\" d=\"M0,4.315508e+01 L-6,4.315508e+01 M0,1.065985e+02 L-6,1.065985e+02 M0,1.700420e+02 L-6,1.700420e+02 M0,2.334855e+02 L-6,2.334855e+02 \"/></g><g font-family=\"sans-serif\" stroke-linecap=\"round\" stroke-linejoin=\"round\" text-anchor=\"end\" dominant-baseline=\"middle\" fill=\"black\" transform=\"translate(70 330 )scale(1 1 )\" font-style=\"normal\" font-weight=\"normal\" stroke=\"black\" stroke-width=\"2px\" font-size=\"12px\"><text x=\"-10\" y=\"-4.315508e+01\" dominant-baseline=\"middle\" stroke=\"none\" vector-effect=\"non-scaling-stroke\">3.000</text><text stroke=\"none\" vector-effect=\"non-scaling-stroke\" x=\"-10\" y=\"-1.065985e+02\" dominant-baseline=\"middle\">6.000</text><text dominant-baseline=\"middle\" stroke=\"none\" vector-effect=\"non-scaling-stroke\" x=\"-10\" y=\"-1.700420e+02\">9.000</text><text stroke=\"none\" vector-effect=\"non-scaling-stroke\" x=\"-10\" y=\"-2.334855e+02\" dominant-baseline=\"middle\">12.000</text></g><g stroke-linecap=\"round\" stroke-linejoin=\"round\" transform=\"translate(70 330 )scale(1 1 )rotate(-90 0 0 )\" text-anchor=\"middle\" font-weight=\"bold\" stroke-width=\"2px\" font-style=\"normal\" dominant-baseline=\"hanging\" fill=\"black\" font-family=\"sans-serif\" font-size=\"12px\" stroke=\"black\"><text stroke=\"none\" vector-effect=\"non-scaling-stroke\" x=\"130\" y=\"6\" dominant-baseline=\"hanging\">loss</text></g><g font-size=\"12px\" font-weight=\"bold\" stroke=\"gray\" stroke-width=\"0.5px\" font-style=\"normal\" dominant-baseline=\"hanging\" transform=\"translate(70 330 )scale(1 -1 )\" font-family=\"sans-serif\" stroke-linecap=\"round\" stroke-linejoin=\"round\" fill=\"black\" text-anchor=\"middle\"><path vector-effect=\"non-scaling-stroke\" d=\"M0,4.315508e+01 L884,4.315508e+01 M0,1.065985e+02 L884,1.065985e+02 M0,1.700420e+02 L884,1.700420e+02 M0,2.334855e+02 L884,2.334855e+02 \"/></g><g text-anchor=\"middle\" stroke-linejoin=\"round\" font-weight=\"bold\" font-family=\"sans-serif\" font-style=\"normal\" fill=\"none\" font-size=\"12px\" dominant-baseline=\"hanging\" stroke=\"black\" stroke-width=\"2px\" stroke-linecap=\"round\"><rect y=\"70\" width=\"884\" height=\"260\" vector-effect=\"non-scaling-stroke\" x=\"70\"/><g fill=\"black\" font-size=\"18px\" dominant-baseline=\"middle\"><text stroke=\"none\" vector-effect=\"non-scaling-stroke\" x=\"512\" y=\"35\" dominant-baseline=\"middle\">loss metrics</text></g><g font-family=\"sans-serif\" font-size=\"12px\" dominant-baseline=\"hanging\" stroke=\"hsl(90, 47%, 65%)\" stroke-width=\"1px\" stroke-linejoin=\"round\" fill=\"hsl(90, 47%, 65%)\" stroke-linecap=\"round\" font-style=\"normal\" font-weight=\"normal\" text-anchor=\"start\"><rect x=\"76\" y=\"366\" width=\"12\" height=\"12\" vector-effect=\"non-scaling-stroke\"/><g stroke=\"black\" fill=\"black\"><text vector-effect=\"non-scaling-stroke\" x=\"92\" y=\"366\" dominant-baseline=\"hanging\" stroke=\"none\">Eval on Training: Mean Loss</text></g><g text-anchor=\"start\" stroke-width=\"1px\" stroke-linejoin=\"round\" fill=\"hsl(301, 88%, 65%)\" font-family=\"sans-serif\" font-size=\"12px\" dominant-baseline=\"hanging\" stroke=\"hsl(301, 88%, 65%)\" stroke-linecap=\"round\" font-style=\"normal\" font-weight=\"normal\"><rect y=\"384\" width=\"12\" height=\"12\" vector-effect=\"non-scaling-stroke\" x=\"76\"/><g fill=\"black\" stroke=\"black\"><text y=\"384\" dominant-baseline=\"hanging\" stroke=\"none\" vector-effect=\"non-scaling-stroke\" x=\"92\">Eval on Validation: Mean Loss</text></g><g font-family=\"sans-serif\" font-size=\"12px\" stroke-linejoin=\"round\" font-style=\"normal\" fill=\"hsl(152, 76%, 65%)\" font-weight=\"normal\" text-anchor=\"start\" dominant-baseline=\"hanging\" stroke=\"hsl(152, 76%, 65%)\" stroke-width=\"1px\" stroke-linecap=\"round\"><rect x=\"76\" y=\"402\" width=\"12\" height=\"12\" vector-effect=\"non-scaling-stroke\"/><g stroke=\"black\" fill=\"black\"><text stroke=\"none\" vector-effect=\"non-scaling-stroke\" x=\"92\" y=\"402\" dominant-baseline=\"hanging\">Train: Moving Average Loss</text></g></g></g></g></g></svg>"
      ]
     },
     "metadata": {},
     "output_type": "display_data"
    },
    {
     "name": "stdout",
     "output_type": "stream",
     "text": [
      "\t[Step 20000] median train step: 1960 microseconds\n",
      "\n",
      "Results on Training:\n",
      "\tMean Loss (#loss): 1.205\n",
      "\tMean Accuracy (#acc): 84.05%\n",
      "Results on Validation:\n",
      "\tMean Loss (#loss): 1.531\n",
      "\tMean Accuracy (#acc): 71.18%\n",
      "\n"
     ]
    }
   ],
   "source": [
    "%% --model=cnn --steps=20000 --batch=50 --hidden_layers=2 --l2_reg=0.01 --dropout=0.1 --norm=batch --checkpoint=base_cnn_model\n",
    "trainModel()"
   ]
  }
 ],
 "metadata": {
  "kernelspec": {
   "display_name": "Go (gonb)",
   "language": "go",
   "name": "gonb"
  },
  "language_info": {
   "codemirror_mode": "",
   "file_extension": ".go",
   "mimetype": "",
   "name": "go",
   "nbconvert_exporter": "",
   "pygments_lexer": "",
   "version": "go1.21.4"
  }
 },
 "nbformat": 4,
 "nbformat_minor": 5
}
