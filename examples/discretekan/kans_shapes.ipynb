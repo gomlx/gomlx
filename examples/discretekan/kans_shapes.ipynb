{
 "cells": [
  {
   "cell_type": "markdown",
   "id": "0a9b1e18-f4f9-45f9-a3d4-66a2813283db",
   "metadata": {},
   "source": [
    "# How KANs Learn ?\n",
    "\n",
    "This notebook extends the [\"How different machine learning models generalize?\"](https://ydf.readthedocs.io/en/latest/blog/2024/10/04/how-different-machine-learning-models-generalize/) blog post [4] to KANs (**Kolmogorov-Arnold Networks**) [1], demonstrating how they \"learn\", by creating a 2-D image with figures, and try to make KAN models (with various univariate functions) learn them, given the input x/y.\n",
    "\n",
    "The following KAN univariate functions are evaluated:\n",
    "\n",
    "1. B-Spline KAN: the univariate function used in the original KAN paper [1].\n",
    "2. GR-KAN (Group Rational KAN): Published in the KAT paper [2].\n",
    "3. PWL-KAN (Piecewise Linear KAN): A KAN that uses piecewise linear functions.\n",
    "4. PWC-KAN (Piecewise Constant KAN) or Discrete-KAN: A KAN that uses piecewise-constant functions (staircase functions), see demo in [3].\n",
    "\n",
    "* [1] ['Kolmogorov-Arnold Networks\" (arxiv.org/abs/2404.19756)](https://arxiv.org/abs/2404.19756)\n",
    "* [2] [\"KAT: A Knowledge Augmented Transformer for Vision-and-Language\" (arxiv.org/abs/2112.08614)](https://arxiv.org/abs/2112.08614)\n",
    "* [3] [Discrete-KAN](https://gomlx.github.io/gomlx/notebooks/discrete-kan.html)\n",
    "* [4] [\"How different machine learning models generalize?\"](https://ydf.readthedocs.io/en/latest/blog/2024/10/04/how-different-machine-learning-models-generalize/)\n",
    "\n",
    "This notebook was created using [GoNB](https://github.com/janpfeifer/gonb) a Go kernel for Jupyter notebooks, and [GoMLX](https://github.com/gomlx/gomlx), a machine learning framework for Go, using XLA as a backend."
   ]
  },
  {
   "cell_type": "markdown",
   "id": "a284b9a8-abf3-4a1f-97d7-0b53b0bb018f",
   "metadata": {},
   "source": [
    "## Imports and setup code\n",
    "\n",
    "Details, not needed for understanding, so kept hidden."
   ]
  },
  {
   "cell_type": "code",
   "execution_count": 1,
   "id": "6abdb185-67b2-4d91-aa6e-e9c32de73ad3",
   "metadata": {},
   "outputs": [
    {
     "data": {
      "text/markdown": [
       "**GoNB** version [v0.10.6](https://github.com/janpfeifer/gonb/releases/tag/v0.10.6) / Commit: [0e5f587a077810d058202b76a127651a02bd4382](https://github.com/janpfeifer/gonb/tree/0e5f587a077810d058202b76a127651a02bd4382)\n"
      ]
     },
     "metadata": {},
     "output_type": "display_data"
    },
    {
     "name": "stdout",
     "output_type": "stream",
     "text": [
      "\t- Added replace rule for module \"github.com/gomlx/gomlx\" to local directory \"/home/janpf/Projects/gomlx\".\n",
      "\t- Added replace rule for module \"github.com/janpfeifer/gonb\" to local directory \"/home/janpf/Projects/gonb\".\n",
      "\t- Added replace rule for module \"github.com/gomlx/gopjrt\" to local directory \"/home/janpf/Projects/gopjrt\".\n"
     ]
    }
   ],
   "source": [
    "%version\n",
    "!*rm -f go.work && go work init\n",
    "!*go work use . \"${HOME}/Projects/gonb\" \"${HOME}/Projects/gomlx\" \"${HOME}/Projects/gopjrt\"\n",
    "%goworkfix"
   ]
  },
  {
   "cell_type": "code",
   "execution_count": 2,
   "id": "03aef856-d032-4cd5-a9e0-481f9ee845cf",
   "metadata": {},
   "outputs": [],
   "source": [
    "import (\n",
    "    \"math\"\n",
    "    \n",
    "    . \"github.com/gomlx/gomlx/pkg/core/graph\"\n",
    "    \"github.com/gomlx/gomlx/backends\"\n",
    "    \"github.com/gomlx/gomlx/pkg/ml/context\"\n",
    "    \"github.com/gomlx/gomlx/pkg/ml/train\"\n",
    "    \"github.com/gomlx/gomlx/pkg/ml/train/losses\"\n",
    "    \"github.com/gomlx/gomlx/pkg/ml/train/optimizers\"\n",
    "    \"github.com/gomlx/gomlx/types/shapes\"\n",
    "    \"github.com/gomlx/gomlx/pkg/core/tensors\"\n",
    "    \"github.com/gomlx/gopjrt/dtypes\"\n",
    "    \"github.com/janpfeifer/gonb/gonbui\"\n",
    "    \"github.com/janpfeifer/gonb/cache\"\n",
    "\n",
    "    // Include XLA engine for the demo.\n",
    "    _ \"github.com/gomlx/gomlx/backends/default\"\n",
    ")\n",
    "\n",
    "// Backend used everywhere. Default will use GPU if available, otherwise CPU.\n",
    "var Backend = backends.MustNew()\n",
    "\n",
    "// Makes sure there is a valid reference to `graph` package imported inline.\n",
    "var _ = Add\n",
    "\n",
    "// Define how we want to fail in case of errors.\n",
    "func init_must() {\n",
    "    must.M = func(err error) {\n",
    "        if err != nil {\n",
    "            log.Fatal(\"Error:\\n%+v\\n\", err)\n",
    "        }\n",
    "    }\n",
    "}\n"
   ]
  },
  {
   "cell_type": "markdown",
   "id": "77998688-ded3-4d59-a133-2c404c7c1340",
   "metadata": {},
   "source": [
    "## Plotting Code\n",
    "\n",
    "We are plotting functions $f(x,y) \\text{ where } x, y \\in [-1, 1]$. The output of $f(x,y) \\in [0, 1]$ represents a degree of grayness 0.0 representing white and 1.0 representing black.\n",
    "\n",
    "The functions are given GoMLX functions, that take as input one array shaped `[batch_size, 2]` (`batch_size` pairs of $(x, y)$).\n"
   ]
  },
  {
   "cell_type": "code",
   "execution_count": 3,
   "id": "31b2b658-858d-42b1-b6a3-0e5196e78dad",
   "metadata": {},
   "outputs": [
    {
     "data": {
      "text/html": [
       "<img src=\"data:image/png;base64,iVBORw0KGgoAAAANSUhEUgAAAEAAAABACAAAAACPAi4CAAAA6ElEQVR4nKTMSY7FMAwDUSPo+584Rn9k9iDJJFX7en//ZdEetyX/JbD6V8DyXwDrPwaAPwSQPwKgPwCw3wfA3wXQ3wPg3wHw3waI3wSY3wKo3wC4fwbIfwLYfwTofwD4vweEvwOUvwWkvwG0/wPE/wXU/wHk/wb0/wIS/wlk/gNI/fuW/Pct+dckUEsOqCUH1JIDjj8DnH8CuH4duH8ZeH4VeH8R+H4NaH4JaH8F6H4B6H8eGH4aGH8WmH4SmH8OMH4KsH4GMH8CsH8ccH4Y8H4UcH8Q8H8MCH4IiH4ECH8AiP/yCwAA///zHNBOdnedtQAAAABJRU5ErkJggg==\"/>"
      ]
     },
     "metadata": {},
     "output_type": "display_data"
    }
   ],
   "source": [
    "// PlotFn is the function accepted by the plot functions.\n",
    "//\n",
    "// The function takes as an input shaped [batch_size, 2], with batch_size tuples of (x, y), and should return `[batch_size, 1]`\n",
    "// values from 0.0 to 1.0 \n",
    "//\n",
    "// The context holds the variables of the model (for learned functions), but can be ignored if the function doesn't use any variables.\n",
    "type PlotFn func (ctx *context.Context, xys *Node) *Node \n",
    "\n",
    "// PlotToImg returns the HTML `<img src=...>` of size \"size x size\", with the plotted function, that can be displayed or composed.\n",
    "//\n",
    "// The context can be nil, if the function doesn't use any variables.\n",
    "func PlotToImg(ctx *context.Context, fn PlotFn, size int) string {\n",
    "    if ctx == nil {\n",
    "        ctx = context.New()\n",
    "    }\n",
    "    ctx = ctx.Reuse()  // When plotting, we shouldn't be creating new variables. This way it will fail if function is not yet trained.\n",
    "    // Generate values for each pixel, shaped [size * size, 1]\n",
    "    values := context.ExecOnce(Backend, ctx, func (ctx *context.Context, g *Graph) *Node {\n",
    "        xys := imgXYs(g, size)\n",
    "        output := fn(ctx, xys)\n",
    "        return ClipScalar(output, 0.0, 1.0)  // Clip to the values allowed.\n",
    "    })\n",
    "\n",
    "    \n",
    "\timg := image.NewGray(image.Rect(0, 0, size, size))\n",
    "    tensors.ConstFlatData[float32](values, func (data []float32) {\n",
    "    \tfor i, v := range data {\n",
    "    \t\t// Convert float32 (0.0 - 1.0) to uint8 (0 - 255)\n",
    "    \t\tgrayValue := uint8((1.0 - v) * 255)  // Colors reversed, so black is 1.0, white is 0.0 (better for white backgrounds).\n",
    "    \t\ty := (i / size)\n",
    "    \t\tx := i % size\n",
    "    \t\timg.SetGray(x, y, color.Gray{Y: grayValue})\n",
    "    \t}\n",
    "    })\n",
    "    \n",
    "    imgSrc := must.M1(gonbui.EmbedImageAsPNGSrc(img))\n",
    "    return fmt.Sprintf(\"<img src=%q/>\", imgSrc)\n",
    "}\n",
    "\n",
    "// imgXYs creates all combination of (x, y) for an image of size (size x size), where $x,y \\in [0, 1]$.\n",
    "// The output is shaped [batchSize, 2], where batchSize = size * size.\n",
    "func imgXYs(g *Graph, size int) *Node {\n",
    "    xs := Iota(g, shapes.Make(dtypes.Float32, size, size, 1), 1) // -> 0, size-1\n",
    "    xs = AddScalar(DivScalar(xs, float64(size)/2.0), -1)  // -> -1.0, 1.0\n",
    "    ys := Iota(g, shapes.Make(dtypes.Float32, size, size, 1), 0)\n",
    "    ys = AddScalar(DivScalar(ys, float64(size)/2.0), -1)  // -> -1.0, 1.0\n",
    "    xys := Concatenate([]*Node{xs, ys}, -1)\n",
    "    xys = Reshape(xys, size*size, 2)  // Contract width and height axes into a \"batch_size\" axis.\n",
    "    return xys\n",
    "}\n",
    "\n",
    "// Plot displays an image generated from the given function.\n",
    "func Plot(ctx *context.Context, fn PlotFn, size int) {\n",
    "    gonbui.DisplayHTML(PlotToImg(ctx, fn, size))\n",
    "}\n",
    "\n",
    "%%\n",
    "// Small test of a gradient function on the x,y diagonal.\n",
    "Plot(nil, func (_ *context.Context, xys *Node) *Node {\n",
    "    value := ReduceAndKeep(xys, ReduceSum, -1)  // x+y -> -2.0 to 2.0\n",
    "    // -> -0.5 to 1.5, but values will be clipped.\n",
    "    return AddScalar(DivScalar(value, 2.0), 0.5)\n",
    "}, 64)\n"
   ]
  },
  {
   "cell_type": "markdown",
   "id": "c93ac9c3-7087-444e-bd43-6075e1819e68",
   "metadata": {},
   "source": [
    "## Ground-Truth Image\n",
    "\n",
    "This is the image we want the various machine learning functions to learn, based on [4].\n"
   ]
  },
  {
   "cell_type": "code",
   "execution_count": 4,
   "id": "ab2c65cf-c567-4fde-b362-b679f752e88d",
   "metadata": {},
   "outputs": [
    {
     "data": {
      "text/html": [
       "<img src=\"data:image/png;base64,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\"/>"
      ]
     },
     "metadata": {},
     "output_type": "display_data"
    }
   ],
   "source": [
    "func GroundTruth(_ *context.Context, xys *Node) *Node {\n",
    "    g := xys.Graph()\n",
    "    dtype := xys.DType()\n",
    "    \n",
    "    xs := Slice(xys, /*batch_size*/ AxisRange(), /* (x,y) */ AxisElem(0)) // xs -> [-1, 1]\n",
    "    xs = DivScalar(OnePlus(xs), 2)  // xs -> [0, 1]\n",
    "    ys := Slice(xys, /*batch_size*/ AxisRange(), /* (x,y) */ AxisElem(1)) // ys -> [-1, 1]\n",
    "    ys = DivScalar(OnePlus(ys), 2)  // ys -> [0, 1]\n",
    "    \n",
    "    eclipse := Sqrt(Add(\n",
    "        Square(DivScalar(AddScalar(xs, -0.4), 0.7)),\n",
    "        Square(DivScalar(AddScalar(ys, -0.3), 0.5)),\n",
    "    ))\n",
    "    eclipse = LessThan(eclipse, Scalar(g, dtype, 0.5))\n",
    "\n",
    "    w := 0.25\n",
    "    squareLength := Scalar(g, dtype, w)\n",
    "    squareLength2 := Scalar(g, dtype, w * math.Sqrt(2))\n",
    "\n",
    "    xs1 := AddScalar(xs, -0.10)\n",
    "    ys1 := AddScalar(ys, -0.65)\n",
    "    zero := ScalarZero(g, dtype)\n",
    "    square1 := And(\n",
    "        And(GreaterThan(xs1, zero), LessThan(xs1, squareLength)),\n",
    "        And(GreaterThan(ys1, zero), LessThan(ys1, squareLength)),\n",
    "    )\n",
    "\n",
    "    xs2, ys2 := AddScalar(xs, - 0.74), AddScalar(ys, -0.55)\n",
    "    xs2, ys2 = Add(xs2, ys2), Sub(ys2, xs2)\n",
    "    square2 := And(\n",
    "        And(GreaterThan(xs2, zero), LessThan(xs2, squareLength2)),\n",
    "        And(GreaterThan(ys2, zero), LessThan(ys2, squareLength2)),\n",
    "    )\n",
    "    \n",
    "    image := Or(Or(eclipse, square1), square2)\n",
    "    return ConvertDType(image, xys.DType())\n",
    "}\n",
    "\n",
    "%%\n",
    "Plot(nil, GroundTruth, 400)"
   ]
  },
  {
   "cell_type": "markdown",
   "id": "f41c6cab-3dbd-4d7d-ba91-e585a46a945a",
   "metadata": {},
   "source": [
    "## Machine Learning a function to mimic `GroundTruth`\n",
    "\n",
    "### Training and Validation Datasets\n",
    "\n",
    "To analyse how a machine learning model \"learns\" (or \"generalizes\") the ground-truth image in an interesting way, we will create a fixed dataset with a limited number of examples, and then train the model.\n",
    "\n",
    "Notice we generate the datset as a couple of fixed tensors, whose shapes are: \n",
    "\n",
    "* Input shape `[num_batches, batch_size, 2]`, with the $(x, y)$ of the data points. Notice `NumTrainingExamples = num_batches * batch_size`.\n",
    "* Labels shape `[num_batches, batch_size, 1]`. While the labels are defined in the range `[0.0, 1.0]`, our ground-truth only uses 0s and 1s, so it can be consider a boolean.\n"
   ]
  },
  {
   "cell_type": "code",
   "execution_count": 5,
   "id": "34741a64-0106-410b-bc53-eea8d4656d72",
   "metadata": {},
   "outputs": [
    {
     "name": "stdout",
     "output_type": "stream",
     "text": [
      "/trainXYs: shape=(Float32)[1 32000 2]\n",
      "\tSample values: [0.9253949 -0.7290534 0.40012693 0.011769533 0.24289417 -0.20978129 0.15292251 -0.09316999 0.96000326 -0.43578953]\n",
      "/trainLabels: shape=(Float32)[1 32000 1]\n",
      "\tSample values: [0 0 1 1 0 1 0 0 1 0]\n",
      "/validXYs: shape=(Float32)[32000 2]\n",
      "\tSample values: [-0.6587877 -0.9495033 0.28734863 0.8810971 0.63639426 0.5474998 0.8441943 -0.5901769 0.46686828 0.9806895]\n",
      "/validLabels: shape=(Float32)[32000 1]\n",
      "\tSample values: [0 0 1 0 0 1 1 0 1 0]\n"
     ]
    }
   ],
   "source": [
    "const (\n",
    "    TrainingDataSeed = 42\n",
    "    NumTrainingExamples = 32_000\n",
    "    NumValidationExamples = 16_000\n",
    ")\n",
    "\n",
    "// Upload training and validation data as a variables.\n",
    "func UploadTrainingData(ctx *context.Context) {\n",
    "    _ = context.ExecOnceN(Backend, ctx, func (ctx *context.Context, g *Graph) {\n",
    "        rng := Const(g, RngStateFromSeed(TrainingDataSeed))\n",
    "        var trainXYs, validXYs *Node\n",
    "        rng, trainXYs = RandomUniform(rng, shapes.Make(dtypes.Float32, NumTrainingExamples, 2))  // -> [0, 1]\n",
    "        rng, validXYs = RandomUniform(rng, shapes.Make(dtypes.Float32, NumTrainingExamples, 2))  // -> [0, 1]\n",
    "        trainXYs = AddScalar(MulScalar(trainXYs, 2), -1)  // -> [-1, 1]\n",
    "        validXYs = AddScalar(MulScalar(validXYs, 2), -1)  // -> [-1, 1]\n",
    "        trainLabels := GroundTruth(ctx, trainXYs)\n",
    "        validLabels := GroundTruth(ctx, validXYs)\n",
    "\n",
    "        // Break up into batches.\n",
    "        numBatches := context.GetParamOr(ctx, \"num_batches\", int(1))  // default to 1.\n",
    "        batchSize := NumTrainingExamples / numBatches\n",
    "        trainXYs = Reshape(trainXYs, numBatches, batchSize, 2)\n",
    "        trainLabels = Reshape(trainLabels, numBatches, batchSize, 1)\n",
    "\n",
    "        // Store data into (non-trainable) variables.\n",
    "        _ = ctx.VariableWithValueGraph(\"trainXYs\", trainXYs).SetTrainable(false)\n",
    "        _ = ctx.VariableWithValueGraph(\"trainLabels\", trainLabels).SetTrainable(false)\n",
    "        _ = ctx.VariableWithValueGraph(\"validXYs\", validXYs).SetTrainable(false)\n",
    "        _ = ctx.VariableWithValueGraph(\"validLabels\", validLabels).SetTrainable(false)\n",
    "    })\n",
    "}\n",
    "\n",
    "%%\n",
    "// Create a context, and check that variables with the training data were uploaded with the right shape.\n",
    "ctx := context.New()\n",
    "UploadTrainingData(ctx)\n",
    "for v := range ctx.IterVariables() {\n",
    "    fmt.Printf(\"%s: shape=%s\\n\", v.ScopeAndName(), v.Shape())\n",
    "    tensors.ConstFlatData(v.Value(), func (flat []float32) {\n",
    "        fmt.Printf(\"\\tSample values: %v\\n\", flat[:10])\n",
    "    })\n",
    "}"
   ]
  },
  {
   "cell_type": "markdown",
   "id": "e3839fbf-8580-487d-8e67-ba6224c5dba3",
   "metadata": {},
   "source": [
    "### Trivial Training Loop\n",
    "\n",
    "Below we create a training loop and a couple of loss functions that uses the training data we just created.\n",
    "\n",
    "It can be used by any model with may want to try to learn."
   ]
  },
  {
   "cell_type": "code",
   "execution_count": 6,
   "id": "3042a2bc-6d99-40eb-ab7c-8726cbe7484b",
   "metadata": {},
   "outputs": [],
   "source": [
    "// Train the given learnable fn for numSteps. The context (ctx) will store the learned weights.\n",
    "//\n",
    "// Use one of the losses defined here, since we take the labels as generated by the model function (as opposed to given by the dataset).\n",
    "func Train(ctx *context.Context, fn PlotFn, numSteps int, lossFn losses.LossFn) error {\n",
    "    // Upload training data, if not yet set.\n",
    "    v := ctx.InspectVariable(\"/\", \"trainXYs\")\n",
    "    if v == nil {\n",
    "        UploadTrainingData(ctx)\n",
    "    }\n",
    "    ds := data.NewConstantDataset()\n",
    "                       \n",
    "    // Our model function: it gets the batch from the fixed inputs, and call the LearnableFn provides. \n",
    "    // It also returns the labels for the batch.\n",
    "    modelFn := func(ctx *context.Context, spec any, inputs []*Node) []*Node {\n",
    "        g := inputs[0].Graph()\n",
    "        \n",
    "        // Get training data, which must exist already in the context.\n",
    "        trainXYs := ctx.InspectVariable(\"/\", \"trainXYs\").ValueGraph(g)\n",
    "        trainLabels := ctx.InspectVariable(\"/\", \"trainLabels\").ValueGraph(g)\n",
    "    \n",
    "        // Get the batch for this global step.\n",
    "        numBatches := trainXYs.Shape().Dim(0)\n",
    "        batchSize := trainXYs.Shape().Dim(1)\n",
    "        globalStep := optimizers.GetGlobalStepVar(ctx).ValueGraph(g)\n",
    "        batchIdx := ModScalar(globalStep, numBatches)\n",
    "        zeroIdx := ScalarZero(g, globalStep.DType())\n",
    "        batchXYs := DynamicSlice(trainXYs, []*Node{batchIdx, zeroIdx, zeroIdx}, []int{1, batchSize, 2})\n",
    "        batchXYs = Reshape(batchXYs, batchSize, 2)\n",
    "        batchLabels := DynamicSlice(trainLabels, []*Node{batchIdx, zeroIdx, zeroIdx}, []int{1, batchSize, 1})\n",
    "        batchLabels = Reshape(batchLabels, batchSize, 1)\n",
    "\n",
    "        // Prediction\n",
    "        logits := fn(ctx, batchXYs)\n",
    "        return []*Node{logits, batchLabels}\n",
    "    }\n",
    "\n",
    "    // The labels are actually provided by the modelFn, in logits[1].\n",
    "    fixedLossFn := func(labels, logits []*Node) *Node {\n",
    "        return lossFn(/* labels= */ []*Node{logits[1]}, /* logits= */ []*Node{logits[0]})\n",
    "    }\n",
    "    trainer := train.NewTrainer(Backend, ctx, modelFn, fixedLossFn, optimizers.FromContext(ctx), nil, nil)\n",
    "    loop := train.NewLoop(trainer)\n",
    "\tcommandline.AttachProgressBar(loop) // Attaches a progress bar to the loop.\n",
    "    metrics, err := loop.RunSteps(ds, numSteps)\n",
    "    if err != nil { \n",
    "        return err\n",
    "    }\n",
    "    fmt.Printf(\"Train: loss=%v\\n\", metrics[0])\n",
    "    fmt.Printf(\"\\tMedian training time: %s\\n\", loop.MedianTrainStepDuration())\n",
    "    return nil\n",
    "}\n",
    "\n",
    "// PlotLogits converts a logits function -- a function that learns -inf to +inf outputs -- to a 0 to 1 function used for plotting.\n",
    "func PlotLogitsFn(logitsFn PlotFn) PlotFn {\n",
    "    return func(ctx *context.Context, xys *Node) *Node {\n",
    "        logits := logitsFn(ctx, xys)\n",
    "        return Sigmoid(logits)\n",
    "    }\n",
    "}"
   ]
  },
  {
   "cell_type": "markdown",
   "id": "7bb54509-4733-42f2-8087-f64babf8ace7",
   "metadata": {},
   "source": [
    "### Accuracy of a Function\n",
    "\n",
    "Measured over the whole images uniformly at the given resolution."
   ]
  },
  {
   "cell_type": "code",
   "execution_count": 7,
   "id": "189b680a-72a2-4b3a-bc4f-d0a0a977ecaf",
   "metadata": {},
   "outputs": [
    {
     "name": "stdout",
     "output_type": "stream",
     "text": [
      "GroundTruth accuracy is 100.0%\n"
     ]
    }
   ],
   "source": [
    "// Accuracy returns the accuracy of the model over the whole image, measured at the given resolution.\n",
    "// It takes the model (fn) prediction as true if $fn(x,y) > 0.5$ or false otherwise.\n",
    "func Accuracy(ctx *context.Context, fn PlotFn, resolution int) float32 {\n",
    "    if ctx == nil {\n",
    "        ctx = context.New()\n",
    "    }\n",
    "    ctx = ctx.Reuse()  // When plotting, we shouldn't be creating new variables. This way it will fail if function is not yet trained.\n",
    "    \n",
    "    // Generate values for each pixel, shaped [size * size, 1]\n",
    "    accuracy := context.ExecOnce(Backend, ctx, func (ctx *context.Context, g *Graph) *Node {\n",
    "        xys := imgXYs(g, resolution)\n",
    "        dtype := xys.DType()\n",
    "        truth := GroundTruth(ctx, xys)\n",
    "        predicted := fn(ctx, xys)\n",
    "        predicted = GreaterThan(predicted, Scalar(g, dtype, 0.5))\n",
    "        predicted = ConvertDType(predicted, dtype)\n",
    "        accuracy := Equal(truth, predicted)\n",
    "        accuracy = ConvertDType(accuracy, dtype)\n",
    "        accuracy = ReduceAllMean(accuracy)\n",
    "        return accuracy\n",
    "    })\n",
    "    return tensors.ToScalar[float32](accuracy)\n",
    "}\n",
    "\n",
    "%%\n",
    "fmt.Printf(\"GroundTruth accuracy is %.1f%%\\n\", Accuracy(nil, GroundTruth, 400)*100.0)"
   ]
  },
  {
   "cell_type": "markdown",
   "id": "62771e58-e27a-4ec2-af13-411088e34345",
   "metadata": {},
   "source": [
    "### Demo Function\n",
    "\n",
    "This is a helper function that trains a given function, optionally prints its trainable variables, plots it and reports back its accuracy."
   ]
  },
  {
   "cell_type": "code",
   "execution_count": 8,
   "id": "29ea8a2d-0777-4e8a-99ed-1e68cf5d3d71",
   "metadata": {},
   "outputs": [],
   "source": [
    "var (\n",
    "    BaseNumSteps = 2500\n",
    ")\n",
    "\n",
    "func DemoFn(fn PlotFn, numBatches int, useCrossentropy bool) {\n",
    "    ctx := context.New()\n",
    "    ctx.SetParam(\"num_batches\", numBatches)\n",
    "    var loss losses.LossFn\n",
    "    if useCrossentropy {\n",
    "        loss = losses.BinaryCrossentropyLogits\n",
    "    } else {\n",
    "        loss = losses.MeanSquaredError\n",
    "    }\n",
    "    must.M(Train(ctx, fn, /*numSteps*/ BaseNumSteps * numBatches, loss))\n",
    "    fmt.Printf(\"Accuracy:\\t%.1f%%\\n\", Accuracy(ctx, fn, 400)*100.0)\n",
    "    \n",
    "    var numParams int\n",
    "    for v := range ctx.IterVariables() {\n",
    "        if v.Trainable {\n",
    "            numParams += v.Shape().Size()\n",
    "        }\n",
    "    }\n",
    "    fmt.Printf(\"# params:\\t%d\\n\", numParams)\n",
    "\n",
    "    if useCrossentropy {\n",
    "        Plot(ctx, PlotLogitsFn(fn), 400)\n",
    "    } else {\n",
    "        Plot(ctx, PlotFn(fn), 400)\n",
    "    }\n",
    "}"
   ]
  },
  {
   "cell_type": "markdown",
   "id": "d28aa036-3770-4fc0-950d-f424241958d7",
   "metadata": {},
   "source": [
    "### Feedforward Neural Network Baseline"
   ]
  },
  {
   "cell_type": "code",
   "execution_count": 9,
   "id": "37d93945-2c30-4d35-b90b-31feff960e9e",
   "metadata": {},
   "outputs": [
    {
     "name": "stdout",
     "output_type": "stream",
     "text": [
      "Training (25000 steps):  100% [========================================] (3714 steps/s) [step=24999] [loss+=0.005] [~loss+=0.006] [~loss=0.006]                \n",
      "Train: loss=float32(0.0046)\n",
      "\tMedian training time: 232.617µs\n",
      "Accuracy:\t99.6%\n",
      "# params:\t921\n"
     ]
    },
    {
     "data": {
      "text/html": [
       "<img src=\"data:image/png;base64,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\"/>"
      ]
     },
     "metadata": {},
     "output_type": "display_data"
    }
   ],
   "source": [
    "func FNN(ctx *context.Context, xys *Node) *Node {\n",
    "    return fnn.New(ctx.In(\"fnn\"), xys, /* ouputDim */1).NumHiddenLayers(3, 20).Done()\n",
    "}\n",
    "\n",
    "%%\n",
    "DemoFn(FNN, /* numBatches */ 10, /* useCrossentropy */ true)"
   ]
  },
  {
   "cell_type": "markdown",
   "id": "e2679dfa-295b-472c-b5b9-f80f3eed09ee",
   "metadata": {},
   "source": [
    "### BSpline-KAN"
   ]
  },
  {
   "cell_type": "code",
   "execution_count": 10,
   "id": "440e4a5a-2baa-418f-997d-d17d88a26c88",
   "metadata": {},
   "outputs": [
    {
     "name": "stdout",
     "output_type": "stream",
     "text": [
      "Training (25000 steps):  100% [========================================] (1667 steps/s) [step=24999] [loss+=0.001] [~loss+=0.001] [~loss=0.001]        ]        \n",
      "Train: loss=float32(0.0011)\n",
      "\tMedian training time: 523.595µs\n",
      "Accuracy:\t99.7%\n",
      "# params:\t1040\n"
     ]
    },
    {
     "data": {
      "text/html": [
       "<img src=\"data:image/png;base64,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\"/>"
      ]
     },
     "metadata": {},
     "output_type": "display_data"
    }
   ],
   "source": [
    "func BSplineKAN(ctx *context.Context, xys *Node) *Node {\n",
    "    return kan.New(ctx.In(\"BSplineKan\"), xys, 1).\n",
    "        NumHiddenLayers(2, 10).\n",
    "        NumControlPoints(6).\n",
    "        UseResidual(true).\n",
    "        Done()\n",
    "}\n",
    "\n",
    "%%\n",
    "DemoFn(BSplineKAN, /* numBatches */ 10, /* useCrossentropy */ true)"
   ]
  },
  {
   "cell_type": "markdown",
   "id": "11a70643-603e-4cee-9dcc-bba97e394beb",
   "metadata": {},
   "source": [
    "### Rational Functions KAN (GR-KAN)"
   ]
  },
  {
   "cell_type": "code",
   "execution_count": 11,
   "id": "152063d2-1dca-4307-8ae1-fda373bee2c5",
   "metadata": {},
   "outputs": [
    {
     "name": "stdout",
     "output_type": "stream",
     "text": [
      "Training (25000 steps):  100% [========================================] (2295 steps/s) [step=24999] [loss+=0.003] [~loss+=0.005] [~loss=0.005]        ]        \n",
      "Train: loss=float32(0.0029)\n",
      "\tMedian training time: 380.413µs\n",
      "Accuracy:\t99.7%\n",
      "# params:\t1430\n"
     ]
    },
    {
     "data": {
      "text/html": [
       "<img src=\"data:image/png;base64,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\"/>"
      ]
     },
     "metadata": {},
     "output_type": "display_data"
    }
   ],
   "source": [
    "func GRKAN(ctx *context.Context, xys *Node) *Node {\n",
    "    return kan.New(ctx.In(\"GRKAN\"), xys, 1).\n",
    "        Rational().\n",
    "        NumHiddenLayers(2, 10).\n",
    "        UseResidual(true).\n",
    "        Done()\n",
    "}\n",
    "\n",
    "%%\n",
    "DemoFn(GRKAN, /* numBatches */ 10, /* useCrossentropy */ true)"
   ]
  },
  {
   "cell_type": "markdown",
   "id": "68880e1a-1140-4b9c-aa28-c1a15af30246",
   "metadata": {},
   "source": [
    "### Piecewise Linear KAN (PWL-KAN)"
   ]
  },
  {
   "cell_type": "code",
   "execution_count": 12,
   "id": "f4126556-7476-452c-92c9-0c8489ff7b55",
   "metadata": {},
   "outputs": [
    {
     "name": "stdout",
     "output_type": "stream",
     "text": [
      "Training (25000 steps):  100% [========================================] (1776 steps/s) [step=24999] [loss+=0.006] [~loss+=0.008] [~loss=0.008]        ]        \n",
      "Train: loss=float32(0.0061)\n",
      "\tMedian training time: 447.651µs\n",
      "Accuracy:\t99.8%\n",
      "# params:\t3170\n"
     ]
    },
    {
     "data": {
      "text/html": [
       "<img src=\"data:image/png;base64,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\"/>"
      ]
     },
     "metadata": {},
     "output_type": "display_data"
    }
   ],
   "source": [
    "func PWLKAN(ctx *context.Context, xys *Node) *Node {\n",
    "    ctx.SetParam(kan.ParamPWLSplitPointsTrainable, true)\n",
    "    return kan.New(ctx.In(\"PWL-KAN\"), xys, 1).\n",
    "        PiecewiseLinear().\n",
    "        NumHiddenLayers(2, 10).\n",
    "        UseResidual(true).\n",
    "        NumControlPoints(20).        \n",
    "        Done()\n",
    "}\n",
    "\n",
    "%%\n",
    "DemoFn(PWLKAN, /* numBatches */ 10, /* useCrossentropy */ true)"
   ]
  },
  {
   "cell_type": "markdown",
   "id": "1ad6d060-d41d-45f5-968c-b7f0dc3bc62d",
   "metadata": {},
   "source": [
    "### Piecewise Constant KAN (Discrete-KAN)"
   ]
  },
  {
   "cell_type": "code",
   "execution_count": 13,
   "id": "c8a6e6c7-3758-4bdc-9f71-ac2b416c5738",
   "metadata": {},
   "outputs": [
    {
     "name": "stdout",
     "output_type": "stream",
     "text": [
      "Training (100000 steps):  100% [========================================] (1820 steps/s) [step=99999] [loss+=0.004] [~loss+=0.004] [~loss=0.004]        ]         \n",
      "Train: loss=float32(0.0039)\n",
      "\tMedian training time: 447.929µs\n",
      "Accuracy:\t96.6%\n",
      "# params:\t2443\n"
     ]
    },
    {
     "data": {
      "text/html": [
       "<img src=\"data:image/png;base64,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\"/>"
      ]
     },
     "metadata": {},
     "output_type": "display_data"
    }
   ],
   "source": [
    "func DiscreteKAN(ctx *context.Context, xys *Node) *Node {\n",
    "    ctx.SetParam(kan.ParamDiscreteSoftnessScheduleMin, 1e-5)\n",
    "    return kan.New(ctx.In(\"DiscreteKAN\"), xys, 1).\n",
    "        Discrete().\n",
    "        NumHiddenLayers(3, 5).\n",
    "        UseResidual(true).\n",
    "        NumControlPoints(30).\n",
    "        DiscreteSoftness(0.2).\n",
    "        DiscreteSplitsTrainable(true).\n",
    "        DiscreteSoftnessScheduleType(kan.SoftnessScheduleExponential).\n",
    "        Done()\n",
    "}\n",
    "\n",
    "%%\n",
    "BaseNumSteps = 10_000\n",
    "DemoFn(DiscreteKAN, /* numBatches */ 10, /* useCrossentropy */ false)"
   ]
  }
 ],
 "metadata": {
  "kernelspec": {
   "display_name": "Go (gonb)",
   "language": "go",
   "name": "gonb"
  },
  "language_info": {
   "codemirror_mode": "",
   "file_extension": ".go",
   "mimetype": "text/x-go",
   "name": "go",
   "nbconvert_exporter": "",
   "pygments_lexer": "",
   "version": "go1.24.2"
  }
 },
 "nbformat": 4,
 "nbformat_minor": 5
}
