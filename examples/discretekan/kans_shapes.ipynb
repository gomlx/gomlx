{
 "cells": [
  {
   "cell_type": "markdown",
   "id": "0a9b1e18-f4f9-45f9-a3d4-66a2813283db",
   "metadata": {},
   "source": [
    "# How KANs Learn ?\n",
    "\n",
    "This notebook extends the [\"How different machine learning models generalize?\"](https://ydf.readthedocs.io/en/latest/blog/2024/10/04/how-different-machine-learning-models-generalize/) blog post [4] to KANs (**Kolmogorov-Arnold Networks**) [1], demonstrating how they \"learn\", by creating a 2-D image with figures, and try to make KAN models (with various univariate functions) learn them, given the input x/y.\n",
    "\n",
    "The following KAN univariate functions are evaluated:\n",
    "\n",
    "1. B-Spline KAN: the univariate function used in the original KAN paper [1].\n",
    "2. GR-KAN (Group Rational KAN): Published in the KAT paper [2].\n",
    "3. PWL-KAN (Piecewise Linear KAN): A KAN that uses piecewise linear functions.\n",
    "4. PWC-KAN (Piecewise Constant KAN) or Discrete-KAN: A KAN that uses piecewise-constant functions (staircase functions), see demo in [3].\n",
    "\n",
    "* [1] ['Kolmogorov-Arnold Networks\" (arxiv.org/abs/2404.19756)](https://arxiv.org/abs/2404.19756)\n",
    "* [2] [\"KAT: A Knowledge Augmented Transformer for Vision-and-Language\" (arxiv.org/abs/2112.08614)](https://arxiv.org/abs/2112.08614)\n",
    "* [3] [Discrete-KAN](https://gomlx.github.io/gomlx/notebooks/discrete-kan.html)\n",
    "* [4] [\"How different machine learning models generalize?\"](https://ydf.readthedocs.io/en/latest/blog/2024/10/04/how-different-machine-learning-models-generalize/)\n",
    "\n",
    "This notebook was created using [GoNB](https://github.com/janpfeifer/gonb) a Go kernel for Jupyter notebooks, and [GoMLX](https://github.com/gomlx/gomlx), a machine learning framework for Go, using XLA as a backend."
   ]
  },
  {
   "cell_type": "markdown",
   "id": "a284b9a8-abf3-4a1f-97d7-0b53b0bb018f",
   "metadata": {},
   "source": [
    "## Imports and setup code\n",
    "\n",
    "Details, not needed for understanding, so kept hidden."
   ]
  },
  {
   "cell_type": "code",
   "execution_count": 1,
   "id": "6abdb185-67b2-4d91-aa6e-e9c32de73ad3",
   "metadata": {},
   "outputs": [
    {
     "data": {
      "text/markdown": [
       "## GoNB version: `v0.11.1`\n",
       "\n",
       "### Build Info\n",
       "- Go version: go1.25.2 (OS: linux, Arch: amd64)\n"
      ]
     },
     "metadata": {},
     "output_type": "display_data"
    },
    {
     "name": "stdout",
     "output_type": "stream",
     "text": [
      "\t- Added replace rule for module \"github.com/gomlx/gomlx\" to local directory \"/home/janpf/Projects/gomlx\".\n",
      "\t- Added replace rule for module \"github.com/janpfeifer/gonb\" to local directory \"/home/janpf/Projects/gonb\".\n",
      "\t- Added replace rule for module \"github.com/gomlx/gopjrt\" to local directory \"/home/janpf/Projects/gopjrt\".\n"
     ]
    }
   ],
   "source": [
    "%version\n",
    "!*rm -f go.work && go work init\n",
    "!*go work use . \"${HOME}/Projects/gonb\" \"${HOME}/Projects/gomlx\" \"${HOME}/Projects/gopjrt\"\n",
    "%goworkfix"
   ]
  },
  {
   "cell_type": "code",
   "execution_count": 2,
   "id": "03aef856-d032-4cd5-a9e0-481f9ee845cf",
   "metadata": {},
   "outputs": [],
   "source": [
    "import (\n",
    "    \"math\"\n",
    "    \n",
    "    \"github.com/gomlx/gomlx/backends\"\n",
    "    . \"github.com/gomlx/gomlx/pkg/core/graph\"\n",
    "    \"github.com/gomlx/gomlx/pkg/core/shapes\"\n",
    "    \"github.com/gomlx/gomlx/pkg/core/tensors\"\n",
    "    \"github.com/gomlx/gomlx/pkg/ml/context\"\n",
    "    \"github.com/gomlx/gomlx/pkg/ml/datasets\"\n",
    "    \"github.com/gomlx/gomlx/pkg/ml/train\"\n",
    "    \"github.com/gomlx/gomlx/pkg/ml/train/losses\"\n",
    "    \"github.com/gomlx/gomlx/pkg/ml/train/optimizers\"\n",
    "    \"github.com/gomlx/gopjrt/dtypes\"\n",
    "    \"github.com/janpfeifer/gonb/gonbui\"\n",
    "    \"github.com/janpfeifer/gonb/cache\"\n",
    "\n",
    "    // Include default backends\n",
    "    _ \"github.com/gomlx/gomlx/backends/default\"\n",
    ")\n",
    "\n",
    "// Backend used everywhere. Default will use GPU if available, otherwise CPU.\n",
    "var Backend = backends.MustNew()\n",
    "\n",
    "// Makes sure there is a valid reference to `graph` package imported inline.\n",
    "var _ = Add\n",
    "\n",
    "// Define how we want to fail in case of errors.\n",
    "func init_must() {\n",
    "    must.M = func(err error) {\n",
    "        if err != nil {\n",
    "            log.Fatal(\"Error:\\n%+v\\n\", err)\n",
    "        }\n",
    "    }\n",
    "}\n"
   ]
  },
  {
   "cell_type": "markdown",
   "id": "77998688-ded3-4d59-a133-2c404c7c1340",
   "metadata": {},
   "source": [
    "## Plotting Code\n",
    "\n",
    "We are plotting functions $f(x,y) \\text{ where } x, y \\in [-1, 1]$. The output of $f(x,y) \\in [0, 1]$ represents a degree of grayness 0.0 representing white and 1.0 representing black.\n",
    "\n",
    "The functions are given GoMLX functions, that take as input one array shaped `[batch_size, 2]` (`batch_size` pairs of $(x, y)$).\n"
   ]
  },
  {
   "cell_type": "code",
   "execution_count": 3,
   "id": "31b2b658-858d-42b1-b6a3-0e5196e78dad",
   "metadata": {},
   "outputs": [
    {
     "data": {
      "text/html": [
       "<img src=\"data:image/png;base64,iVBORw0KGgoAAAANSUhEUgAAAEAAAABACAAAAACPAi4CAAAA6ElEQVR4nKTMSY7FMAwDUSPo+584Rn9k9iDJJFX7en//ZdEetyX/JbD6V8DyXwDrPwaAPwSQPwKgPwCw3wfA3wXQ3wPg3wHw3waI3wSY3wKo3wC4fwbIfwLYfwTofwD4vweEvwOUvwWkvwG0/wPE/wXU/wHk/wb0/wIS/wlk/gNI/fuW/Pct+dckUEsOqCUH1JIDjj8DnH8CuH4duH8ZeH4VeH8R+H4NaH4JaH8F6H4B6H8eGH4aGH8WmH4SmH8OMH4KsH4GMH8CsH8ccH4Y8H4UcH8Q8H8MCH4IiH4ECH8AiP/yCwAA///zHNBOdnedtQAAAABJRU5ErkJggg==\"/>"
      ]
     },
     "metadata": {},
     "output_type": "display_data"
    }
   ],
   "source": [
    "// PlotFn is the function accepted by the plot functions.\n",
    "//\n",
    "// The function takes as an input shaped [batch_size, 2], with batch_size tuples of (x, y), and should return `[batch_size, 1]`\n",
    "// values from 0.0 to 1.0 \n",
    "//\n",
    "// The context holds the variables of the model (for learned functions), but can be ignored if the function doesn't use any variables.\n",
    "type PlotFn func (ctx *context.Context, xys *Node) *Node \n",
    "\n",
    "// PlotToImg returns the HTML `<img src=...>` of size \"size x size\", with the plotted function, that can be displayed or composed.\n",
    "//\n",
    "// The context can be nil, if the function doesn't use any variables.\n",
    "func PlotToImg(ctx *context.Context, fn PlotFn, size int) string {\n",
    "    if ctx == nil {\n",
    "        ctx = context.New()\n",
    "    }\n",
    "    ctx = ctx.Reuse()  // When plotting, we shouldn't be creating new variables. This way it will fail if function is not yet trained.\n",
    "    // Generate values for each pixel, shaped [size * size, 1]\n",
    "    values := context.MustExecOnce(Backend, ctx, func (ctx *context.Context, g *Graph) *Node {\n",
    "        xys := imgXYs(g, size)\n",
    "        output := fn(ctx, xys)\n",
    "        return ClipScalar(output, 0.0, 1.0)  // Clip to the values allowed.\n",
    "    })\n",
    "\n",
    "    \n",
    "\timg := image.NewGray(image.Rect(0, 0, size, size))\n",
    "    tensors.ConstFlatData[float32](values, func (data []float32) {\n",
    "    \tfor i, v := range data {\n",
    "    \t\t// Convert float32 (0.0 - 1.0) to uint8 (0 - 255)\n",
    "    \t\tgrayValue := uint8((1.0 - v) * 255)  // Colors reversed, so black is 1.0, white is 0.0 (better for white backgrounds).\n",
    "    \t\ty := (i / size)\n",
    "    \t\tx := i % size\n",
    "    \t\timg.SetGray(x, y, color.Gray{Y: grayValue})\n",
    "    \t}\n",
    "    })\n",
    "    \n",
    "    imgSrc := must.M1(gonbui.EmbedImageAsPNGSrc(img))\n",
    "    return fmt.Sprintf(\"<img src=%q/>\", imgSrc)\n",
    "}\n",
    "\n",
    "// imgXYs creates all combination of (x, y) for an image of size (size x size), where $x,y \\in [0, 1]$.\n",
    "// The output is shaped [batchSize, 2], where batchSize = size * size.\n",
    "func imgXYs(g *Graph, size int) *Node {\n",
    "    xs := Iota(g, shapes.Make(dtypes.Float32, size, size, 1), 1) // -> 0, size-1\n",
    "    xs = AddScalar(DivScalar(xs, float64(size)/2.0), -1)  // -> -1.0, 1.0\n",
    "    ys := Iota(g, shapes.Make(dtypes.Float32, size, size, 1), 0)\n",
    "    ys = AddScalar(DivScalar(ys, float64(size)/2.0), -1)  // -> -1.0, 1.0\n",
    "    xys := Concatenate([]*Node{xs, ys}, -1)\n",
    "    xys = Reshape(xys, size*size, 2)  // Contract width and height axes into a \"batch_size\" axis.\n",
    "    return xys\n",
    "}\n",
    "\n",
    "// Plot displays an image generated from the given function.\n",
    "func Plot(ctx *context.Context, fn PlotFn, size int) {\n",
    "    gonbui.DisplayHTML(PlotToImg(ctx, fn, size))\n",
    "}\n",
    "\n",
    "%%\n",
    "// Small test of a gradient function on the x,y diagonal.\n",
    "Plot(nil, func (_ *context.Context, xys *Node) *Node {\n",
    "    value := ReduceAndKeep(xys, ReduceSum, -1)  // x+y -> -2.0 to 2.0\n",
    "    // -> -0.5 to 1.5, but values will be clipped.\n",
    "    return AddScalar(DivScalar(value, 2.0), 0.5)\n",
    "}, 64)\n"
   ]
  },
  {
   "cell_type": "markdown",
   "id": "c93ac9c3-7087-444e-bd43-6075e1819e68",
   "metadata": {},
   "source": [
    "## Ground-Truth Image\n",
    "\n",
    "This is the image we want the various machine learning functions to learn, based on [4].\n"
   ]
  },
  {
   "cell_type": "code",
   "execution_count": 4,
   "id": "ab2c65cf-c567-4fde-b362-b679f752e88d",
   "metadata": {},
   "outputs": [
    {
     "data": {
      "text/html": [
       "<img src=\"data:image/png;base64,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\"/>"
      ]
     },
     "metadata": {},
     "output_type": "display_data"
    }
   ],
   "source": [
    "func GroundTruth(_ *context.Context, xys *Node) *Node {\n",
    "    g := xys.Graph()\n",
    "    dtype := xys.DType()\n",
    "    \n",
    "    xs := Slice(xys, /*batch_size*/ AxisRange(), /* (x,y) */ AxisElem(0)) // xs -> [-1, 1]\n",
    "    xs = DivScalar(OnePlus(xs), 2)  // xs -> [0, 1]\n",
    "    ys := Slice(xys, /*batch_size*/ AxisRange(), /* (x,y) */ AxisElem(1)) // ys -> [-1, 1]\n",
    "    ys = DivScalar(OnePlus(ys), 2)  // ys -> [0, 1]\n",
    "    \n",
    "    eclipse := Sqrt(Add(\n",
    "        Square(DivScalar(AddScalar(xs, -0.4), 0.7)),\n",
    "        Square(DivScalar(AddScalar(ys, -0.3), 0.5)),\n",
    "    ))\n",
    "    eclipse = LessThan(eclipse, Scalar(g, dtype, 0.5))\n",
    "\n",
    "    w := 0.25\n",
    "    squareLength := Scalar(g, dtype, w)\n",
    "    squareLength2 := Scalar(g, dtype, w * math.Sqrt(2))\n",
    "\n",
    "    xs1 := AddScalar(xs, -0.10)\n",
    "    ys1 := AddScalar(ys, -0.65)\n",
    "    zero := ScalarZero(g, dtype)\n",
    "    square1 := And(\n",
    "        And(GreaterThan(xs1, zero), LessThan(xs1, squareLength)),\n",
    "        And(GreaterThan(ys1, zero), LessThan(ys1, squareLength)),\n",
    "    )\n",
    "\n",
    "    xs2, ys2 := AddScalar(xs, - 0.74), AddScalar(ys, -0.55)\n",
    "    xs2, ys2 = Add(xs2, ys2), Sub(ys2, xs2)\n",
    "    square2 := And(\n",
    "        And(GreaterThan(xs2, zero), LessThan(xs2, squareLength2)),\n",
    "        And(GreaterThan(ys2, zero), LessThan(ys2, squareLength2)),\n",
    "    )\n",
    "    \n",
    "    image := Or(Or(eclipse, square1), square2)\n",
    "    return ConvertDType(image, xys.DType())\n",
    "}\n",
    "\n",
    "%%\n",
    "Plot(nil, GroundTruth, 400)"
   ]
  },
  {
   "cell_type": "markdown",
   "id": "f41c6cab-3dbd-4d7d-ba91-e585a46a945a",
   "metadata": {},
   "source": [
    "## Machine Learning a function to mimic `GroundTruth`\n",
    "\n",
    "### Training and Validation Datasets\n",
    "\n",
    "To analyse how a machine learning model \"learns\" (or \"generalizes\") the ground-truth image in an interesting way, we will create a fixed dataset with a limited number of examples, and then train the model.\n",
    "\n",
    "Notice we generate the datset as a couple of fixed tensors, whose shapes are: \n",
    "\n",
    "* Input shape `[num_batches, batch_size, 2]`, with the $(x, y)$ of the data points. Notice `NumTrainingExamples = num_batches * batch_size`.\n",
    "* Labels shape `[num_batches, batch_size, 1]`. While the labels are defined in the range `[0.0, 1.0]`, our ground-truth only uses 0s and 1s, so it can be consider a boolean.\n"
   ]
  },
  {
   "cell_type": "code",
   "execution_count": 5,
   "id": "34741a64-0106-410b-bc53-eea8d4656d72",
   "metadata": {},
   "outputs": [
    {
     "name": "stdout",
     "output_type": "stream",
     "text": [
      "/trainXYs: shape=(Float32)[1 32000 2]\n",
      "\tSample values: [0.9253949 -0.7290534 0.40012693 0.011769533 0.24289417 -0.20978129 0.15292251 -0.09316999 0.96000326 -0.43578953]\n",
      "/trainLabels: shape=(Float32)[1 32000 1]\n",
      "\tSample values: [0 0 1 1 0 1 0 0 1 0]\n",
      "/validXYs: shape=(Float32)[32000 2]\n",
      "\tSample values: [-0.6587877 -0.9495033 0.28734863 0.8810971 0.63639426 0.5474998 0.8441943 -0.5901769 0.46686828 0.9806895]\n",
      "/validLabels: shape=(Float32)[32000 1]\n",
      "\tSample values: [0 0 1 0 0 1 1 0 1 0]\n"
     ]
    }
   ],
   "source": [
    "const (\n",
    "    TrainingDataSeed = 42\n",
    "    NumTrainingExamples = 32_000\n",
    "    NumValidationExamples = 16_000\n",
    ")\n",
    "\n",
    "// Upload training and validation data as a variables.\n",
    "func UploadTrainingData(ctx *context.Context) {\n",
    "    _ = context.MustExecOnceN(Backend, ctx, func (ctx *context.Context, g *Graph) {\n",
    "        rng := Const(g, RngStateFromSeed(TrainingDataSeed))\n",
    "        var trainXYs, validXYs *Node\n",
    "        rng, trainXYs = RandomUniform(rng, shapes.Make(dtypes.Float32, NumTrainingExamples, 2))  // -> [0, 1]\n",
    "        rng, validXYs = RandomUniform(rng, shapes.Make(dtypes.Float32, NumTrainingExamples, 2))  // -> [0, 1]\n",
    "        trainXYs = AddScalar(MulScalar(trainXYs, 2), -1)  // -> [-1, 1]\n",
    "        validXYs = AddScalar(MulScalar(validXYs, 2), -1)  // -> [-1, 1]\n",
    "        trainLabels := GroundTruth(ctx, trainXYs)\n",
    "        validLabels := GroundTruth(ctx, validXYs)\n",
    "\n",
    "        // Break up into batches.\n",
    "        numBatches := context.GetParamOr(ctx, \"num_batches\", int(1))  // default to 1.\n",
    "        batchSize := NumTrainingExamples / numBatches\n",
    "        trainXYs = Reshape(trainXYs, numBatches, batchSize, 2)\n",
    "        trainLabels = Reshape(trainLabels, numBatches, batchSize, 1)\n",
    "\n",
    "        // Store data into (non-trainable) variables.\n",
    "        _ = ctx.VariableWithValueGraph(\"trainXYs\", trainXYs).SetTrainable(false)\n",
    "        _ = ctx.VariableWithValueGraph(\"trainLabels\", trainLabels).SetTrainable(false)\n",
    "        _ = ctx.VariableWithValueGraph(\"validXYs\", validXYs).SetTrainable(false)\n",
    "        _ = ctx.VariableWithValueGraph(\"validLabels\", validLabels).SetTrainable(false)\n",
    "    })\n",
    "}\n",
    "\n",
    "%%\n",
    "// Create a context, and check that variables with the training data were uploaded with the right shape.\n",
    "ctx := context.New()\n",
    "UploadTrainingData(ctx)\n",
    "for v := range ctx.IterVariables() {\n",
    "    fmt.Printf(\"%s: shape=%s\\n\", v.ScopeAndName(), v.Shape())\n",
    "    tensors.ConstFlatData(v.Value(), func (flat []float32) {\n",
    "        fmt.Printf(\"\\tSample values: %v\\n\", flat[:10])\n",
    "    })\n",
    "}"
   ]
  },
  {
   "cell_type": "markdown",
   "id": "e3839fbf-8580-487d-8e67-ba6224c5dba3",
   "metadata": {},
   "source": [
    "### Trivial Training Loop\n",
    "\n",
    "Below we create a training loop and a couple of loss functions that uses the training data we just created.\n",
    "\n",
    "It can be used by any model with may want to try to learn."
   ]
  },
  {
   "cell_type": "code",
   "execution_count": 6,
   "id": "3042a2bc-6d99-40eb-ab7c-8726cbe7484b",
   "metadata": {},
   "outputs": [],
   "source": [
    "// Train the given learnable fn for numSteps. The context (ctx) will store the learned weights.\n",
    "//\n",
    "// Use one of the losses defined here, since we take the labels as generated by the model function (as opposed to given by the dataset).\n",
    "func Train(ctx *context.Context, fn PlotFn, numSteps int, lossFn losses.LossFn) error {\n",
    "    // Upload training data, if not yet set.\n",
    "    v := ctx.InspectVariable(\"/\", \"trainXYs\")\n",
    "    if v == nil {\n",
    "        UploadTrainingData(ctx)\n",
    "    }\n",
    "    ds := datasets.NewConstantDataset()\n",
    "                       \n",
    "    // Our model function: it gets the batch from the fixed inputs, and call the LearnableFn provides. \n",
    "    // It also returns the labels for the batch.\n",
    "    modelFn := func(ctx *context.Context, spec any, inputs []*Node) []*Node {\n",
    "        g := inputs[0].Graph()\n",
    "        \n",
    "        // Get training data, which must exist already in the context.\n",
    "        trainXYs := ctx.InspectVariable(\"/\", \"trainXYs\").ValueGraph(g)\n",
    "        trainLabels := ctx.InspectVariable(\"/\", \"trainLabels\").ValueGraph(g)\n",
    "    \n",
    "        // Get the batch for this global step.\n",
    "        numBatches := trainXYs.Shape().Dim(0)\n",
    "        batchSize := trainXYs.Shape().Dim(1)\n",
    "        globalStep := optimizers.GetGlobalStepVar(ctx).ValueGraph(g)\n",
    "        batchIdx := ModScalar(globalStep, numBatches)\n",
    "        zeroIdx := ScalarZero(g, globalStep.DType())\n",
    "        batchXYs := DynamicSlice(trainXYs, []*Node{batchIdx, zeroIdx, zeroIdx}, []int{1, batchSize, 2})\n",
    "        batchXYs = Reshape(batchXYs, batchSize, 2)\n",
    "        batchLabels := DynamicSlice(trainLabels, []*Node{batchIdx, zeroIdx, zeroIdx}, []int{1, batchSize, 1})\n",
    "        batchLabels = Reshape(batchLabels, batchSize, 1)\n",
    "\n",
    "        // Prediction\n",
    "        logits := fn(ctx, batchXYs)\n",
    "        return []*Node{logits, batchLabels}\n",
    "    }\n",
    "\n",
    "    // The labels are actually provided by the modelFn, in logits[1].\n",
    "    fixedLossFn := func(labels, logits []*Node) *Node {\n",
    "        return lossFn(/* labels= */ []*Node{logits[1]}, /* logits= */ []*Node{logits[0]})\n",
    "    }\n",
    "    trainer := train.NewTrainer(Backend, ctx, modelFn, fixedLossFn, optimizers.FromContext(ctx), nil, nil)\n",
    "    loop := train.NewLoop(trainer)\n",
    "\tcommandline.AttachProgressBar(loop) // Attaches a progress bar to the loop.\n",
    "    metrics, err := loop.RunSteps(ds, numSteps)\n",
    "    if err != nil { \n",
    "        return err\n",
    "    }\n",
    "    fmt.Printf(\"Train: loss=%v\\n\", metrics[0])\n",
    "    fmt.Printf(\"\\tMedian training time: %s\\n\", loop.MedianTrainStepDuration())\n",
    "    return nil\n",
    "}\n",
    "\n",
    "// PlotLogits converts a logits function -- a function that learns -inf to +inf outputs -- to a 0 to 1 function used for plotting.\n",
    "func PlotLogitsFn(logitsFn PlotFn) PlotFn {\n",
    "    return func(ctx *context.Context, xys *Node) *Node {\n",
    "        logits := logitsFn(ctx, xys)\n",
    "        return Sigmoid(logits)\n",
    "    }\n",
    "}"
   ]
  },
  {
   "cell_type": "markdown",
   "id": "7bb54509-4733-42f2-8087-f64babf8ace7",
   "metadata": {},
   "source": [
    "### Accuracy of a Function\n",
    "\n",
    "Measured over the whole images uniformly at the given resolution."
   ]
  },
  {
   "cell_type": "code",
   "execution_count": 7,
   "id": "189b680a-72a2-4b3a-bc4f-d0a0a977ecaf",
   "metadata": {},
   "outputs": [
    {
     "name": "stdout",
     "output_type": "stream",
     "text": [
      "GroundTruth accuracy is 100.0%\n"
     ]
    }
   ],
   "source": [
    "// Accuracy returns the accuracy of the model over the whole image, measured at the given resolution.\n",
    "// It takes the model (fn) prediction as true if $fn(x,y) > 0.5$ or false otherwise.\n",
    "func Accuracy(ctx *context.Context, fn PlotFn, resolution int) float32 {\n",
    "    if ctx == nil {\n",
    "        ctx = context.New()\n",
    "    }\n",
    "    ctx = ctx.Reuse()  // When plotting, we shouldn't be creating new variables. This way it will fail if function is not yet trained.\n",
    "    \n",
    "    // Generate values for each pixel, shaped [size * size, 1]\n",
    "    accuracy := context.MustExecOnce(Backend, ctx, func (ctx *context.Context, g *Graph) *Node {\n",
    "        xys := imgXYs(g, resolution)\n",
    "        dtype := xys.DType()\n",
    "        truth := GroundTruth(ctx, xys)\n",
    "        predicted := fn(ctx, xys)\n",
    "        predicted = GreaterThan(predicted, Scalar(g, dtype, 0.5))\n",
    "        predicted = ConvertDType(predicted, dtype)\n",
    "        accuracy := Equal(truth, predicted)\n",
    "        accuracy = ConvertDType(accuracy, dtype)\n",
    "        accuracy = ReduceAllMean(accuracy)\n",
    "        return accuracy\n",
    "    })\n",
    "    return tensors.ToScalar[float32](accuracy)\n",
    "}\n",
    "\n",
    "%%\n",
    "fmt.Printf(\"GroundTruth accuracy is %.1f%%\\n\", Accuracy(nil, GroundTruth, 400)*100.0)"
   ]
  },
  {
   "cell_type": "markdown",
   "id": "62771e58-e27a-4ec2-af13-411088e34345",
   "metadata": {},
   "source": [
    "### Demo Function\n",
    "\n",
    "This is a helper function that trains a given function, optionally prints its trainable variables, plots it and reports back its accuracy."
   ]
  },
  {
   "cell_type": "code",
   "execution_count": 8,
   "id": "29ea8a2d-0777-4e8a-99ed-1e68cf5d3d71",
   "metadata": {},
   "outputs": [],
   "source": [
    "var (\n",
    "    BaseNumSteps = 2500\n",
    ")\n",
    "\n",
    "func DemoFn(fn PlotFn, numBatches int, useCrossentropy bool) {\n",
    "    ctx := context.New()\n",
    "    ctx.SetParam(\"num_batches\", numBatches)\n",
    "    var loss losses.LossFn\n",
    "    if useCrossentropy {\n",
    "        loss = losses.BinaryCrossentropyLogits\n",
    "    } else {\n",
    "        loss = losses.MeanSquaredError\n",
    "    }\n",
    "    must.M(Train(ctx, fn, /*numSteps*/ BaseNumSteps * numBatches, loss))\n",
    "    fmt.Printf(\"Accuracy:\\t%.1f%%\\n\", Accuracy(ctx, fn, 400)*100.0)\n",
    "    \n",
    "    var numParams int\n",
    "    for v := range ctx.IterVariables() {\n",
    "        if v.Trainable {\n",
    "            numParams += v.Shape().Size()\n",
    "        }\n",
    "    }\n",
    "    fmt.Printf(\"# params:\\t%d\\n\", numParams)\n",
    "\n",
    "    if useCrossentropy {\n",
    "        Plot(ctx, PlotLogitsFn(fn), 400)\n",
    "    } else {\n",
    "        Plot(ctx, PlotFn(fn), 400)\n",
    "    }\n",
    "}"
   ]
  },
  {
   "cell_type": "markdown",
   "id": "d28aa036-3770-4fc0-950d-f424241958d7",
   "metadata": {},
   "source": [
    "### Feedforward Neural Network Baseline"
   ]
  },
  {
   "cell_type": "code",
   "execution_count": 9,
   "id": "37d93945-2c30-4d35-b90b-31feff960e9e",
   "metadata": {},
   "outputs": [
    {
     "name": "stdout",
     "output_type": "stream",
     "text": [
      "      \u001b[1m 100% [========================================] (5041 steps/s)\u001b[0m [step=24999] [loss+=0.00543] [~loss+=0.00543] [~loss=0.00543]                \n",
      "Train: loss=float32(0.00543)\n",
      "\tMedian training time: 185.371µs\n",
      "Accuracy:\t99.6%\n",
      "# params:\t921\n"
     ]
    },
    {
     "data": {
      "text/html": [
       "<img src=\"data:image/png;base64,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\"/>"
      ]
     },
     "metadata": {},
     "output_type": "display_data"
    }
   ],
   "source": [
    "func FNN(ctx *context.Context, xys *Node) *Node {\n",
    "    return fnn.New(ctx.In(\"fnn\"), xys, /* ouputDim */1).NumHiddenLayers(3, 20).Done()\n",
    "}\n",
    "\n",
    "%%\n",
    "DemoFn(FNN, /* numBatches */ 10, /* useCrossentropy */ true)"
   ]
  },
  {
   "cell_type": "markdown",
   "id": "e2679dfa-295b-472c-b5b9-f80f3eed09ee",
   "metadata": {},
   "source": [
    "### BSpline-KAN"
   ]
  },
  {
   "cell_type": "code",
   "execution_count": 10,
   "id": "440e4a5a-2baa-418f-997d-d17d88a26c88",
   "metadata": {},
   "outputs": [
    {
     "name": "stdout",
     "output_type": "stream",
     "text": [
      "      \u001b[1m 100% [========================================] (3243 steps/s)\u001b[0m [step=24999] [loss+=0.00111] [~loss+=0.00121] [~loss=0.00121]        ]        \n",
      "Train: loss=float32(0.001113)\n",
      "\tMedian training time: 296.262µs\n",
      "Accuracy:\t99.7%\n",
      "# params:\t1040\n"
     ]
    },
    {
     "data": {
      "text/html": [
       "<img src=\"data:image/png;base64,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\"/>"
      ]
     },
     "metadata": {},
     "output_type": "display_data"
    }
   ],
   "source": [
    "func BSplineKAN(ctx *context.Context, xys *Node) *Node {\n",
    "    return kan.New(ctx.In(\"BSplineKan\"), xys, 1).\n",
    "        NumHiddenLayers(2, 10).\n",
    "        NumControlPoints(6).\n",
    "        UseResidual(true).\n",
    "        Done()\n",
    "}\n",
    "\n",
    "%%\n",
    "DemoFn(BSplineKAN, /* numBatches */ 10, /* useCrossentropy */ true)"
   ]
  },
  {
   "cell_type": "markdown",
   "id": "11a70643-603e-4cee-9dcc-bba97e394beb",
   "metadata": {},
   "source": [
    "### Rational Functions KAN (GR-KAN)"
   ]
  },
  {
   "cell_type": "code",
   "execution_count": 11,
   "id": "152063d2-1dca-4307-8ae1-fda373bee2c5",
   "metadata": {},
   "outputs": [
    {
     "name": "stdout",
     "output_type": "stream",
     "text": [
      "      \u001b[1m 100% [========================================] (3795 steps/s)\u001b[0m [step=24999] [loss+=0.00616] [~loss+=0.00678] [~loss=0.00678]                \n",
      "Train: loss=float32(0.006161)\n",
      "\tMedian training time: 254.802µs\n",
      "Accuracy:\t99.7%\n",
      "# params:\t1430\n"
     ]
    },
    {
     "data": {
      "text/html": [
       "<img src=\"data:image/png;base64,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\"/>"
      ]
     },
     "metadata": {},
     "output_type": "display_data"
    }
   ],
   "source": [
    "func GRKAN(ctx *context.Context, xys *Node) *Node {\n",
    "    return kan.New(ctx.In(\"GRKAN\"), xys, 1).\n",
    "        Rational().\n",
    "        NumHiddenLayers(2, 10).\n",
    "        UseResidual(true).\n",
    "        Done()\n",
    "}\n",
    "\n",
    "%%\n",
    "DemoFn(GRKAN, /* numBatches */ 10, /* useCrossentropy */ true)"
   ]
  },
  {
   "cell_type": "markdown",
   "id": "68880e1a-1140-4b9c-aa28-c1a15af30246",
   "metadata": {},
   "source": [
    "### Piecewise Linear KAN (PWL-KAN)"
   ]
  },
  {
   "cell_type": "code",
   "execution_count": 12,
   "id": "f4126556-7476-452c-92c9-0c8489ff7b55",
   "metadata": {},
   "outputs": [
    {
     "name": "stdout",
     "output_type": "stream",
     "text": [
      "      \u001b[1m 100% [========================================] (3509 steps/s)\u001b[0m [step=24999] [loss+=0.00636] [~loss+=0.00701] [~loss=0.00701]                \n",
      "Train: loss=float32(0.006357)\n",
      "\tMedian training time: 272.862µs\n",
      "Accuracy:\t99.7%\n",
      "# params:\t3170\n"
     ]
    },
    {
     "data": {
      "text/html": [
       "<img src=\"data:image/png;base64,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\"/>"
      ]
     },
     "metadata": {},
     "output_type": "display_data"
    }
   ],
   "source": [
    "func PWLKAN(ctx *context.Context, xys *Node) *Node {\n",
    "    ctx.SetParam(kan.ParamPWLSplitPointsTrainable, true)\n",
    "    return kan.New(ctx.In(\"PWL-KAN\"), xys, 1).\n",
    "        PiecewiseLinear().\n",
    "        NumHiddenLayers(2, 10).\n",
    "        UseResidual(true).\n",
    "        NumControlPoints(20).        \n",
    "        Done()\n",
    "}\n",
    "\n",
    "%%\n",
    "DemoFn(PWLKAN, /* numBatches */ 10, /* useCrossentropy */ true)"
   ]
  },
  {
   "cell_type": "markdown",
   "id": "1ad6d060-d41d-45f5-968c-b7f0dc3bc62d",
   "metadata": {},
   "source": [
    "### Piecewise Constant KAN (Discrete-KAN)"
   ]
  },
  {
   "cell_type": "code",
   "execution_count": 13,
   "id": "c8a6e6c7-3758-4bdc-9f71-ac2b416c5738",
   "metadata": {},
   "outputs": [
    {
     "name": "stdout",
     "output_type": "stream",
     "text": [
      "      \u001b[1m 100% [========================================] (3552 steps/s)\u001b[0m [step=99999] [loss+=0.00266] [~loss+=0.0024] [~loss=0.0024]        93]            \n",
      "Train: loss=float32(0.002656)\n",
      "\tMedian training time: 269.352µs\n",
      "Accuracy:\t97.4%\n",
      "# params:\t2443\n"
     ]
    },
    {
     "data": {
      "text/html": [
       "<img src=\"data:image/png;base64,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\"/>"
      ]
     },
     "metadata": {},
     "output_type": "display_data"
    }
   ],
   "source": [
    "func DiscreteKAN(ctx *context.Context, xys *Node) *Node {\n",
    "    ctx.SetParam(kan.ParamDiscreteSoftnessScheduleMin, 1e-5)\n",
    "    return kan.New(ctx.In(\"DiscreteKAN\"), xys, 1).\n",
    "        Discrete().\n",
    "        NumHiddenLayers(3, 5).\n",
    "        UseResidual(true).\n",
    "        NumControlPoints(30).\n",
    "        DiscreteSoftness(0.2).\n",
    "        DiscreteSplitsTrainable(true).\n",
    "        DiscreteSoftnessScheduleType(kan.SoftnessScheduleExponential).\n",
    "        Done()\n",
    "}\n",
    "\n",
    "%%\n",
    "BaseNumSteps = 10_000\n",
    "DemoFn(DiscreteKAN, /* numBatches */ 10, /* useCrossentropy */ false)"
   ]
  }
 ],
 "metadata": {
  "kernelspec": {
   "display_name": "Go (gonb)",
   "language": "go",
   "name": "gonb"
  },
  "language_info": {
   "codemirror_mode": "",
   "file_extension": ".go",
   "mimetype": "text/x-go",
   "name": "go",
   "nbconvert_exporter": "",
   "pygments_lexer": "",
   "version": "go1.25.2"
  }
 },
 "nbformat": 4,
 "nbformat_minor": 5
}
