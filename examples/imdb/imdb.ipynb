{
 "cells": [
  {
   "cell_type": "markdown",
   "id": "f431da81-4d94-4fd1-8a51-952ef824cb46",
   "metadata": {},
   "source": [
    "# IMDB Movie Review Dataset\n",
    "\n",
    "This is a library to download and parse the [IMDB's Large Movie Review Dataset](http://ai.stanford.edu/~amaas/data/sentiment/) dataset and a demo of a transformer based model. The dataset has 25K training, and 25K test dataset, plus 50K unlabeled examples.\n",
    "\n",
    "It's inspired on [Keras' Text classification with Transformer](https://keras.io/examples/nlp/text_classification_with_transformer/) demo.\n",
    "\n",
    "\n"
   ]
  },
  {
   "cell_type": "markdown",
   "id": "392f19ad-caa7-4d7d-8078-cbca680f2be2",
   "metadata": {},
   "source": [
    "## Environment Set Up\n",
    "\n",
    "Let's set up `go.mod` to use the local copy of GoMLX, so it can be developed jointly the dataset code with the model. That's often how data pre-processing and model code is developed together with experimentation.\n",
    "\n",
    "If you are not changing code, feel free to simply skip this cell. Or if you used a different directory for you projects, change it below.\n",
    "\n",
    "Notice the directory `${HOME}/Projects/gomlx` is where the GoMLX code is copied by default in [its Docker](https://hub.docker.com/repository/docker/janpfeifer/gomlx_jupyterlab/general)."
   ]
  },
  {
   "cell_type": "code",
   "execution_count": 1,
   "id": "32600e05-745d-4c38-999a-3b96ca1502cc",
   "metadata": {
    "tags": []
   },
   "outputs": [],
   "source": [
    "!*go mod edit -replace github.com/gomlx/gomlx=\"${HOME}/Projects/gomlx\""
   ]
  },
  {
   "cell_type": "markdown",
   "id": "443e9e56-ef12-4d04-b7bb-99478fa2b662",
   "metadata": {},
   "source": [
    "## Data Preparation\n",
    "\n",
    "### Downloading data files\n",
    "\n",
    "To download, uncompress and untar to the local directory, simply do the following. Notice if it's already downloaded in the given `--data` directory, it returns immediately."
   ]
  },
  {
   "cell_type": "code",
   "execution_count": 2,
   "id": "e98ca191-0d4b-4e7c-ab24-ded6991b9671",
   "metadata": {
    "tags": []
   },
   "outputs": [
    {
     "name": "stdout",
     "output_type": "stream",
     "text": [
      "> Loading previously generated preprocessed binary file.\n",
      "Loaded data from \"aclImdb.bin\": 100000 examples, 141088 unique tokens, 23727054 tokens in total.\n"
     ]
    }
   ],
   "source": [
    "import (\n",
    "    \"github.com/gomlx/gomlx/examples/imdb\"\n",
    "    \"github.com/gomlx/gomlx/ml/data\"\n",
    ")\n",
    "\n",
    "var flagDataDir = flag.String(\"data\", \"~/work/imdb\", \"Directory to cache downloaded and generated dataset files.\")\n",
    "\n",
    "func AssertNoError(err error) {\n",
    "    if err != nil {\n",
    "        log.Fatalf(\"Failed: %+v\", err)\n",
    "    }\n",
    "}\n",
    "\n",
    "func AssertDownloaded() {\n",
    "    *flagDataDir = data.ReplaceTildeInDir(*flagDataDir)\n",
    "    if !data.FileExists(*flagDataDir) {\n",
    "        AssertNoError(os.MkdirAll(*flagDataDir, 0777))\n",
    "    }\n",
    "\n",
    "    AssertNoError(imdb.Download(*flagDataDir))\n",
    "}\n",
    "\n",
    "%%\n",
    "AssertDownloaded()"
   ]
  },
  {
   "cell_type": "markdown",
   "id": "41a415e2-8a29-4aeb-8809-b8d6b7ede5ad",
   "metadata": {},
   "source": [
    "### Sampling some examples\n",
    "\n",
    "It creates a small dataset and print out some random examples.\n",
    "\n",
    "It also defines the `DType`, used for all internal representations of the model, and the flag `--max_len` that defines the maximum number of tokens used per observation. This will beused in the modeling later."
   ]
  },
  {
   "cell_type": "code",
   "execution_count": 3,
   "id": "f2bf2aab-7d50-4110-a8e3-bbee08063521",
   "metadata": {
    "tags": []
   },
   "outputs": [
    {
     "name": "stdout",
     "output_type": "stream",
     "text": [
      "> Loading previously generated preprocessed binary file.\n",
      "Loaded data from \"aclImdb.bin\": 100000 examples, 141088 unique tokens, 23727054 tokens in total.\n",
      "\n",
      "label=0, input=\"<START> the most obvious flaw horrible horrible script this movie had a potentially good story but it was ruined with bad dialogue continuity problems things that were never explained gaping plotholes sub plots that went nowhere and just plain stupidity not to mention the awful cliched directing of sandra locke not even two great performances could ve saved this movie so it didn t matter that devon and rosanna arquette give horrific performances the thing is they re better actors than this movie would have you believe the best of the arquettes rosanna arquette silverado after hours desperately seeking susan has some fine moments like a great scene in the beginning when she painfully pulls her handcuffs off but gives an overall weak performance by her standards and devon gummersall dick when trumpets fade and the brilliant my so called life is much worse acting with no conviction or emotion what so ever but i won t lay blame on the actors who have been good in other roles the script is awful and the bad direction doesn t help do me a favor avoid this movie\"\n",
      "\n",
      "label=0, input=\"<START> yah i know it has the name sinatra in the title so how bad can it be well it s bad trust me i rented this thinking it was some movie i missed in the theaters it s not it s some garbage movie made by the folks at showtime cable station geez these cable stations make a few bucks they think they can make whatever garbage movies they want it s not good i am as big a sinatra fan as any sane man but this movie was just dumb boring dull unfunny uninteresting the only redeeming quality is that assuming they did stick to the facts you do learn about what happened to the captors of frank jr otherwise it s just a stupid film\"\n",
      "\n",
      "label=0, input=\"ever made let me see how many different words i can use to describe it boring unbearable laughable lousy stupid horrible i could go on with such descriptions but you probably get the point i would have given this a 0 if possible bad acting bad directing bad production bad plot this was made in 2001 and it looks more like 1965 very low budget boring plot horrible acting really bad special effects etc i rarely ever see a sci fi film i absolutely think is this bad i mean this is pure garbage it has nothing going for it either as far as a b movie this is the very bottom of the lot i think i would be more entertained by staring at a blank piece of paper for 90 minutes junk like this gives good low budget b movies a bad name this makes ed wood movies look good the thing about watching direct to video movies is just when you think you ve seen the worst you see something even worse dj perry is a horrible actor and has no individual characteristics that make him stand out avoid this waste at all costs oh the humanity\"\n",
      "\n"
     ]
    }
   ],
   "source": [
    "import (\n",
    "    \"github.com/gomlx/gomlx/examples/imdb\"\n",
    ")\n",
    "\n",
    "// DType used for the models.\n",
    "const DType = shapes.Float32\n",
    "\n",
    "var (\n",
    "    flagMaxLen              = flag.Int(\"max_len\", 200, \"Maximum number of tokens to take from observation.\")\n",
    ")\n",
    "\n",
    "func Sample() {\n",
    "    ds := imdb.NewDataset(\"Test\", imdb.Test, *flagMaxLen, 3, DType, true, nil)\n",
    "    _, inputs, labels, err := ds.Yield()\n",
    "    AssertNoError(err)\n",
    "    labelsData := shapes.CastAsDType(labels[0].Local().FlatCopy(), shapes.Int64).([]int64)\n",
    "    for ii := 0; ii < 3; ii++ {\n",
    "        fmt.Printf(\"\\nlabel=%v, input=%q\\n\", labelsData[ii], imdb.InputToString(inputs[0], ii))\n",
    "    }\n",
    "    fmt.Println()\n",
    "}\n",
    "\n",
    "%% --max_len=200\n",
    "AssertDownloaded()\n",
    "Sample()\n"
   ]
  },
  {
   "cell_type": "markdown",
   "id": "3cb8ca01-2c8f-4cd8-a644-850e928f64e1",
   "metadata": {},
   "source": [
    "## Training\n",
    "\n",
    "We will create 3 different types of models for this demo: **Bag of Words** (or simply **bow**), **CNNs** and **Transformers**.\n",
    "\n",
    "### Model Support\n",
    "\n",
    "We first define here a few componens shared among all models:\n",
    "\n",
    "* `Normalize` according to flag, works for sequence nodes (shaped `[batch_size, sequence_len, embedding_dim]`) and feature nodes (shaped `[batch_size, embedding_dim]`).\n",
    "* `EmbedTokensGraph` that embeds the tokens, before being consumed by the models.\n",
    "* `ReadoutGraph` that takes the embeddings after they are pooled on the sequence axis (so shaped `[batch_size, embedding_dim]` it adds a FNN (feed-forward neural network) with a few layers and convert to the final logits.\n",
    "\n",
    "We also define the corresponding hyperparameters."
   ]
  },
  {
   "cell_type": "code",
   "execution_count": 4,
   "id": "ad068f5e-46d9-411b-823c-0eae905da41c",
   "metadata": {
    "tags": []
   },
   "outputs": [],
   "source": [
    "import (\n",
    "    . \"github.com/gomlx/gomlx/graph\"\n",
    "    \n",
    "    \"github.com/gomlx/gomlx/ml/context\"\n",
    "    \"github.com/gomlx/gomlx/types/shapes\"\n",
    ")\n",
    "\n",
    "var (\n",
    "    flagNormalization    = flag.String(\"norm\", \"layer\", \"Type of normalization to use. Valid values are \\\"none\\\", \\\"batch\\\", \\\"layer\\\".\")\n",
    "    flagDropoutRate      = flag.Float64(\"dropout\", 0.15, \"Dropout rate\")\n",
    "    flagMaxVocab            = flag.Int(\"max_vocab\", 20000, \"Top most frequent words to consider, the rest is considered unknown.\")\n",
    "    flagTokenEmbeddingSize  = flag.Int(\"token_embed\", 32, \"Size of token embedding table. There are ~140K unique tokens\")\n",
    "    flagNumHiddenLayers     = flag.Int(\"hidden_layers\", 2, \"Number of output hidden layers, stacked with residual connection.\")\n",
    "    flagNumNodes            = flag.Int(\"num_nodes\", 32, \"Number of nodes in output hidden layers.\")\n",
    "    flagWordDropoutRate  = flag.Float64(\"word_dropout\", 0, \"Dropout rate for whole words of the input\")\n",
    ")\n",
    "\n",
    "// Normalize `x` according to `--norm` flag. Works for sequence nodes (rank-3) or plain feature nodes (rank-2).\n",
    "func Normalize(ctx *context.Context, x *Node) *Node {\n",
    "    switch *flagNormalization {\n",
    "    case \"layer\":\n",
    "        if x.Rank() == 3 {\n",
    "            // Normalize sequence.\n",
    "            return layers.LayerNormalization(ctx, x, -2, -1).\n",
    "                LearnedOffset(true).LearnedScale(true).ScaleNormalization(true).Done()\n",
    "        } else {\n",
    "            // Normalize features only.\n",
    "            return layers.LayerNormalization(ctx, x, -1).Done()\n",
    "        }\n",
    "    case \"batch\":\n",
    "        return layers.BatchNormalization(ctx, x, -1).Done()\n",
    "    case \"none\":\n",
    "        return x\n",
    "    }\n",
    "    exceptions.Panicf(\"invalid normalization selected %q -- valid values are batch, layer, none\", *flagNormalization)\n",
    "    return nil\n",
    "}\n",
    "\n",
    "// EmbedTokensGraph creates embeddings for tokens and returns them along with the mask of used tokens --\n",
    "// set to false where padding was used.\n",
    "func EmbedTokensGraph(ctx *context.Context, tokens *Node) (embed, mask *Node) {\n",
    "    g := tokens.Graph()\n",
    "    mask = NotEqual(tokens, ZerosLike(tokens)) // Mask of tokens actually used.\n",
    "\n",
    "    // The token ids are indexed by frequency. Truncate to the vocabulary size considered, replacing\n",
    "    // ids higher than that by 0.\n",
    "    maxVocab := len(imdb.LoadedVocab.ListEntries)\n",
    "    if maxVocab > *flagMaxVocab {\n",
    "        maxVocab = *flagMaxVocab\n",
    "    }\n",
    "\n",
    "    // Limits tokens to the maxVocab.\n",
    "    tokens = Where(GreaterOrEqual(tokens, Const(g, maxVocab)),\n",
    "        MulScalar(OnesLike(tokens), float64(maxVocab-1)),\n",
    "        tokens)\n",
    "\n",
    "    // Embed tokens: shape=[batchSize, maxLen, embedDim]\n",
    "    embed = layers.Embedding(ctx.In(\"tokens\"), tokens, DType, maxVocab, *flagTokenEmbeddingSize)\n",
    "    embed = Where(mask, embed, ZerosLike(embed))\n",
    "    \n",
    "    if *flagWordDropoutRate > 0 {\n",
    "        dims := embed.Shape().Dimensions[:len(embed.Shape().Dimensions)-1]\n",
    "        dropoutMask := Ones(g, shapes.Make(DType, dims...))\n",
    "        dropoutMask = layers.Dropout(ctx, dropoutMask, ConstAsDType(g, DType, *flagWordDropoutRate))\n",
    "        dropoutMask = ExpandDims(dropoutMask, -1)\n",
    "        embed = Mul(embed, dropoutMask)\n",
    "    }    \n",
    "    return\n",
    "}\n",
    "\n",
    "// Activation function used for models.\n",
    "func Activation(x *Node) *Node {\n",
    "    return layers.Relu(x)\n",
    "}\n",
    "\n",
    "// ReadoutGraph takes the embeddings after they have been pooled on the sequence axis, so shaped `[batch_size, embed_dim]`\n",
    "// adds a FNN on top and readout the final logit.\n",
    "func ReadoutGraph(ctx *context.Context, embed *Node) *Node {\n",
    "    g := embed.Graph()\n",
    "    var dropoutRate *Node\n",
    "    if *flagDropoutRate > 0 {\n",
    "        dropoutRate = ConstAsDType(g, DType, *flagDropoutRate)\n",
    "    }\n",
    "\n",
    "    // Output layers.\n",
    "    for ii := 0; ii < *flagNumHiddenLayers; ii++ {\n",
    "        ctx := ctx.In(fmt.Sprintf(\"output_dense_%d\", ii))\n",
    "        residual := embed\n",
    "        if *flagDropoutRate > 0 {\n",
    "            embed = layers.Dropout(ctx, embed, dropoutRate)\n",
    "        }\n",
    "        //embed = Tanh(embed)\n",
    "        embed = Activation(embed)\n",
    "        embed = layers.DenseWithBias(ctx, embed, *flagNumNodes)\n",
    "        embed = Normalize(ctx, embed)\n",
    "        if ii > 0 {\n",
    "            // Add residual connection.\n",
    "            embed = Add(embed, residual)\n",
    "        }\n",
    "    }\n",
    "\n",
    "    // Final embed layer with dimension 1.\n",
    "    {\n",
    "        ctx := ctx.In(\"readout\")\n",
    "        if *flagDropoutRate > 0 {\n",
    "            embed = layers.Dropout(ctx, embed, dropoutRate)\n",
    "        }\n",
    "        embed = Activation(embed)\n",
    "        embed = layers.DenseWithBias(ctx, embed, 1)\n",
    "    }\n",
    "    return embed\n",
    "}\n",
    "\n",
    "%%"
   ]
  },
  {
   "cell_type": "markdown",
   "id": "9b9eb816-6caf-46ea-805c-bd375834c55b",
   "metadata": {},
   "source": [
    "### Bag Of Words Model\n",
    "\n",
    "This is the simples model we are going to train. It's basically a no-op that connects the embedding table we defined above with the `ReadoutGraph` FNN afterwards.\n",
    "\n",
    "We define here placeholders for our future *CNN* and *Transformer* models.\n",
    "\n",
    "Finally we test that the shape is correct. To actually train and evaluate we still need to define the training loop, what we do in the following section."
   ]
  },
  {
   "cell_type": "code",
   "execution_count": 5,
   "id": "50cd517a-f592-4319-a9fd-acb8ab78124c",
   "metadata": {
    "tags": []
   },
   "outputs": [
    {
     "name": "stdout",
     "output_type": "stream",
     "text": [
      "> Loading previously generated preprocessed binary file.\n",
      "Loaded data from \"aclImdb.bin\": 100000 examples, 141088 unique tokens, 23727054 tokens in total.\n",
      "Logits shape for batch_size=3: (Float32)[3 1]\n"
     ]
    }
   ],
   "source": [
    "import (\n",
    "    . \"github.com/gomlx/gomlx/graph\"\n",
    "    \n",
    "    \"github.com/gomlx/gomlx/ml/context\"\n",
    ")\n",
    "\n",
    "var (\n",
    "    flagModel = flag.String(\"model\", \"transformer\", \"Model type: bow or transformer.\")\n",
    ")\n",
    "\n",
    "// ModelGraph builds the model for our demo. It returns the logits, not the predictions, which works with most losses.\n",
    "func ModelGraph(ctx *context.Context, spec any, inputs []*Node) []*Node {\n",
    "    _ = spec // Not used.\n",
    "    tokens := inputs[0]\n",
    "    embed, mask := EmbedTokensGraph(ctx, tokens)\n",
    "\n",
    "    // Normalization function.\n",
    "    if *flagModel == \"bow\" {\n",
    "        // Bag-Of-Words model doesn't do anything, it's just the embedding table for each token.\n",
    "    } else if *flagModel == \"cnn\" {\n",
    "        embed = Conv1DGraph(ctx, embed, mask)\n",
    "    } else if *flagModel == \"transformer\" {\n",
    "        embed = TransformerGraph(ctx, tokens, embed, mask)\n",
    "    } else {\n",
    "        exceptions.Panicf(\"unknown model type %q, only types \\\"bow\\\", \\\"cnn\\\" and \\\"transformer\\\" are implemented\", *flagModel)\n",
    "    }\n",
    "\n",
    "    // Sum-up per-token embeddings and do a FNN on the output. From now on, the dimensions are `[batch_dim, embed_dim]`\n",
    "    // Notice we are not using mask.\n",
    "    embed = ReduceMax(embed, 1)\n",
    "    logits := ReadoutGraph(ctx, embed)\n",
    "    return []*Node{logits}\n",
    "}\n",
    "\n",
    "func Conv1DGraph(ctx *context.Context, embed, mask *Node) *Node {\n",
    "    panic(\"Not implemented.\")\n",
    "    return nil\n",
    "}\n",
    "\n",
    "func TransformerGraph(ctx *context.Context, tokens, embed, mask *Node) *Node {\n",
    "    panic(\"Not implemented.\")\n",
    "    return nil\n",
    "}\n",
    "\n",
    "%% --model=bow\n",
    "\n",
    "// Let's test that the logits are coming out with the right shape: we want [batch_size, 10], since there are 10 classes.\n",
    "AssertDownloaded()\n",
    "manager := NewManager()\n",
    "ds := imdb.NewDataset(\"Test\", imdb.Test, *flagMaxLen, 3, DType, true, nil)\n",
    "_, inputs, _, err := ds.Yield()\n",
    "AssertNoError(err)\n",
    "\n",
    "g := manager.NewGraph(\"test\")\n",
    "ctx := context.NewContext(manager)\n",
    "logits := ModelGraph(ctx, nil, []*Node{Const(g, inputs[0])})\n",
    "fmt.Printf(\"Logits shape for batch_size=%d: %s\\n\", 3, logits[0].Shape())"
   ]
  },
  {
   "cell_type": "markdown",
   "id": "f1227119-6990-488b-83fc-f2551653ae24",
   "metadata": {},
   "source": [
    "### Training Loop\n",
    "\n",
    "Training loop, with the usual bells and whistles. We also do a quick test with 100 steps to check things are working."
   ]
  },
  {
   "cell_type": "code",
   "execution_count": 6,
   "id": "71243cc9-3831-4f6e-86e2-f2e55dce97b3",
   "metadata": {
    "tags": []
   },
   "outputs": [
    {
     "name": "stdout",
     "output_type": "stream",
     "text": [
      "> Loading previously generated preprocessed binary file.\n",
      "Loaded data from \"aclImdb.bin\": 100000 examples, 141088 unique tokens, 23727054 tokens in total.\n",
      "Platform: CUDA\n",
      "Training (100 steps):  100% [\u001b[32m=\u001b[0m\u001b[32m=\u001b[0m\u001b[32m=\u001b[0m\u001b[32m=\u001b[0m\u001b[32m=\u001b[0m\u001b[32m=\u001b[0m\u001b[32m=\u001b[0m\u001b[32m=\u001b[0m\u001b[32m=\u001b[0m\u001b[32m=\u001b[0m\u001b[32m=\u001b[0m\u001b[32m=\u001b[0m\u001b[32m=\u001b[0m\u001b[32m=\u001b[0m\u001b[32m=\u001b[0m\u001b[32m=\u001b[0m\u001b[32m=\u001b[0m\u001b[32m=\u001b[0m\u001b[32m=\u001b[0m\u001b[32m=\u001b[0m\u001b[32m=\u001b[0m\u001b[32m=\u001b[0m\u001b[32m=\u001b[0m\u001b[32m=\u001b[0m\u001b[32m=\u001b[0m\u001b[32m=\u001b[0m\u001b[32m=\u001b[0m\u001b[32m=\u001b[0m\u001b[32m=\u001b[0m\u001b[32m=\u001b[0m\u001b[32m=\u001b[0m\u001b[32m=\u001b[0m\u001b[32m=\u001b[0m\u001b[32m=\u001b[0m\u001b[32m=\u001b[0m\u001b[32m=\u001b[0m\u001b[32m=\u001b[0m\u001b[32m=\u001b[0m\u001b[32m=\u001b[0m\u001b[32m=\u001b[0m] (100 steps/s)\u001b[0m [loss=0.676] [~loss=0.688] [~acc=55.22%]        \n",
      "\t[Step 100] median train step: 1093 microseconds\n",
      "\n",
      "Results on train-eval [Parallelized]:\n",
      "\tMean Loss (#loss): 0.701\n",
      "\tMean Accuracy (#acc): 49.99%\n",
      "Results on test-eval [Parallelized]:\n",
      "\tMean Loss (#loss): 0.701\n",
      "\tMean Accuracy (#acc): 50.00%\n"
     ]
    }
   ],
   "source": [
    "import (\n",
    "    . \"github.com/gomlx/gomlx/graph\"\n",
    "    \n",
    "    \"github.com/gomlx/gomlx/ml/context\"\n",
    "    \"github.com/gomlx/gomlx/ml/train\"\n",
    ")\n",
    "\n",
    "var (\n",
    "    flagOptimizer        = flag.String(\"optimizer\", \"adam\", \"Optimizer, options: adam or sgd.\")\n",
    "    flagNumSteps         = flag.Int(\"steps\", 5000, \"Number of gradient descent steps to perform\")\n",
    "    flagBatchSize        = flag.Int(\"batch\", 32, \"Batch size for training\")\n",
    "    flagLearningRate     = flag.Float64(\"learning_rate\", 0.0001, \"Initial learning rate.\")\n",
    "    flagL2Regularization = flag.Float64(\"l2_reg\", 0, \"L2 regularization on kernels. It doesn't interact well with --batch_norm or with --optimizer=adam.\")\n",
    "    \n",
    "    flagCheckpoint       = flag.String(\"checkpoint\", \"\", \"Directory save and load checkpoints from. If left empty, no checkpoints are created.\")\n",
    "    flagCheckpointKeep   = flag.Int(\"checkpoint_keep\", 10, \"Number of checkpoints to keep, if --checkpoint is set.\")\n",
    "    flagPlots            = flag.Bool(\"plots\", true, \"Plots during training: perform periodic evaluations, \"+\n",
    "                                     \"save results if --checkpoint is set and draw plots, if in a Jupyter notebook.\")\n",
    ")\n",
    "\n",
    "func trainModel() {\n",
    "    // Make sure data is downloaded.\n",
    "    AssertDownloaded()\n",
    "\n",
    "    // Manager handles creation of ML computation graphs, accelerator resources, etc.\n",
    "    manager := NewManager()\n",
    "    fmt.Printf(\"Platform: %s\\n\", manager.Platform())\n",
    "\n",
    "    // Datasets.\n",
    "    var trainDS, trainEvalDS, testEvalDS train.Dataset\n",
    "    trainDS = imdb.NewDataset(\"train\", imdb.Train, *flagMaxLen, *flagBatchSize, DType, true, nil)\n",
    "    trainEvalDS = imdb.NewDataset(\"train-eval\", imdb.Train, *flagMaxLen, *flagBatchSize, DType, false, nil)\n",
    "    testEvalDS = imdb.NewDataset(\"test-eval\", imdb.Test, *flagMaxLen, *flagBatchSize, DType, false, nil)\n",
    "\n",
    "    // Parallelize generation of batches, to prevent the dataset from being a bottleneck to the acceleartor (GPU/TPU).\n",
    "    trainDS = data.Parallel(trainDS)\n",
    "    trainEvalDS = data.Parallel(trainEvalDS)\n",
    "    testEvalDS = data.Parallel(testEvalDS)\n",
    "\n",
    "    // Metrics we are interested.\n",
    "    meanAccuracyMetric := metrics.NewMeanBinaryLogitsAccuracy(\"Mean Accuracy\", \"#acc\")\n",
    "    movingAccuracyMetric := metrics.NewMovingAverageBinaryLogitsAccuracy(\"Moving Average Accuracy\", \"~acc\", 0.01)\n",
    "\n",
    "    // Context holds the variables and hyperparameters for the model.\n",
    "    ctx := context.NewContext(manager)\n",
    "    ctx.SetParam(optimizers.LearningRateKey, *flagLearningRate)\n",
    "    ctx.SetParam(layers.L2RegularizationKey, *flagL2Regularization)\n",
    "\n",
    "    // Checkpoints saving.\n",
    "    var checkpoint *checkpoints.Handler\n",
    "    if *flagCheckpoint != \"\" {\n",
    "        var err error\n",
    "        checkpoint, err = checkpoints.Build(ctx).DirFromBase(*flagCheckpoint, *flagDataDir).Keep(*flagCheckpointKeep).Done()\n",
    "        AssertNoError(err)\n",
    "    }\n",
    "\n",
    "    // Create a train.Trainer: this object will orchestrate running the model, feeding\n",
    "    // results to the optimizer, evaluating the metrics, etc. (all happens in trainer.TrainStep)\n",
    "    loss := losses.BinaryCrossentropyLogits\n",
    "    trainer := train.NewTrainer(\n",
    "        manager, ctx, ModelGraph, loss,\n",
    "        optimizers.MustOptimizerByName(*flagOptimizer),\n",
    "        []metrics.Interface{movingAccuracyMetric}, // trainMetrics\n",
    "        []metrics.Interface{meanAccuracyMetric})   // evalMetrics\n",
    "\n",
    "    // Use standard training loop.\n",
    "    loop := train.NewLoop(trainer)\n",
    "    commandline.AttachProgressBar(loop) // Attaches a progress bar to the loop.\n",
    "\n",
    "    // Attach a checkpoint: checkpoint every 1 minute of training.\n",
    "    if checkpoint != nil {\n",
    "        period := time.Minute * 1\n",
    "        train.PeriodicCallback(loop, period, true, \"saving checkpoint\", 100,\n",
    "            func(loop *train.Loop, metrics []tensor.Tensor) error {\n",
    "                fmt.Printf(\"\\n[saving checkpoint@%d] [median train step (ms): %d]\\n\", loop.LoopStep, loop.MedianTrainStepDuration().Milliseconds())\n",
    "                return checkpoint.Save()\n",
    "            })\n",
    "    }\n",
    "\n",
    "    // Attach a margaid plots: plot points at exponential steps.\n",
    "    // The points generated are saved along the checkpoint directory (if one is given).\n",
    "    if *flagPlots {\n",
    "        _ = margaid.NewDefault(loop, checkpoint.Dir(), 100, 1.1, trainEvalDS, testEvalDS)\n",
    "    }\n",
    "\n",
    "    // Loop for given number of steps.\n",
    "    _, err := loop.RunSteps(trainDS, *flagNumSteps)\n",
    "    AssertNoError(err)\n",
    "    fmt.Printf(\"\\t[Step %d] median train step: %d microseconds\\n\",\n",
    "        loop.LoopStep, loop.MedianTrainStepDuration().Microseconds())\n",
    "\n",
    "\n",
    "    // Report final evaluation.\n",
    "    fmt.Println()\n",
    "    err = commandline.ReportEval(trainer, trainEvalDS, testEvalDS)\n",
    "    AssertNoError(err)\n",
    "}\n",
    "\n",
    "%% --model=bow --steps=100 --plots=false\n",
    "trainModel()\n"
   ]
  },
  {
   "cell_type": "markdown",
   "id": "9351949f-53a5-4354-a69a-59348a48915a",
   "metadata": {},
   "source": [
    "### Training Bag-Of-Words (\"bow\") Model\n",
    "\n",
    "A proper run of our *bow* model."
   ]
  },
  {
   "cell_type": "code",
   "execution_count": 7,
   "id": "8f9eb10c-e668-40fb-9725-51ac465cc4cf",
   "metadata": {
    "tags": []
   },
   "outputs": [
    {
     "name": "stdout",
     "output_type": "stream",
     "text": [
      "> Loading previously generated preprocessed binary file.\n",
      "Loaded data from \"aclImdb.bin\": 100000 examples, 141088 unique tokens, 23727054 tokens in total.\n",
      "Platform: CUDA\n"
     ]
    },
    {
     "data": {
      "text/html": []
     },
     "metadata": {},
     "output_type": "display_data"
    },
    {
     "name": "stdout",
     "output_type": "stream",
     "text": [
      "Training (20000 steps):  100% [\u001b[32m=\u001b[0m\u001b[32m=\u001b[0m\u001b[32m=\u001b[0m\u001b[32m=\u001b[0m\u001b[32m=\u001b[0m\u001b[32m=\u001b[0m\u001b[32m=\u001b[0m\u001b[32m=\u001b[0m\u001b[32m=\u001b[0m\u001b[32m=\u001b[0m\u001b[32m=\u001b[0m\u001b[32m=\u001b[0m\u001b[32m=\u001b[0m\u001b[32m=\u001b[0m\u001b[32m=\u001b[0m\u001b[32m=\u001b[0m\u001b[32m=\u001b[0m\u001b[32m=\u001b[0m\u001b[32m=\u001b[0m\u001b[32m=\u001b[0m\u001b[32m=\u001b[0m\u001b[32m=\u001b[0m\u001b[32m=\u001b[0m\u001b[32m=\u001b[0m\u001b[32m=\u001b[0m\u001b[32m=\u001b[0m\u001b[32m=\u001b[0m\u001b[32m=\u001b[0m\u001b[32m=\u001b[0m\u001b[32m=\u001b[0m\u001b[32m=\u001b[0m\u001b[32m=\u001b[0m\u001b[32m=\u001b[0m\u001b[32m=\u001b[0m\u001b[32m=\u001b[0m\u001b[32m=\u001b[0m\u001b[32m=\u001b[0m\u001b[32m=\u001b[0m\u001b[32m=\u001b[0m\u001b[32m=\u001b[0m] (748 steps/s)\u001b[0m [loss=0.216] [~loss=0.252] [~acc=89.69%]        \n"
     ]
    },
    {
     "data": {
      "text/html": [
       "<svg xmlns=\"http://www.w3.org/2000/svg\" width=\"1024\" height=\"454\" viewbox=\"0 0 1024 400\" style=\"background-color:#f8f8f8\" preserveAspectRatio=\"xMidYMid meet\"><defs><marker refY=\"5\" markerUnits=\"userSpaceOnUse\" markerWidth=\"2%\" markerHeight=\"2%\" id=\"circle\" viewBox=\"0 0 10 10 \" refX=\"5\"><circle cx=\"5\" cy=\"5\" r=\"3\" fill=\"none\" stroke=\"black\"/></marker><marker markerHeight=\"2%\" id=\"filled-circle\" viewBox=\"0 0 10 10 \" refX=\"5\" refY=\"5\" markerUnits=\"userSpaceOnUse\" markerWidth=\"2%\"><circle fill=\"black\" stroke=\"none\" cx=\"5\" cy=\"5\" r=\"3\"/></marker><marker markerWidth=\"2%\" markerHeight=\"2%\" id=\"square\" viewBox=\"0 0 10 10 \" refX=\"5\" refY=\"5\" markerUnits=\"userSpaceOnUse\"><rect height=\"6\" fill=\"none\" stroke=\"black\" x=\"2\" y=\"2\" width=\"6\"/></marker><marker id=\"filled-square\" viewBox=\"0 0 10 10 \" refX=\"5\" refY=\"5\" markerUnits=\"userSpaceOnUse\" markerWidth=\"2%\" markerHeight=\"2%\"><rect width=\"6\" height=\"6\" fill=\"black\" stroke=\"none\" x=\"2\" y=\"2\"/></marker></defs><g stroke-width=\"2px\" stroke-linecap=\"round\" marker-mid=\"url(#square)\" marker-end=\"url(#square)\" transform=\"translate(70 330 )scale(1 -1 )\" marker-start=\"url(#square)\" fill=\"none\" stroke=\"hsl(90, 47%, 65%)\" stroke-linejoin=\"round\"><path vector-effect=\"non-scaling-stroke\" d=\"M1.768000e+01,5.244386e+00 L1.365173e+02,5.266570e+00 L2.093971e+02,5.200000e+00 L2.634977e+02,5.288788e+00 L3.073165e+02,5.244386e+00 L3.448334e+02,5.200000e+00 L3.779355e+02,5.266570e+00 L4.078967e+02,1.455362e+02 L4.355033e+02,1.531489e+02 L4.612687e+02,1.576544e+02 L4.855427e+02,1.650674e+02 L5.085726e+02,1.584312e+02 L5.306039e+02,1.673978e+02 L5.518045e+02,1.721253e+02 L5.722912e+02,1.725026e+02 L5.921466e+02,1.772522e+02 L6.114698e+02,1.780068e+02 L6.303266e+02,1.796048e+02 L6.487916e+02,1.827121e+02 L6.669114e+02,1.838884e+02 L6.847383e+02,1.846874e+02 L7.023018e+02,1.883495e+02 L7.196363e+02,1.909907e+02 L7.367580e+02,1.921448e+02 L7.536877e+02,1.940757e+02 L7.704470e+02,1.951410e+02 L7.870558e+02,1.952742e+02 L8.035318e+02,1.955405e+02 L8.198887e+02,1.941201e+02 L8.361372e+02,1.960510e+02 L8.522929e+02,1.963174e+02 L8.663200e+02,1.976046e+02 \"/></g><g marker-mid=\"url(#square)\" marker-end=\"url(#square)\" transform=\"translate(70 330 )scale(1 -1 )\" fill=\"none\" stroke=\"hsl(301, 88%, 65%)\" stroke-linecap=\"round\" stroke-linejoin=\"round\" stroke-width=\"2px\" marker-start=\"url(#square)\"><path d=\"M1.768000e+01,5.266570e+00 L1.365173e+02,5.244386e+00 L2.093971e+02,5.288788e+00 L2.634977e+02,5.222201e+00 L3.073165e+02,5.244386e+00 L3.448334e+02,5.288788e+00 L3.779355e+02,5.333157e+00 L4.078967e+02,1.598295e+02 L4.355033e+02,1.663325e+02 L4.612687e+02,1.725692e+02 L4.855427e+02,1.819797e+02 L5.085726e+02,1.754767e+02 L5.306039e+02,1.856196e+02 L5.518045e+02,1.911460e+02 L5.722912e+02,1.920116e+02 L5.921466e+02,1.982261e+02 L6.114698e+02,2.004899e+02 L6.303266e+02,2.031533e+02 L6.487916e+02,2.086575e+02 L6.669114e+02,2.116760e+02 L6.847383e+02,2.135847e+02 L7.023018e+02,2.179792e+02 L7.196363e+02,2.225735e+02 L7.367580e+02,2.252369e+02 L7.536877e+02,2.295648e+02 L7.704470e+02,2.323169e+02 L7.870558e+02,2.365117e+02 L8.035318e+02,2.405733e+02 L8.198887e+02,2.433254e+02 L8.361372e+02,2.490294e+02 L8.522929e+02,2.509604e+02 L8.663200e+02,2.548000e+02 \" vector-effect=\"non-scaling-stroke\"/></g><g stroke=\"hsl(152, 76%, 65%)\" stroke-linecap=\"round\" marker-end=\"url(#square)\" stroke-linejoin=\"round\" transform=\"translate(70 330 )scale(1 -1 )\" fill=\"none\" marker-mid=\"url(#square)\" stroke-width=\"2px\" marker-start=\"url(#square)\"><path vector-effect=\"non-scaling-stroke\" d=\"M1.768000e+01,3.630861e+01 L1.365173e+02,2.762606e+01 L2.093971e+02,1.122032e+01 L2.634977e+02,1.944166e+01 L3.073165e+02,1.671491e+01 L3.448334e+02,1.285262e+01 L3.779355e+02,2.489019e+01 L4.078967e+02,3.880660e+01 L4.355033e+02,5.793931e+01 L4.612687e+02,7.890597e+01 L4.855427e+02,1.090309e+02 L5.085726e+02,1.169369e+02 L5.306039e+02,1.321955e+02 L5.518045e+02,1.376080e+02 L5.722912e+02,1.423853e+02 L5.921466e+02,1.496323e+02 L6.114698e+02,1.537646e+02 L6.303266e+02,1.586817e+02 L6.487916e+02,1.682157e+02 L6.669114e+02,1.778289e+02 L6.847383e+02,1.761321e+02 L7.023018e+02,1.833906e+02 L7.196363e+02,1.937787e+02 L7.367580e+02,1.940378e+02 L7.536877e+02,1.957626e+02 L7.704470e+02,2.048483e+02 L7.870558e+02,2.047085e+02 L8.035318e+02,2.108774e+02 L8.198887e+02,2.144751e+02 L8.361372e+02,2.222156e+02 L8.522929e+02,2.232216e+02 L8.663200e+02,2.253743e+02 \"/></g><g stroke-linecap=\"round\" stroke-linejoin=\"round\" transform=\"translate(70 330 )scale(1 -1 )\" fill=\"none\" stroke=\"black\" stroke-width=\"2px\"><path vector-effect=\"non-scaling-stroke\" d=\"M1.768000e+01,0 L1.768000e+01,-6 M1.287025e+02,0 L1.287025e+02,-6 M1.936465e+02,0 L1.936465e+02,-6 M2.397250e+02,0 L2.397250e+02,-6 M2.754663e+02,0 L2.754663e+02,-6 M3.046690e+02,0 L3.046690e+02,-6 M3.293596e+02,0 L3.293596e+02,-6 M3.507475e+02,0 L3.507475e+02,-6 M3.696130e+02,0 L3.696130e+02,-6 M3.864888e+02,0 L3.864888e+02,-6 M4.017547e+02,0 L4.017547e+02,-6 M4.975112e+02,0 L4.975112e+02,-6 M5.624552e+02,0 L5.624552e+02,-6 M6.085337e+02,0 L6.085337e+02,-6 M6.442750e+02,0 L6.442750e+02,-6 M6.734777e+02,0 L6.734777e+02,-6 M6.981683e+02,0 L6.981683e+02,-6 M7.195562e+02,0 L7.195562e+02,-6 M7.384217e+02,0 L7.384217e+02,-6 M7.552975e+02,0 L7.552975e+02,-6 M8.663200e+02,0 L8.663200e+02,-6 \"/></g><g stroke-linecap=\"round\" transform=\"translate(70 330 )scale(1 1 )\" stroke-linejoin=\"round\" font-family=\"sans-serif\" font-size=\"12px\" font-style=\"normal\" dominant-baseline=\"hanging\" fill=\"black\" text-anchor=\"middle\" font-weight=\"normal\" stroke=\"black\" stroke-width=\"2px\"><text stroke=\"none\" vector-effect=\"non-scaling-stroke\" x=\"1.768000e+01\" y=\"10\" dominant-baseline=\"hanging\">100</text><text dominant-baseline=\"hanging\" stroke=\"none\" vector-effect=\"non-scaling-stroke\" x=\"1.287025e+02\" y=\"10\">200</text><text vector-effect=\"non-scaling-stroke\" x=\"1.936465e+02\" y=\"10\" dominant-baseline=\"hanging\" stroke=\"none\">300</text><text x=\"2.397250e+02\" y=\"10\" dominant-baseline=\"hanging\" stroke=\"none\" vector-effect=\"non-scaling-stroke\">400</text><text dominant-baseline=\"hanging\" stroke=\"none\" vector-effect=\"non-scaling-stroke\" x=\"2.754663e+02\" y=\"10\">500</text><text vector-effect=\"non-scaling-stroke\" x=\"3.046690e+02\" y=\"10\" dominant-baseline=\"hanging\" stroke=\"none\">600</text><text stroke=\"none\" vector-effect=\"non-scaling-stroke\" x=\"3.293596e+02\" y=\"10\" dominant-baseline=\"hanging\">700</text><text vector-effect=\"non-scaling-stroke\" x=\"3.507475e+02\" y=\"10\" dominant-baseline=\"hanging\" stroke=\"none\">800</text><text y=\"10\" dominant-baseline=\"hanging\" stroke=\"none\" vector-effect=\"non-scaling-stroke\" x=\"3.696130e+02\">900</text><text stroke=\"none\" vector-effect=\"non-scaling-stroke\" x=\"3.864888e+02\" y=\"10\" dominant-baseline=\"hanging\">1000</text><text vector-effect=\"non-scaling-stroke\" x=\"4.017547e+02\" y=\"10\" dominant-baseline=\"hanging\" stroke=\"none\">1100</text><text y=\"10\" dominant-baseline=\"hanging\" stroke=\"none\" vector-effect=\"non-scaling-stroke\" x=\"4.975112e+02\">2000</text><text stroke=\"none\" vector-effect=\"non-scaling-stroke\" x=\"5.624552e+02\" y=\"10\" dominant-baseline=\"hanging\">3000</text><text dominant-baseline=\"hanging\" stroke=\"none\" vector-effect=\"non-scaling-stroke\" x=\"6.085337e+02\" y=\"10\">4000</text><text stroke=\"none\" vector-effect=\"non-scaling-stroke\" x=\"6.442750e+02\" y=\"10\" dominant-baseline=\"hanging\">5000</text><text y=\"10\" dominant-baseline=\"hanging\" stroke=\"none\" vector-effect=\"non-scaling-stroke\" x=\"6.734777e+02\">6000</text><text x=\"6.981683e+02\" y=\"10\" dominant-baseline=\"hanging\" stroke=\"none\" vector-effect=\"non-scaling-stroke\">7000</text><text x=\"7.195562e+02\" y=\"10\" dominant-baseline=\"hanging\" stroke=\"none\" vector-effect=\"non-scaling-stroke\">8000</text><text stroke=\"none\" vector-effect=\"non-scaling-stroke\" x=\"7.384217e+02\" y=\"10\" dominant-baseline=\"hanging\">9000</text><text dominant-baseline=\"hanging\" stroke=\"none\" vector-effect=\"non-scaling-stroke\" x=\"7.552975e+02\" y=\"10\">10000</text><text stroke=\"none\" vector-effect=\"non-scaling-stroke\" x=\"8.663200e+02\" y=\"10\" dominant-baseline=\"hanging\">20000</text></g><g transform=\"translate(70 330 )scale(1 1 )rotate(0 0 0 )\" stroke-linejoin=\"round\" fill=\"black\" stroke-width=\"2px\" font-weight=\"bold\" text-anchor=\"middle\" dominant-baseline=\"baseline\" stroke=\"black\" stroke-linecap=\"round\" font-family=\"sans-serif\" font-size=\"12px\" font-style=\"normal\"><text vector-effect=\"non-scaling-stroke\" x=\"442\" y=\"-6\" dominant-baseline=\"baseline\" stroke=\"none\">Steps</text></g><g stroke-linecap=\"round\" text-anchor=\"middle\" font-family=\"sans-serif\" font-style=\"normal\" stroke-linejoin=\"round\" stroke=\"black\" stroke-width=\"2px\" transform=\"translate(70 330 )scale(1 -1 )\" dominant-baseline=\"baseline\" fill=\"black\" font-size=\"12px\" font-weight=\"bold\"><path vector-effect=\"non-scaling-stroke\" d=\"M0,5.244386e+00 L-6,5.244386e+00 M0,6.071303e+01 L-6,6.071303e+01 M0,1.161817e+02 L-6,1.161817e+02 M0,1.716503e+02 L-6,1.716503e+02 M0,2.271189e+02 L-6,2.271189e+02 \"/></g><g font-family=\"sans-serif\" font-size=\"12px\" stroke=\"black\" stroke-width=\"2px\" transform=\"translate(70 330 )scale(1 1 )\" text-anchor=\"end\" dominant-baseline=\"middle\" stroke-linejoin=\"round\" font-weight=\"normal\" fill=\"black\" stroke-linecap=\"round\" font-style=\"normal\"><text x=\"-10\" y=\"-5.244386e+00\" dominant-baseline=\"middle\" stroke=\"none\" vector-effect=\"non-scaling-stroke\">0.500</text><text y=\"-6.071303e+01\" dominant-baseline=\"middle\" stroke=\"none\" vector-effect=\"non-scaling-stroke\" x=\"-10\">0.600</text><text stroke=\"none\" vector-effect=\"non-scaling-stroke\" x=\"-10\" y=\"-1.161817e+02\" dominant-baseline=\"middle\">0.700</text><text dominant-baseline=\"middle\" stroke=\"none\" vector-effect=\"non-scaling-stroke\" x=\"-10\" y=\"-1.716503e+02\">0.800</text><text stroke=\"none\" vector-effect=\"non-scaling-stroke\" x=\"-10\" y=\"-2.271189e+02\" dominant-baseline=\"middle\">0.900</text></g><g stroke-width=\"2px\" dominant-baseline=\"hanging\" fill=\"black\" stroke=\"black\" font-size=\"12px\" font-style=\"normal\" stroke-linejoin=\"round\" font-family=\"sans-serif\" stroke-linecap=\"round\" transform=\"translate(70 330 )scale(1 1 )rotate(-90 0 0 )\" text-anchor=\"middle\" font-weight=\"bold\"><text x=\"130\" y=\"6\" dominant-baseline=\"hanging\" stroke=\"none\" vector-effect=\"non-scaling-stroke\">accuracy</text></g><g stroke=\"gray\" stroke-width=\"0.5px\" font-style=\"normal\" stroke-linejoin=\"round\" font-family=\"sans-serif\" stroke-linecap=\"round\" transform=\"translate(70 330 )scale(1 -1 )\" fill=\"black\" font-size=\"12px\" text-anchor=\"middle\" dominant-baseline=\"hanging\" font-weight=\"bold\"><path vector-effect=\"non-scaling-stroke\" d=\"M0,5.244386e+00 L884,5.244386e+00 M0,6.071303e+01 L884,6.071303e+01 M0,1.161817e+02 L884,1.161817e+02 M0,1.716503e+02 L884,1.716503e+02 M0,2.271189e+02 L884,2.271189e+02 \"/></g><g dominant-baseline=\"hanging\" font-family=\"sans-serif\" font-size=\"12px\" fill=\"none\" stroke=\"black\" stroke-width=\"2px\" stroke-linecap=\"round\" text-anchor=\"middle\" font-style=\"normal\" font-weight=\"bold\" stroke-linejoin=\"round\"><rect height=\"260\" vector-effect=\"non-scaling-stroke\" x=\"70\" y=\"70\" width=\"884\"/><g dominant-baseline=\"middle\" fill=\"black\" font-size=\"18px\"><text vector-effect=\"non-scaling-stroke\" x=\"512\" y=\"35\" dominant-baseline=\"middle\" stroke=\"none\">accuracy metrics</text></g><g stroke-linejoin=\"round\" font-family=\"sans-serif\" text-anchor=\"start\" stroke=\"hsl(90, 47%, 65%)\" font-size=\"12px\" font-style=\"normal\" font-weight=\"normal\" dominant-baseline=\"hanging\" fill=\"hsl(90, 47%, 65%)\" stroke-width=\"1px\" stroke-linecap=\"round\"><rect width=\"12\" height=\"12\" vector-effect=\"non-scaling-stroke\" x=\"76\" y=\"366\"/><g fill=\"black\" stroke=\"black\"><text x=\"92\" y=\"366\" dominant-baseline=\"hanging\" stroke=\"none\" vector-effect=\"non-scaling-stroke\">Eval on test-eval [Parallelized]: Mean Accuracy</text></g><g font-size=\"12px\" font-weight=\"normal\" stroke-linejoin=\"round\" font-family=\"sans-serif\" stroke-width=\"1px\" fill=\"hsl(301, 88%, 65%)\" stroke=\"hsl(301, 88%, 65%)\" font-style=\"normal\" stroke-linecap=\"round\" text-anchor=\"start\" dominant-baseline=\"hanging\"><rect y=\"384\" width=\"12\" height=\"12\" vector-effect=\"non-scaling-stroke\" x=\"76\"/><g fill=\"black\" stroke=\"black\"><text stroke=\"none\" vector-effect=\"non-scaling-stroke\" x=\"92\" y=\"384\" dominant-baseline=\"hanging\">Eval on train-eval [Parallelized]: Mean Accuracy</text></g><g font-family=\"sans-serif\" font-weight=\"normal\" stroke-width=\"1px\" dominant-baseline=\"hanging\" stroke-linejoin=\"round\" font-size=\"12px\" font-style=\"normal\" fill=\"hsl(152, 76%, 65%)\" stroke=\"hsl(152, 76%, 65%)\" stroke-linecap=\"round\" text-anchor=\"start\"><rect x=\"76\" y=\"402\" width=\"12\" height=\"12\" vector-effect=\"non-scaling-stroke\"/><g fill=\"black\" stroke=\"black\"><text dominant-baseline=\"hanging\" stroke=\"none\" vector-effect=\"non-scaling-stroke\" x=\"92\" y=\"402\">Train: Moving Average Accuracy</text></g></g></g></g></g></svg>"
      ]
     },
     "metadata": {},
     "output_type": "display_data"
    },
    {
     "data": {
      "text/html": [
       "<svg xmlns=\"http://www.w3.org/2000/svg\" width=\"1024\" height=\"454\" viewbox=\"0 0 1024 400\" style=\"background-color:#f8f8f8\" preserveAspectRatio=\"xMidYMid meet\"><defs><marker viewBox=\"0 0 10 10 \" refX=\"5\" refY=\"5\" markerUnits=\"userSpaceOnUse\" markerWidth=\"2%\" markerHeight=\"2%\" id=\"circle\"><circle r=\"3\" fill=\"none\" stroke=\"black\" cx=\"5\" cy=\"5\"/></marker><marker refY=\"5\" markerUnits=\"userSpaceOnUse\" markerWidth=\"2%\" markerHeight=\"2%\" id=\"filled-circle\" viewBox=\"0 0 10 10 \" refX=\"5\"><circle cy=\"5\" r=\"3\" fill=\"black\" stroke=\"none\" cx=\"5\"/></marker><marker markerUnits=\"userSpaceOnUse\" markerWidth=\"2%\" markerHeight=\"2%\" id=\"square\" viewBox=\"0 0 10 10 \" refX=\"5\" refY=\"5\"><rect fill=\"none\" stroke=\"black\" x=\"2\" y=\"2\" width=\"6\" height=\"6\"/></marker><marker markerUnits=\"userSpaceOnUse\" markerWidth=\"2%\" markerHeight=\"2%\" id=\"filled-square\" viewBox=\"0 0 10 10 \" refX=\"5\" refY=\"5\"><rect x=\"2\" y=\"2\" width=\"6\" height=\"6\" fill=\"black\" stroke=\"none\"/></marker></defs><g fill=\"none\" stroke-width=\"2px\" marker-end=\"url(#square)\" marker-mid=\"url(#square)\" transform=\"translate(70 330 )scale(1 -1 )\" stroke=\"hsl(90, 47%, 65%)\" stroke-linecap=\"round\" stroke-linejoin=\"round\" marker-start=\"url(#square)\"><path vector-effect=\"non-scaling-stroke\" d=\"M1.768000e+01,2.548000e+02 L1.365173e+02,2.519097e+02 L2.093971e+02,2.508568e+02 L2.634977e+02,2.519883e+02 L3.073165e+02,2.507625e+02 L3.448334e+02,2.500439e+02 L3.779355e+02,2.491029e+02 L4.078967e+02,2.438217e+02 L4.355033e+02,2.282122e+02 L4.612687e+02,1.923970e+02 L4.855427e+02,1.645533e+02 L5.085726e+02,1.590336e+02 L5.306039e+02,1.488630e+02 L5.518045e+02,1.418477e+02 L5.722912e+02,1.398541e+02 L5.921466e+02,1.335911e+02 L6.114698e+02,1.291849e+02 L6.303266e+02,1.255150e+02 L6.487916e+02,1.219694e+02 L6.669114e+02,1.183647e+02 L6.847383e+02,1.150483e+02 L7.023018e+02,1.114260e+02 L7.196363e+02,1.067700e+02 L7.367580e+02,1.058904e+02 L7.536877e+02,1.027088e+02 L7.704470e+02,1.007690e+02 L7.870558e+02,9.997570e+01 L8.035318e+02,9.920353e+01 L8.198887e+02,1.011031e+02 L8.361372e+02,1.011740e+02 L8.522929e+02,1.012302e+02 L8.663200e+02,1.003557e+02 \"/></g><g fill=\"none\" marker-end=\"url(#square)\" stroke=\"hsl(301, 88%, 65%)\" stroke-linecap=\"round\" marker-start=\"url(#square)\" transform=\"translate(70 330 )scale(1 -1 )\" stroke-width=\"2px\" stroke-linejoin=\"round\" marker-mid=\"url(#square)\"><path vector-effect=\"non-scaling-stroke\" d=\"M1.768000e+01,2.547847e+02 L1.365173e+02,2.518984e+02 L2.093971e+02,2.508260e+02 L2.634977e+02,2.519509e+02 L3.073165e+02,2.506848e+02 L3.448334e+02,2.499013e+02 L3.779355e+02,2.488239e+02 L4.078967e+02,2.429846e+02 L4.355033e+02,2.256238e+02 L4.612687e+02,1.851963e+02 L4.855427e+02,1.521998e+02 L5.085726e+02,1.445649e+02 L5.306039e+02,1.326476e+02 L5.518045e+02,1.235232e+02 L5.722912e+02,1.206222e+02 L5.921466e+02,1.114729e+02 L6.114698e+02,1.042864e+02 L6.303266e+02,9.815186e+01 L6.487916e+02,9.282724e+01 L6.669114e+02,8.608324e+01 L6.847383e+02,7.936335e+01 L7.023018e+02,7.284867e+01 L7.196363e+02,6.218635e+01 L7.367580e+02,6.049176e+01 L7.536877e+02,5.341582e+01 L7.704470e+02,4.347014e+01 L7.870558e+02,3.816098e+01 L8.035318e+02,3.099725e+01 L8.198887e+02,2.796019e+01 L8.361372e+02,1.639656e+01 L8.522929e+02,1.232749e+01 L8.663200e+02,5.200000e+00 \"/></g><g stroke=\"hsl(152, 76%, 65%)\" stroke-linecap=\"round\" transform=\"translate(70 330 )scale(1 -1 )\" fill=\"none\" stroke-width=\"2px\" stroke-linejoin=\"round\" marker-start=\"url(#square)\" marker-mid=\"url(#square)\" marker-end=\"url(#square)\"><path d=\"M1.768000e+01,2.480921e+02 L1.365173e+02,2.496878e+02 L2.093971e+02,2.515916e+02 L2.634977e+02,2.506787e+02 L3.073165e+02,2.509270e+02 L3.448334e+02,2.508724e+02 L3.779355e+02,2.496286e+02 L4.078967e+02,2.481584e+02 L4.355033e+02,2.409230e+02 L4.612687e+02,2.272007e+02 L4.855427e+02,2.085051e+02 L5.085726e+02,1.990940e+02 L5.306039e+02,1.850663e+02 L5.518045e+02,1.766507e+02 L5.722912e+02,1.726328e+02 L5.921466e+02,1.612377e+02 L6.114698e+02,1.568946e+02 L6.303266e+02,1.504597e+02 L6.487916e+02,1.412275e+02 L6.669114e+02,1.307570e+02 L6.847383e+02,1.267392e+02 L7.023018e+02,1.200688e+02 L7.196363e+02,1.063859e+02 L7.367580e+02,1.060038e+02 L7.536877e+02,9.996819e+01 L7.704470e+02,8.831663e+01 L7.870558e+02,8.638770e+01 L8.035318e+02,7.784940e+01 L8.198887e+02,7.262576e+01 L8.361372e+02,6.086365e+01 L8.522929e+02,5.645789e+01 L8.663200e+02,5.156966e+01 \" vector-effect=\"non-scaling-stroke\"/></g><g stroke-linejoin=\"round\" transform=\"translate(70 330 )scale(1 -1 )\" fill=\"none\" stroke=\"black\" stroke-width=\"2px\" stroke-linecap=\"round\"><path vector-effect=\"non-scaling-stroke\" d=\"M1.768000e+01,0 L1.768000e+01,-6 M1.287025e+02,0 L1.287025e+02,-6 M1.936465e+02,0 L1.936465e+02,-6 M2.397250e+02,0 L2.397250e+02,-6 M2.754663e+02,0 L2.754663e+02,-6 M3.046690e+02,0 L3.046690e+02,-6 M3.293596e+02,0 L3.293596e+02,-6 M3.507475e+02,0 L3.507475e+02,-6 M3.696130e+02,0 L3.696130e+02,-6 M3.864888e+02,0 L3.864888e+02,-6 M4.017547e+02,0 L4.017547e+02,-6 M4.975112e+02,0 L4.975112e+02,-6 M5.624552e+02,0 L5.624552e+02,-6 M6.085337e+02,0 L6.085337e+02,-6 M6.442750e+02,0 L6.442750e+02,-6 M6.734777e+02,0 L6.734777e+02,-6 M6.981683e+02,0 L6.981683e+02,-6 M7.195562e+02,0 L7.195562e+02,-6 M7.384217e+02,0 L7.384217e+02,-6 M7.552975e+02,0 L7.552975e+02,-6 M8.663200e+02,0 L8.663200e+02,-6 \"/></g><g transform=\"translate(70 330 )scale(1 1 )\" font-family=\"sans-serif\" font-style=\"normal\" text-anchor=\"middle\" font-size=\"12px\" stroke-linecap=\"round\" stroke-linejoin=\"round\" fill=\"black\" font-weight=\"normal\" dominant-baseline=\"hanging\" stroke=\"black\" stroke-width=\"2px\"><text dominant-baseline=\"hanging\" stroke=\"none\" vector-effect=\"non-scaling-stroke\" x=\"1.768000e+01\" y=\"10\">100</text><text stroke=\"none\" vector-effect=\"non-scaling-stroke\" x=\"1.287025e+02\" y=\"10\" dominant-baseline=\"hanging\">200</text><text stroke=\"none\" vector-effect=\"non-scaling-stroke\" x=\"1.936465e+02\" y=\"10\" dominant-baseline=\"hanging\">300</text><text vector-effect=\"non-scaling-stroke\" x=\"2.397250e+02\" y=\"10\" dominant-baseline=\"hanging\" stroke=\"none\">400</text><text x=\"2.754663e+02\" y=\"10\" dominant-baseline=\"hanging\" stroke=\"none\" vector-effect=\"non-scaling-stroke\">500</text><text vector-effect=\"non-scaling-stroke\" x=\"3.046690e+02\" y=\"10\" dominant-baseline=\"hanging\" stroke=\"none\">600</text><text y=\"10\" dominant-baseline=\"hanging\" stroke=\"none\" vector-effect=\"non-scaling-stroke\" x=\"3.293596e+02\">700</text><text stroke=\"none\" vector-effect=\"non-scaling-stroke\" x=\"3.507475e+02\" y=\"10\" dominant-baseline=\"hanging\">800</text><text y=\"10\" dominant-baseline=\"hanging\" stroke=\"none\" vector-effect=\"non-scaling-stroke\" x=\"3.696130e+02\">900</text><text stroke=\"none\" vector-effect=\"non-scaling-stroke\" x=\"3.864888e+02\" y=\"10\" dominant-baseline=\"hanging\">1000</text><text y=\"10\" dominant-baseline=\"hanging\" stroke=\"none\" vector-effect=\"non-scaling-stroke\" x=\"4.017547e+02\">1100</text><text dominant-baseline=\"hanging\" stroke=\"none\" vector-effect=\"non-scaling-stroke\" x=\"4.975112e+02\" y=\"10\">2000</text><text x=\"5.624552e+02\" y=\"10\" dominant-baseline=\"hanging\" stroke=\"none\" vector-effect=\"non-scaling-stroke\">3000</text><text stroke=\"none\" vector-effect=\"non-scaling-stroke\" x=\"6.085337e+02\" y=\"10\" dominant-baseline=\"hanging\">4000</text><text vector-effect=\"non-scaling-stroke\" x=\"6.442750e+02\" y=\"10\" dominant-baseline=\"hanging\" stroke=\"none\">5000</text><text y=\"10\" dominant-baseline=\"hanging\" stroke=\"none\" vector-effect=\"non-scaling-stroke\" x=\"6.734777e+02\">6000</text><text x=\"6.981683e+02\" y=\"10\" dominant-baseline=\"hanging\" stroke=\"none\" vector-effect=\"non-scaling-stroke\">7000</text><text stroke=\"none\" vector-effect=\"non-scaling-stroke\" x=\"7.195562e+02\" y=\"10\" dominant-baseline=\"hanging\">8000</text><text dominant-baseline=\"hanging\" stroke=\"none\" vector-effect=\"non-scaling-stroke\" x=\"7.384217e+02\" y=\"10\">9000</text><text vector-effect=\"non-scaling-stroke\" x=\"7.552975e+02\" y=\"10\" dominant-baseline=\"hanging\" stroke=\"none\">10000</text><text vector-effect=\"non-scaling-stroke\" x=\"8.663200e+02\" y=\"10\" dominant-baseline=\"hanging\" stroke=\"none\">20000</text></g><g font-size=\"12px\" stroke-width=\"2px\" stroke-linecap=\"round\" stroke=\"black\" font-weight=\"bold\" fill=\"black\" dominant-baseline=\"baseline\" text-anchor=\"middle\" stroke-linejoin=\"round\" transform=\"translate(70 330 )scale(1 1 )rotate(0 0 0 )\" font-family=\"sans-serif\" font-style=\"normal\"><text vector-effect=\"non-scaling-stroke\" x=\"442\" y=\"-6\" dominant-baseline=\"baseline\" stroke=\"none\">Steps</text></g><g stroke-width=\"2px\" font-size=\"12px\" text-anchor=\"middle\" dominant-baseline=\"baseline\" font-family=\"sans-serif\" font-style=\"normal\" fill=\"black\" stroke=\"black\" stroke-linecap=\"round\" stroke-linejoin=\"round\" transform=\"translate(70 330 )scale(1 -1 )\" font-weight=\"bold\"><path vector-effect=\"non-scaling-stroke\" d=\"M0,2.805440e+01 L-6,2.805440e+01 M0,1.184974e+02 L-6,1.184974e+02 M0,2.089403e+02 L-6,2.089403e+02 \"/></g><g font-family=\"sans-serif\" font-style=\"normal\" font-weight=\"normal\" text-anchor=\"end\" transform=\"translate(70 330 )scale(1 1 )\" stroke-linejoin=\"round\" fill=\"black\" stroke=\"black\" stroke-width=\"2px\" font-size=\"12px\" dominant-baseline=\"middle\" stroke-linecap=\"round\"><text stroke=\"none\" vector-effect=\"non-scaling-stroke\" x=\"-10\" y=\"-2.805440e+01\" dominant-baseline=\"middle\">0.200</text><text dominant-baseline=\"middle\" stroke=\"none\" vector-effect=\"non-scaling-stroke\" x=\"-10\" y=\"-1.184974e+02\">0.400</text><text x=\"-10\" y=\"-2.089403e+02\" dominant-baseline=\"middle\" stroke=\"none\" vector-effect=\"non-scaling-stroke\">0.600</text></g><g transform=\"translate(70 330 )scale(1 1 )rotate(-90 0 0 )\" font-family=\"sans-serif\" font-style=\"normal\" fill=\"black\" font-weight=\"bold\" stroke-width=\"2px\" stroke-linejoin=\"round\" text-anchor=\"middle\" stroke-linecap=\"round\" stroke=\"black\" dominant-baseline=\"hanging\" font-size=\"12px\"><text dominant-baseline=\"hanging\" stroke=\"none\" vector-effect=\"non-scaling-stroke\" x=\"130\" y=\"6\">loss</text></g><g stroke=\"gray\" stroke-width=\"0.5px\" stroke-linecap=\"round\" font-size=\"12px\" text-anchor=\"middle\" stroke-linejoin=\"round\" font-style=\"normal\" fill=\"black\" font-weight=\"bold\" dominant-baseline=\"hanging\" transform=\"translate(70 330 )scale(1 -1 )\" font-family=\"sans-serif\"><path d=\"M0,2.805440e+01 L884,2.805440e+01 M0,1.184974e+02 L884,1.184974e+02 M0,2.089403e+02 L884,2.089403e+02 \" vector-effect=\"non-scaling-stroke\"/></g><g font-family=\"sans-serif\" fill=\"none\" stroke=\"black\" stroke-linecap=\"round\" font-weight=\"bold\" dominant-baseline=\"hanging\" text-anchor=\"middle\" font-style=\"normal\" stroke-width=\"2px\" stroke-linejoin=\"round\" font-size=\"12px\"><rect y=\"70\" width=\"884\" height=\"260\" vector-effect=\"non-scaling-stroke\" x=\"70\"/><g font-size=\"18px\" fill=\"black\" dominant-baseline=\"middle\"><text vector-effect=\"non-scaling-stroke\" x=\"512\" y=\"35\" dominant-baseline=\"middle\" stroke=\"none\">loss metrics</text></g><g font-family=\"sans-serif\" fill=\"hsl(90, 47%, 65%)\" stroke-width=\"1px\" dominant-baseline=\"hanging\" font-style=\"normal\" stroke=\"hsl(90, 47%, 65%)\" stroke-linecap=\"round\" stroke-linejoin=\"round\" font-weight=\"normal\" font-size=\"12px\" text-anchor=\"start\"><rect height=\"12\" vector-effect=\"non-scaling-stroke\" x=\"76\" y=\"366\" width=\"12\"/><g fill=\"black\" stroke=\"black\"><text dominant-baseline=\"hanging\" stroke=\"none\" vector-effect=\"non-scaling-stroke\" x=\"92\" y=\"366\">Eval on test-eval [Parallelized]: Mean Loss</text></g><g font-family=\"sans-serif\" font-weight=\"normal\" text-anchor=\"start\" dominant-baseline=\"hanging\" font-size=\"12px\" stroke=\"hsl(301, 88%, 65%)\" stroke-width=\"1px\" stroke-linecap=\"round\" stroke-linejoin=\"round\" font-style=\"normal\" fill=\"hsl(301, 88%, 65%)\"><rect height=\"12\" vector-effect=\"non-scaling-stroke\" x=\"76\" y=\"384\" width=\"12\"/><g fill=\"black\" stroke=\"black\"><text dominant-baseline=\"hanging\" stroke=\"none\" vector-effect=\"non-scaling-stroke\" x=\"92\" y=\"384\">Eval on train-eval [Parallelized]: Mean Loss</text></g><g stroke-linecap=\"round\" font-style=\"normal\" fill=\"hsl(152, 76%, 65%)\" stroke=\"hsl(152, 76%, 65%)\" font-weight=\"normal\" dominant-baseline=\"hanging\" font-size=\"12px\" stroke-width=\"1px\" stroke-linejoin=\"round\" font-family=\"sans-serif\" text-anchor=\"start\"><rect width=\"12\" height=\"12\" vector-effect=\"non-scaling-stroke\" x=\"76\" y=\"402\"/><g stroke=\"black\" fill=\"black\"><text x=\"92\" y=\"402\" dominant-baseline=\"hanging\" stroke=\"none\" vector-effect=\"non-scaling-stroke\">Train: Moving Average Loss</text></g></g></g></g></g></svg>"
      ]
     },
     "metadata": {},
     "output_type": "display_data"
    },
    {
     "name": "stdout",
     "output_type": "stream",
     "text": [
      "\t[Step 20000] median train step: 944 microseconds\n",
      "\n",
      "Results on train-eval [Parallelized]:\n",
      "\tMean Loss (#loss): 0.150\n",
      "\tMean Accuracy (#acc): 94.98%\n",
      "Results on test-eval [Parallelized]:\n",
      "\tMean Loss (#loss): 0.360\n",
      "\tMean Accuracy (#acc): 84.68%\n"
     ]
    }
   ],
   "source": [
    "%% --model=bow --steps=20000 --optimizer=adamw\n",
    "trainModel()"
   ]
  },
  {
   "cell_type": "markdown",
   "id": "62e0d8ed-31ed-49ba-8b6f-1518d3df8a8d",
   "metadata": {},
   "source": [
    "### CNN Model\n",
    "\n",
    "Below we redefine our CNN model function, with 2 convolution layers, and train on it.\n",
    "\n",
    "Notice how well it can overfit to the training data ... but it doesn't help the test results. To improve this one needs some careful regularization."
   ]
  },
  {
   "cell_type": "code",
   "execution_count": 8,
   "id": "2fc49c16-714c-483c-92a9-9e4fda9514d5",
   "metadata": {
    "tags": []
   },
   "outputs": [
    {
     "name": "stdout",
     "output_type": "stream",
     "text": [
      "> Loading previously generated preprocessed binary file.\n",
      "Loaded data from \"aclImdb.bin\": 100000 examples, 141088 unique tokens, 23727054 tokens in total.\n",
      "Platform: CUDA\n"
     ]
    },
    {
     "data": {
      "text/html": []
     },
     "metadata": {},
     "output_type": "display_data"
    },
    {
     "name": "stdout",
     "output_type": "stream",
     "text": [
      "Training (20000 steps):  100% [\u001b[32m=\u001b[0m\u001b[32m=\u001b[0m\u001b[32m=\u001b[0m\u001b[32m=\u001b[0m\u001b[32m=\u001b[0m\u001b[32m=\u001b[0m\u001b[32m=\u001b[0m\u001b[32m=\u001b[0m\u001b[32m=\u001b[0m\u001b[32m=\u001b[0m\u001b[32m=\u001b[0m\u001b[32m=\u001b[0m\u001b[32m=\u001b[0m\u001b[32m=\u001b[0m\u001b[32m=\u001b[0m\u001b[32m=\u001b[0m\u001b[32m=\u001b[0m\u001b[32m=\u001b[0m\u001b[32m=\u001b[0m\u001b[32m=\u001b[0m\u001b[32m=\u001b[0m\u001b[32m=\u001b[0m\u001b[32m=\u001b[0m\u001b[32m=\u001b[0m\u001b[32m=\u001b[0m\u001b[32m=\u001b[0m\u001b[32m=\u001b[0m\u001b[32m=\u001b[0m\u001b[32m=\u001b[0m\u001b[32m=\u001b[0m\u001b[32m=\u001b[0m\u001b[32m=\u001b[0m\u001b[32m=\u001b[0m\u001b[32m=\u001b[0m\u001b[32m=\u001b[0m\u001b[32m=\u001b[0m\u001b[32m=\u001b[0m\u001b[32m=\u001b[0m\u001b[32m=\u001b[0m\u001b[32m=\u001b[0m] (544 steps/s)\u001b[0m [loss=0.080] [~loss=0.097] [~acc=96.62%]        \n"
     ]
    },
    {
     "data": {
      "text/html": [
       "<svg viewbox=\"0 0 1024 400\" style=\"background-color:#f8f8f8\" preserveAspectRatio=\"xMidYMid meet\" xmlns=\"http://www.w3.org/2000/svg\" width=\"1024\" height=\"454\"><defs><marker id=\"circle\" viewBox=\"0 0 10 10 \" refX=\"5\" refY=\"5\" markerUnits=\"userSpaceOnUse\" markerWidth=\"2%\" markerHeight=\"2%\"><circle cy=\"5\" r=\"3\" fill=\"none\" stroke=\"black\" cx=\"5\"/></marker><marker refY=\"5\" markerUnits=\"userSpaceOnUse\" markerWidth=\"2%\" markerHeight=\"2%\" id=\"filled-circle\" viewBox=\"0 0 10 10 \" refX=\"5\"><circle stroke=\"none\" cx=\"5\" cy=\"5\" r=\"3\" fill=\"black\"/></marker><marker markerUnits=\"userSpaceOnUse\" markerWidth=\"2%\" markerHeight=\"2%\" id=\"square\" viewBox=\"0 0 10 10 \" refX=\"5\" refY=\"5\"><rect y=\"2\" width=\"6\" height=\"6\" fill=\"none\" stroke=\"black\" x=\"2\"/></marker><marker markerUnits=\"userSpaceOnUse\" markerWidth=\"2%\" markerHeight=\"2%\" id=\"filled-square\" viewBox=\"0 0 10 10 \" refX=\"5\" refY=\"5\"><rect height=\"6\" fill=\"black\" stroke=\"none\" x=\"2\" y=\"2\" width=\"6\"/></marker></defs><g marker-mid=\"url(#square)\" stroke-width=\"2px\" marker-start=\"url(#square)\" transform=\"translate(70 330 )scale(1 -1 )\" stroke-linejoin=\"round\" marker-end=\"url(#square)\" fill=\"none\" stroke=\"hsl(90, 47%, 65%)\" stroke-linecap=\"round\"><path vector-effect=\"non-scaling-stroke\" d=\"M1.768000e+01,7.022230e+00 L1.365173e+02,1.294466e+01 L2.093971e+02,9.551797e+00 L2.634977e+02,7.022230e+00 L3.073165e+02,7.042297e+00 L3.448334e+02,7.644604e+00 L3.779355e+02,1.537383e+01 L4.078967e+02,1.543406e+01 L4.355033e+02,2.033260e+01 L4.612687e+02,2.103527e+01 L4.855427e+02,7.042297e+00 L5.085726e+02,3.071188e+01 L5.306039e+02,4.845904e+01 L5.518045e+02,5.472276e+01 L5.722912e+02,1.113370e+02 L5.921466e+02,1.345449e+02 L6.114698e+02,1.489393e+02 L6.303266e+02,1.558856e+02 L6.487916e+02,1.620891e+02 L6.669114e+02,1.584152e+02 L6.847383e+02,1.686339e+02 L7.023018e+02,1.686539e+02 L7.196363e+02,1.720267e+02 L7.367580e+02,1.740946e+02 L7.536877e+02,1.702600e+02 L7.704470e+02,1.684331e+02 L7.870558e+02,1.732514e+02 L8.035318e+02,1.735926e+02 L8.198887e+02,1.738135e+02 L8.361372e+02,1.696979e+02 L8.522929e+02,1.669475e+02 L8.663200e+02,1.704809e+02 \"/></g><g marker-mid=\"url(#square)\" marker-start=\"url(#square)\" marker-end=\"url(#square)\" stroke=\"hsl(301, 88%, 65%)\" stroke-linecap=\"round\" stroke-width=\"2px\" stroke-linejoin=\"round\" transform=\"translate(70 330 )scale(1 -1 )\" fill=\"none\"><path vector-effect=\"non-scaling-stroke\" d=\"M1.768000e+01,7.002164e+00 L1.365173e+02,1.139879e+01 L2.093971e+02,1.139879e+01 L2.634977e+02,7.042297e+00 L3.073165e+02,7.002164e+00 L3.448334e+02,7.765035e+00 L3.779355e+02,2.294249e+01 L4.078967e+02,2.406675e+01 L4.355033e+02,2.846337e+01 L4.612687e+02,3.484755e+01 L4.855427e+02,7.443815e+00 L5.085726e+02,5.086818e+01 L5.306039e+02,7.610367e+01 L5.518045e+02,7.947644e+01 L5.722912e+02,1.408086e+02 L5.921466e+02,1.669073e+02 L6.114698e+02,1.844537e+02 L6.303266e+02,1.948330e+02 L6.487916e+02,2.038471e+02 L6.669114e+02,2.028835e+02 L6.847383e+02,2.184022e+02 L7.023018e+02,2.219958e+02 L7.196363e+02,2.281391e+02 L7.367580e+02,2.345433e+02 L7.536877e+02,2.309497e+02 L7.704470e+02,2.377956e+02 L7.870558e+02,2.451836e+02 L8.035318e+02,2.481348e+02 L8.198887e+02,2.508651e+02 L8.361372e+02,2.520094e+02 L8.522929e+02,2.524712e+02 L8.663200e+02,2.548000e+02 \"/></g><g stroke-width=\"2px\" stroke-linejoin=\"round\" marker-start=\"url(#square)\" marker-mid=\"url(#square)\" fill=\"none\" stroke=\"hsl(152, 76%, 65%)\" stroke-linecap=\"round\" marker-end=\"url(#square)\" transform=\"translate(70 330 )scale(1 -1 )\"><path d=\"M1.768000e+01,2.379122e+01 L1.365173e+02,2.323776e+01 L2.093971e+02,1.197466e+01 L2.634977e+02,2.211389e+01 L3.073165e+02,1.783022e+01 L3.448334e+02,5.200000e+00 L3.779355e+02,1.271669e+01 L4.078967e+02,1.160281e+01 L4.355033e+02,6.243135e+00 L4.612687e+02,1.229719e+01 L4.855427e+02,1.645368e+01 L5.085726e+02,2.109700e+01 L5.306039e+02,2.965399e+01 L5.518045e+02,5.395023e+01 L5.722912e+02,9.948667e+01 L5.921466e+02,1.347708e+02 L6.114698e+02,1.574259e+02 L6.303266e+02,1.647122e+02 L6.487916e+02,1.817408e+02 L6.669114e+02,1.924121e+02 L6.847383e+02,1.990776e+02 L7.023018e+02,2.018752e+02 L7.196363e+02,2.071355e+02 L7.367580e+02,2.156630e+02 L7.536877e+02,2.155033e+02 L7.704470e+02,2.224664e+02 L7.870558e+02,2.255806e+02 L8.035318e+02,2.300711e+02 L8.198887e+02,2.342459e+02 L8.361372e+02,2.367457e+02 L8.522929e+02,2.404927e+02 L8.663200e+02,2.409504e+02 \" vector-effect=\"non-scaling-stroke\"/></g><g fill=\"none\" stroke=\"black\" stroke-linecap=\"round\" stroke-width=\"2px\" stroke-linejoin=\"round\" transform=\"translate(70 330 )scale(1 -1 )\"><path vector-effect=\"non-scaling-stroke\" d=\"M1.768000e+01,0 L1.768000e+01,-6 M1.287025e+02,0 L1.287025e+02,-6 M1.936465e+02,0 L1.936465e+02,-6 M2.397250e+02,0 L2.397250e+02,-6 M2.754663e+02,0 L2.754663e+02,-6 M3.046690e+02,0 L3.046690e+02,-6 M3.293596e+02,0 L3.293596e+02,-6 M3.507475e+02,0 L3.507475e+02,-6 M3.696130e+02,0 L3.696130e+02,-6 M3.864888e+02,0 L3.864888e+02,-6 M4.017547e+02,0 L4.017547e+02,-6 M4.975112e+02,0 L4.975112e+02,-6 M5.624552e+02,0 L5.624552e+02,-6 M6.085337e+02,0 L6.085337e+02,-6 M6.442750e+02,0 L6.442750e+02,-6 M6.734777e+02,0 L6.734777e+02,-6 M6.981683e+02,0 L6.981683e+02,-6 M7.195562e+02,0 L7.195562e+02,-6 M7.384217e+02,0 L7.384217e+02,-6 M7.552975e+02,0 L7.552975e+02,-6 M8.663200e+02,0 L8.663200e+02,-6 \"/></g><g dominant-baseline=\"hanging\" fill=\"black\" transform=\"translate(70 330 )scale(1 1 )\" font-family=\"sans-serif\" font-style=\"normal\" font-weight=\"normal\" stroke-width=\"2px\" stroke-linecap=\"round\" text-anchor=\"middle\" stroke=\"black\" font-size=\"12px\" stroke-linejoin=\"round\"><text dominant-baseline=\"hanging\" stroke=\"none\" vector-effect=\"non-scaling-stroke\" x=\"1.768000e+01\" y=\"10\">100</text><text stroke=\"none\" vector-effect=\"non-scaling-stroke\" x=\"1.287025e+02\" y=\"10\" dominant-baseline=\"hanging\">200</text><text y=\"10\" dominant-baseline=\"hanging\" stroke=\"none\" vector-effect=\"non-scaling-stroke\" x=\"1.936465e+02\">300</text><text stroke=\"none\" vector-effect=\"non-scaling-stroke\" x=\"2.397250e+02\" y=\"10\" dominant-baseline=\"hanging\">400</text><text vector-effect=\"non-scaling-stroke\" x=\"2.754663e+02\" y=\"10\" dominant-baseline=\"hanging\" stroke=\"none\">500</text><text stroke=\"none\" vector-effect=\"non-scaling-stroke\" x=\"3.046690e+02\" y=\"10\" dominant-baseline=\"hanging\">600</text><text y=\"10\" dominant-baseline=\"hanging\" stroke=\"none\" vector-effect=\"non-scaling-stroke\" x=\"3.293596e+02\">700</text><text dominant-baseline=\"hanging\" stroke=\"none\" vector-effect=\"non-scaling-stroke\" x=\"3.507475e+02\" y=\"10\">800</text><text x=\"3.696130e+02\" y=\"10\" dominant-baseline=\"hanging\" stroke=\"none\" vector-effect=\"non-scaling-stroke\">900</text><text dominant-baseline=\"hanging\" stroke=\"none\" vector-effect=\"non-scaling-stroke\" x=\"3.864888e+02\" y=\"10\">1000</text><text y=\"10\" dominant-baseline=\"hanging\" stroke=\"none\" vector-effect=\"non-scaling-stroke\" x=\"4.017547e+02\">1100</text><text y=\"10\" dominant-baseline=\"hanging\" stroke=\"none\" vector-effect=\"non-scaling-stroke\" x=\"4.975112e+02\">2000</text><text x=\"5.624552e+02\" y=\"10\" dominant-baseline=\"hanging\" stroke=\"none\" vector-effect=\"non-scaling-stroke\">3000</text><text stroke=\"none\" vector-effect=\"non-scaling-stroke\" x=\"6.085337e+02\" y=\"10\" dominant-baseline=\"hanging\">4000</text><text dominant-baseline=\"hanging\" stroke=\"none\" vector-effect=\"non-scaling-stroke\" x=\"6.442750e+02\" y=\"10\">5000</text><text vector-effect=\"non-scaling-stroke\" x=\"6.734777e+02\" y=\"10\" dominant-baseline=\"hanging\" stroke=\"none\">6000</text><text stroke=\"none\" vector-effect=\"non-scaling-stroke\" x=\"6.981683e+02\" y=\"10\" dominant-baseline=\"hanging\">7000</text><text stroke=\"none\" vector-effect=\"non-scaling-stroke\" x=\"7.195562e+02\" y=\"10\" dominant-baseline=\"hanging\">8000</text><text dominant-baseline=\"hanging\" stroke=\"none\" vector-effect=\"non-scaling-stroke\" x=\"7.384217e+02\" y=\"10\">9000</text><text x=\"7.552975e+02\" y=\"10\" dominant-baseline=\"hanging\" stroke=\"none\" vector-effect=\"non-scaling-stroke\">10000</text><text y=\"10\" dominant-baseline=\"hanging\" stroke=\"none\" vector-effect=\"non-scaling-stroke\" x=\"8.663200e+02\">20000</text></g><g stroke=\"black\" stroke-linecap=\"round\" dominant-baseline=\"baseline\" fill=\"black\" transform=\"translate(70 330 )scale(1 1 )rotate(0 0 0 )\" font-style=\"normal\" text-anchor=\"middle\" stroke-linejoin=\"round\" font-family=\"sans-serif\" font-size=\"12px\" font-weight=\"bold\" stroke-width=\"2px\"><text stroke=\"none\" vector-effect=\"non-scaling-stroke\" x=\"442\" y=\"-6\" dominant-baseline=\"baseline\">Steps</text></g><g font-size=\"12px\" stroke-linejoin=\"round\" dominant-baseline=\"baseline\" stroke-linecap=\"round\" stroke=\"black\" font-family=\"sans-serif\" font-style=\"normal\" font-weight=\"bold\" stroke-width=\"2px\" transform=\"translate(70 330 )scale(1 -1 )\" text-anchor=\"middle\" fill=\"black\"><path vector-effect=\"non-scaling-stroke\" d=\"M0,7.022230e+00 L-6,7.022230e+00 M0,5.719612e+01 L-6,5.719612e+01 M0,1.073700e+02 L-6,1.073700e+02 M0,1.575439e+02 L-6,1.575439e+02 M0,2.077178e+02 L-6,2.077178e+02 \"/></g><g font-weight=\"normal\" stroke-width=\"2px\" stroke-linejoin=\"round\" transform=\"translate(70 330 )scale(1 1 )\" font-family=\"sans-serif\" font-size=\"12px\" font-style=\"normal\" dominant-baseline=\"middle\" stroke=\"black\" stroke-linecap=\"round\" text-anchor=\"end\" fill=\"black\"><text y=\"-7.022230e+00\" dominant-baseline=\"middle\" stroke=\"none\" vector-effect=\"non-scaling-stroke\" x=\"-10\">0.500</text><text vector-effect=\"non-scaling-stroke\" x=\"-10\" y=\"-5.719612e+01\" dominant-baseline=\"middle\" stroke=\"none\">0.600</text><text stroke=\"none\" vector-effect=\"non-scaling-stroke\" x=\"-10\" y=\"-1.073700e+02\" dominant-baseline=\"middle\">0.700</text><text dominant-baseline=\"middle\" stroke=\"none\" vector-effect=\"non-scaling-stroke\" x=\"-10\" y=\"-1.575439e+02\">0.800</text><text stroke=\"none\" vector-effect=\"non-scaling-stroke\" x=\"-10\" y=\"-2.077178e+02\" dominant-baseline=\"middle\">0.900</text></g><g dominant-baseline=\"hanging\" stroke-linejoin=\"round\" transform=\"translate(70 330 )scale(1 1 )rotate(-90 0 0 )\" font-family=\"sans-serif\" stroke-linecap=\"round\" text-anchor=\"middle\" font-style=\"normal\" font-weight=\"bold\" stroke-width=\"2px\" font-size=\"12px\" fill=\"black\" stroke=\"black\"><text x=\"130\" y=\"6\" dominant-baseline=\"hanging\" stroke=\"none\" vector-effect=\"non-scaling-stroke\">accuracy</text></g><g dominant-baseline=\"hanging\" transform=\"translate(70 330 )scale(1 -1 )\" font-size=\"12px\" stroke-width=\"0.5px\" stroke-linejoin=\"round\" text-anchor=\"middle\" fill=\"black\" stroke=\"gray\" font-family=\"sans-serif\" font-style=\"normal\" font-weight=\"bold\" stroke-linecap=\"round\"><path vector-effect=\"non-scaling-stroke\" d=\"M0,7.022230e+00 L884,7.022230e+00 M0,5.719612e+01 L884,5.719612e+01 M0,1.073700e+02 L884,1.073700e+02 M0,1.575439e+02 L884,1.575439e+02 M0,2.077178e+02 L884,2.077178e+02 \"/></g><g font-family=\"sans-serif\" font-weight=\"bold\" stroke-linecap=\"round\" text-anchor=\"middle\" dominant-baseline=\"hanging\" stroke-width=\"2px\" stroke-linejoin=\"round\" font-size=\"12px\" font-style=\"normal\" fill=\"none\" stroke=\"black\"><rect vector-effect=\"non-scaling-stroke\" x=\"70\" y=\"70\" width=\"884\" height=\"260\"/><g font-size=\"18px\" dominant-baseline=\"middle\" fill=\"black\"><text stroke=\"none\" vector-effect=\"non-scaling-stroke\" x=\"512\" y=\"35\" dominant-baseline=\"middle\">accuracy metrics</text></g><g stroke-linecap=\"round\" font-size=\"12px\" font-style=\"normal\" font-weight=\"normal\" stroke-width=\"1px\" font-family=\"sans-serif\" dominant-baseline=\"hanging\" fill=\"hsl(90, 47%, 65%)\" stroke=\"hsl(90, 47%, 65%)\" text-anchor=\"start\" stroke-linejoin=\"round\"><rect width=\"12\" height=\"12\" vector-effect=\"non-scaling-stroke\" x=\"76\" y=\"366\"/><g fill=\"black\" stroke=\"black\"><text vector-effect=\"non-scaling-stroke\" x=\"92\" y=\"366\" dominant-baseline=\"hanging\" stroke=\"none\">Eval on test-eval [Parallelized]: Mean Accuracy</text></g><g stroke-linejoin=\"round\" font-size=\"12px\" font-weight=\"normal\" stroke-width=\"1px\" font-style=\"normal\" fill=\"hsl(301, 88%, 65%)\" stroke=\"hsl(301, 88%, 65%)\" stroke-linecap=\"round\" text-anchor=\"start\" dominant-baseline=\"hanging\" font-family=\"sans-serif\"><rect width=\"12\" height=\"12\" vector-effect=\"non-scaling-stroke\" x=\"76\" y=\"384\"/><g fill=\"black\" stroke=\"black\"><text y=\"384\" dominant-baseline=\"hanging\" stroke=\"none\" vector-effect=\"non-scaling-stroke\" x=\"92\">Eval on train-eval [Parallelized]: Mean Accuracy</text></g><g stroke-linejoin=\"round\" font-family=\"sans-serif\" fill=\"hsl(152, 76%, 65%)\" font-style=\"normal\" stroke-width=\"1px\" dominant-baseline=\"hanging\" font-weight=\"normal\" font-size=\"12px\" stroke=\"hsl(152, 76%, 65%)\" stroke-linecap=\"round\" text-anchor=\"start\"><rect y=\"402\" width=\"12\" height=\"12\" vector-effect=\"non-scaling-stroke\" x=\"76\"/><g fill=\"black\" stroke=\"black\"><text vector-effect=\"non-scaling-stroke\" x=\"92\" y=\"402\" dominant-baseline=\"hanging\" stroke=\"none\">Train: Moving Average Accuracy</text></g></g></g></g></g></svg>"
      ]
     },
     "metadata": {},
     "output_type": "display_data"
    },
    {
     "data": {
      "text/html": [
       "<svg xmlns=\"http://www.w3.org/2000/svg\" width=\"1024\" height=\"454\" viewbox=\"0 0 1024 400\" style=\"background-color:#f8f8f8\" preserveAspectRatio=\"xMidYMid meet\"><defs><marker markerHeight=\"2%\" id=\"circle\" viewBox=\"0 0 10 10 \" refX=\"5\" refY=\"5\" markerUnits=\"userSpaceOnUse\" markerWidth=\"2%\"><circle r=\"3\" fill=\"none\" stroke=\"black\" cx=\"5\" cy=\"5\"/></marker><marker refY=\"5\" markerUnits=\"userSpaceOnUse\" markerWidth=\"2%\" markerHeight=\"2%\" id=\"filled-circle\" viewBox=\"0 0 10 10 \" refX=\"5\"><circle cx=\"5\" cy=\"5\" r=\"3\" fill=\"black\" stroke=\"none\"/></marker><marker id=\"square\" viewBox=\"0 0 10 10 \" refX=\"5\" refY=\"5\" markerUnits=\"userSpaceOnUse\" markerWidth=\"2%\" markerHeight=\"2%\"><rect width=\"6\" height=\"6\" fill=\"none\" stroke=\"black\" x=\"2\" y=\"2\"/></marker><marker id=\"filled-square\" viewBox=\"0 0 10 10 \" refX=\"5\" refY=\"5\" markerUnits=\"userSpaceOnUse\" markerWidth=\"2%\" markerHeight=\"2%\"><rect width=\"6\" height=\"6\" fill=\"black\" stroke=\"none\" x=\"2\" y=\"2\"/></marker></defs><g marker-start=\"url(#square)\" marker-mid=\"url(#square)\" transform=\"translate(70 330 )scale(1 -1 )\" fill=\"none\" stroke-width=\"2px\" stroke-linejoin=\"round\" stroke=\"hsl(90, 47%, 65%)\" stroke-linecap=\"round\" marker-end=\"url(#square)\"><path vector-effect=\"non-scaling-stroke\" d=\"M1.768000e+01,2.547189e+02 L1.365173e+02,2.517850e+02 L2.093971e+02,2.518669e+02 L2.634977e+02,2.543107e+02 L3.073165e+02,2.525985e+02 L3.448334e+02,2.520200e+02 L3.779355e+02,2.517088e+02 L4.078967e+02,2.516405e+02 L4.355033e+02,2.514492e+02 L4.612687e+02,2.514033e+02 L4.855427e+02,2.521113e+02 L5.085726e+02,2.503667e+02 L5.306039e+02,2.480008e+02 L5.518045e+02,2.401219e+02 L5.722912e+02,2.054309e+02 L5.921466e+02,1.849502e+02 L6.114698e+02,1.724509e+02 L6.303266e+02,1.627433e+02 L6.487916e+02,1.559138e+02 L6.669114e+02,1.732791e+02 L6.847383e+02,1.569444e+02 L7.023018e+02,1.571344e+02 L7.196363e+02,1.552284e+02 L7.367580e+02,1.552640e+02 L7.536877e+02,1.671947e+02 L7.704470e+02,1.814619e+02 L7.870558e+02,1.738603e+02 L8.035318e+02,1.788417e+02 L8.198887e+02,1.843396e+02 L8.361372e+02,2.103297e+02 L8.522929e+02,2.397846e+02 L8.663200e+02,2.181796e+02 \"/></g><g stroke-width=\"2px\" stroke-linejoin=\"round\" transform=\"translate(70 330 )scale(1 -1 )\" fill=\"none\" stroke-linecap=\"round\" marker-end=\"url(#square)\" stroke=\"hsl(301, 88%, 65%)\" marker-start=\"url(#square)\" marker-mid=\"url(#square)\"><path vector-effect=\"non-scaling-stroke\" d=\"M1.768000e+01,2.548000e+02 L1.365173e+02,2.519759e+02 L2.093971e+02,2.518473e+02 L2.634977e+02,2.541854e+02 L3.073165e+02,2.524283e+02 L3.448334e+02,2.517724e+02 L3.779355e+02,2.513685e+02 L4.078967e+02,2.512126e+02 L4.355033e+02,2.509261e+02 L4.612687e+02,2.508036e+02 L4.855427e+02,2.514863e+02 L5.085726e+02,2.489111e+02 L5.306039e+02,2.450145e+02 L5.518045e+02,2.306285e+02 L5.722912e+02,1.813045e+02 L5.921466e+02,1.497403e+02 L6.114698e+02,1.270506e+02 L6.303266e+02,1.118994e+02 L6.487916e+02,9.765197e+01 L6.669114e+02,9.816345e+01 L6.847383e+02,7.557851e+01 L7.023018e+02,6.851575e+01 L7.196363e+02,5.787682e+01 L7.367580e+02,4.747797e+01 L7.536877e+02,5.146502e+01 L7.704470e+02,3.982225e+01 L7.870558e+02,2.736326e+01 L8.035318e+02,2.083277e+01 L8.198887e+02,1.502209e+01 L8.361372e+02,1.206099e+01 L8.522929e+02,1.009033e+01 L8.663200e+02,5.200000e+00 \"/></g><g stroke-linejoin=\"round\" transform=\"translate(70 330 )scale(1 -1 )\" fill=\"none\" stroke-linecap=\"round\" stroke-width=\"2px\" marker-start=\"url(#square)\" marker-mid=\"url(#square)\" stroke=\"hsl(152, 76%, 65%)\" marker-end=\"url(#square)\"><path vector-effect=\"non-scaling-stroke\" d=\"M1.768000e+01,2.528096e+02 L1.365173e+02,2.518473e+02 L2.093971e+02,2.530875e+02 L2.634977e+02,2.514748e+02 L3.073165e+02,2.522621e+02 L3.448334e+02,2.528975e+02 L3.779355e+02,2.523744e+02 L4.078967e+02,2.522403e+02 L4.355033e+02,2.521950e+02 L4.612687e+02,2.521082e+02 L4.855427e+02,2.517094e+02 L5.085726e+02,2.510834e+02 L5.306039e+02,2.497132e+02 L5.518045e+02,2.425683e+02 L5.722912e+02,2.182016e+02 L5.921466e+02,1.852698e+02 L6.114698e+02,1.615893e+02 L6.303266e+02,1.523187e+02 L6.487916e+02,1.296514e+02 L6.669114e+02,1.153844e+02 L6.847383e+02,1.088712e+02 L7.023018e+02,1.040132e+02 L7.196363e+02,9.097820e+01 L7.367580e+02,8.132325e+01 L7.536877e+02,7.770218e+01 L7.704470e+02,6.451221e+01 L7.870558e+02,5.974388e+01 L8.035318e+02,5.174267e+01 L8.198887e+02,4.696243e+01 L8.361372e+02,3.755866e+01 L8.522929e+02,3.079588e+01 L8.663200e+02,3.098911e+01 \"/></g><g fill=\"none\" stroke=\"black\" stroke-linecap=\"round\" stroke-width=\"2px\" stroke-linejoin=\"round\" transform=\"translate(70 330 )scale(1 -1 )\"><path vector-effect=\"non-scaling-stroke\" d=\"M1.768000e+01,0 L1.768000e+01,-6 M1.287025e+02,0 L1.287025e+02,-6 M1.936465e+02,0 L1.936465e+02,-6 M2.397250e+02,0 L2.397250e+02,-6 M2.754663e+02,0 L2.754663e+02,-6 M3.046690e+02,0 L3.046690e+02,-6 M3.293596e+02,0 L3.293596e+02,-6 M3.507475e+02,0 L3.507475e+02,-6 M3.696130e+02,0 L3.696130e+02,-6 M3.864888e+02,0 L3.864888e+02,-6 M4.017547e+02,0 L4.017547e+02,-6 M4.975112e+02,0 L4.975112e+02,-6 M5.624552e+02,0 L5.624552e+02,-6 M6.085337e+02,0 L6.085337e+02,-6 M6.442750e+02,0 L6.442750e+02,-6 M6.734777e+02,0 L6.734777e+02,-6 M6.981683e+02,0 L6.981683e+02,-6 M7.195562e+02,0 L7.195562e+02,-6 M7.384217e+02,0 L7.384217e+02,-6 M7.552975e+02,0 L7.552975e+02,-6 M8.663200e+02,0 L8.663200e+02,-6 \"/></g><g stroke-linejoin=\"round\" dominant-baseline=\"hanging\" text-anchor=\"middle\" stroke-width=\"2px\" font-family=\"sans-serif\" font-style=\"normal\" font-weight=\"normal\" transform=\"translate(70 330 )scale(1 1 )\" font-size=\"12px\" fill=\"black\" stroke=\"black\" stroke-linecap=\"round\"><text stroke=\"none\" vector-effect=\"non-scaling-stroke\" x=\"1.768000e+01\" y=\"10\" dominant-baseline=\"hanging\">100</text><text x=\"1.287025e+02\" y=\"10\" dominant-baseline=\"hanging\" stroke=\"none\" vector-effect=\"non-scaling-stroke\">200</text><text y=\"10\" dominant-baseline=\"hanging\" stroke=\"none\" vector-effect=\"non-scaling-stroke\" x=\"1.936465e+02\">300</text><text vector-effect=\"non-scaling-stroke\" x=\"2.397250e+02\" y=\"10\" dominant-baseline=\"hanging\" stroke=\"none\">400</text><text stroke=\"none\" vector-effect=\"non-scaling-stroke\" x=\"2.754663e+02\" y=\"10\" dominant-baseline=\"hanging\">500</text><text stroke=\"none\" vector-effect=\"non-scaling-stroke\" x=\"3.046690e+02\" y=\"10\" dominant-baseline=\"hanging\">600</text><text dominant-baseline=\"hanging\" stroke=\"none\" vector-effect=\"non-scaling-stroke\" x=\"3.293596e+02\" y=\"10\">700</text><text x=\"3.507475e+02\" y=\"10\" dominant-baseline=\"hanging\" stroke=\"none\" vector-effect=\"non-scaling-stroke\">800</text><text stroke=\"none\" vector-effect=\"non-scaling-stroke\" x=\"3.696130e+02\" y=\"10\" dominant-baseline=\"hanging\">900</text><text dominant-baseline=\"hanging\" stroke=\"none\" vector-effect=\"non-scaling-stroke\" x=\"3.864888e+02\" y=\"10\">1000</text><text y=\"10\" dominant-baseline=\"hanging\" stroke=\"none\" vector-effect=\"non-scaling-stroke\" x=\"4.017547e+02\">1100</text><text stroke=\"none\" vector-effect=\"non-scaling-stroke\" x=\"4.975112e+02\" y=\"10\" dominant-baseline=\"hanging\">2000</text><text x=\"5.624552e+02\" y=\"10\" dominant-baseline=\"hanging\" stroke=\"none\" vector-effect=\"non-scaling-stroke\">3000</text><text vector-effect=\"non-scaling-stroke\" x=\"6.085337e+02\" y=\"10\" dominant-baseline=\"hanging\" stroke=\"none\">4000</text><text stroke=\"none\" vector-effect=\"non-scaling-stroke\" x=\"6.442750e+02\" y=\"10\" dominant-baseline=\"hanging\">5000</text><text stroke=\"none\" vector-effect=\"non-scaling-stroke\" x=\"6.734777e+02\" y=\"10\" dominant-baseline=\"hanging\">6000</text><text vector-effect=\"non-scaling-stroke\" x=\"6.981683e+02\" y=\"10\" dominant-baseline=\"hanging\" stroke=\"none\">7000</text><text stroke=\"none\" vector-effect=\"non-scaling-stroke\" x=\"7.195562e+02\" y=\"10\" dominant-baseline=\"hanging\">8000</text><text x=\"7.384217e+02\" y=\"10\" dominant-baseline=\"hanging\" stroke=\"none\" vector-effect=\"non-scaling-stroke\">9000</text><text x=\"7.552975e+02\" y=\"10\" dominant-baseline=\"hanging\" stroke=\"none\" vector-effect=\"non-scaling-stroke\">10000</text><text dominant-baseline=\"hanging\" stroke=\"none\" vector-effect=\"non-scaling-stroke\" x=\"8.663200e+02\" y=\"10\">20000</text></g><g text-anchor=\"middle\" font-style=\"normal\" font-weight=\"bold\" fill=\"black\" stroke=\"black\" stroke-linecap=\"round\" stroke-width=\"2px\" stroke-linejoin=\"round\" transform=\"translate(70 330 )scale(1 1 )rotate(0 0 0 )\" font-size=\"12px\" font-family=\"sans-serif\" dominant-baseline=\"baseline\"><text x=\"442\" y=\"-6\" dominant-baseline=\"baseline\" stroke=\"none\" vector-effect=\"non-scaling-stroke\">Steps</text></g><g font-style=\"normal\" stroke-width=\"2px\" stroke-linecap=\"round\" font-family=\"sans-serif\" fill=\"black\" stroke-linejoin=\"round\" font-weight=\"bold\" text-anchor=\"middle\" stroke=\"black\" dominant-baseline=\"baseline\" transform=\"translate(70 330 )scale(1 -1 )\" font-size=\"12px\"><path vector-effect=\"non-scaling-stroke\" d=\"M0,6.914743e+01 L-6,6.914743e+01 M0,1.432762e+02 L-6,1.432762e+02 M0,2.174050e+02 L-6,2.174050e+02 \"/></g><g transform=\"translate(70 330 )scale(1 1 )\" font-family=\"sans-serif\" dominant-baseline=\"middle\" fill=\"black\" stroke=\"black\" stroke-linecap=\"round\" text-anchor=\"end\" font-size=\"12px\" font-style=\"normal\" font-weight=\"normal\" stroke-width=\"2px\" stroke-linejoin=\"round\"><text dominant-baseline=\"middle\" stroke=\"none\" vector-effect=\"non-scaling-stroke\" x=\"-10\" y=\"-6.914743e+01\">0.200</text><text stroke=\"none\" vector-effect=\"non-scaling-stroke\" x=\"-10\" y=\"-1.432762e+02\" dominant-baseline=\"middle\">0.400</text><text x=\"-10\" y=\"-2.174050e+02\" dominant-baseline=\"middle\" stroke=\"none\" vector-effect=\"non-scaling-stroke\">0.600</text></g><g fill=\"black\" stroke-linejoin=\"round\" transform=\"translate(70 330 )scale(1 1 )rotate(-90 0 0 )\" text-anchor=\"middle\" font-family=\"sans-serif\" dominant-baseline=\"hanging\" stroke-linecap=\"round\" font-size=\"12px\" font-style=\"normal\" font-weight=\"bold\" stroke-width=\"2px\" stroke=\"black\"><text dominant-baseline=\"hanging\" stroke=\"none\" vector-effect=\"non-scaling-stroke\" x=\"130\" y=\"6\">loss</text></g><g stroke-linejoin=\"round\" transform=\"translate(70 330 )scale(1 -1 )\" font-family=\"sans-serif\" fill=\"black\" font-size=\"12px\" font-style=\"normal\" stroke-width=\"0.5px\" dominant-baseline=\"hanging\" stroke=\"gray\" stroke-linecap=\"round\" font-weight=\"bold\" text-anchor=\"middle\"><path vector-effect=\"non-scaling-stroke\" d=\"M0,6.914743e+01 L884,6.914743e+01 M0,1.432762e+02 L884,1.432762e+02 M0,2.174050e+02 L884,2.174050e+02 \"/></g><g font-size=\"12px\" fill=\"none\" stroke=\"black\" stroke-linecap=\"round\" font-family=\"sans-serif\" stroke-linejoin=\"round\" dominant-baseline=\"hanging\" text-anchor=\"middle\" stroke-width=\"2px\" font-style=\"normal\" font-weight=\"bold\"><rect x=\"70\" y=\"70\" width=\"884\" height=\"260\" vector-effect=\"non-scaling-stroke\"/><g font-size=\"18px\" dominant-baseline=\"middle\" fill=\"black\"><text stroke=\"none\" vector-effect=\"non-scaling-stroke\" x=\"512\" y=\"35\" dominant-baseline=\"middle\">loss metrics</text></g><g font-size=\"12px\" text-anchor=\"start\" stroke-linecap=\"round\" stroke-width=\"1px\" font-style=\"normal\" font-weight=\"normal\" fill=\"hsl(90, 47%, 65%)\" stroke=\"hsl(90, 47%, 65%)\" font-family=\"sans-serif\" dominant-baseline=\"hanging\" stroke-linejoin=\"round\"><rect width=\"12\" height=\"12\" vector-effect=\"non-scaling-stroke\" x=\"76\" y=\"366\"/><g fill=\"black\" stroke=\"black\"><text y=\"366\" dominant-baseline=\"hanging\" stroke=\"none\" vector-effect=\"non-scaling-stroke\" x=\"92\">Eval on test-eval [Parallelized]: Mean Loss</text></g><g font-family=\"sans-serif\" dominant-baseline=\"hanging\" stroke-width=\"1px\" font-style=\"normal\" stroke=\"hsl(301, 88%, 65%)\" stroke-linecap=\"round\" fill=\"hsl(301, 88%, 65%)\" stroke-linejoin=\"round\" font-size=\"12px\" font-weight=\"normal\" text-anchor=\"start\"><rect x=\"76\" y=\"384\" width=\"12\" height=\"12\" vector-effect=\"non-scaling-stroke\"/><g stroke=\"black\" fill=\"black\"><text x=\"92\" y=\"384\" dominant-baseline=\"hanging\" stroke=\"none\" vector-effect=\"non-scaling-stroke\">Eval on train-eval [Parallelized]: Mean Loss</text></g><g stroke-linecap=\"round\" font-weight=\"normal\" text-anchor=\"start\" stroke-width=\"1px\" font-family=\"sans-serif\" dominant-baseline=\"hanging\" fill=\"hsl(152, 76%, 65%)\" stroke=\"hsl(152, 76%, 65%)\" font-size=\"12px\" font-style=\"normal\" stroke-linejoin=\"round\"><rect x=\"76\" y=\"402\" width=\"12\" height=\"12\" vector-effect=\"non-scaling-stroke\"/><g fill=\"black\" stroke=\"black\"><text dominant-baseline=\"hanging\" stroke=\"none\" vector-effect=\"non-scaling-stroke\" x=\"92\" y=\"402\">Train: Moving Average Loss</text></g></g></g></g></g></svg>"
      ]
     },
     "metadata": {},
     "output_type": "display_data"
    },
    {
     "name": "stdout",
     "output_type": "stream",
     "text": [
      "\t[Step 20000] median train step: 1222 microseconds\n",
      "\n",
      "Results on train-eval [Parallelized]:\n",
      "\tMean Loss (#loss): 0.027\n",
      "\tMean Accuracy (#acc): 99.38%\n",
      "Results on test-eval [Parallelized]:\n",
      "\tMean Loss (#loss): 0.602\n",
      "\tMean Accuracy (#acc): 82.58%\n"
     ]
    }
   ],
   "source": [
    "// Conv1DGraph stacks two 1D convolution layers on top of the sequence embeddings (shaped `[batch_size, sequence_len, embed_dim]`).\n",
    "func Conv1DGraph(ctx *context.Context, embed, mask *Node) *Node {\n",
    "    g := embed.Graph()\n",
    "    // 1D Convolution:\n",
    "    {\n",
    "        ctx := ctx.In(\"conv1\")\n",
    "        embed = Activation(embed)\n",
    "        embed = layers.Dropout(ctx, embed, ConstAsDType(g, DType, *flagDropoutRate))\n",
    "        embed = layers.Convolution(ctx, embed).KernelSize(7).Filters(*flagTokenEmbeddingSize).Strides(3).Done()\n",
    "        embed = Normalize(ctx, embed)\n",
    "    }\n",
    "    {\n",
    "        ctx := ctx.In(\"conv2\")\n",
    "        embed = Activation(embed)\n",
    "        embed = layers.Convolution(ctx, embed).KernelSize(7).Filters(*flagTokenEmbeddingSize).Strides(3).Done()\n",
    "        embed = Normalize(ctx, embed)\n",
    "    }\n",
    "    return embed\n",
    "}\n",
    "\n",
    "%% --model=cnn --steps=20000 --optimizer=adamw\n",
    "trainModel()"
   ]
  },
  {
   "cell_type": "markdown",
   "id": "c9adcb51-2190-4cfc-9224-07f7331bae41",
   "metadata": {},
   "source": [
    "### Transformer Model\n",
    "\n",
    "Finally a Transformer version of the model. \n",
    "\n",
    "Notice it's not significantly better than our previous simple Bag-Of-Words model. Likely because there is not enough data for the transformer to make any difference. The success of transformers in large-language-models is in large part due to the training with huge amounts of unsupervised (or self-supervised) data.\n"
   ]
  },
  {
   "cell_type": "code",
   "execution_count": 9,
   "id": "40e919bd-7029-4522-9b2f-fc64c308b671",
   "metadata": {
    "tags": []
   },
   "outputs": [
    {
     "name": "stdout",
     "output_type": "stream",
     "text": [
      "> Loading previously generated preprocessed binary file.\n",
      "Loaded data from \"aclImdb.bin\": 100000 examples, 141088 unique tokens, 23727054 tokens in total.\n",
      "Platform: CUDA\n"
     ]
    },
    {
     "data": {
      "text/html": []
     },
     "metadata": {},
     "output_type": "display_data"
    },
    {
     "name": "stdout",
     "output_type": "stream",
     "text": [
      "Training (3000 steps):  100% [\u001b[32m=\u001b[0m\u001b[32m=\u001b[0m\u001b[32m=\u001b[0m\u001b[32m=\u001b[0m\u001b[32m=\u001b[0m\u001b[32m=\u001b[0m\u001b[32m=\u001b[0m\u001b[32m=\u001b[0m\u001b[32m=\u001b[0m\u001b[32m=\u001b[0m\u001b[32m=\u001b[0m\u001b[32m=\u001b[0m\u001b[32m=\u001b[0m\u001b[32m=\u001b[0m\u001b[32m=\u001b[0m\u001b[32m=\u001b[0m\u001b[32m=\u001b[0m\u001b[32m=\u001b[0m\u001b[32m=\u001b[0m\u001b[32m=\u001b[0m\u001b[32m=\u001b[0m\u001b[32m=\u001b[0m\u001b[32m=\u001b[0m\u001b[32m=\u001b[0m\u001b[32m=\u001b[0m\u001b[32m=\u001b[0m\u001b[32m=\u001b[0m\u001b[32m=\u001b[0m\u001b[32m=\u001b[0m\u001b[32m=\u001b[0m\u001b[32m=\u001b[0m\u001b[32m=\u001b[0m\u001b[32m=\u001b[0m\u001b[32m=\u001b[0m\u001b[32m=\u001b[0m\u001b[32m=\u001b[0m\u001b[32m=\u001b[0m\u001b[32m=\u001b[0m\u001b[32m=\u001b[0m\u001b[32m=\u001b[0m] (8 steps/s)\u001b[0m [loss=0.204] [~loss=0.160] [~acc=95.14%]          \n"
     ]
    },
    {
     "data": {
      "text/html": [
       "<svg viewbox=\"0 0 1024 400\" style=\"background-color:#f8f8f8\" preserveAspectRatio=\"xMidYMid meet\" xmlns=\"http://www.w3.org/2000/svg\" width=\"1024\" height=\"454\"><defs><marker viewBox=\"0 0 10 10 \" refX=\"5\" refY=\"5\" markerUnits=\"userSpaceOnUse\" markerWidth=\"2%\" markerHeight=\"2%\" id=\"circle\"><circle cx=\"5\" cy=\"5\" r=\"3\" fill=\"none\" stroke=\"black\"/></marker><marker refX=\"5\" refY=\"5\" markerUnits=\"userSpaceOnUse\" markerWidth=\"2%\" markerHeight=\"2%\" id=\"filled-circle\" viewBox=\"0 0 10 10 \"><circle fill=\"black\" stroke=\"none\" cx=\"5\" cy=\"5\" r=\"3\"/></marker><marker refY=\"5\" markerUnits=\"userSpaceOnUse\" markerWidth=\"2%\" markerHeight=\"2%\" id=\"square\" viewBox=\"0 0 10 10 \" refX=\"5\"><rect width=\"6\" height=\"6\" fill=\"none\" stroke=\"black\" x=\"2\" y=\"2\"/></marker><marker markerWidth=\"2%\" markerHeight=\"2%\" id=\"filled-square\" viewBox=\"0 0 10 10 \" refX=\"5\" refY=\"5\" markerUnits=\"userSpaceOnUse\"><rect height=\"6\" fill=\"black\" stroke=\"none\" x=\"2\" y=\"2\" width=\"6\"/></marker></defs><g marker-end=\"url(#square)\" marker-start=\"url(#square)\" transform=\"translate(70 330 )scale(1 -1 )\" stroke-width=\"2px\" fill=\"none\" stroke=\"hsl(90, 47%, 65%)\" marker-mid=\"url(#square)\" stroke-linecap=\"round\" stroke-linejoin=\"round\"><path d=\"M1.768000e+01,1.639272e+01 L2.028024e+02,5.242796e+00 L3.163331e+02,1.365808e+02 L4.006098e+02,1.673341e+02 L4.688700e+02,1.531238e+02 L5.273131e+02,1.879433e+02 L5.788788e+02,1.928869e+02 L6.255518e+02,1.926943e+02 L6.685569e+02,1.966749e+02 L7.086936e+02,1.904472e+02 L7.465071e+02,1.981729e+02 L7.823827e+02,1.988150e+02 L8.167026e+02,1.959472e+02 L8.497284e+02,1.973169e+02 L8.663200e+02,1.964181e+02 \" vector-effect=\"non-scaling-stroke\"/></g><g marker-start=\"url(#square)\" marker-end=\"url(#square)\" fill=\"none\" stroke-linecap=\"round\" stroke-linejoin=\"round\" transform=\"translate(70 330 )scale(1 -1 )\" stroke-width=\"2px\" stroke=\"hsl(301, 88%, 65%)\" marker-mid=\"url(#square)\"><path vector-effect=\"non-scaling-stroke\" d=\"M1.768000e+01,1.596469e+01 L2.028024e+02,5.200000e+00 L3.163331e+02,1.610422e+02 L4.006098e+02,1.915814e+02 L4.688700e+02,1.818653e+02 L5.273131e+02,2.143093e+02 L5.788788e+02,2.221849e+02 L6.255518e+02,2.284768e+02 L6.685569e+02,2.332920e+02 L7.086936e+02,2.329710e+02 L7.465071e+02,2.426656e+02 L7.823827e+02,2.472455e+02 L8.167026e+02,2.489575e+02 L8.497284e+02,2.548000e+02 L8.663200e+02,2.541580e+02 \"/></g><g stroke-linecap=\"round\" stroke-linejoin=\"round\" marker-mid=\"url(#square)\" stroke-width=\"2px\" marker-start=\"url(#square)\" marker-end=\"url(#square)\" fill=\"none\" transform=\"translate(70 330 )scale(1 -1 )\" stroke=\"hsl(152, 76%, 65%)\"><path vector-effect=\"non-scaling-stroke\" d=\"M1.768000e+01,1.731128e+01 L2.028024e+02,2.127399e+01 L3.163331e+02,8.284579e+01 L4.006098e+02,1.478347e+02 L4.688700e+02,1.796645e+02 L5.273131e+02,2.002253e+02 L5.788788e+02,2.098260e+02 L6.255518e+02,2.191952e+02 L6.685569e+02,2.222230e+02 L7.086936e+02,2.298424e+02 L7.465071e+02,2.346616e+02 L7.823827e+02,2.386047e+02 L8.167026e+02,2.433166e+02 L8.497284e+02,2.462123e+02 L8.663200e+02,2.466654e+02 \"/></g><g transform=\"translate(70 330 )scale(1 -1 )\" stroke-width=\"2px\" stroke=\"black\" fill=\"none\" stroke-linecap=\"round\" stroke-linejoin=\"round\"><path vector-effect=\"non-scaling-stroke\" d=\"M1.768000e+01,0 L1.768000e+01,-6 M1.906286e+02,0 L1.906286e+02,-6 M2.917971e+02,0 L2.917971e+02,-6 M3.635773e+02,0 L3.635773e+02,-6 M4.192543e+02,0 L4.192543e+02,-6 M4.647457e+02,0 L4.647457e+02,-6 M5.032082e+02,0 L5.032082e+02,-6 M5.365259e+02,0 L5.365259e+02,-6 M5.659142e+02,0 L5.659142e+02,-6 M5.922029e+02,0 L5.922029e+02,-6 M6.159840e+02,0 L6.159840e+02,-6 M7.651515e+02,0 L7.651515e+02,-6 M8.663200e+02,0 L8.663200e+02,-6 \"/></g><g stroke-linejoin=\"round\" transform=\"translate(70 330 )scale(1 1 )\" font-size=\"12px\" text-anchor=\"middle\" stroke-width=\"2px\" font-family=\"sans-serif\" dominant-baseline=\"hanging\" fill=\"black\" stroke=\"black\" font-style=\"normal\" font-weight=\"normal\" stroke-linecap=\"round\"><text stroke=\"none\" vector-effect=\"non-scaling-stroke\" x=\"1.768000e+01\" y=\"10\" dominant-baseline=\"hanging\">100</text><text stroke=\"none\" vector-effect=\"non-scaling-stroke\" x=\"1.906286e+02\" y=\"10\" dominant-baseline=\"hanging\">200</text><text x=\"2.917971e+02\" y=\"10\" dominant-baseline=\"hanging\" stroke=\"none\" vector-effect=\"non-scaling-stroke\">300</text><text y=\"10\" dominant-baseline=\"hanging\" stroke=\"none\" vector-effect=\"non-scaling-stroke\" x=\"3.635773e+02\">400</text><text vector-effect=\"non-scaling-stroke\" x=\"4.192543e+02\" y=\"10\" dominant-baseline=\"hanging\" stroke=\"none\">500</text><text vector-effect=\"non-scaling-stroke\" x=\"4.647457e+02\" y=\"10\" dominant-baseline=\"hanging\" stroke=\"none\">600</text><text dominant-baseline=\"hanging\" stroke=\"none\" vector-effect=\"non-scaling-stroke\" x=\"5.032082e+02\" y=\"10\">700</text><text y=\"10\" dominant-baseline=\"hanging\" stroke=\"none\" vector-effect=\"non-scaling-stroke\" x=\"5.365259e+02\">800</text><text vector-effect=\"non-scaling-stroke\" x=\"5.659142e+02\" y=\"10\" dominant-baseline=\"hanging\" stroke=\"none\">900</text><text vector-effect=\"non-scaling-stroke\" x=\"5.922029e+02\" y=\"10\" dominant-baseline=\"hanging\" stroke=\"none\">1000</text><text vector-effect=\"non-scaling-stroke\" x=\"6.159840e+02\" y=\"10\" dominant-baseline=\"hanging\" stroke=\"none\">1100</text><text y=\"10\" dominant-baseline=\"hanging\" stroke=\"none\" vector-effect=\"non-scaling-stroke\" x=\"7.651515e+02\">2000</text><text stroke=\"none\" vector-effect=\"non-scaling-stroke\" x=\"8.663200e+02\" y=\"10\" dominant-baseline=\"hanging\">3000</text></g><g stroke-linejoin=\"round\" font-family=\"sans-serif\" fill=\"black\" stroke=\"black\" text-anchor=\"middle\" dominant-baseline=\"baseline\" stroke-width=\"2px\" stroke-linecap=\"round\" font-style=\"normal\" transform=\"translate(70 330 )scale(1 1 )rotate(0 0 0 )\" font-size=\"12px\" font-weight=\"bold\"><text stroke=\"none\" vector-effect=\"non-scaling-stroke\" x=\"442\" y=\"-6\" dominant-baseline=\"baseline\">Steps</text></g><g font-style=\"normal\" font-weight=\"bold\" text-anchor=\"middle\" stroke-width=\"2px\" stroke-linecap=\"round\" stroke=\"black\" font-size=\"12px\" fill=\"black\" dominant-baseline=\"baseline\" stroke-linejoin=\"round\" transform=\"translate(70 330 )scale(1 -1 )\" font-family=\"sans-serif\"><path d=\"M0,5.868114e+01 L-6,5.868114e+01 M0,1.121837e+02 L-6,1.121837e+02 M0,1.656862e+02 L-6,1.656862e+02 M0,2.191887e+02 L-6,2.191887e+02 \" vector-effect=\"non-scaling-stroke\"/></g><g stroke-width=\"2px\" stroke-linejoin=\"round\" transform=\"translate(70 330 )scale(1 1 )\" text-anchor=\"end\" fill=\"black\" stroke=\"black\" font-style=\"normal\" font-weight=\"normal\" dominant-baseline=\"middle\" stroke-linecap=\"round\" font-family=\"sans-serif\" font-size=\"12px\"><text x=\"-10\" y=\"-5.868114e+01\" dominant-baseline=\"middle\" stroke=\"none\" vector-effect=\"non-scaling-stroke\">0.600</text><text x=\"-10\" y=\"-1.121837e+02\" dominant-baseline=\"middle\" stroke=\"none\" vector-effect=\"non-scaling-stroke\">0.700</text><text x=\"-10\" y=\"-1.656862e+02\" dominant-baseline=\"middle\" stroke=\"none\" vector-effect=\"non-scaling-stroke\">0.800</text><text y=\"-2.191887e+02\" dominant-baseline=\"middle\" stroke=\"none\" vector-effect=\"non-scaling-stroke\" x=\"-10\">0.900</text></g><g font-family=\"sans-serif\" stroke-width=\"2px\" stroke-linecap=\"round\" stroke-linejoin=\"round\" transform=\"translate(70 330 )scale(1 1 )rotate(-90 0 0 )\" fill=\"black\" stroke=\"black\" font-weight=\"bold\" dominant-baseline=\"hanging\" font-style=\"normal\" font-size=\"12px\" text-anchor=\"middle\"><text y=\"6\" dominant-baseline=\"hanging\" stroke=\"none\" vector-effect=\"non-scaling-stroke\" x=\"130\">accuracy</text></g><g stroke-linecap=\"round\" stroke-linejoin=\"round\" transform=\"translate(70 330 )scale(1 -1 )\" dominant-baseline=\"hanging\" stroke-width=\"0.5px\" stroke=\"gray\" font-style=\"normal\" font-weight=\"bold\" font-family=\"sans-serif\" font-size=\"12px\" text-anchor=\"middle\" fill=\"black\"><path vector-effect=\"non-scaling-stroke\" d=\"M0,5.868114e+01 L884,5.868114e+01 M0,1.121837e+02 L884,1.121837e+02 M0,1.656862e+02 L884,1.656862e+02 M0,2.191887e+02 L884,2.191887e+02 \"/></g><g font-family=\"sans-serif\" font-weight=\"bold\" fill=\"none\" stroke-linejoin=\"round\" font-size=\"12px\" text-anchor=\"middle\" dominant-baseline=\"hanging\" stroke-width=\"2px\" stroke=\"black\" font-style=\"normal\" stroke-linecap=\"round\"><rect width=\"884\" height=\"260\" vector-effect=\"non-scaling-stroke\" x=\"70\" y=\"70\"/><g fill=\"black\" font-size=\"18px\" dominant-baseline=\"middle\"><text stroke=\"none\" vector-effect=\"non-scaling-stroke\" x=\"512\" y=\"35\" dominant-baseline=\"middle\">accuracy metrics</text></g><g stroke-linejoin=\"round\" text-anchor=\"start\" dominant-baseline=\"hanging\" stroke-width=\"1px\" fill=\"hsl(90, 47%, 65%)\" stroke-linecap=\"round\" font-family=\"sans-serif\" font-size=\"12px\" stroke=\"hsl(90, 47%, 65%)\" font-style=\"normal\" font-weight=\"normal\"><rect vector-effect=\"non-scaling-stroke\" x=\"76\" y=\"366\" width=\"12\" height=\"12\"/><g stroke=\"black\" fill=\"black\"><text y=\"366\" dominant-baseline=\"hanging\" stroke=\"none\" vector-effect=\"non-scaling-stroke\" x=\"92\">Eval on test-eval [Parallelized]: Mean Accuracy</text></g><g stroke-width=\"1px\" stroke=\"hsl(301, 88%, 65%)\" font-style=\"normal\" font-weight=\"normal\" stroke-linejoin=\"round\" dominant-baseline=\"hanging\" fill=\"hsl(301, 88%, 65%)\" stroke-linecap=\"round\" font-family=\"sans-serif\" font-size=\"12px\" text-anchor=\"start\"><rect x=\"76\" y=\"384\" width=\"12\" height=\"12\" vector-effect=\"non-scaling-stroke\"/><g stroke=\"black\" fill=\"black\"><text vector-effect=\"non-scaling-stroke\" x=\"92\" y=\"384\" dominant-baseline=\"hanging\" stroke=\"none\">Eval on train-eval [Parallelized]: Mean Accuracy</text></g><g font-family=\"sans-serif\" stroke-linecap=\"round\" font-weight=\"normal\" fill=\"hsl(152, 76%, 65%)\" stroke-linejoin=\"round\" text-anchor=\"start\" dominant-baseline=\"hanging\" stroke-width=\"1px\" font-style=\"normal\" stroke=\"hsl(152, 76%, 65%)\" font-size=\"12px\"><rect height=\"12\" vector-effect=\"non-scaling-stroke\" x=\"76\" y=\"402\" width=\"12\"/><g stroke=\"black\" fill=\"black\"><text vector-effect=\"non-scaling-stroke\" x=\"92\" y=\"402\" dominant-baseline=\"hanging\" stroke=\"none\">Train: Moving Average Accuracy</text></g></g></g></g></g></svg>"
      ]
     },
     "metadata": {},
     "output_type": "display_data"
    },
    {
     "data": {
      "text/html": [
       "<svg height=\"454\" viewbox=\"0 0 1024 400\" style=\"background-color:#f8f8f8\" preserveAspectRatio=\"xMidYMid meet\" xmlns=\"http://www.w3.org/2000/svg\" width=\"1024\"><defs><marker markerWidth=\"2%\" markerHeight=\"2%\" id=\"circle\" viewBox=\"0 0 10 10 \" refX=\"5\" refY=\"5\" markerUnits=\"userSpaceOnUse\"><circle cy=\"5\" r=\"3\" fill=\"none\" stroke=\"black\" cx=\"5\"/></marker><marker markerWidth=\"2%\" markerHeight=\"2%\" id=\"filled-circle\" viewBox=\"0 0 10 10 \" refX=\"5\" refY=\"5\" markerUnits=\"userSpaceOnUse\"><circle stroke=\"none\" cx=\"5\" cy=\"5\" r=\"3\" fill=\"black\"/></marker><marker markerHeight=\"2%\" id=\"square\" viewBox=\"0 0 10 10 \" refX=\"5\" refY=\"5\" markerUnits=\"userSpaceOnUse\" markerWidth=\"2%\"><rect stroke=\"black\" x=\"2\" y=\"2\" width=\"6\" height=\"6\" fill=\"none\"/></marker><marker viewBox=\"0 0 10 10 \" refX=\"5\" refY=\"5\" markerUnits=\"userSpaceOnUse\" markerWidth=\"2%\" markerHeight=\"2%\" id=\"filled-square\"><rect fill=\"black\" stroke=\"none\" x=\"2\" y=\"2\" width=\"6\" height=\"6\"/></marker></defs><g fill=\"none\" stroke=\"hsl(90, 47%, 65%)\" marker-mid=\"url(#square)\" marker-end=\"url(#square)\" stroke-linecap=\"round\" stroke-width=\"2px\" transform=\"translate(70 330 )scale(1 -1 )\" stroke-linejoin=\"round\" marker-start=\"url(#square)\"><path vector-effect=\"non-scaling-stroke\" d=\"M1.768000e+01,2.527988e+02 L2.028024e+02,2.538133e+02 L3.163331e+02,1.870081e+02 L4.006098e+02,1.433388e+02 L4.688700e+02,1.606319e+02 L5.273131e+02,1.206844e+02 L5.788788e+02,1.073677e+02 L6.255518e+02,1.078777e+02 L6.685569e+02,1.027287e+02 L7.086936e+02,1.160513e+02 L7.465071e+02,1.070437e+02 L7.823827e+02,1.147889e+02 L8.167026e+02,1.185049e+02 L8.497284e+02,1.282148e+02 L8.663200e+02,1.166482e+02 \"/></g><g fill=\"none\" stroke-width=\"2px\" marker-start=\"url(#square)\" stroke-linejoin=\"round\" marker-mid=\"url(#square)\" stroke=\"hsl(301, 88%, 65%)\" marker-end=\"url(#square)\" transform=\"translate(70 330 )scale(1 -1 )\" stroke-linecap=\"round\"><path d=\"M1.768000e+01,2.527753e+02 L2.028024e+02,2.507672e+02 L3.163331e+02,1.653516e+02 L4.006098e+02,1.171967e+02 L4.688700e+02,1.223546e+02 L5.273131e+02,7.839297e+01 L5.788788e+02,6.342442e+01 L6.255518e+02,5.181796e+01 L6.685569e+02,4.253256e+01 L7.086936e+02,4.379515e+01 L7.465071e+02,2.568209e+01 L7.823827e+02,1.775698e+01 L8.167026e+02,1.457693e+01 L8.497284e+02,5.200000e+00 L8.663200e+02,8.180136e+00 \" vector-effect=\"non-scaling-stroke\"/></g><g marker-start=\"url(#square)\" stroke-linecap=\"round\" fill=\"none\" stroke-linejoin=\"round\" marker-mid=\"url(#square)\" marker-end=\"url(#square)\" transform=\"translate(70 330 )scale(1 -1 )\" stroke=\"hsl(152, 76%, 65%)\" stroke-width=\"2px\"><path vector-effect=\"non-scaling-stroke\" d=\"M1.768000e+01,2.548000e+02 L2.028024e+02,2.530632e+02 L3.163331e+02,2.246797e+02 L4.006098e+02,1.705182e+02 L4.688700e+02,1.318314e+02 L5.273131e+02,1.021342e+02 L5.788788e+02,8.672652e+01 L6.255518e+02,6.969656e+01 L6.685569e+02,6.362350e+01 L7.086936e+02,4.943230e+01 L7.465071e+02,4.054597e+01 L7.823827e+02,3.305186e+01 L8.167026e+02,2.518138e+01 L8.497284e+02,1.832455e+01 L8.663200e+02,1.912929e+01 \"/></g><g stroke-width=\"2px\" stroke-linecap=\"round\" stroke-linejoin=\"round\" transform=\"translate(70 330 )scale(1 -1 )\" fill=\"none\" stroke=\"black\"><path vector-effect=\"non-scaling-stroke\" d=\"M1.768000e+01,0 L1.768000e+01,-6 M1.906286e+02,0 L1.906286e+02,-6 M2.917971e+02,0 L2.917971e+02,-6 M3.635773e+02,0 L3.635773e+02,-6 M4.192543e+02,0 L4.192543e+02,-6 M4.647457e+02,0 L4.647457e+02,-6 M5.032082e+02,0 L5.032082e+02,-6 M5.365259e+02,0 L5.365259e+02,-6 M5.659142e+02,0 L5.659142e+02,-6 M5.922029e+02,0 L5.922029e+02,-6 M6.159840e+02,0 L6.159840e+02,-6 M7.651515e+02,0 L7.651515e+02,-6 M8.663200e+02,0 L8.663200e+02,-6 \"/></g><g font-family=\"sans-serif\" text-anchor=\"middle\" stroke=\"black\" stroke-width=\"2px\" font-size=\"12px\" dominant-baseline=\"hanging\" stroke-linejoin=\"round\" transform=\"translate(70 330 )scale(1 1 )\" font-style=\"normal\" fill=\"black\" font-weight=\"normal\" stroke-linecap=\"round\"><text vector-effect=\"non-scaling-stroke\" x=\"1.768000e+01\" y=\"10\" dominant-baseline=\"hanging\" stroke=\"none\">100</text><text x=\"1.906286e+02\" y=\"10\" dominant-baseline=\"hanging\" stroke=\"none\" vector-effect=\"non-scaling-stroke\">200</text><text vector-effect=\"non-scaling-stroke\" x=\"2.917971e+02\" y=\"10\" dominant-baseline=\"hanging\" stroke=\"none\">300</text><text stroke=\"none\" vector-effect=\"non-scaling-stroke\" x=\"3.635773e+02\" y=\"10\" dominant-baseline=\"hanging\">400</text><text dominant-baseline=\"hanging\" stroke=\"none\" vector-effect=\"non-scaling-stroke\" x=\"4.192543e+02\" y=\"10\">500</text><text dominant-baseline=\"hanging\" stroke=\"none\" vector-effect=\"non-scaling-stroke\" x=\"4.647457e+02\" y=\"10\">600</text><text vector-effect=\"non-scaling-stroke\" x=\"5.032082e+02\" y=\"10\" dominant-baseline=\"hanging\" stroke=\"none\">700</text><text dominant-baseline=\"hanging\" stroke=\"none\" vector-effect=\"non-scaling-stroke\" x=\"5.365259e+02\" y=\"10\">800</text><text vector-effect=\"non-scaling-stroke\" x=\"5.659142e+02\" y=\"10\" dominant-baseline=\"hanging\" stroke=\"none\">900</text><text dominant-baseline=\"hanging\" stroke=\"none\" vector-effect=\"non-scaling-stroke\" x=\"5.922029e+02\" y=\"10\">1000</text><text stroke=\"none\" vector-effect=\"non-scaling-stroke\" x=\"6.159840e+02\" y=\"10\" dominant-baseline=\"hanging\">1100</text><text vector-effect=\"non-scaling-stroke\" x=\"7.651515e+02\" y=\"10\" dominant-baseline=\"hanging\" stroke=\"none\">2000</text><text stroke=\"none\" vector-effect=\"non-scaling-stroke\" x=\"8.663200e+02\" y=\"10\" dominant-baseline=\"hanging\">3000</text></g><g fill=\"black\" font-style=\"normal\" dominant-baseline=\"baseline\" stroke-linecap=\"round\" transform=\"translate(70 330 )scale(1 1 )rotate(0 0 0 )\" font-family=\"sans-serif\" text-anchor=\"middle\" font-size=\"12px\" stroke-linejoin=\"round\" font-weight=\"bold\" stroke=\"black\" stroke-width=\"2px\"><text stroke=\"none\" vector-effect=\"non-scaling-stroke\" x=\"442\" y=\"-6\" dominant-baseline=\"baseline\">Steps</text></g><g stroke-linejoin=\"round\" transform=\"translate(70 330 )scale(1 -1 )\" font-size=\"12px\" stroke=\"black\" stroke-width=\"2px\" fill=\"black\" font-family=\"sans-serif\" font-weight=\"bold\" text-anchor=\"middle\" stroke-linecap=\"round\" font-style=\"normal\" dominant-baseline=\"baseline\"><path vector-effect=\"non-scaling-stroke\" d=\"M0,3.681232e+01 L-6,3.681232e+01 M0,1.246436e+02 L-6,1.246436e+02 M0,2.124748e+02 L-6,2.124748e+02 \"/></g><g font-weight=\"normal\" text-anchor=\"end\" fill=\"black\" stroke=\"black\" stroke-width=\"2px\" font-size=\"12px\" font-style=\"normal\" stroke-linecap=\"round\" stroke-linejoin=\"round\" dominant-baseline=\"middle\" font-family=\"sans-serif\" transform=\"translate(70 330 )scale(1 1 )\"><text y=\"-3.681232e+01\" dominant-baseline=\"middle\" stroke=\"none\" vector-effect=\"non-scaling-stroke\" x=\"-10\">0.200</text><text y=\"-1.246436e+02\" dominant-baseline=\"middle\" stroke=\"none\" vector-effect=\"non-scaling-stroke\" x=\"-10\">0.400</text><text x=\"-10\" y=\"-2.124748e+02\" dominant-baseline=\"middle\" stroke=\"none\" vector-effect=\"non-scaling-stroke\">0.600</text></g><g stroke-linecap=\"round\" transform=\"translate(70 330 )scale(1 1 )rotate(-90 0 0 )\" font-weight=\"bold\" dominant-baseline=\"hanging\" fill=\"black\" stroke=\"black\" font-size=\"12px\" font-style=\"normal\" text-anchor=\"middle\" stroke-linejoin=\"round\" font-family=\"sans-serif\" stroke-width=\"2px\"><text dominant-baseline=\"hanging\" stroke=\"none\" vector-effect=\"non-scaling-stroke\" x=\"130\" y=\"6\">loss</text></g><g stroke-width=\"0.5px\" font-size=\"12px\" stroke-linecap=\"round\" stroke-linejoin=\"round\" transform=\"translate(70 330 )scale(1 -1 )\" font-weight=\"bold\" fill=\"black\" stroke=\"gray\" font-style=\"normal\" font-family=\"sans-serif\" text-anchor=\"middle\" dominant-baseline=\"hanging\"><path vector-effect=\"non-scaling-stroke\" d=\"M0,3.681232e+01 L884,3.681232e+01 M0,1.246436e+02 L884,1.246436e+02 M0,2.124748e+02 L884,2.124748e+02 \"/></g><g font-style=\"normal\" dominant-baseline=\"hanging\" font-weight=\"bold\" text-anchor=\"middle\" stroke-linecap=\"round\" stroke-linejoin=\"round\" fill=\"none\" stroke=\"black\" stroke-width=\"2px\" font-size=\"12px\" font-family=\"sans-serif\"><rect y=\"70\" width=\"884\" height=\"260\" vector-effect=\"non-scaling-stroke\" x=\"70\"/><g dominant-baseline=\"middle\" fill=\"black\" font-size=\"18px\"><text stroke=\"none\" vector-effect=\"non-scaling-stroke\" x=\"512\" y=\"35\" dominant-baseline=\"middle\">loss metrics</text></g><g font-size=\"12px\" font-style=\"normal\" stroke-linecap=\"round\" stroke-linejoin=\"round\" stroke-width=\"1px\" fill=\"hsl(90, 47%, 65%)\" stroke=\"hsl(90, 47%, 65%)\" dominant-baseline=\"hanging\" font-family=\"sans-serif\" font-weight=\"normal\" text-anchor=\"start\"><rect vector-effect=\"non-scaling-stroke\" x=\"76\" y=\"366\" width=\"12\" height=\"12\"/><g fill=\"black\" stroke=\"black\"><text stroke=\"none\" vector-effect=\"non-scaling-stroke\" x=\"92\" y=\"366\" dominant-baseline=\"hanging\">Eval on test-eval [Parallelized]: Mean Loss</text></g><g dominant-baseline=\"hanging\" fill=\"hsl(301, 88%, 65%)\" stroke=\"hsl(301, 88%, 65%)\" stroke-width=\"1px\" font-size=\"12px\" stroke-linecap=\"round\" stroke-linejoin=\"round\" font-family=\"sans-serif\" font-style=\"normal\" text-anchor=\"start\" font-weight=\"normal\"><rect width=\"12\" height=\"12\" vector-effect=\"non-scaling-stroke\" x=\"76\" y=\"384\"/><g fill=\"black\" stroke=\"black\"><text y=\"384\" dominant-baseline=\"hanging\" stroke=\"none\" vector-effect=\"non-scaling-stroke\" x=\"92\">Eval on train-eval [Parallelized]: Mean Loss</text></g><g stroke-linecap=\"round\" stroke-linejoin=\"round\" font-weight=\"normal\" stroke-width=\"1px\" font-style=\"normal\" dominant-baseline=\"hanging\" font-family=\"sans-serif\" text-anchor=\"start\" fill=\"hsl(152, 76%, 65%)\" stroke=\"hsl(152, 76%, 65%)\" font-size=\"12px\"><rect width=\"12\" height=\"12\" vector-effect=\"non-scaling-stroke\" x=\"76\" y=\"402\"/><g fill=\"black\" stroke=\"black\"><text x=\"92\" y=\"402\" dominant-baseline=\"hanging\" stroke=\"none\" vector-effect=\"non-scaling-stroke\">Train: Moving Average Loss</text></g></g></g></g></g></svg>"
      ]
     },
     "metadata": {},
     "output_type": "display_data"
    },
    {
     "name": "stdout",
     "output_type": "stream",
     "text": [
      "\t[Step 3000] median train step: 114828 microseconds\n",
      "\n",
      "Results on train-eval [Parallelized]:\n",
      "\tMean Loss (#loss): 0.135\n",
      "\tMean Accuracy (#acc): 96.54%\n",
      "Results on test-eval [Parallelized]:\n",
      "\tMean Loss (#loss): 0.382\n",
      "\tMean Accuracy (#acc): 85.74%\n"
     ]
    }
   ],
   "source": [
    "var (\n",
    "    flagMaxAttLen           = flag.Int(\"max_att_len\", 200, \"Maximum attention length: input will be split in ranges of this size.\")\n",
    "    flagNumAttHeads         = flag.Int(\"att_heads\", 2, \"Number of attention heads, if --model=transformer.\")\n",
    "    flagNumAttLayers        = flag.Int(\"att_layers\", 1, \"Number of stacked attention layers, if --model=transformer.\")\n",
    "    flagAttKeyQueryEmbedDim = flag.Int(\"att_key_dim\", 8, \"Dimension of the Key/Query attention embedding.\")    \n",
    ")\n",
    "\n",
    "// TransformerGraph is the part of the model that takes the word/token embeddings to a tranformed\n",
    "// embedding through attention ready to be pooled and read out.\n",
    "func TransformerGraph(ctx *context.Context, input, embed, mask *Node) *Node {\n",
    "    var newEmbed *Node\n",
    "    if *flagMaxAttLen >= *flagMaxLen {\n",
    "        // One transformer window covers the whole length, which makes it trivial.\n",
    "        newEmbed = TransformerLayers(ctx.In(\"transformer\"), embed, mask)\n",
    "        embed = Add(embed, newEmbed)\n",
    "        return embed\n",
    "    }\n",
    "\n",
    "    // Split embedding in multiple split embeddings and apply transformer in each of them.\n",
    "    attLen := *flagMaxAttLen\n",
    "    sequenceFrom := 0\n",
    "    for {\n",
    "        // x.shape = [batchSize, sequence, embedding]\n",
    "        sequenceTo := sequenceFrom + attLen\n",
    "        if sequenceTo > *flagMaxLen {\n",
    "            sequenceTo = *flagMaxLen\n",
    "            sequenceFrom = sequenceTo - attLen\n",
    "        }\n",
    "        // part = x[:, sequenceFrom:sequenceTo, :]\n",
    "        residual := Slice(embed, AxisRange(), AxisRange(sequenceFrom, sequenceTo), AxisRange())\n",
    "        partMask := Slice(mask, AxisRange(), AxisRange(sequenceFrom, sequenceTo))\n",
    "        // Reuse \"transformer\" scope.\n",
    "        part := TransformerLayers(ctx.In(\"transformer\").Checked(false), residual, partMask)\n",
    "        part = Add(residual, part)\n",
    "        if newEmbed == nil {\n",
    "            newEmbed = part\n",
    "        } else {\n",
    "            newEmbed = Add(newEmbed, part)\n",
    "        }\n",
    "\n",
    "        if sequenceTo == *flagMaxLen {\n",
    "            // Reached end of parts.\n",
    "            break\n",
    "        }\n",
    "        sequenceFrom += attLen - 20 // Attention window overlap 10 tokens among themselves.\n",
    "    }\n",
    "    embed = newEmbed // Notice shape changed to `[batchSize, maxAttLen, embedDim]`\n",
    "    return embed\n",
    "}\n",
    "\n",
    "// TransformerLayers builds the stacked transformer layers for the model.\n",
    "func TransformerLayers(ctx *context.Context, embed, mask *Node) *Node {\n",
    "    g := embed.Graph()\n",
    "    shape := embed.Shape()\n",
    "    embedDim := shape.Dimensions[2]\n",
    "\n",
    "    var dropoutRate *Node\n",
    "    if *flagDropoutRate > 0 {\n",
    "        dropoutRate = ConstAsDType(g, DType, *flagDropoutRate)\n",
    "    }\n",
    "\n",
    "    // Create positional embedding variable: it is 1 in every axis, but for the\n",
    "    // sequence dimension -- there will be one embedding per position.\n",
    "    // Shape: [1, maxLen, embedDim]\n",
    "    posEmbedShape := shape.Copy()\n",
    "    posEmbedShape.Dimensions[0] = 1\n",
    "    posEmbedVar := ctx.VariableWithShape(\"positional\", posEmbedShape)\n",
    "    posEmbed := posEmbedVar.ValueGraph(g)\n",
    "    embed = Add(embed, posEmbed) // Just add the embeddings, seems to work well.\n",
    "\n",
    "    // Add the requested number of attention layers.\n",
    "    for ii := 0; ii < *flagNumAttLayers; ii++ {\n",
    "        // Each layer in its own scope.\n",
    "        ctx := ctx.In(fmt.Sprintf(\"AttLayer_%d\", ii))\n",
    "        residual := embed\n",
    "        embed = layers.MultiHeadAttention(ctx, embed, embed, embed, *flagNumAttHeads, *flagAttKeyQueryEmbedDim).\n",
    "            SetKeyMask(mask).SetQueryMask(mask).\n",
    "            SetOutputDim(embedDim).\n",
    "            SetValueHeadDim(embedDim).Done()\n",
    "        if *flagDropoutRate > 0 {\n",
    "            embed = layers.Dropout(ctx.In(\"dropout_1\"), embed, dropoutRate)\n",
    "        }\n",
    "        embed = Normalize(ctx.In(\"normalization_1\"), embed)\n",
    "        attentionOutput := embed\n",
    "\n",
    "        // Transformers recipe: 2 dense layers after attention.\n",
    "        embed = layers.Dense(ctx.In(\"ffn_1\"), embed, true, embedDim)\n",
    "        embed = Tanh(embed)\n",
    "        embed = layers.Dense(ctx.In(\"ffn_2\"), embed, true, embedDim)\n",
    "        if *flagDropoutRate > 0 {\n",
    "            embed = layers.Dropout(ctx.In(\"dropout_1\"), embed, dropoutRate)\n",
    "        }\n",
    "        embed = Add(embed, attentionOutput)\n",
    "        embed = Normalize(ctx.In(\"normalization_2\"), embed)\n",
    "\n",
    "        // Residual connection: not part of the usual transfomer layer ...\n",
    "        if ii > 0 {\n",
    "            embed = Add(residual, embed)\n",
    "        }\n",
    "    }\n",
    "    return embed\n",
    "}\n",
    "\n",
    "%% --model=transformer --steps=3000 --batch=100 --optimizer=adamw --max_len=200 --max_att_len=200 --att_heads=4 --att_layers=3 --att_key_dim=32 --max_vocab=10000\n",
    "trainModel()"
   ]
  }
 ],
 "metadata": {
  "kernelspec": {
   "display_name": "Go (gonb)",
   "language": "go",
   "name": "gonb"
  },
  "language_info": {
   "codemirror_mode": "",
   "file_extension": ".go",
   "mimetype": "",
   "name": "go",
   "nbconvert_exporter": "",
   "pygments_lexer": "",
   "version": "go1.21.4"
  }
 },
 "nbformat": 4,
 "nbformat_minor": 5
}
