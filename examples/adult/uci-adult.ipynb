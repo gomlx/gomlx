{
 "cells": [
  {
   "cell_type": "markdown",
   "id": "546fa208-c19c-405b-81b1-cf99fcb4a830",
   "metadata": {
    "tags": []
   },
   "source": [
    "# UCI Adult Dataset or Census Income\n",
    "\n",
    "This is a very popular ML task, with tabular data. The objective is to predict whether income exceeds $50K/yr based on census data. \n",
    "Also known as \"Census Income\" dataset.\n",
    "\n",
    "The data is old and biased on different ways ... but it can be used opaquely for ML experimentation.\n",
    "\n",
    "The source code of this example in one piece can be seen in the demo under [.../examples/adult/demo/](https://github.com/gomlx/gomlx/tree/main/examples/adult/demo).\n"
   ]
  },
  {
   "cell_type": "markdown",
   "id": "2ab071e3-227f-4c77-b864-2b7e5a5ccbdf",
   "metadata": {},
   "source": [
    "## Environment Set Up\n",
    "\n",
    "Let's set up `go.mod` to use the local copy of GoMLX, so it can be developed jointly the dataset code with the model. That's often how data pre-processing and model code is developed together with experimentation.\n",
    "\n",
    "If you are not changing code, feel free to simply skip this cell. Or if you used a different directory for you projects, change it below.\n",
    "\n",
    "Notice the directory `${HOME}/Projects/gomlx` is where the GoMLX code is copied by default in [its Docker](https://hub.docker.com/repository/docker/janpfeifer/gomlx_jupyterlab/general).\n",
    "\n",
    "For this example we are forcing it to use the CPU backend, even if there is a GPU available -- it is such a small model, not worth going to the GPU."
   ]
  },
  {
   "cell_type": "code",
   "execution_count": 18,
   "id": "9ba46cb6-059d-4387-876c-665f778f2447",
   "metadata": {
    "tags": []
   },
   "outputs": [
    {
     "name": "stdout",
     "output_type": "stream",
     "text": [
      "\t- Replace rule for module \"github.com/gomlx/gomlx\" to local directory \"/home/janpf/Projects/gomlx\" already exists.\n"
     ]
    }
   ],
   "source": [
    "!*rm -f go.work && go work init && go work use . \"${HOME}/Projects/gomlx\"\n",
    "%goworkfix"
   ]
  },
  {
   "cell_type": "markdown",
   "id": "78cf991f-4fa5-4bae-8e49-ca67fb8dbd5b",
   "metadata": {},
   "source": [
    "## Data Preparation\n",
    "\n",
    "GoMLX provides [a simple `adult` library](https://pkg.go.dev/github.com/gomlx/gomlx/examples/adult) to facilitate downdoaling and preprocessing the data. Data is available in [UCI Machine Learning Repository](https://archive.ics.uci.edu/ml/datasets/Adult).\n",
    "\n",
    "After downloading the data and validating the checksum (both training and testing), it generates the quantiles for the continuous features, and the vocabularies for the categorical features. It saves all this info for faster restart later in a binary file. So this won't be necessary a second time.\n",
    "\n",
    "The quantiles are used to calibrate the values, using a piece-wise-lienar calibration, very good for these things. See [`layers.PieceWiseLinearCalibration` documentation](https://pkg.go.dev/github.com/gomlx/gomlx@v0.1.0/ml/layers#PieceWiseLinearCalibration).\n",
    "\n",
    "We create a flag `--data` to define the directory where to save the intermediary files: downloaded and preprocessed datasets.\n",
    "In this examle we set it to `~/work/uci-adult`. Verbosity can be contolled with the `--verbosity` flag. \n",
    "\n",
    "We set default in Go for these flags, but they can easily be reset for a new run by providing them after the `%%` Jupyter kernel meta-command -- in indicates that the subsequent lines should be put in to a `func main`.\n"
   ]
  },
  {
   "cell_type": "code",
   "execution_count": 19,
   "id": "9418be86-70bc-41ad-9e0a-3a5e6bf52b51",
   "metadata": {
    "tags": []
   },
   "outputs": [
    {
     "name": "stdout",
     "output_type": "stream",
     "text": [
      "\n",
      "Sample Categorical: (24.08% positive ratio, 23.86% weighted positive ratio)\n",
      "\tRow 0:\t[7 10 5 1 2 5 2 39]\n",
      "\tRow 1:\t[6 10 3 4 1 5 2 39]\n",
      "\tRow 2:\t[4 12 1 6 2 5 2 39]\n",
      "\t...\n",
      "\tRow 32558:\t[4 12 7 1 5 5 1 39]\n",
      "\tRow 32559:\t[4 12 5 1 4 5 2 39]\n",
      "\tRow 32560:\t[5 12 3 4 6 5 1 39]\n",
      "\n",
      "Sample Continuous:\n",
      "\tRow 0:\t[39 13 2174 0 40]\n",
      "\tRow 1:\t[50 13 0 0 13]\n",
      "\tRow 2:\t[38 9 0 0 40]\n",
      "\t...\n",
      "\tRow 32558:\t[58 9 0 0 40]\n",
      "\tRow 32559:\t[22 9 0 0 20]\n",
      "\tRow 32560:\t[52 9 15024 0 40]\n"
     ]
    }
   ],
   "source": [
    "import (\n",
    "    \"flag\"\n",
    "    \n",
    "    \"github.com/gomlx/gomlx/examples/adult\"\n",
    ")\n",
    "\n",
    "var (\n",
    "    flagDataDir       = flag.String(\"data\", \"~/work/uci-adult\", \"Directory to save and load downloaded and generated dataset files.\")\n",
    "    flagVerbosity     = flag.Int(\"verbosity\", 0, \"Level of verbosity, the higher the more verbose.\")\n",
    "    flagForceDownload = flag.Bool(\"force_download\", false, \"Force re-download of Adult dataset files.\")\n",
    "    flagNumQuantiles  = flag.Int(\"quantiles\", 100, \"Max number of quantiles to use for numeric features, used during piece-wise linear calibration. It will only use unique values, so if there are fewer variability, fewer quantiles are used.\")\n",
    ")\n",
    "\n",
    "%% --verbosity=2\n",
    "adult.LoadAndPreprocessData(*flagDataDir, *flagNumQuantiles, *flagForceDownload, *flagVerbosity)"
   ]
  },
  {
   "cell_type": "code",
   "execution_count": 20,
   "id": "fdab7255-2224-496a-9ec7-75927150f9d7",
   "metadata": {
    "tags": []
   },
   "outputs": [
    {
     "name": "stdout",
     "output_type": "stream",
     "text": [
      "total 170M\n",
      "-rw-r--r-- 1 janpf janpf 3.8M Jul 20  2024 adult.data\n",
      "-rw-r--r-- 1 janpf janpf 1.3M Jul 20  2024 adult_data-100_quantiles.bin\n",
      "-rw-r--r-- 1 janpf janpf 2.0M Jul 20  2024 adult.test\n",
      "drwxr-x--- 2 janpf janpf 4.0K Jun  3 15:14 base_model\n",
      "drwxr-xr-x 2 janpf janpf 4.0K Jun  4  2009 cifar-10-batches-bin\n",
      "-rw-r--r-- 1 janpf janpf 163M Aug 15  2024 cifar-10-binary.tar.gz\n",
      "drwxr-x--- 2 janpf janpf 4.0K Aug  2  2024 fnn\n",
      "drwxr-x--- 2 janpf janpf 4.0K Jul 21  2024 kan_baseline\n",
      "drwxr-x--- 2 janpf janpf 4.0K Jun  3 15:15 kan_model\n",
      "drwxr-x--- 2 janpf janpf 4.0K Feb 23 09:08 test\n"
     ]
    }
   ],
   "source": [
    "!ls -lh ~/work/uci-adult"
   ]
  },
  {
   "cell_type": "markdown",
   "id": "2f1cd493-a81f-4c5f-9004-d21e95103f8e",
   "metadata": {},
   "source": [
    "## Hyperparameters\n",
    "\n",
    "This sets the the superset of hyperparameters with their default values that can be used by the model, by setting them in the context.\n",
    "\n",
    "See the [`demo/main.go`](https://github.com/gomlx/gomlx/blob/main/examples/adult/demo/main.go) file for how to add a flag to allow setting them from the command line."
   ]
  },
  {
   "cell_type": "code",
   "execution_count": 21,
   "id": "31d03e06-f375-4a68-8705-c9d3b6af81ab",
   "metadata": {},
   "outputs": [
    {
     "name": "stdout",
     "output_type": "stream",
     "text": [
      "\tbatch_size=17\n",
      "\tfnn_num_hidden_layers=12\n"
     ]
    }
   ],
   "source": [
    "import (\n",
    "    \"github.com/gomlx/gomlx/ml/context\"\n",
    "    \"github.com/gomlx/gomlx/ml/layers\"\n",
    "    \"github.com/gomlx/gomlx/ml/layers/fnn\"\n",
    "    \"github.com/gomlx/gomlx/ml/layers/kan\"\n",
    "    \"github.com/gomlx/gomlx/ml/layers/regularizers\"\n",
    "    \"github.com/gomlx/gomlx/ui/commandline\"\n",
    "    \"github.com/gomlx/gomlx/ml/train/optimizers\"\n",
    "    \"github.com/gomlx/gomlx/ml/train/optimizers/cosineschedule\"\n",
    "\t\"github.com/janpfeifer/must\"    \n",
    ")\n",
    "\n",
    "// settings is bound to a \"-set\" flag to be used to set context hyperparameters.\n",
    "var settings = commandline.CreateContextSettingsFlag(createDefaultContext(), \"set\")\n",
    "\n",
    "func createDefaultContext() *context.Context {\n",
    "\tctx := context.New()\n",
    "\tctx.RngStateReset()\n",
    "\tctx.SetParams(map[string]any{\n",
    "\t\t\"train_steps\":     5000,\n",
    "\t\t\"batch_size\":      128,\n",
    "\t\t\"eval_batch_size\":      1000,\n",
    "\t\t\"plots\":           true,\n",
    "        \"num_checkpoints\": 3,\n",
    "\n",
    "\t\toptimizers.ParamOptimizer:           \"adam\",\n",
    "\t\toptimizers.ParamLearningRate:        0.001,\n",
    "\t\toptimizers.ParamAdamEpsilon:         1e-7,\n",
    "\t\toptimizers.ParamAdamDType:           \"\",\n",
    "\t\tcosineschedule.ParamPeriodSteps:     0,\n",
    "\t\tactivations.ParamActivation:         \"sigmoid\",\n",
    "\t\tlayers.ParamDropoutRate:             0.0,\n",
    "\t\tregularizers.ParamL2:                1e-5,\n",
    "\t\tregularizers.ParamL1:                1e-5,\n",
    "\n",
    "\t\t// FNN network parameters:\n",
    "\t\tfnn.ParamNumHiddenLayers: 1,\n",
    "\t\tfnn.ParamNumHiddenNodes:  4,\n",
    "\t\tfnn.ParamResidual:        true,\n",
    "\t\tfnn.ParamNormalization:   \"layer\",\n",
    "\n",
    "\t\t// KAN network parameters:\n",
    "\t\t\"kan\":                       false, // Enable kan\n",
    "\t\tkan.ParamNumControlPoints:   20,    // Number of control points\n",
    "\t\tkan.ParamNumHiddenNodes:     4,\n",
    "\t\tkan.ParamNumHiddenLayers:    1,\n",
    "\t\tkan.ParamBSplineDegree:      2,\n",
    "\t\tkan.ParamBSplineMagnitudeL1: 1e-5,\n",
    "\t\tkan.ParamBSplineMagnitudeL2: 0.0,\n",
    "\t\tkan.ParamDiscrete:           false,\n",
    "\t\tkan.ParamDiscreteSoftness:   0.1,\n",
    "\t})\n",
    "\treturn ctx\n",
    "}\n",
    "\n",
    "// contextFromSettings is the default context (createDefaultContext) changed by -set flag.\n",
    "func contextFromSettings() (ctx *context.Context, paramsSet []string) {\n",
    "    ctx = createDefaultContext()\n",
    "    paramsSet = must.M1(commandline.ParseContextSettings(ctx, *settings))\n",
    "    return\n",
    "}\n",
    "\n",
    "// Let's test that we can set hyperparameters by setting it in the \"-set\" flag:\n",
    "%% -set=\"batch_size=17;fnn_num_hidden_layers=12\"\n",
    "ctx, paramsSet := contextFromSettings()\n",
    "for _, name := range paramsSet {\n",
    "    if value, found := ctx.GetParam(name); found {\n",
    "        fmt.Printf(\"\\t%s=%v\\n\", name, value)\n",
    "    }\n",
    "}\n"
   ]
  },
  {
   "cell_type": "markdown",
   "id": "028b783b-56f0-457c-b28e-7bb0dd7e94da",
   "metadata": {},
   "source": [
    "### Creating Datasets\n",
    "\n",
    "First we create the GoMLX's `backend`: it's the engine instance (XLA in this case) that \n",
    "compiles and executes our computation graph.\n",
    "\n",
    "It's needed to create tensors that will be fed to the accelearator (GPU or even CPU accelerated code)\n",
    "\n",
    "With that we create the samplers of data that we will use to train and evaluate. They implement \n",
    "GoMLX's `train.Dataset` interface, which is what is used by our training loop to draw batches to\n",
    "train, or our eval loop to draw batches to evaluate.\n",
    "\n",
    "The inputs are 3 tensors: *categorical values*, *continuous values* and *weights*.\n",
    "\n",
    "In the cell below we define `BuildDatasets` and printout some samples."
   ]
  },
  {
   "cell_type": "code",
   "execution_count": 22,
   "id": "f13f771b-7109-49d2-8db5-5f3d5a91d324",
   "metadata": {
    "tags": []
   },
   "outputs": [
    {
     "name": "stdout",
     "output_type": "stream",
     "text": [
      "Inputs of batch (size 128):\n",
      "\tcategorical:\n",
      "\t\tFeatures=[workclass education marital-status occupation relationship race sex native-country]\n",
      "\t\tValues: [128][8]int64{\n",
      " {4, 12, 1, ..., 3, 1, 39},\n",
      " {4, 12, 3, ..., 5, 2, 39},\n",
      " {6, 15, 3, ..., 5, 2, 39},\n",
      " ...,\n",
      " {4, 1, 6, ..., 3, 2, 39},\n",
      " {4, 8, 3, ..., 5, 2, 39},\n",
      " {2, 13, 3, ..., 5, 2, 39}}\n",
      "\tcontinuous:\n",
      "\t\tFeatures=[age education-num capital-gain capital-loss hours-per-week]\n",
      "\t\tValues: [128][5]float32{\n",
      " {37, 9, 0, 0, 20},\n",
      " {32, 9, 0, 0, 40},\n",
      " {35, 15, 0, 0, 50},\n",
      " ...,\n",
      " {49, 6, 4416, 0, 99},\n",
      " {40, 12, 0, 0, 60},\n",
      " {42, 14, 0, 1902, 60}}\n",
      "\tweights: [128][1]float32{\n",
      " {2.304e+05},\n",
      " {2.073e+05},\n",
      " {3.502e+05},\n",
      " ...,\n",
      " {1.731e+05},\n",
      " {2.052e+05},\n",
      " {1.217e+05}}\n",
      "\n",
      "Labels of batch:\n",
      "\t[128][1]float32{\n",
      " {0},\n",
      " {0},\n",
      " {1},\n",
      " ...,\n",
      " {0},\n",
      " {1},\n",
      " {1}}\n",
      "\n",
      "Labels distributions:\n",
      "\tTrain:\t24.08% positive\n",
      "\tTest:\t23.62% positive\n"
     ]
    }
   ],
   "source": [
    "import (\n",
    "    \"flag\"\n",
    "    \"fmt\"\n",
    "    \"io\"\n",
    "\n",
    "    \"github.com/gomlx/gomlx/backends\"\n",
    "    \"github.com/gomlx/gomlx/examples/adult\"\n",
    "    \"github.com/gomlx/gomlx/ml/train\"\n",
    "    \"github.com/gomlx/gomlx/pkg/core/tensors\"\n",
    "\n",
    "    _ \"github.com/gomlx/gomlx/backends/default\"\n",
    ")\n",
    "\n",
    "// Global backend created an initialization, used everywhere.\n",
    "var backend = backends.MustNew()\n",
    "\n",
    "// BuildDatasets returns 3 `train.Dataset`:\n",
    "// * trainingSampler is an endless random sampler used for training.\n",
    "// * trainingEvalSampler samples through exactly one epoch of the train dataset.\n",
    "// * testEvalSampler samples through exactly one epoch of the test dataset.\n",
    "func BuildDatasets(ctx *context.Context) (trainDS, trainEvalDS, testEvalDS train.Dataset) {\n",
    "\tbatchSize := context.GetParamOr(ctx, \"batch_size\", 128)\n",
    "\tevalBatchSize := context.GetParamOr(ctx, \"eval_batch_size\", 1000)\n",
    "    baseDS := adult.NewDataset(backend, adult.Data.Train, \"batched train\")\n",
    "    trainEvalDS = baseDS.Copy().BatchSize(evalBatchSize, false)\n",
    "    testEvalDS = adult.NewDataset(backend, adult.Data.Test, \"test\").\n",
    "        BatchSize(evalBatchSize, false)\n",
    "    // For training, we shuffle and loop indefinitely.\n",
    "    trainDS = baseDS.BatchSize(batchSize, true).Shuffle().Infinite(true)\n",
    "    return\n",
    "}\n",
    "\n",
    "// PositiveRatio finds out the the ratio of positive labels in the\n",
    "// training and testing data.\n",
    "//\n",
    "// We could do this easily with GoMLX computation model (just `ReduceAllSum`), but\n",
    "// this examples shows it's also ok to mix Go computations.\n",
    "func PositiveRatio(ds train.Dataset) float32 {\n",
    "    ds.Reset()  // Start from beginning.\n",
    "    var sum float32\n",
    "    var count float32\n",
    "    for {\n",
    "        _, _, labels, err := ds.Yield()\n",
    "        if err == io.EOF {\n",
    "            break;\n",
    "        }\n",
    "        if err != nil { panic(err) }\n",
    "        data := tensors.CopyFlatData[float32](labels[0])\n",
    "        for _, value := range data {\n",
    "            sum += value\n",
    "        }\n",
    "        count += float32(len(data))\n",
    "    }\n",
    "    return sum/count\n",
    "}\n",
    "\n",
    "%%\n",
    "adult.LoadAndPreprocessData(*flagDataDir, *flagNumQuantiles, *flagForceDownload, *flagVerbosity)    \n",
    "ctx, _ := contextFromSettings()\n",
    "trainingDS, trainingEvalDS, testEvalDS := BuildDatasets(ctx)\n",
    "\n",
    "// Take one batch.\n",
    "_, inputs, labels, err := trainingDS.Yield()\n",
    "if err != nil { panic(err) }\n",
    "fmt.Printf(\"Inputs of batch (size %d):\\n\", context.GetParamOr(ctx, \"batch_size\", 0))\n",
    "fmt.Printf(\"\\tcategorical:\\n\\t\\tFeatures=%v\\n\", adult.Data.VocabulariesFeatures)\n",
    "fmt.Printf(\"\\t\\tValues: %s\\n\", inputs[0])\n",
    "fmt.Printf(\"\\tcontinuous:\\n\\t\\tFeatures=%v\\n\", adult.Data.QuantilesFeatures)\n",
    "fmt.Printf(\"\\t\\tValues: %s\\n\", inputs[1])\n",
    "fmt.Printf(\"\\tweights: %s\\n\", inputs[2])\n",
    "fmt.Printf(\"\\nLabels of batch:\\n\\t%s\\n\", labels[0])\n",
    "fmt.Printf(\"\\nLabels distributions:\\n\\tTrain:\\t%.2f%% positive\\n\\tTest:\\t%.2f%% positive\\n\",\n",
    "           PositiveRatio(trainingEvalDS)*100.0, PositiveRatio(testEvalDS)*100.0)\n"
   ]
  },
  {
   "cell_type": "markdown",
   "id": "54efd046-bbd5-4f7d-94e0-9ed3c64512b1",
   "metadata": {},
   "source": [
    "## Model Definition\n",
    "\n",
    "Lots of hyper-parameter flags, but otherwise a straight forward FNN, using piece-wise linear calibration of the continuous features, and embeddings for the categorical features.\n",
    "\n",
    "> **Note**: building models is a constant checking that shapes are compatible. It's a bit annoying, in particular because shapes are known in runtime only -- no compile time check. GoMLX tries to help providing a stack trace of where errors happen so one can pin-point issues quickly. But often it involves lots of experimentation (more than ordinary Go code).\n",
    ">\n",
    "> Developing with a Noteboook (see [GoNB](https://github.com/janpfeifer/gonb)) or simply a unit test on your\n",
    "> `ModelGraph` function are quick and convenient ways to develop models -- before actually training them.\n",
    "> You can also use shape asserts in the middle of the `ModelGraph`, as we do below."
   ]
  },
  {
   "cell_type": "code",
   "execution_count": 23,
   "id": "7040e63b-33f1-4ff9-a232-187196c5f9c1",
   "metadata": {
    "tags": []
   },
   "outputs": [
    {
     "name": "stdout",
     "output_type": "stream",
     "text": [
      "Logits shape for batch_size=128: (Float32)[128 1]\n"
     ]
    }
   ],
   "source": [
    "import (\n",
    "    \"fmt\"\n",
    "    \"io\"\n",
    "\n",
    "    . \"github.com/gomlx/gomlx/graph\"\n",
    "\n",
    "    \"github.com/gomlx/gomlx/ml/context\"\n",
    "    \"github.com/gomlx/gomlx/examples/adult\"\n",
    "    \"github.com/gomlx/gomlx/ml/train\"\n",
    "    \"github.com/gomlx/gomlx/ml/train/optimizers\"\n",
    "    \"github.com/gomlx/gomlx/ml/train/optimizers/cosineschedule\"\n",
    "    \"github.com/gomlx/gomlx/types/shapes\"\n",
    "    \"github.com/gomlx/gopjrt/dtypes\"\n",
    ")\n",
    "\n",
    "var (\n",
    "    // ModelDType used for the model. Must match RawData Go types.\n",
    "    ModelDType = dtypes.Float32\n",
    "    \n",
    "\n",
    "    // Model hyperparameters.\n",
    "    flagUseCategorical       = flag.Bool(\"use_categorical\", true, \"Use categorical features.\")\n",
    "    flagUseContinuous        = flag.Bool(\"use_continuous\", true, \"Use continuous features.\")\n",
    "    flagTrainableCalibration = flag.Bool(\"trainable_calibration\", true, \"Allow piece-wise linear calibration to adjust outputs.\")\n",
    "    flagEmbeddingDim    = flag.Int(\"embedding_dim\", 8, \"Default embedding dimension for categorical values.\")\n",
    ")\n",
    "\n",
    "\n",
    "// ModelGraph outputs the logits (not the probabilities). The parameter inputs should contain 3 tensors:\n",
    "//\n",
    "// - categorical inputs, shaped  `(int64)[batch_size, len(VocabulariesFeatures)]`\n",
    "// - continuous inputs, shaped `(float32)[batch_size, len(Quantiles)]`\n",
    "// - weights: not currently used, but shaped `(float32)[batch_size, 1]`.\n",
    "func ModelGraph(ctx *context.Context, spec any, inputs []*Node) []*Node {\n",
    "\t_ = spec // Not used, since the dataset is always the same.\n",
    "\tg := inputs[0].Graph()\n",
    "\tdtype := inputs[1].DType() // From continuous features.\n",
    "    ctx = ctx.In(\"model\")\n",
    "    \n",
    "\t// Use Cosine schedule of the learning rate, if hyperparameter is set to a value > 0.\n",
    "\tcosineschedule.New(ctx, g, dtype).FromContext().Done()\n",
    "\n",
    "\tcategorical, continuous := inputs[0], inputs[1]\n",
    "\tbatchSize := categorical.Shape().Dimensions[0]\n",
    "\n",
    "\t// Feature preprocessing:\n",
    "\tvar allEmbeddings []*Node\n",
    "\tif *flagUseCategorical {\n",
    "\t\t// Embedding of categorical values, each with its own vocabulary.\n",
    "\t\tnumCategorical := categorical.Shape().Dimensions[1]\n",
    "\t\tfor catIdx := 0; catIdx < numCategorical; catIdx++ {\n",
    "\t\t\t// Take one column at a time of the categorical values.\n",
    "\t\t\tsplit := Slice(categorical, AxisRange(), AxisRange(catIdx, catIdx+1))\n",
    "\t\t\t// Embed it accordingly.\n",
    "\t\t\tembedCtx := ctx.In(fmt.Sprintf(\"categorical_%d_%s\", catIdx, adult.Data.VocabulariesFeatures[catIdx]))\n",
    "\t\t\tvocab := adult.Data.Vocabularies[catIdx]\n",
    "\t\t\tvocabSize := len(vocab)\n",
    "\t\t\tembedding := layers.Embedding(embedCtx, split, ModelDType, vocabSize, *flagEmbeddingDim)\n",
    "\t\t\tembedding.AssertDims(batchSize, *flagEmbeddingDim) // 2-dim tensor, with batch size as the leading dimension.\n",
    "\t\t\tallEmbeddings = append(allEmbeddings, embedding)\n",
    "\t\t}\n",
    "\t}\n",
    "\n",
    "\tif *flagUseContinuous {\n",
    "\t\t// Piecewise-linear calibration of the continuous values. Each feature has its own number of quantiles.\n",
    "\t\tnumContinuous := continuous.Shape().Dimensions[1]\n",
    "\t\tfor contIdx := 0; contIdx < numContinuous; contIdx++ {\n",
    "\t\t\t// Take one column at a time of the continuous values.\n",
    "\t\t\tsplit := Slice(continuous, AxisRange(), AxisRange(contIdx, contIdx+1))\n",
    "\t\t\tfeatureName := adult.Data.QuantilesFeatures[contIdx]\n",
    "\t\t\tcalibrationCtx := ctx.In(fmt.Sprintf(\"continuous_%d_%s\", contIdx, featureName))\n",
    "\t\t\tquantiles := adult.Data.Quantiles[contIdx]\n",
    "\t\t\tlayers.AssertQuantilesForPWLCalibrationValid(quantiles)\n",
    "\t\t\tcalibrated := layers.PieceWiseLinearCalibration(calibrationCtx, split, Const(g, quantiles),\n",
    "\t\t\t\t*flagTrainableCalibration)\n",
    "\t\t\tcalibrated.AssertDims(batchSize, 1) // 2-dim tensor, with batch size as the leading dimension.\n",
    "\t\t\tallEmbeddings = append(allEmbeddings, calibrated)\n",
    "\t\t}\n",
    "\t}\n",
    "\tlogits := Concatenate(allEmbeddings, -1)\n",
    "\tlogits.AssertDims(batchSize, -1) // 2-dim tensor, with batch size as the leading dimension (-1 means it is not checked).\n",
    "\n",
    "\t// Model itself is an FNN or a KAN.\n",
    "\tif context.GetParamOr(ctx, \"kan\", false) {\n",
    "\t\t// Use KAN, all configured by context hyperparameters. See createDefaultContext for defaults.\n",
    "\t\tlogits = kan.New(ctx.In(\"kan\"), logits, 1).Done()\n",
    "\t} else {\n",
    "\t\t// Normal FNN, all configured by context hyperparameters. See createDefaultContext for defaults.\n",
    "\t\tlogits = fnn.New(ctx.In(\"fnn\"), logits, 1).Done()\n",
    "\t}\n",
    "\tlogits.AssertDims(batchSize, 1) // 2-dim tensor, with batch size as the leading dimension.\n",
    "\treturn []*Node{logits}\n",
    "}\n",
    "\n",
    "%%\n",
    "adult.LoadAndPreprocessData(*flagDataDir, *flagNumQuantiles, *flagForceDownload, *flagVerbosity)    \n",
    "\n",
    "// Let's just check that we get the right shape from the model function, wihtout any real data.\n",
    "ctx, _ := contextFromSettings()\n",
    "graph := NewGraph(backend, \"test\")\n",
    "batchSize := context.GetParamOr(ctx, \"batch_size\", 128)\n",
    "// Create placeholder (parameters) graph nodes, just to test the graph building is working.\n",
    "inputs := []*Node{\n",
    "    // Categorical: shaped [batch_size, num_categorical]\n",
    "    Parameter(graph, \"categorical\", shapes.Make(dtypes.Int64, batchSize, len(adult.Data.VocabulariesFeatures))),\n",
    "    // Continuous: shaped [batch_size, num_continuos]\n",
    "    Parameter(graph, \"continuous\", shapes.Make(dtypes.Float32, batchSize, len(adult.Data.QuantilesFeatures))),\n",
    "    // Weights: shaped [batch_size, 1]\n",
    "    Parameter(graph, \"weights\", shapes.Make(dtypes.Float32, batchSize, 1)),    \n",
    "}\n",
    "logits := ModelGraph(ctx, nil, inputs)\n",
    "fmt.Printf(\"Logits shape for batch_size=%d: %s\\n\", batchSize, logits[0].Shape())"
   ]
  },
  {
   "cell_type": "markdown",
   "id": "618e1c7a-ced1-4914-8530-0924e02f095c",
   "metadata": {},
   "source": [
    "## Training Loop\n",
    "\n",
    "We can create a training loop with only a `Manager`, a `Context` (for the model varibles) and the `ModelGraph` function.\n",
    "\n",
    "To make it more interesting we also add the following:\n",
    "\n",
    "* Accuracy metrics for training and testing.\n",
    "* Checkpoints -- so trained model can be saved, and reloaded.\n",
    "* A progress-bar that also shows training metrics.\n",
    "* We dynamically plot how the loss and accuracy evolve.\n",
    "\n",
    "First we define the corresponding flags and the `trainModel` function, and run it for very few steps to make sure\n",
    "it is working."
   ]
  },
  {
   "cell_type": "code",
   "execution_count": 24,
   "id": "daf39a7c-7cc8-43a5-ae79-026303f5f502",
   "metadata": {
    "tags": []
   },
   "outputs": [
    {
     "name": "stdout",
     "output_type": "stream",
     "text": [
      "Training (100 steps):  100% [========================================] (1994 steps/s) [step=99] [loss+=0.548] [~loss+=0.635] [~loss=0.635] [~acc=69.75%]                \n",
      "\t[Step 100] median train step: 374 microseconds\n",
      "Results on batched train:\n",
      "\tMean Loss+Regularization (#loss+): 0.571\n",
      "\tMean Loss (#loss): 0.571\n",
      "\tMean Accuracy (#acc): 75.93%\n",
      "Results on test:\n",
      "\tMean Loss+Regularization (#loss+): 0.568\n",
      "\tMean Loss (#loss): 0.568\n",
      "\tMean Accuracy (#acc): 76.39%\n"
     ]
    }
   ],
   "source": [
    "import (\n",
    "    \"fmt\"\n",
    "    \"time\"\n",
    "    \"github.com/gomlx/gomlx/ui/gonb/plotly\"\n",
    ")\n",
    "\n",
    "var (\n",
    "    flagCheckpoint     = flag.String(\"checkpoint\", \"\", \"Directory save and load checkpoints from. If left empty, no checkpoints are created.\")\n",
    "    flagPlots          = flag.Bool(\"plots\", true, \"Plots during training: perform periodic evaluations, \"+\n",
    "                                   \"save results if --checkpoint is set and draw plots, if in a Jupyter notebook.\")\n",
    "    flagPlotType       = flag.String(\"plot_type\", \"plotly\", \"Type of plot to use, values are \\\"plotly\\\" or \\\"margaid\\\"\")\n",
    ")\n",
    "\n",
    "func trainModel(ctx *context.Context, paramsSet []string) {\n",
    "    *flagDataDir = data.ReplaceTildeInDir(*flagDataDir)\n",
    "\n",
    "    // Load data and create datasets.\n",
    "    adult.LoadAndPreprocessData(*flagDataDir, *flagNumQuantiles, *flagForceDownload, *flagVerbosity)    \n",
    "    trainDS, trainEvalDS, testEvalDS := BuildDatasets(ctx)\n",
    "\n",
    "\t// Checkpoints loading (and saving)\n",
    "\tvar checkpoint *checkpoints.Handler\n",
    "\tif *flagCheckpoint != \"\" {\n",
    "\t\tnumCheckpointsToKeep := context.GetParamOr(ctx, \"num_checkpoints\", 3)\n",
    "\t\tcheckpoint = must.M1(checkpoints.Build(ctx).\n",
    "\t\t\tDirFromBase(*flagCheckpoint, *flagDataDir).\n",
    "\t\t\tKeep(numCheckpointsToKeep).\n",
    "\t\t\tExcludeParams(append(paramsSet, \"train_steps\", \"plots\", \"num_checkpoints\")...).\n",
    "\t\t\tDone())\n",
    "\t}\n",
    "\n",
    "\t// Metrics we are interested.\n",
    "\tmeanAccuracyMetric := metrics.NewMeanBinaryLogitsAccuracy(\"Mean Accuracy\", \"#acc\")\n",
    "\tmovingAccuracyMetric := metrics.NewMovingAverageBinaryLogitsAccuracy(\"Moving Average Accuracy\", \"~acc\", 0.01)\n",
    "\n",
    "\t// Create a train.Trainer: this object will orchestrate running the model, feeding\n",
    "\t// results to the optimizer, evaluating the metrics, etc. (all happens in trainer.TrainStep)\n",
    "\ttrainer := train.NewTrainer(backend, ctx, ModelGraph, losses.BinaryCrossentropyLogits,\n",
    "\t\toptimizers.FromContext(ctx),\n",
    "\t\t[]metrics.Interface{movingAccuracyMetric}, // trainMetrics\n",
    "\t\t[]metrics.Interface{meanAccuracyMetric})   // evalMetrics\n",
    "\n",
    "    // Use standard training loop.\n",
    "    loop := train.NewLoop(trainer)\n",
    "    commandline.AttachProgressBar(loop) // Attaches a progress bar to the loop.\n",
    "\n",
    "    // Attach a checkpoint saver: checkpoint every 1 minute of training.\n",
    "    if checkpoint != nil {\n",
    "        period := time.Minute * 1\n",
    "        train.PeriodicCallback(loop, period, true, \"saving checkpoint\", 100,\n",
    "            func(loop *train.Loop, metrics []*tensors.Tensor) error {\n",
    "                fmt.Printf(\"\\n[saving checkpoint@%d] [median train step (ms): %d]\\n\", loop.LoopStep, loop.MedianTrainStepDuration().Milliseconds())\n",
    "                return checkpoint.Save()\n",
    "            })\n",
    "    }\n",
    "\n",
    "\t// Attach Plotly plots: plot points at exponential steps.\n",
    "\t// The points generated are saved along the checkpoint directory (if one is given).\n",
    "\tif context.GetParamOr(ctx, margaid.ParamPlots, false) {\n",
    "\t\t_ = plotly.New().\n",
    "\t\t\tWithCheckpoint(checkpoint).\n",
    "\t\t\tDynamic().\n",
    "\t\t\tWithDatasets(trainEvalDS, testEvalDS).\n",
    "\t\t\tScheduleExponential(loop, 200, 1.2)\n",
    "\t}\n",
    "\n",
    "\t// Train up to \"train_steps\".\n",
    "\tglobalStep := int(optimizers.GetGlobalStep(ctx))\n",
    "\ttrainSteps := context.GetParamOr(ctx, \"train_steps\", 0)\n",
    "\tif globalStep < trainSteps {\n",
    "\t\tif globalStep != 0 {\n",
    "\t\t\tfmt.Printf(\"\\t- restarting training from global_step=%d\\n\", globalStep)\n",
    "            trainer.SetContext(ctx.Reuse())\n",
    "\t\t}\n",
    "\t\t_ = must.M1(loop.RunSteps(trainDS, trainSteps-globalStep))\n",
    "\t\tfmt.Printf(\"\\t[Step %d] median train step: %d microseconds\\n\", loop.LoopStep, loop.MedianTrainStepDuration().Microseconds())\n",
    "\t} else {\n",
    "\t\tfmt.Printf(\"\\t - target train_steps=%d already reached. To train further, set a number larger than \"+\n",
    "\t\t\t\"current global step.\\n\", trainSteps)\n",
    "\t}\n",
    "\n",
    "\t// Finally, print an evaluation on train and test datasets.\n",
    "\tmust.M(commandline.ReportEval(trainer, trainEvalDS, testEvalDS))\n",
    "}\n",
    "\n",
    "// Notice command line flags are passed in the %% notebook command. We set plots=false here to disable plotting\n",
    "// since this is only a quick test that our train() loop is working. See below the final run for a full training.\n",
    "%% -set=\"train_steps=100;plots=false\"\n",
    "trainModel(contextFromSettings())"
   ]
  },
  {
   "cell_type": "markdown",
   "id": "6bb5db6b-3a2c-4f48-8264-f90b22a52ed0",
   "metadata": {},
   "source": [
    "## Final run with 5K steps\n",
    "\n",
    "With everything working, we can do our final run.\n",
    "\n",
    "> **Note** here is where someone might want to hyperparameter tune, trying out different hyperparameters."
   ]
  },
  {
   "cell_type": "code",
   "execution_count": 25,
   "id": "a9d901d9-c503-4a94-8dec-a471a18bbbee",
   "metadata": {},
   "outputs": [],
   "source": [
    "// Remove previously trained model -- skip this cell, if you want to continue training.\n",
    "!rm -rf ~/work/uci-adult/base_model"
   ]
  },
  {
   "cell_type": "code",
   "execution_count": 26,
   "id": "66939463-60d7-446f-b4f3-1d60abe7c17c",
   "metadata": {
    "tags": []
   },
   "outputs": [
    {
     "data": {
      "text/html": []
     },
     "metadata": {},
     "output_type": "display_data"
    },
    {
     "name": "stdout",
     "output_type": "stream",
     "text": [
      "Training (5000 steps):   14% [====>...................................] (117 steps/s) [1s:36s] [step=724] [loss+=0.255] [~loss+=0.324] [~loss=0.324] [~acc=85.68%]        "
     ]
    },
    {
     "data": {
      "text/html": []
     },
     "metadata": {},
     "output_type": "display_data"
    },
    {
     "name": "stdout",
     "output_type": "stream",
     "text": [
      "Training (5000 steps):  100% [========================================] (1402 steps/s) [step=4999] [loss+=0.249] [~loss+=0.275] [~loss=0.275] [~acc=87.15%]                \n",
      "\n",
      "[saving checkpoint@5000] [median train step (ms): 0]\n"
     ]
    },
    {
     "data": {
      "text/html": [
       "<p><b>Metric: accuracy</b></p>\n"
      ]
     },
     "metadata": {},
     "output_type": "display_data"
    },
    {
     "data": {
      "text/html": [
       "<div id=\"81d7d25b\"></div>"
      ]
     },
     "metadata": {},
     "output_type": "display_data"
    },
    {
     "data": {
      "text/html": [
       "<script charset=\"UTF-8\">\n",
       "(() => {\n",
       "\tconst src=\"https://cdn.plot.ly/plotly-2.34.0.min.js\";\n",
       "\tvar runJSFn = function(module) {\n",
       "\t\t\n",
       "\tif (!module) {\n",
       "\t\tmodule = window.Plotly;\n",
       "\t}\n",
       "\tlet data = JSON.parse('{\"data\":[{\"type\":\"scatter\",\"line\":{\"shape\":\"linear\"},\"mode\":\"lines+markers\",\"name\":\"Train: Moving Average Accuracy\",\"x\":[200,440,728,1074,1489,1987,2585,3303,4165,5000],\"y\":[0.8096991777420044,0.8504468202590942,0.8566544055938721,0.8656616806983948,0.8686603307723999,0.8736554384231567,0.8732880353927612,0.8749344348907471,0.8761137127876282,0.8715237379074097]},{\"type\":\"scatter\",\"line\":{\"shape\":\"linear\"},\"mode\":\"lines+markers\",\"name\":\"Eval on batched train: Mean Accuracy\",\"x\":[200,440,728,1074,1489,1987,2585,3303,4165,5000],\"y\":[0.846503496170044,0.8569146990776062,0.8643469214439392,0.8679401874542236,0.871963381767273,0.8733454346656799,0.8743281960487366,0.8746353387832642,0.8736525177955627,0.8732225894927979]},{\"type\":\"scatter\",\"line\":{\"shape\":\"linear\"},\"mode\":\"lines+markers\",\"name\":\"Eval on test: Mean Accuracy\",\"x\":[200,440,728,1074,1489,1987,2585,3303,4165,5000],\"y\":[0.8490263819694519,0.8569497466087341,0.8614335060119629,0.8649959564208984,0.8681898713111877,0.8699710965156555,0.8702167272567749,0.8721207976341248,0.8696025609970093,0.8710766434669495]}],\"layout\":{\"legend\":{},\"title\":{\"text\":\"accuracy\"},\"xaxis\":{\"showgrid\":true,\"type\":\"log\"},\"yaxis\":{\"showgrid\":true,\"type\":\"log\"}}}');\n",
       "\tmodule.newPlot('81d7d25b', data);\n",
       "\n",
       "\t}\n",
       "\t\n",
       "    if (typeof requirejs === \"function\") {\n",
       "        // Use RequireJS to load module.\n",
       "\t\tlet srcWithoutExtension = src.substring(0, src.lastIndexOf(\".js\"));\n",
       "        requirejs.config({\n",
       "            paths: {\n",
       "                'plotly': srcWithoutExtension\n",
       "            }\n",
       "        });\n",
       "        require(['plotly'], function(plotly) {\n",
       "            runJSFn(plotly)\n",
       "        });\n",
       "        return\n",
       "    }\n",
       "\n",
       "\tvar currentScripts = document.head.getElementsByTagName(\"script\");\n",
       "\tfor (const idx in currentScripts) {\n",
       "\t\tlet script = currentScripts[idx];\n",
       "\t\tif (script.src == src) {\n",
       "\t\t\trunJSFn(null);\n",
       "\t\t\treturn;\n",
       "\t\t}\n",
       "\t}\n",
       "\n",
       "\tvar script = document.createElement(\"script\");\n",
       "\n",
       "\tscript.charset = \"utf-8\";\n",
       "\t\n",
       "\tscript.src = src;\n",
       "\tscript.onload = script.onreadystatechange = function () { runJSFn(null); };\n",
       "\tdocument.head.appendChild(script);\t\n",
       "})();\n",
       "</script>"
      ]
     },
     "metadata": {},
     "output_type": "display_data"
    },
    {
     "data": {
      "text/html": [
       "<p><b>Metric: loss</b></p>\n"
      ]
     },
     "metadata": {},
     "output_type": "display_data"
    },
    {
     "data": {
      "text/html": [
       "<div id=\"4d6abcae\"></div>"
      ]
     },
     "metadata": {},
     "output_type": "display_data"
    },
    {
     "data": {
      "text/html": [
       "<script charset=\"UTF-8\">\n",
       "(() => {\n",
       "\tconst src=\"https://cdn.plot.ly/plotly-2.34.0.min.js\";\n",
       "\tvar runJSFn = function(module) {\n",
       "\t\t\n",
       "\tif (!module) {\n",
       "\t\tmodule = window.Plotly;\n",
       "\t}\n",
       "\tlet data = JSON.parse('{\"data\":[{\"type\":\"scatter\",\"line\":{\"shape\":\"linear\"},\"mode\":\"lines+markers\",\"name\":\"Train: Batch Loss+Regularization\",\"x\":[200,440,728,1074,1489,1987,2585,3303,4165,5000],\"y\":[0.4404393434524536,0.3688802123069763,0.3059803247451782,0.23362970352172852,0.36728259921073914,0.35358965396881104,0.22913439571857452,0.2576722204685211,0.3428727388381958,0.24856333434581757]},{\"type\":\"scatter\",\"line\":{\"shape\":\"linear\"},\"mode\":\"lines+markers\",\"name\":\"Train: Moving Average Loss+Regularization\",\"x\":[200,440,728,1074,1489,1987,2585,3303,4165,5000],\"y\":[0.5126903057098389,0.36696335673332214,0.32301393151283264,0.29936105012893677,0.290591835975647,0.27886155247688293,0.27540892362594604,0.27573320269584656,0.26918625831604004,0.27497217059135437]},{\"type\":\"scatter\",\"line\":{\"shape\":\"linear\"},\"mode\":\"lines+markers\",\"name\":\"Train: Moving Average Loss\",\"x\":[200,440,728,1074,1489,1987,2585,3303,4165,5000],\"y\":[0.5124722719192505,0.36668860912323,0.3227485716342926,0.2991016209125519,0.29033055901527405,0.27859628200531006,0.2751380205154419,0.2754557728767395,0.2689010500907898,0.27468225359916687]},{\"type\":\"scatter\",\"line\":{\"shape\":\"linear\"},\"mode\":\"lines+markers\",\"name\":\"Eval on batched train: Mean Loss+Regularization\",\"x\":[200,440,728,1074,1489,1987,2585,3303,4165,5000],\"y\":[0.4117664098739624,0.33632683753967285,0.3070531189441681,0.2923111617565155,0.28199318051338196,0.2771564722061157,0.2738226354122162,0.2722620368003845,0.2709862291812897,0.27072638273239136]},{\"type\":\"scatter\",\"line\":{\"shape\":\"linear\"},\"mode\":\"lines+markers\",\"name\":\"Eval on batched train: Mean Loss\",\"x\":[200,440,728,1074,1489,1987,2585,3303,4165,5000],\"y\":[0.4114842414855957,0.3360530734062195,0.3067967891693115,0.2920539379119873,0.2817348539829254,0.2768886983394623,0.27355140447616577,0.27198392152786255,0.2707007825374603,0.2704354524612427]},{\"type\":\"scatter\",\"line\":{\"shape\":\"linear\"},\"mode\":\"lines+markers\",\"name\":\"Eval on test: Mean Loss+Regularization\",\"x\":[200,440,728,1074,1489,1987,2585,3303,4165,5000],\"y\":[0.4085424840450287,0.3356788158416748,0.31059956550598145,0.29838284850120544,0.2886461913585663,0.28561463952064514,0.2817608118057251,0.2806466221809387,0.28021907806396484,0.28051257133483887]},{\"type\":\"scatter\",\"line\":{\"shape\":\"linear\"},\"mode\":\"lines+markers\",\"name\":\"Eval on test: Mean Loss\",\"x\":[200,440,728,1074,1489,1987,2585,3303,4165,5000],\"y\":[0.408260315656662,0.33540499210357666,0.31034329533576965,0.2981257140636444,0.2883879244327545,0.2853469252586365,0.28148964047431946,0.280368447303772,0.2799336612224579,0.2802216410636902]}],\"layout\":{\"legend\":{},\"title\":{\"text\":\"loss\"},\"xaxis\":{\"showgrid\":true,\"type\":\"log\"},\"yaxis\":{\"showgrid\":true,\"type\":\"log\"}}}');\n",
       "\tmodule.newPlot('4d6abcae', data);\n",
       "\n",
       "\t}\n",
       "\t\n",
       "    if (typeof requirejs === \"function\") {\n",
       "        // Use RequireJS to load module.\n",
       "\t\tlet srcWithoutExtension = src.substring(0, src.lastIndexOf(\".js\"));\n",
       "        requirejs.config({\n",
       "            paths: {\n",
       "                'plotly': srcWithoutExtension\n",
       "            }\n",
       "        });\n",
       "        require(['plotly'], function(plotly) {\n",
       "            runJSFn(plotly)\n",
       "        });\n",
       "        return\n",
       "    }\n",
       "\n",
       "\tvar currentScripts = document.head.getElementsByTagName(\"script\");\n",
       "\tfor (const idx in currentScripts) {\n",
       "\t\tlet script = currentScripts[idx];\n",
       "\t\tif (script.src == src) {\n",
       "\t\t\trunJSFn(null);\n",
       "\t\t\treturn;\n",
       "\t\t}\n",
       "\t}\n",
       "\n",
       "\tvar script = document.createElement(\"script\");\n",
       "\n",
       "\tscript.charset = \"utf-8\";\n",
       "\t\n",
       "\tscript.src = src;\n",
       "\tscript.onload = script.onreadystatechange = function () { runJSFn(null); };\n",
       "\tdocument.head.appendChild(script);\t\n",
       "})();\n",
       "</script>"
      ]
     },
     "metadata": {},
     "output_type": "display_data"
    },
    {
     "name": "stdout",
     "output_type": "stream",
     "text": [
      "\t[Step 5000] median train step: 270 microseconds\n",
      "Results on batched train:\n",
      "\tMean Loss+Regularization (#loss+): 0.271\n",
      "\tMean Loss (#loss): 0.270\n",
      "\tMean Accuracy (#acc): 87.32%\n",
      "Results on test:\n",
      "\tMean Loss+Regularization (#loss+): 0.281\n",
      "\tMean Loss (#loss): 0.280\n",
      "\tMean Accuracy (#acc): 87.11%\n"
     ]
    }
   ],
   "source": [
    "%% --checkpoint base_model -set=\"plots=true;train_steps=5000\"\n",
    "trainModel(contextFromSettings())"
   ]
  },
  {
   "cell_type": "markdown",
   "id": "c38d8a41-3e9c-4107-a507-c879ef27e3e3",
   "metadata": {},
   "source": [
    "## Extend training another 5K steps\n",
    "\n",
    "Since the model training went well, and it doesn't seem to be yet terribly overfiting, \n",
    "let's train further, another 5k steps, for 10K steps in total.\n",
    "\n",
    "Notice the plots continue from where it stopped. And this time we use [Plotly](https://plotly.com/javascript/) to plot the training results -- they don't display in Github since they depend on javascript.\n",
    "\n",
    "Unfortunately, it doesn't help (the accuracy on the test set doesn't improve), 5k steps was already enough."
   ]
  },
  {
   "cell_type": "code",
   "execution_count": 27,
   "id": "95983f61-2a98-442d-bc5d-896006289a2b",
   "metadata": {
    "tags": []
   },
   "outputs": [
    {
     "name": "stdout",
     "output_type": "stream",
     "text": [
      "train_steps=10000\n"
     ]
    },
    {
     "data": {
      "text/html": []
     },
     "metadata": {},
     "output_type": "display_data"
    },
    {
     "data": {
      "text/html": []
     },
     "metadata": {},
     "output_type": "display_data"
    },
    {
     "name": "stdout",
     "output_type": "stream",
     "text": [
      "\t- restarting training from global_step=5000\n",
      "Training (5000 steps):  100% [========================================] (1385 steps/s) [step=9999] [loss+=0.250] [~loss+=0.274] [~loss=0.273] [~acc=87.14%]                 \n",
      "\n",
      "[saving checkpoint@10000] [median train step (ms): 0]\n"
     ]
    },
    {
     "data": {
      "text/html": [
       "<p><b>Metric: accuracy</b></p>\n"
      ]
     },
     "metadata": {},
     "output_type": "display_data"
    },
    {
     "data": {
      "text/html": [
       "<div id=\"b647d8f5\"></div>"
      ]
     },
     "metadata": {},
     "output_type": "display_data"
    },
    {
     "data": {
      "text/html": [
       "<script charset=\"UTF-8\">\n",
       "(() => {\n",
       "\tconst src=\"https://cdn.plot.ly/plotly-2.34.0.min.js\";\n",
       "\tvar runJSFn = function(module) {\n",
       "\t\t\n",
       "\tif (!module) {\n",
       "\t\tmodule = window.Plotly;\n",
       "\t}\n",
       "\tlet data = JSON.parse('{\"data\":[{\"type\":\"scatter\",\"line\":{\"shape\":\"linear\"},\"mode\":\"lines+markers\",\"name\":\"Train: Moving Average Accuracy\",\"x\":[200,440,728,1074,1489,1987,2585,3303,4165,5000,5199,6440,7929,9716,10000],\"y\":[0.8096991777420044,0.8504468202590942,0.8566544055938721,0.8656616806983948,0.8686603307723999,0.8736554384231567,0.8732880353927612,0.8749344348907471,0.8761137127876282,0.8715237379074097,0.8731497526168823,0.8729114532470703,0.8741710186004639,0.875084400177002,0.871362030506134]},{\"type\":\"scatter\",\"line\":{\"shape\":\"linear\"},\"mode\":\"lines+markers\",\"name\":\"Eval on batched train: Mean Accuracy\",\"x\":[200,440,728,1074,1489,1987,2585,3303,4165,5000,5199,6440,7929,9716,10000],\"y\":[0.846503496170044,0.8569146990776062,0.8643469214439392,0.8679401874542236,0.871963381767273,0.8733454346656799,0.8743281960487366,0.8746353387832642,0.8736525177955627,0.8732225894927979,0.8736525177955627,0.8737753629684448,0.8740518093109131,0.8743588924407959,0.8754338026046753]},{\"type\":\"scatter\",\"line\":{\"shape\":\"linear\"},\"mode\":\"lines+markers\",\"name\":\"Eval on test: Mean Accuracy\",\"x\":[200,440,728,1074,1489,1987,2585,3303,4165,5000,5199,6440,7929,9716,10000],\"y\":[0.8490263819694519,0.8569497466087341,0.8614335060119629,0.8649959564208984,0.8681898713111877,0.8699710965156555,0.8702167272567749,0.8721207976341248,0.8696025609970093,0.8710766434669495,0.8686811923980713,0.8715065717697144,0.8715065717697144,0.8726736307144165,0.8716294169425964]}],\"layout\":{\"legend\":{},\"title\":{\"text\":\"accuracy\"},\"xaxis\":{\"showgrid\":true,\"type\":\"log\"},\"yaxis\":{\"showgrid\":true,\"type\":\"log\"}}}');\n",
       "\tmodule.newPlot('b647d8f5', data);\n",
       "\n",
       "\t}\n",
       "\t\n",
       "    if (typeof requirejs === \"function\") {\n",
       "        // Use RequireJS to load module.\n",
       "\t\tlet srcWithoutExtension = src.substring(0, src.lastIndexOf(\".js\"));\n",
       "        requirejs.config({\n",
       "            paths: {\n",
       "                'plotly': srcWithoutExtension\n",
       "            }\n",
       "        });\n",
       "        require(['plotly'], function(plotly) {\n",
       "            runJSFn(plotly)\n",
       "        });\n",
       "        return\n",
       "    }\n",
       "\n",
       "\tvar currentScripts = document.head.getElementsByTagName(\"script\");\n",
       "\tfor (const idx in currentScripts) {\n",
       "\t\tlet script = currentScripts[idx];\n",
       "\t\tif (script.src == src) {\n",
       "\t\t\trunJSFn(null);\n",
       "\t\t\treturn;\n",
       "\t\t}\n",
       "\t}\n",
       "\n",
       "\tvar script = document.createElement(\"script\");\n",
       "\n",
       "\tscript.charset = \"utf-8\";\n",
       "\t\n",
       "\tscript.src = src;\n",
       "\tscript.onload = script.onreadystatechange = function () { runJSFn(null); };\n",
       "\tdocument.head.appendChild(script);\t\n",
       "})();\n",
       "</script>"
      ]
     },
     "metadata": {},
     "output_type": "display_data"
    },
    {
     "data": {
      "text/html": [
       "<p><b>Metric: loss</b></p>\n"
      ]
     },
     "metadata": {},
     "output_type": "display_data"
    },
    {
     "data": {
      "text/html": [
       "<div id=\"4b645d79\"></div>"
      ]
     },
     "metadata": {},
     "output_type": "display_data"
    },
    {
     "data": {
      "text/html": [
       "<script charset=\"UTF-8\">\n",
       "(() => {\n",
       "\tconst src=\"https://cdn.plot.ly/plotly-2.34.0.min.js\";\n",
       "\tvar runJSFn = function(module) {\n",
       "\t\t\n",
       "\tif (!module) {\n",
       "\t\tmodule = window.Plotly;\n",
       "\t}\n",
       "\tlet data = JSON.parse('{\"data\":[{\"type\":\"scatter\",\"line\":{\"shape\":\"linear\"},\"mode\":\"lines+markers\",\"name\":\"Train: Batch Loss+Regularization\",\"x\":[200,440,728,1074,1489,1987,2585,3303,4165,5000,5199,6440,7929,9716,10000],\"y\":[0.4404393434524536,0.3688802123069763,0.3059803247451782,0.23362970352172852,0.36728259921073914,0.35358965396881104,0.22913439571857452,0.2576722204685211,0.3428727388381958,0.24856333434581757,0.2635170519351959,0.3098846971988678,0.3249337077140808,0.28090596199035645,0.24993187189102173]},{\"type\":\"scatter\",\"line\":{\"shape\":\"linear\"},\"mode\":\"lines+markers\",\"name\":\"Train: Moving Average Loss+Regularization\",\"x\":[200,440,728,1074,1489,1987,2585,3303,4165,5000,5199,6440,7929,9716,10000],\"y\":[0.5126903057098389,0.36696335673332214,0.32301393151283264,0.29936105012893677,0.290591835975647,0.27886155247688293,0.27540892362594604,0.27573320269584656,0.26918625831604004,0.27497217059135437,0.27362704277038574,0.26981624960899353,0.26852330565452576,0.26768553256988525,0.27360183000564575]},{\"type\":\"scatter\",\"line\":{\"shape\":\"linear\"},\"mode\":\"lines+markers\",\"name\":\"Train: Moving Average Loss\",\"x\":[200,440,728,1074,1489,1987,2585,3303,4165,5000,5199,6440,7929,9716,10000],\"y\":[0.5124722719192505,0.36668860912323,0.3227485716342926,0.2991016209125519,0.29033055901527405,0.27859628200531006,0.2751380205154419,0.2754557728767395,0.2689010500907898,0.27468225359916687,0.27333545684814453,0.2695176601409912,0.2682177424430847,0.2673690617084503,0.2732848823070526]},{\"type\":\"scatter\",\"line\":{\"shape\":\"linear\"},\"mode\":\"lines+markers\",\"name\":\"Eval on batched train: Mean Loss+Regularization\",\"x\":[200,440,728,1074,1489,1987,2585,3303,4165,5000,5199,6440,7929,9716,10000],\"y\":[0.4117664098739624,0.33632683753967285,0.3070531189441681,0.2923111617565155,0.28199318051338196,0.2771564722061157,0.2738226354122162,0.2722620368003845,0.2709862291812897,0.27072638273239136,0.27220579981803894,0.2690896987915039,0.2696419060230255,0.26835063099861145,0.26892605423927307]},{\"type\":\"scatter\",\"line\":{\"shape\":\"linear\"},\"mode\":\"lines+markers\",\"name\":\"Eval on batched train: Mean Loss\",\"x\":[200,440,728,1074,1489,1987,2585,3303,4165,5000,5199,6440,7929,9716,10000],\"y\":[0.4114842414855957,0.3360530734062195,0.3067967891693115,0.2920539379119873,0.2817348539829254,0.2768886983394623,0.27355140447616577,0.27198392152786255,0.2707007825374603,0.2704354524612427,0.27191612124443054,0.26878970861434937,0.26933765411376953,0.26803305745124817,0.26860854029655457]},{\"type\":\"scatter\",\"line\":{\"shape\":\"linear\"},\"mode\":\"lines+markers\",\"name\":\"Eval on test: Mean Loss+Regularization\",\"x\":[200,440,728,1074,1489,1987,2585,3303,4165,5000,5199,6440,7929,9716,10000],\"y\":[0.4085424840450287,0.3356788158416748,0.31059956550598145,0.29838284850120544,0.2886461913585663,0.28561463952064514,0.2817608118057251,0.2806466221809387,0.28021907806396484,0.28051257133483887,0.28156134486198425,0.2804689109325409,0.2801055312156677,0.280424028635025,0.27979058027267456]},{\"type\":\"scatter\",\"line\":{\"shape\":\"linear\"},\"mode\":\"lines+markers\",\"name\":\"Eval on test: Mean Loss\",\"x\":[200,440,728,1074,1489,1987,2585,3303,4165,5000,5199,6440,7929,9716,10000],\"y\":[0.408260315656662,0.33540499210357666,0.31034329533576965,0.2981257140636444,0.2883879244327545,0.2853469252586365,0.28148964047431946,0.280368447303772,0.2799336612224579,0.2802216410636902,0.28127169609069824,0.28016889095306396,0.2798013389110565,0.28010642528533936,0.27947303652763367]}],\"layout\":{\"legend\":{},\"title\":{\"text\":\"loss\"},\"xaxis\":{\"showgrid\":true,\"type\":\"log\"},\"yaxis\":{\"showgrid\":true,\"type\":\"log\"}}}');\n",
       "\tmodule.newPlot('4b645d79', data);\n",
       "\n",
       "\t}\n",
       "\t\n",
       "    if (typeof requirejs === \"function\") {\n",
       "        // Use RequireJS to load module.\n",
       "\t\tlet srcWithoutExtension = src.substring(0, src.lastIndexOf(\".js\"));\n",
       "        requirejs.config({\n",
       "            paths: {\n",
       "                'plotly': srcWithoutExtension\n",
       "            }\n",
       "        });\n",
       "        require(['plotly'], function(plotly) {\n",
       "            runJSFn(plotly)\n",
       "        });\n",
       "        return\n",
       "    }\n",
       "\n",
       "\tvar currentScripts = document.head.getElementsByTagName(\"script\");\n",
       "\tfor (const idx in currentScripts) {\n",
       "\t\tlet script = currentScripts[idx];\n",
       "\t\tif (script.src == src) {\n",
       "\t\t\trunJSFn(null);\n",
       "\t\t\treturn;\n",
       "\t\t}\n",
       "\t}\n",
       "\n",
       "\tvar script = document.createElement(\"script\");\n",
       "\n",
       "\tscript.charset = \"utf-8\";\n",
       "\t\n",
       "\tscript.src = src;\n",
       "\tscript.onload = script.onreadystatechange = function () { runJSFn(null); };\n",
       "\tdocument.head.appendChild(script);\t\n",
       "})();\n",
       "</script>"
      ]
     },
     "metadata": {},
     "output_type": "display_data"
    },
    {
     "name": "stdout",
     "output_type": "stream",
     "text": [
      "\t[Step 10000] median train step: 278 microseconds\n",
      "Results on batched train:\n",
      "\tMean Loss+Regularization (#loss+): 0.269\n",
      "\tMean Loss (#loss): 0.269\n",
      "\tMean Accuracy (#acc): 87.54%\n",
      "Results on test:\n",
      "\tMean Loss+Regularization (#loss+): 0.280\n",
      "\tMean Loss (#loss): 0.279\n",
      "\tMean Accuracy (#acc): 87.16%\n"
     ]
    }
   ],
   "source": [
    "%% --checkpoint base_model -set=\"plots=true;train_steps=10000\"\n",
    "ctx, paramsSet := contextFromSettings()\n",
    "fmt.Printf(\"train_steps=%d\\n\", context.GetParamOr(ctx, \"train_steps\", 0))\n",
    "trainModel(ctx, paramsSet)\n"
   ]
  },
  {
   "cell_type": "markdown",
   "id": "06427d06-00d5-4ee5-a408-ddb58621317f",
   "metadata": {},
   "source": [
    "## Using Kolmogorov-Arnold Networks (KAN)\n",
    "\n",
    "Since it's avaialable as a layer (see package `kan`), the model supports it by simply changing a hyperparameter.\n",
    "\n",
    "See description in https://arxiv.org/pdf/2404.19756"
   ]
  },
  {
   "cell_type": "code",
   "execution_count": 28,
   "id": "c5d50910-c351-4dda-98cb-5abae8a11ca8",
   "metadata": {},
   "outputs": [],
   "source": [
    "// Remove previously trained model -- skip this cell, if you want to continue training.\n",
    "!rm -rf ~/work/uci-adult/kan_model"
   ]
  },
  {
   "cell_type": "code",
   "execution_count": 29,
   "id": "7ce56c29-0678-4a4f-a028-7a86de57e915",
   "metadata": {},
   "outputs": [
    {
     "data": {
      "text/html": []
     },
     "metadata": {},
     "output_type": "display_data"
    },
    {
     "name": "stdout",
     "output_type": "stream",
     "text": [
      "Training (5000 steps):   14% [====>...................................] (128 steps/s) [1s:33s] [step=724] [loss+=3.995] [~loss+=4.054] [~loss=0.352] [~acc=85.35%]        "
     ]
    },
    {
     "data": {
      "text/html": []
     },
     "metadata": {},
     "output_type": "display_data"
    },
    {
     "name": "stdout",
     "output_type": "stream",
     "text": [
      "Training (5000 steps):  100% [========================================] (1346 steps/s) [step=4999] [loss+=2.082] [~loss+=2.105] [~loss=0.291] [~acc=86.58%]                \n",
      "\n",
      "[saving checkpoint@5000] [median train step (ms): 0]\n"
     ]
    },
    {
     "data": {
      "text/html": [
       "<p><b>Metric: accuracy</b></p>\n"
      ]
     },
     "metadata": {},
     "output_type": "display_data"
    },
    {
     "data": {
      "text/html": [
       "<div id=\"6c5cfd38\"></div>"
      ]
     },
     "metadata": {},
     "output_type": "display_data"
    },
    {
     "data": {
      "text/html": [
       "<script charset=\"UTF-8\">\n",
       "(() => {\n",
       "\tconst src=\"https://cdn.plot.ly/plotly-2.34.0.min.js\";\n",
       "\tvar runJSFn = function(module) {\n",
       "\t\t\n",
       "\tif (!module) {\n",
       "\t\tmodule = window.Plotly;\n",
       "\t}\n",
       "\tlet data = JSON.parse('{\"data\":[{\"type\":\"scatter\",\"line\":{\"shape\":\"linear\"},\"mode\":\"lines+markers\",\"name\":\"Train: Moving Average Accuracy\",\"x\":[200,440,728,1074,1489,1987,2585,3303,4165,5000],\"y\":[0.7626364827156067,0.8361965417861938,0.8532375693321228,0.8615636825561523,0.862512469291687,0.8641906976699829,0.8631532788276672,0.8685363531112671,0.8659407496452332,0.8657934069633484]},{\"type\":\"scatter\",\"line\":{\"shape\":\"linear\"},\"mode\":\"lines+markers\",\"name\":\"Eval on batched train: Mean Accuracy\",\"x\":[200,440,728,1074,1489,1987,2585,3303,4165,5000],\"y\":[0.817726731300354,0.8524308204650879,0.8589109778404236,0.8630263209342957,0.8672645092010498,0.8673259615898132,0.8688001036643982,0.8681551814079285,0.8633334636688232,0.8640705347061157]},{\"type\":\"scatter\",\"line\":{\"shape\":\"linear\"},\"mode\":\"lines+markers\",\"name\":\"Eval on test: Mean Accuracy\",\"x\":[200,440,728,1074,1489,1987,2585,3303,4165,5000],\"y\":[0.8196670413017273,0.8486579060554504,0.8575639724731445,0.8616177439689636,0.8652416467666626,0.8624162673950195,0.8654873371124268,0.8658558130264282,0.8630304336547852,0.8618634343147278]}],\"layout\":{\"legend\":{},\"title\":{\"text\":\"accuracy\"},\"xaxis\":{\"showgrid\":true,\"type\":\"log\"},\"yaxis\":{\"showgrid\":true,\"type\":\"log\"}}}');\n",
       "\tmodule.newPlot('6c5cfd38', data);\n",
       "\n",
       "\t}\n",
       "\t\n",
       "    if (typeof requirejs === \"function\") {\n",
       "        // Use RequireJS to load module.\n",
       "\t\tlet srcWithoutExtension = src.substring(0, src.lastIndexOf(\".js\"));\n",
       "        requirejs.config({\n",
       "            paths: {\n",
       "                'plotly': srcWithoutExtension\n",
       "            }\n",
       "        });\n",
       "        require(['plotly'], function(plotly) {\n",
       "            runJSFn(plotly)\n",
       "        });\n",
       "        return\n",
       "    }\n",
       "\n",
       "\tvar currentScripts = document.head.getElementsByTagName(\"script\");\n",
       "\tfor (const idx in currentScripts) {\n",
       "\t\tlet script = currentScripts[idx];\n",
       "\t\tif (script.src == src) {\n",
       "\t\t\trunJSFn(null);\n",
       "\t\t\treturn;\n",
       "\t\t}\n",
       "\t}\n",
       "\n",
       "\tvar script = document.createElement(\"script\");\n",
       "\n",
       "\tscript.charset = \"utf-8\";\n",
       "\t\n",
       "\tscript.src = src;\n",
       "\tscript.onload = script.onreadystatechange = function () { runJSFn(null); };\n",
       "\tdocument.head.appendChild(script);\t\n",
       "})();\n",
       "</script>"
      ]
     },
     "metadata": {},
     "output_type": "display_data"
    },
    {
     "data": {
      "text/html": [
       "<p><b>Metric: loss</b></p>\n"
      ]
     },
     "metadata": {},
     "output_type": "display_data"
    },
    {
     "data": {
      "text/html": [
       "<div id=\"98de8649\"></div>"
      ]
     },
     "metadata": {},
     "output_type": "display_data"
    },
    {
     "data": {
      "text/html": [
       "<script charset=\"UTF-8\">\n",
       "(() => {\n",
       "\tconst src=\"https://cdn.plot.ly/plotly-2.34.0.min.js\";\n",
       "\tvar runJSFn = function(module) {\n",
       "\t\t\n",
       "\tif (!module) {\n",
       "\t\tmodule = window.Plotly;\n",
       "\t}\n",
       "\tlet data = JSON.parse('{\"data\":[{\"type\":\"scatter\",\"line\":{\"shape\":\"linear\"},\"mode\":\"lines+markers\",\"name\":\"Train: Batch Loss+Regularization\",\"x\":[200,440,728,1074,1489,1987,2585,3303,4165,5000],\"y\":[4.355715274810791,4.158724308013916,4.042957305908203,3.741955518722534,3.486293315887451,3.2627358436584473,2.9098026752471924,2.679739475250244,2.3873825073242188,2.0820140838623047]},{\"type\":\"scatter\",\"line\":{\"shape\":\"linear\"},\"mode\":\"lines+markers\",\"name\":\"Train: Moving Average Loss+Regularization\",\"x\":[200,440,728,1074,1489,1987,2585,3303,4165,5000],\"y\":[4.546371936798096,4.283674240112305,4.051315784454346,3.812840461730957,3.568354606628418,3.2998409271240234,3.010716438293457,2.6990370750427246,2.376612901687622,2.1050422191619873]},{\"type\":\"scatter\",\"line\":{\"shape\":\"linear\"},\"mode\":\"lines+markers\",\"name\":\"Train: Moving Average Loss\",\"x\":[200,440,728,1074,1489,1987,2585,3303,4165,5000],\"y\":[0.5098646283149719,0.3989194631576538,0.351565957069397,0.32284092903137207,0.31254875659942627,0.3033423125743866,0.29779696464538574,0.291475385427475,0.29134276509284973,0.2912312150001526]},{\"type\":\"scatter\",\"line\":{\"shape\":\"linear\"},\"mode\":\"lines+markers\",\"name\":\"Eval on batched train: Mean Loss+Regularization\",\"x\":[200,440,728,1074,1489,1987,2585,3303,4165,5000],\"y\":[4.4154791831970215,4.188153266906738,3.977428913116455,3.753624200820923,3.501008987426758,3.2478063106536865,2.960009813308716,2.655643939971924,2.3440499305725098,2.0770297050476074]},{\"type\":\"scatter\",\"line\":{\"shape\":\"linear\"},\"mode\":\"lines+markers\",\"name\":\"Eval on batched train: Mean Loss\",\"x\":[200,440,728,1074,1489,1987,2585,3303,4165,5000],\"y\":[0.435802161693573,0.36875709891319275,0.34035828709602356,0.3222430646419525,0.29954850673675537,0.3011670708656311,0.2921857535839081,0.2881556451320648,0.29361116886138916,0.29360029101371765]},{\"type\":\"scatter\",\"line\":{\"shape\":\"linear\"},\"mode\":\"lines+markers\",\"name\":\"Eval on test: Mean Loss+Regularization\",\"x\":[200,440,728,1074,1489,1987,2585,3303,4165,5000],\"y\":[4.4159836769104,4.18928861618042,3.9796676635742188,3.7567148208618164,3.5070407390594482,3.2541141510009766,2.967672824859619,2.662506580352783,2.3515045642852783,2.0854415893554688]},{\"type\":\"scatter\",\"line\":{\"shape\":\"linear\"},\"mode\":\"lines+markers\",\"name\":\"Eval on test: Mean Loss\",\"x\":[200,440,728,1074,1489,1987,2585,3303,4165,5000],\"y\":[0.4363078773021698,0.3698934018611908,0.3425973355770111,0.32533368468284607,0.3055810034275055,0.30747541785240173,0.2998490333557129,0.29501864314079285,0.3010658323764801,0.30201229453086853]}],\"layout\":{\"legend\":{},\"title\":{\"text\":\"loss\"},\"xaxis\":{\"showgrid\":true,\"type\":\"log\"},\"yaxis\":{\"showgrid\":true,\"type\":\"log\"}}}');\n",
       "\tmodule.newPlot('98de8649', data);\n",
       "\n",
       "\t}\n",
       "\t\n",
       "    if (typeof requirejs === \"function\") {\n",
       "        // Use RequireJS to load module.\n",
       "\t\tlet srcWithoutExtension = src.substring(0, src.lastIndexOf(\".js\"));\n",
       "        requirejs.config({\n",
       "            paths: {\n",
       "                'plotly': srcWithoutExtension\n",
       "            }\n",
       "        });\n",
       "        require(['plotly'], function(plotly) {\n",
       "            runJSFn(plotly)\n",
       "        });\n",
       "        return\n",
       "    }\n",
       "\n",
       "\tvar currentScripts = document.head.getElementsByTagName(\"script\");\n",
       "\tfor (const idx in currentScripts) {\n",
       "\t\tlet script = currentScripts[idx];\n",
       "\t\tif (script.src == src) {\n",
       "\t\t\trunJSFn(null);\n",
       "\t\t\treturn;\n",
       "\t\t}\n",
       "\t}\n",
       "\n",
       "\tvar script = document.createElement(\"script\");\n",
       "\n",
       "\tscript.charset = \"utf-8\";\n",
       "\t\n",
       "\tscript.src = src;\n",
       "\tscript.onload = script.onreadystatechange = function () { runJSFn(null); };\n",
       "\tdocument.head.appendChild(script);\t\n",
       "})();\n",
       "</script>"
      ]
     },
     "metadata": {},
     "output_type": "display_data"
    },
    {
     "name": "stdout",
     "output_type": "stream",
     "text": [
      "\t[Step 5000] median train step: 329 microseconds\n",
      "Results on batched train:\n",
      "\tMean Loss+Regularization (#loss+): 2.077\n",
      "\tMean Loss (#loss): 0.294\n",
      "\tMean Accuracy (#acc): 86.41%\n",
      "Results on test:\n",
      "\tMean Loss+Regularization (#loss+): 2.085\n",
      "\tMean Loss (#loss): 0.302\n",
      "\tMean Accuracy (#acc): 86.19%\n"
     ]
    }
   ],
   "source": [
    "%% --checkpoint kan_model -set=\"kan=true;activation=swish;plots=true;train_steps=5000\"\n",
    "trainModel(contextFromSettings())"
   ]
  }
 ],
 "metadata": {
  "kernelspec": {
   "display_name": "Go (gonb)",
   "language": "go",
   "name": "gonb"
  },
  "language_info": {
   "codemirror_mode": "",
   "file_extension": ".go",
   "mimetype": "text/x-go",
   "name": "go",
   "nbconvert_exporter": "",
   "pygments_lexer": "",
   "version": "go1.24.2"
  }
 },
 "nbformat": 4,
 "nbformat_minor": 5
}
