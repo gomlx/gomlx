{
 "cells": [
  {
   "cell_type": "markdown",
   "id": "89c9afa4-399c-4a64-ac27-dd1aeecbc8f3",
   "metadata": {},
   "source": [
    "# Fast-Fourier-Transformation Example\n",
    "\n",
    "## Machine-Learned Inverse FFT\n",
    "\n",
    "Let's start with a sinusoidal curve: that's the input (`x`) that we want to learn, given its FFT (`y`).\n",
    "The goal is to do an `InverseRealFFT` by gradient descent.\n",
    "\n",
    "For this problem the input (`x`) is real (`float32`) and label (`y`), the FFT, is complex (`complex64`)."
   ]
  },
  {
   "cell_type": "code",
   "execution_count": 1,
   "id": "2a73f9ca-19a5-44e8-96c1-c488ecf356c0",
   "metadata": {},
   "outputs": [
    {
     "name": "stdout",
     "output_type": "stream",
     "text": [
      "\t- Added replace rule for module \"github.com/gomlx/gomlx\" to local directory \"/home/janpf/Projects/gomlx\".\n"
     ]
    }
   ],
   "source": [
    "!*rm -f go.work && go work init && go work use . \"${HOME}/Projects/gomlx\"\n",
    "%goworkfix"
   ]
  },
  {
   "cell_type": "code",
   "execution_count": 4,
   "id": "e34bf9b0-a4ed-4afe-a52d-deccd7bd4620",
   "metadata": {},
   "outputs": [
    {
     "name": "stdout",
     "output_type": "stream",
     "text": [
      "x: shape=(Float32)[1 100]\n",
      "y: shape=(Complex64)[1 51]\n"
     ]
    },
    {
     "data": {
      "text/html": [
       "<svg width=\"1024\" height=\"320\" viewbox=\"0 0 1024 320\" style=\"background-color:#f8f8f8\" preserveAspectRatio=\"xMidYMid meet\" xmlns=\"http://www.w3.org/2000/svg\"><defs><marker refX=\"5\" refY=\"5\" markerUnits=\"userSpaceOnUse\" markerWidth=\"2%\" markerHeight=\"2%\" id=\"circle\" viewBox=\"0 0 10 10 \"><circle r=\"3\" fill=\"none\" stroke=\"black\" cx=\"5\" cy=\"5\"/></marker><marker refX=\"5\" refY=\"5\" markerUnits=\"userSpaceOnUse\" markerWidth=\"2%\" markerHeight=\"2%\" id=\"filled-circle\" viewBox=\"0 0 10 10 \"><circle cy=\"5\" r=\"3\" fill=\"black\" stroke=\"none\" cx=\"5\"/></marker><marker markerUnits=\"userSpaceOnUse\" markerWidth=\"2%\" markerHeight=\"2%\" id=\"square\" viewBox=\"0 0 10 10 \" refX=\"5\" refY=\"5\"><rect width=\"6\" height=\"6\" fill=\"none\" stroke=\"black\" x=\"2\" y=\"2\"/></marker><marker markerHeight=\"2%\" id=\"filled-square\" viewBox=\"0 0 10 10 \" refX=\"5\" refY=\"5\" markerUnits=\"userSpaceOnUse\" markerWidth=\"2%\"><rect width=\"6\" height=\"6\" fill=\"black\" stroke=\"none\" x=\"2\" y=\"2\"/></marker></defs><g stroke-width=\"2px\" stroke-linecap=\"round\" transform=\"translate(70 250 )scale(1 -1 )\" stroke=\"hsl(90, 47%, 65%)\" fill=\"none\" marker-start=\"url(#square)\" marker-mid=\"url(#square)\" stroke-linejoin=\"round\" marker-end=\"url(#square)\"><path vector-effect=\"non-scaling-stroke\" d=\"M1.768000e+01,9.000000e+01 L2.625212e+01,1.008502e+02 L3.482424e+01,1.115293e+02 L4.339636e+01,1.218689e+02 L5.196848e+01,1.317058e+02 L6.054061e+01,1.408851e+02 L6.911273e+01,1.492618e+02 L7.768485e+01,1.567040e+02 L8.625697e+01,1.630942e+02 L9.482909e+01,1.683316e+02 L1.034012e+02,1.723338e+02 L1.119733e+02,1.750374e+02 L1.205455e+02,1.764000e+02 L1.291176e+02,1.764000e+02 L1.376897e+02,1.750374e+02 L1.462618e+02,1.723337e+02 L1.548339e+02,1.683316e+02 L1.634061e+02,1.630942e+02 L1.719782e+02,1.567040e+02 L1.805503e+02,1.492618e+02 L1.891224e+02,1.408851e+02 L1.976945e+02,1.317058e+02 L2.062667e+02,1.218688e+02 L2.148388e+02,1.115293e+02 L2.234109e+02,1.008502e+02 L2.319830e+02,9.000000e+01 L2.405552e+02,7.914979e+01 L2.491273e+02,6.847070e+01 L2.576994e+02,5.813114e+01 L2.662715e+02,4.829417e+01 L2.748436e+02,3.911494e+01 L2.834158e+02,3.073819e+01 L2.919879e+02,2.329603e+01 L3.005600e+02,1.690582e+01 L3.091321e+02,1.166837e+01 L3.177042e+02,7.666243e+00 L3.262764e+02,4.962576e+00 L3.348485e+02,3.600005e+00 L3.434206e+02,3.600005e+00 L3.519927e+02,4.962587e+00 L3.605648e+02,7.666258e+00 L3.691370e+02,1.166838e+01 L3.777091e+02,1.690585e+01 L3.862812e+02,2.329605e+01 L3.948533e+02,3.073821e+01 L4.034255e+02,3.911497e+01 L4.119976e+02,4.829422e+01 L4.205697e+02,5.813120e+01 L4.291418e+02,6.847076e+01 L4.377139e+02,7.914981e+01 L4.462861e+02,9.000002e+01 L4.548582e+02,1.008502e+02 L4.634303e+02,1.115293e+02 L4.720024e+02,1.218689e+02 L4.805745e+02,1.317058e+02 L4.891467e+02,1.408851e+02 L4.977188e+02,1.492618e+02 L5.062909e+02,1.567040e+02 L5.148630e+02,1.630942e+02 L5.234352e+02,1.683316e+02 L5.320073e+02,1.723338e+02 L5.405794e+02,1.750374e+02 L5.491515e+02,1.764000e+02 L5.577236e+02,1.764000e+02 L5.662958e+02,1.750374e+02 L5.748679e+02,1.723337e+02 L5.834400e+02,1.683316e+02 L5.920121e+02,1.630941e+02 L6.005842e+02,1.567039e+02 L6.091564e+02,1.492618e+02 L6.177285e+02,1.408850e+02 L6.263006e+02,1.317058e+02 L6.348727e+02,1.218688e+02 L6.434448e+02,1.115292e+02 L6.520170e+02,1.008501e+02 L6.605891e+02,9.000000e+01 L6.691612e+02,7.914979e+01 L6.777333e+02,6.847070e+01 L6.863055e+02,5.813114e+01 L6.948776e+02,4.829417e+01 L7.034497e+02,3.911493e+01 L7.120218e+02,3.073817e+01 L7.205939e+02,2.329602e+01 L7.291661e+02,1.690582e+01 L7.377382e+02,1.166836e+01 L7.463103e+02,7.666243e+00 L7.548824e+02,4.962576e+00 L7.634545e+02,3.600000e+00 L7.720267e+02,3.600010e+00 L7.805988e+02,4.962597e+00 L7.891709e+02,7.666274e+00 L7.977430e+02,1.166841e+01 L8.063152e+02,1.690588e+01 L8.148873e+02,2.329609e+01 L8.234594e+02,3.073825e+01 L8.320315e+02,3.911502e+01 L8.406036e+02,4.829427e+01 L8.491758e+02,5.813117e+01 L8.577479e+02,6.847074e+01 L8.663200e+02,7.914983e+01 \"/></g><g stroke-linecap=\"round\" transform=\"translate(70 250 )scale(1 -1 )\" stroke=\"black\" stroke-linejoin=\"round\" fill=\"none\" stroke-width=\"2px\"><path d=\"M1.768000e+01,0 L1.768000e+01,-6 M1.034012e+02,0 L1.034012e+02,-6 M1.891224e+02,0 L1.891224e+02,-6 M2.748436e+02,0 L2.748436e+02,-6 M3.605648e+02,0 L3.605648e+02,-6 M4.462861e+02,0 L4.462861e+02,-6 M5.320073e+02,0 L5.320073e+02,-6 M6.177285e+02,0 L6.177285e+02,-6 M7.034497e+02,0 L7.034497e+02,-6 M7.891709e+02,0 L7.891709e+02,-6 \" vector-effect=\"non-scaling-stroke\"/></g><g transform=\"translate(70 250 )scale(1 1 )\" dominant-baseline=\"hanging\" stroke-linejoin=\"round\" font-family=\"sans-serif\" font-weight=\"normal\" font-style=\"normal\" stroke=\"black\" font-size=\"12px\" text-anchor=\"middle\" fill=\"black\" stroke-width=\"2px\" stroke-linecap=\"round\"><text stroke=\"none\" vector-effect=\"non-scaling-stroke\" x=\"1.768000e+01\" y=\"10\" dominant-baseline=\"hanging\">0</text><text stroke=\"none\" vector-effect=\"non-scaling-stroke\" x=\"1.034012e+02\" y=\"10\" dominant-baseline=\"hanging\">10</text><text stroke=\"none\" vector-effect=\"non-scaling-stroke\" x=\"1.891224e+02\" y=\"10\" dominant-baseline=\"hanging\">20</text><text dominant-baseline=\"hanging\" stroke=\"none\" vector-effect=\"non-scaling-stroke\" x=\"2.748436e+02\" y=\"10\">30</text><text stroke=\"none\" vector-effect=\"non-scaling-stroke\" x=\"3.605648e+02\" y=\"10\" dominant-baseline=\"hanging\">40</text><text dominant-baseline=\"hanging\" stroke=\"none\" vector-effect=\"non-scaling-stroke\" x=\"4.462861e+02\" y=\"10\">50</text><text vector-effect=\"non-scaling-stroke\" x=\"5.320073e+02\" y=\"10\" dominant-baseline=\"hanging\" stroke=\"none\">60</text><text stroke=\"none\" vector-effect=\"non-scaling-stroke\" x=\"6.177285e+02\" y=\"10\" dominant-baseline=\"hanging\">70</text><text dominant-baseline=\"hanging\" stroke=\"none\" vector-effect=\"non-scaling-stroke\" x=\"7.034497e+02\" y=\"10\">80</text><text vector-effect=\"non-scaling-stroke\" x=\"7.891709e+02\" y=\"10\" dominant-baseline=\"hanging\" stroke=\"none\">90</text></g><g font-weight=\"bold\" fill=\"black\" stroke-linecap=\"round\" transform=\"translate(70 250 )scale(1 1 )rotate(0 0 0 )\" dominant-baseline=\"baseline\" font-family=\"sans-serif\" font-size=\"12px\" text-anchor=\"middle\" stroke-width=\"2px\" font-style=\"normal\" stroke=\"black\" stroke-linejoin=\"round\"><text x=\"442\" y=\"-6\" dominant-baseline=\"baseline\" stroke=\"none\" vector-effect=\"non-scaling-stroke\">Steps</text></g><g transform=\"translate(70 250 )scale(1 -1 )\" dominant-baseline=\"baseline\" stroke-linejoin=\"round\" text-anchor=\"middle\" fill=\"black\" stroke-width=\"2px\" font-style=\"normal\" stroke=\"black\" font-family=\"sans-serif\" font-size=\"12px\" font-weight=\"bold\" stroke-linecap=\"round\"><path d=\"M0,9.000000e+01 L-6,9.000000e+01 \" vector-effect=\"non-scaling-stroke\"/></g><g font-size=\"12px\" text-anchor=\"end\" fill=\"black\" stroke-linecap=\"round\" font-style=\"normal\" stroke-linejoin=\"round\" font-family=\"sans-serif\" font-weight=\"normal\" stroke-width=\"2px\" transform=\"translate(70 250 )scale(1 1 )\" dominant-baseline=\"middle\" stroke=\"black\"><text dominant-baseline=\"middle\" stroke=\"none\" vector-effect=\"non-scaling-stroke\" x=\"-10\" y=\"-9.000000e+01\">-0.000</text></g><g text-anchor=\"end\" fill=\"black\" stroke-width=\"0.5px\" stroke-linecap=\"round\" transform=\"translate(70 250 )scale(1 -1 )\" font-style=\"normal\" stroke=\"gray\" stroke-linejoin=\"round\" dominant-baseline=\"middle\" font-family=\"sans-serif\" font-size=\"12px\" font-weight=\"normal\"><path vector-effect=\"non-scaling-stroke\" d=\"M0,9.000000e+01 L884,9.000000e+01 \"/></g><g stroke=\"black\" font-family=\"sans-serif\" font-size=\"12px\" font-weight=\"normal\" fill=\"none\" font-style=\"normal\" stroke-linejoin=\"round\" text-anchor=\"end\" stroke-width=\"2px\" stroke-linecap=\"round\" dominant-baseline=\"middle\"><rect width=\"884\" height=\"180\" vector-effect=\"non-scaling-stroke\" x=\"70\" y=\"70\"/></g></svg>"
      ]
     },
     "metadata": {},
     "output_type": "display_data"
    }
   ],
   "source": [
    "import (\n",
    "    \"github.com/gomlx/gopjrt/dtypes\"\n",
    "    . \"github.com/gomlx/gomlx/pkg/core/graph\"\n",
    "    . \"github.com/gomlx/exceptions\"\n",
    "    \"github.com/gomlx/gomlx/pkg/core/tensors\"\n",
    "    \"github.com/gomlx/gomlx/types/xslices\"\n",
    "    mg \"github.com/gomlx/gomlx/ui/gonb/margaid\"\n",
    "    \"github.com/janpfeifer/gonb/gonbui\"\n",
    "\n",
    "    _ \"github.com/gomlx/gomlx/backends/default\"\n",
    ")\n",
    "\n",
    "// manager always created at initialization.\n",
    "var backend = backends.MustNew()\n",
    "\n",
    "const (\n",
    "    NumPoints = 100\n",
    "    Frequency = 2.0  // Number of curves in samples.\n",
    "    RealDType = dtypes.Float32\n",
    "    ComplexDType = dtypes.Complex64\n",
    ")\n",
    "\n",
    "// CalculateXY returns (x, y) of our problem, where y is a sinusoidal curve and x is its FFT.\n",
    "func CalculateXY() (x, y *tensors.Tensor) {\n",
    "    e := NewExec(backend, func (g *Graph) (x, y *Node) {\n",
    "        x = Iota(g, shapes.Make(RealDType, 1, NumPoints), 1)\n",
    "        x = MulScalar(x, 2.0*math.Pi*Frequency/float64(NumPoints))\n",
    "        x = Sin(x)\n",
    "        y = RealFFT(x)\n",
    "        return\n",
    "    })\n",
    "    res := e.Call()\n",
    "    return res[0], res[1]\n",
    "}\n",
    "\n",
    "func Plot(displayId string, width, height int, coordinates []*tensors.Tensor, names []string) {\n",
    "    plts := mg.New(width, height)\n",
    "    for ii, t := range coordinates {\n",
    "        var values []float64\n",
    "        switch t.DType() {\n",
    "        case dtypes.Float64:\n",
    "            values = tensors.CopyFlatData[float64](t)\n",
    "        case dtypes.Float32:\n",
    "            values32 := tensors.CopyFlatData[float32](t)\n",
    "            values = xslices.Map(values32, func (v float32) float64 { return float64(v) })\n",
    "        default:\n",
    "            Panicf(\"only float32 and float64 tensor dtypes are accepted by Plot, got t.shape=%s\", t.Shape())\n",
    "        }\n",
    "        var name string\n",
    "        if len(names) > ii {\n",
    "            name = names[ii]\n",
    "        }\n",
    "        plts.AddValues(name, \"\", values)\n",
    "    }\n",
    "    if displayId == \"\" {\n",
    "        plts.Plot()\n",
    "    } else {\n",
    "        gonbui.UpdateHTML(displayId, plts.PlotToHTML())\n",
    "    }\n",
    "}\n",
    "\n",
    "%%\n",
    "x, y := CalculateXY()\n",
    "fmt.Printf(\"x: shape=%s\\n\", x.Shape())\n",
    "fmt.Printf(\"y: shape=%s\\n\", y.Shape())\n",
    "Plot(\"\", 1024, 320, []*tensors.Tensor{x}, nil)"
   ]
  },
  {
   "cell_type": "markdown",
   "id": "749d6fbd-c7ad-4bec-80d4-8a2dd1dd1531",
   "metadata": {},
   "source": [
    "### Train the model\n",
    "\n",
    "If you run it, you'll see the plot of the \"learnedX\" adjusting towards \"x\", the original sinusoidal curve."
   ]
  },
  {
   "cell_type": "code",
   "execution_count": 5,
   "id": "555b0279-e565-4857-a422-6ed214305408",
   "metadata": {},
   "outputs": [
    {
     "data": {
      "text/html": [
       "<svg width=\"1024\" height=\"356\" viewbox=\"0 0 1024 320\" style=\"background-color:#f8f8f8\" preserveAspectRatio=\"xMidYMid meet\" xmlns=\"http://www.w3.org/2000/svg\"><defs><marker markerUnits=\"userSpaceOnUse\" markerWidth=\"2%\" markerHeight=\"2%\" id=\"circle\" viewBox=\"0 0 10 10 \" refX=\"5\" refY=\"5\"><circle stroke=\"black\" cx=\"5\" cy=\"5\" r=\"3\" fill=\"none\"/></marker><marker refY=\"5\" markerUnits=\"userSpaceOnUse\" markerWidth=\"2%\" markerHeight=\"2%\" id=\"filled-circle\" viewBox=\"0 0 10 10 \" refX=\"5\"><circle cx=\"5\" cy=\"5\" r=\"3\" fill=\"black\" stroke=\"none\"/></marker><marker markerUnits=\"userSpaceOnUse\" markerWidth=\"2%\" markerHeight=\"2%\" id=\"square\" viewBox=\"0 0 10 10 \" refX=\"5\" refY=\"5\"><rect x=\"2\" y=\"2\" width=\"6\" height=\"6\" fill=\"none\" stroke=\"black\"/></marker><marker markerWidth=\"2%\" markerHeight=\"2%\" id=\"filled-square\" viewBox=\"0 0 10 10 \" refX=\"5\" refY=\"5\" markerUnits=\"userSpaceOnUse\"><rect height=\"6\" fill=\"black\" stroke=\"none\" x=\"2\" y=\"2\" width=\"6\"/></marker></defs><g marker-start=\"url(#square)\" marker-end=\"url(#square)\" stroke-linecap=\"round\" marker-mid=\"url(#square)\" stroke=\"hsl(90, 47%, 65%)\" stroke-width=\"2px\" transform=\"translate(70 250 )scale(1 -1 )\" fill=\"none\" stroke-linejoin=\"round\"><path vector-effect=\"non-scaling-stroke\" d=\"M1.768000e+01,9.002151e+01 L2.625212e+01,1.007628e+02 L3.482424e+01,1.112571e+02 L4.339636e+01,1.218278e+02 L5.196848e+01,1.316329e+02 L6.054061e+01,1.409244e+02 L6.911273e+01,1.490860e+02 L7.768485e+01,1.563981e+02 L8.625697e+01,1.628619e+02 L9.482909e+01,1.679470e+02 L1.034012e+02,1.723704e+02 L1.119733e+02,1.748414e+02 L1.205455e+02,1.760760e+02 L1.291176e+02,1.761470e+02 L1.376897e+02,1.747906e+02 L1.462618e+02,1.723129e+02 L1.548339e+02,1.683837e+02 L1.634061e+02,1.628294e+02 L1.719782e+02,1.564644e+02 L1.805503e+02,1.491961e+02 L1.891224e+02,1.406100e+02 L1.976945e+02,1.315423e+02 L2.062667e+02,1.217592e+02 L2.148388e+02,1.111760e+02 L2.234109e+02,1.007863e+02 L2.319830e+02,8.991833e+01 L2.405552e+02,7.916124e+01 L2.491273e+02,6.840788e+01 L2.576994e+02,5.812052e+01 L2.662715e+02,4.831564e+01 L2.748436e+02,3.924227e+01 L2.834158e+02,3.072767e+01 L2.919879e+02,2.324320e+01 L3.005600e+02,1.681184e+01 L3.091321e+02,1.181798e+01 L3.177042e+02,7.723610e+00 L3.262764e+02,5.007372e+00 L3.348485e+02,3.658448e+00 L3.434206e+02,3.705749e+00 L3.519927e+02,4.914764e+00 L3.605648e+02,7.960571e+00 L3.691370e+02,1.200884e+01 L3.777091e+02,1.684793e+01 L3.862812e+02,2.340069e+01 L3.948533e+02,3.066538e+01 L4.034255e+02,3.903355e+01 L4.119976e+02,4.840465e+01 L4.205697e+02,5.794460e+01 L4.291418e+02,6.840652e+01 L4.377139e+02,7.922285e+01 L4.462861e+02,9.009248e+01 L4.548582e+02,1.007755e+02 L4.634303e+02,1.114983e+02 L4.720024e+02,1.217159e+02 L4.805745e+02,1.314106e+02 L4.891467e+02,1.408669e+02 L4.977188e+02,1.493543e+02 L5.062909e+02,1.566555e+02 L5.148630e+02,1.630038e+02 L5.234352e+02,1.682184e+02 L5.320073e+02,1.721661e+02 L5.405794e+02,1.747673e+02 L5.491515e+02,1.764000e+02 L5.577236e+02,1.762047e+02 L5.662958e+02,1.749398e+02 L5.748679e+02,1.720743e+02 L5.834400e+02,1.681384e+02 L5.920121e+02,1.628829e+02 L6.005842e+02,1.565215e+02 L6.091564e+02,1.489341e+02 L6.177285e+02,1.408977e+02 L6.263006e+02,1.315291e+02 L6.348727e+02,1.217951e+02 L6.434448e+02,1.112836e+02 L6.520170e+02,1.007950e+02 L6.605891e+02,8.980096e+01 L6.691612e+02,7.914645e+01 L6.777333e+02,6.847108e+01 L6.863055e+02,5.825354e+01 L6.948776e+02,4.841329e+01 L7.034497e+02,3.899698e+01 L7.120218e+02,3.068101e+01 L7.205939e+02,2.338602e+01 L7.291661e+02,1.703791e+01 L7.377382e+02,1.193867e+01 L7.463103e+02,7.798254e+00 L7.548824e+02,4.924403e+00 L7.634545e+02,3.600000e+00 L7.720267e+02,3.729873e+00 L7.805988e+02,5.069112e+00 L7.891709e+02,7.709953e+00 L7.977430e+02,1.167444e+01 L8.063152e+02,1.699777e+01 L8.148873e+02,2.330104e+01 L8.234594e+02,3.094107e+01 L8.320315e+02,3.918323e+01 L8.406036e+02,4.827783e+01 L8.491758e+02,5.802219e+01 L8.577479e+02,6.860917e+01 L8.663200e+02,7.907384e+01 \"/></g><g stroke=\"hsl(301, 88%, 65%)\" stroke-width=\"2px\" marker-start=\"url(#square)\" transform=\"translate(70 250 )scale(1 -1 )\" stroke-linecap=\"round\" stroke-linejoin=\"round\" marker-mid=\"url(#square)\" marker-end=\"url(#square)\" fill=\"none\"><path d=\"M1.768000e+01,8.996125e+01 L2.625212e+01,1.007934e+02 L3.482424e+01,1.114548e+02 L4.339636e+01,1.217772e+02 L5.196848e+01,1.315978e+02 L6.054061e+01,1.407618e+02 L6.911273e+01,1.491246e+02 L7.768485e+01,1.565544e+02 L8.625697e+01,1.629340e+02 L9.482909e+01,1.681628e+02 L1.034012e+02,1.721583e+02 L1.119733e+02,1.748574e+02 L1.205455e+02,1.762178e+02 L1.291176e+02,1.762178e+02 L1.376897e+02,1.748574e+02 L1.462618e+02,1.721583e+02 L1.548339e+02,1.681628e+02 L1.634061e+02,1.629340e+02 L1.719782e+02,1.565544e+02 L1.805503e+02,1.491246e+02 L1.891224e+02,1.407618e+02 L1.976945e+02,1.315978e+02 L2.062667e+02,1.217772e+02 L2.148388e+02,1.114548e+02 L2.234109e+02,1.007934e+02 L2.319830e+02,8.996124e+01 L2.405552e+02,7.912906e+01 L2.491273e+02,6.846770e+01 L2.576994e+02,5.814531e+01 L2.662715e+02,4.832468e+01 L2.748436e+02,3.916070e+01 L2.834158e+02,3.079786e+01 L2.919879e+02,2.336806e+01 L3.005600e+02,1.698847e+01 L3.091321e+02,1.175971e+01 L3.177042e+02,7.764234e+00 L3.262764e+02,5.065058e+00 L3.348485e+02,3.704750e+00 L3.434206e+02,3.704750e+00 L3.519927e+02,5.065068e+00 L3.605648e+02,7.764249e+00 L3.691370e+02,1.175973e+01 L3.777091e+02,1.698849e+01 L3.862812e+02,2.336808e+01 L3.948533e+02,3.079789e+01 L4.034255e+02,3.916073e+01 L4.119976e+02,4.832474e+01 L4.205697e+02,5.814537e+01 L4.291418e+02,6.846776e+01 L4.377139e+02,7.912908e+01 L4.462861e+02,8.996127e+01 L4.548582e+02,1.007935e+02 L4.634303e+02,1.114548e+02 L4.720024e+02,1.217772e+02 L4.805745e+02,1.315978e+02 L4.891467e+02,1.407618e+02 L4.977188e+02,1.491247e+02 L5.062909e+02,1.565545e+02 L5.148630e+02,1.629340e+02 L5.234352e+02,1.681628e+02 L5.320073e+02,1.721583e+02 L5.405794e+02,1.748574e+02 L5.491515e+02,1.762178e+02 L5.577236e+02,1.762178e+02 L5.662958e+02,1.748574e+02 L5.748679e+02,1.721582e+02 L5.834400e+02,1.681628e+02 L5.920121e+02,1.629340e+02 L6.005842e+02,1.565544e+02 L6.091564e+02,1.491246e+02 L6.177285e+02,1.407617e+02 L6.263006e+02,1.315977e+02 L6.348727e+02,1.217771e+02 L6.434448e+02,1.114547e+02 L6.520170e+02,1.007934e+02 L6.605891e+02,8.996125e+01 L6.691612e+02,7.912906e+01 L6.777333e+02,6.846771e+01 L6.863055e+02,5.814532e+01 L6.948776e+02,4.832469e+01 L7.034497e+02,3.916069e+01 L7.120218e+02,3.079784e+01 L7.205939e+02,2.336805e+01 L7.291661e+02,1.698846e+01 L7.377382e+02,1.175970e+01 L7.463103e+02,7.764234e+00 L7.548824e+02,5.065058e+00 L7.634545e+02,3.704745e+00 L7.720267e+02,3.704755e+00 L7.805988e+02,5.065078e+00 L7.891709e+02,7.764265e+00 L7.977430e+02,1.175975e+01 L8.063152e+02,1.698852e+01 L8.148873e+02,2.336812e+01 L8.234594e+02,3.079793e+01 L8.320315e+02,3.916078e+01 L8.406036e+02,4.832479e+01 L8.491758e+02,5.814535e+01 L8.577479e+02,6.846774e+01 L8.663200e+02,7.912909e+01 \" vector-effect=\"non-scaling-stroke\"/></g><g fill=\"none\" stroke-linecap=\"round\" stroke-linejoin=\"round\" stroke=\"black\" stroke-width=\"2px\" transform=\"translate(70 250 )scale(1 -1 )\"><path d=\"M1.768000e+01,0 L1.768000e+01,-6 M1.034012e+02,0 L1.034012e+02,-6 M1.891224e+02,0 L1.891224e+02,-6 M2.748436e+02,0 L2.748436e+02,-6 M3.605648e+02,0 L3.605648e+02,-6 M4.462861e+02,0 L4.462861e+02,-6 M5.320073e+02,0 L5.320073e+02,-6 M6.177285e+02,0 L6.177285e+02,-6 M7.034497e+02,0 L7.034497e+02,-6 M7.891709e+02,0 L7.891709e+02,-6 \" vector-effect=\"non-scaling-stroke\"/></g><g stroke-linejoin=\"round\" font-size=\"12px\" font-style=\"normal\" font-weight=\"normal\" stroke=\"black\" transform=\"translate(70 250 )scale(1 1 )\" font-family=\"sans-serif\" dominant-baseline=\"hanging\" fill=\"black\" stroke-linecap=\"round\" text-anchor=\"middle\" stroke-width=\"2px\"><text dominant-baseline=\"hanging\" stroke=\"none\" vector-effect=\"non-scaling-stroke\" x=\"1.768000e+01\" y=\"10\">0</text><text x=\"1.034012e+02\" y=\"10\" dominant-baseline=\"hanging\" stroke=\"none\" vector-effect=\"non-scaling-stroke\">10</text><text y=\"10\" dominant-baseline=\"hanging\" stroke=\"none\" vector-effect=\"non-scaling-stroke\" x=\"1.891224e+02\">20</text><text vector-effect=\"non-scaling-stroke\" x=\"2.748436e+02\" y=\"10\" dominant-baseline=\"hanging\" stroke=\"none\">30</text><text stroke=\"none\" vector-effect=\"non-scaling-stroke\" x=\"3.605648e+02\" y=\"10\" dominant-baseline=\"hanging\">40</text><text vector-effect=\"non-scaling-stroke\" x=\"4.462861e+02\" y=\"10\" dominant-baseline=\"hanging\" stroke=\"none\">50</text><text dominant-baseline=\"hanging\" stroke=\"none\" vector-effect=\"non-scaling-stroke\" x=\"5.320073e+02\" y=\"10\">60</text><text vector-effect=\"non-scaling-stroke\" x=\"6.177285e+02\" y=\"10\" dominant-baseline=\"hanging\" stroke=\"none\">70</text><text stroke=\"none\" vector-effect=\"non-scaling-stroke\" x=\"7.034497e+02\" y=\"10\" dominant-baseline=\"hanging\">80</text><text y=\"10\" dominant-baseline=\"hanging\" stroke=\"none\" vector-effect=\"non-scaling-stroke\" x=\"7.891709e+02\">90</text></g><g stroke-width=\"2px\" stroke-linecap=\"round\" font-size=\"12px\" font-style=\"normal\" font-weight=\"bold\" text-anchor=\"middle\" stroke=\"black\" transform=\"translate(70 250 )scale(1 1 )rotate(0 0 0 )\" font-family=\"sans-serif\" dominant-baseline=\"baseline\" fill=\"black\" stroke-linejoin=\"round\"><text stroke=\"none\" vector-effect=\"non-scaling-stroke\" x=\"442\" y=\"-6\" dominant-baseline=\"baseline\">Steps</text></g><g text-anchor=\"middle\" stroke=\"black\" stroke-width=\"2px\" transform=\"translate(70 250 )scale(1 -1 )\" font-family=\"sans-serif\" dominant-baseline=\"baseline\" font-size=\"12px\" font-weight=\"bold\" fill=\"black\" stroke-linecap=\"round\" stroke-linejoin=\"round\" font-style=\"normal\"><path vector-effect=\"non-scaling-stroke\" d=\"M0,8.996125e+01 L-6,8.996125e+01 M0,1.763883e+02 L-6,1.763883e+02 \"/></g><g stroke-linecap=\"round\" stroke-width=\"2px\" font-family=\"sans-serif\" dominant-baseline=\"middle\" stroke-linejoin=\"round\" font-size=\"12px\" font-style=\"normal\" font-weight=\"normal\" text-anchor=\"end\" stroke=\"black\" transform=\"translate(70 250 )scale(1 1 )\" fill=\"black\"><text stroke=\"none\" vector-effect=\"non-scaling-stroke\" x=\"-10\" y=\"-8.996125e+01\" dominant-baseline=\"middle\">-0.000</text><text x=\"-10\" y=\"-1.763883e+02\" dominant-baseline=\"middle\" stroke=\"none\" vector-effect=\"non-scaling-stroke\">1.000</text></g><g dominant-baseline=\"middle\" fill=\"black\" stroke-linecap=\"round\" stroke-linejoin=\"round\" font-size=\"12px\" font-weight=\"normal\" stroke-width=\"0.5px\" transform=\"translate(70 250 )scale(1 -1 )\" font-style=\"normal\" text-anchor=\"end\" stroke=\"gray\" font-family=\"sans-serif\"><path vector-effect=\"non-scaling-stroke\" d=\"M0,8.996125e+01 L884,8.996125e+01 M0,1.763883e+02 L884,1.763883e+02 \"/></g><g fill=\"none\" font-size=\"12px\" font-style=\"normal\" font-weight=\"normal\" text-anchor=\"end\" stroke-width=\"2px\" font-family=\"sans-serif\" stroke-linecap=\"round\" stroke-linejoin=\"round\" stroke=\"black\" dominant-baseline=\"middle\"><rect x=\"70\" y=\"70\" width=\"884\" height=\"180\" vector-effect=\"non-scaling-stroke\"/><g stroke-width=\"1px\" dominant-baseline=\"hanging\" fill=\"hsl(90, 47%, 65%)\" text-anchor=\"start\" stroke=\"hsl(90, 47%, 65%)\"><rect height=\"12\" vector-effect=\"non-scaling-stroke\" x=\"76\" y=\"286\" width=\"12\"/><g font-size=\"12px\" font-style=\"normal\" font-weight=\"normal\" stroke=\"black\" font-family=\"sans-serif\" fill=\"black\" stroke-linecap=\"round\" stroke-linejoin=\"round\"><text stroke=\"none\" vector-effect=\"non-scaling-stroke\" x=\"92\" y=\"286\" dominant-baseline=\"hanging\">Learned</text><g stroke=\"hsl(301, 88%, 65%)\" stroke-width=\"1px\" dominant-baseline=\"hanging\" fill=\"hsl(301, 88%, 65%)\" text-anchor=\"start\"><rect y=\"304\" width=\"12\" height=\"12\" vector-effect=\"non-scaling-stroke\" x=\"76\"/><g font-family=\"sans-serif\" fill=\"black\" stroke-linecap=\"round\" stroke-linejoin=\"round\" font-size=\"12px\" font-style=\"normal\" font-weight=\"normal\" stroke=\"black\"><text dominant-baseline=\"hanging\" stroke=\"none\" vector-effect=\"non-scaling-stroke\" x=\"92\" y=\"304\">Truth</text></g></g></g></g></g></svg>"
      ]
     },
     "metadata": {},
     "output_type": "display_data"
    },
    {
     "name": "stdout",
     "output_type": "stream",
     "text": [
      "Training (800 steps):  100% [========================================] (3269 steps/s) [step=799] [loss+=0.011] [~loss+=0.022] [~loss=0.022]                \n"
     ]
    }
   ],
   "source": [
    "import (\n",
    "    . \"github.com/gomlx/gomlx/pkg/core/graph\"\n",
    "    \"github.com/gomlx/gomlx/ml/context\"\n",
    "    \"github.com/gomlx/gomlx/ml/data\"\n",
    "    \"github.com/gomlx/gomlx/ml/train\"\n",
    ")\n",
    "\n",
    "var (\n",
    "\tflagNumSteps     = flag.Int(\"steps\", 1000, \"Number of gradient descent steps to perform\")\n",
    "\tflagLearningRate = flag.Float64(\"learning_rate\", 0.1, \"Initial learning rate.\")\n",
    ")\n",
    "\n",
    "func TrainInverseRealFFT() {\n",
    "    x, y := CalculateXY()\n",
    "    ctx := context.New()\n",
    "\tctx.SetParam(optimizers.LearningRateKey, *flagLearningRate)\n",
    "\n",
    "    modelFn := func(ctx *context.Context, spec any, inputs []*Node) []*Node {\n",
    "        g := inputs[0].Graph()\n",
    "        learnedXVar := ctx.VariableWithShape(\"learnedX\", x.Shape())\n",
    "        predictedY := RealFFT(learnedXVar.ValueGraph(g))\n",
    "        return []*Node{predictedY}\n",
    "    }\n",
    "\n",
    "    dataset, err := data.InMemoryFromData(backend, \"dataset\", []any{x}, []any{y})\n",
    "    if err != nil {\n",
    "        panic(err)\n",
    "    }\n",
    "    dataset.BatchSize(1, false).Infinite(true)\n",
    "\n",
    "    opt := optimizers.Adam().Done()\n",
    "    trainer := train.NewTrainer(\n",
    "        backend, ctx, modelFn,\n",
    "        losses.MeanAbsoluteError,\n",
    "        opt,\n",
    "        nil, nil) // trainMetrics, evalMetrics\n",
    "\n",
    "\tloop := train.NewLoop(trainer)\n",
    "\tcommandline.AttachProgressBar(loop) // Attaches a progress bar to the loop.\n",
    "\n",
    "    // Plot learnedX\n",
    "    displayId := gonbui.UniqueID()\n",
    "    gonbui.UpdateHTML(displayId, \"\")\n",
    "    train.EveryNSteps(loop, 10, \"plot\", 0, func(loop *train.Loop, metrics []*tensors.Tensor) error {\n",
    "        learnedXVar := ctx.InspectVariable(context.RootScope, \"learnedX\")\n",
    "        learnedX := learnedXVar.Value()\n",
    "        Plot(displayId, 1024, 320, []*tensors.Tensor{x, learnedX}, []string{\"Truth\", \"Learned\"})\n",
    "        return nil\n",
    "    })\n",
    "    \n",
    "\t// Loop for given number of steps.\n",
    "\t_, err = loop.RunSteps(dataset, *flagNumSteps)\n",
    "\tif err != nil {\n",
    "\t\tpanic(err)\n",
    "\t}\n",
    "\n",
    "}\n",
    "\n",
    "%% --steps=800 --learning_rate=0.01\n",
    "TrainInverseRealFFT()"
   ]
  }
 ],
 "metadata": {
  "kernelspec": {
   "display_name": "Go (gonb)",
   "language": "go",
   "name": "gonb"
  },
  "language_info": {
   "codemirror_mode": "",
   "file_extension": ".go",
   "mimetype": "text/x-go",
   "name": "go",
   "nbconvert_exporter": "",
   "pygments_lexer": "",
   "version": "go1.24.2"
  }
 },
 "nbformat": 4,
 "nbformat_minor": 5
}
