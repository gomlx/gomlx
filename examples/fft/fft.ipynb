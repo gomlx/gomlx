{
 "cells": [
  {
   "cell_type": "markdown",
   "id": "89c9afa4-399c-4a64-ac27-dd1aeecbc8f3",
   "metadata": {},
   "source": [
    "# Fast-Fourier-Transformation Example\n",
    "\n",
    "## Machine-Learned Inverse FFT\n",
    "\n",
    "Let's start with a sinusoidal curve: that's the input (`x`) that we want to learn, given its FFT (`y`).\n",
    "The goal is to do an `InverseRealFFT` by gradient descent.\n",
    "\n",
    "For this problem the input (`x`) is real (`float32`) and label (`y`), the FFT, is complex (`complex64`)."
   ]
  },
  {
   "cell_type": "code",
   "execution_count": 1,
   "id": "2a73f9ca-19a5-44e8-96c1-c488ecf356c0",
   "metadata": {},
   "outputs": [
    {
     "name": "stdout",
     "output_type": "stream",
     "text": [
      "\t- Added replace rule for module \"github.com/gomlx/gomlx\" to local directory \"/home/janpf/Projects/gomlx\".\n"
     ]
    }
   ],
   "source": [
    "!*rm -f go.work && go work init && go work use . \"${HOME}/Projects/gomlx\"\n",
    "%goworkfix"
   ]
  },
  {
   "cell_type": "code",
   "execution_count": 2,
   "id": "e34bf9b0-a4ed-4afe-a52d-deccd7bd4620",
   "metadata": {},
   "outputs": [
    {
     "name": "stdout",
     "output_type": "stream",
     "text": [
      "x: shape=(Float32)[1 100]\n",
      "y: shape=(Complex64)[1 51]\n"
     ]
    },
    {
     "data": {
      "text/html": [
       "<svg width=\"1024\" height=\"320\" viewbox=\"0 0 1024 320\" style=\"background-color:#f8f8f8\" preserveAspectRatio=\"xMidYMid meet\" xmlns=\"http://www.w3.org/2000/svg\"><defs><marker markerUnits=\"userSpaceOnUse\" markerWidth=\"2%\" markerHeight=\"2%\" id=\"circle\" viewBox=\"0 0 10 10 \" refX=\"5\" refY=\"5\"><circle cy=\"5\" r=\"3\" fill=\"none\" stroke=\"black\" cx=\"5\"/></marker><marker markerWidth=\"2%\" markerHeight=\"2%\" id=\"filled-circle\" viewBox=\"0 0 10 10 \" refX=\"5\" refY=\"5\" markerUnits=\"userSpaceOnUse\"><circle r=\"3\" fill=\"black\" stroke=\"none\" cx=\"5\" cy=\"5\"/></marker><marker id=\"square\" viewBox=\"0 0 10 10 \" refX=\"5\" refY=\"5\" markerUnits=\"userSpaceOnUse\" markerWidth=\"2%\" markerHeight=\"2%\"><rect width=\"6\" height=\"6\" fill=\"none\" stroke=\"black\" x=\"2\" y=\"2\"/></marker><marker viewBox=\"0 0 10 10 \" refX=\"5\" refY=\"5\" markerUnits=\"userSpaceOnUse\" markerWidth=\"2%\" markerHeight=\"2%\" id=\"filled-square\"><rect y=\"2\" width=\"6\" height=\"6\" fill=\"black\" stroke=\"none\" x=\"2\"/></marker></defs><g marker-start=\"url(#square)\" marker-mid=\"url(#square)\" marker-end=\"url(#square)\" stroke-width=\"2px\" fill=\"none\" stroke=\"hsl(90, 47%, 65%)\" stroke-linejoin=\"round\" transform=\"translate(70 250 )scale(1 -1 )\" stroke-linecap=\"round\"><path vector-effect=\"non-scaling-stroke\" d=\"M1.768000e+01,9.000000e+01 L2.625212e+01,1.008502e+02 L3.482424e+01,1.115293e+02 L4.339636e+01,1.218689e+02 L5.196848e+01,1.317058e+02 L6.054061e+01,1.408851e+02 L6.911273e+01,1.492618e+02 L7.768485e+01,1.567040e+02 L8.625697e+01,1.630942e+02 L9.482909e+01,1.683316e+02 L1.034012e+02,1.723338e+02 L1.119733e+02,1.750374e+02 L1.205455e+02,1.764000e+02 L1.291176e+02,1.764000e+02 L1.376897e+02,1.750374e+02 L1.462618e+02,1.723337e+02 L1.548339e+02,1.683316e+02 L1.634061e+02,1.630942e+02 L1.719782e+02,1.567040e+02 L1.805503e+02,1.492618e+02 L1.891224e+02,1.408851e+02 L1.976945e+02,1.317058e+02 L2.062667e+02,1.218688e+02 L2.148388e+02,1.115293e+02 L2.234109e+02,1.008502e+02 L2.319830e+02,9.000000e+01 L2.405552e+02,7.914979e+01 L2.491273e+02,6.847070e+01 L2.576994e+02,5.813114e+01 L2.662715e+02,4.829417e+01 L2.748436e+02,3.911494e+01 L2.834158e+02,3.073819e+01 L2.919879e+02,2.329603e+01 L3.005600e+02,1.690582e+01 L3.091321e+02,1.166837e+01 L3.177042e+02,7.666243e+00 L3.262764e+02,4.962576e+00 L3.348485e+02,3.600005e+00 L3.434206e+02,3.600005e+00 L3.519927e+02,4.962587e+00 L3.605648e+02,7.666258e+00 L3.691370e+02,1.166838e+01 L3.777091e+02,1.690585e+01 L3.862812e+02,2.329605e+01 L3.948533e+02,3.073821e+01 L4.034255e+02,3.911497e+01 L4.119976e+02,4.829422e+01 L4.205697e+02,5.813120e+01 L4.291418e+02,6.847076e+01 L4.377139e+02,7.914981e+01 L4.462861e+02,9.000002e+01 L4.548582e+02,1.008502e+02 L4.634303e+02,1.115293e+02 L4.720024e+02,1.218689e+02 L4.805745e+02,1.317058e+02 L4.891467e+02,1.408851e+02 L4.977188e+02,1.492618e+02 L5.062909e+02,1.567040e+02 L5.148630e+02,1.630942e+02 L5.234352e+02,1.683316e+02 L5.320073e+02,1.723338e+02 L5.405794e+02,1.750374e+02 L5.491515e+02,1.764000e+02 L5.577236e+02,1.764000e+02 L5.662958e+02,1.750374e+02 L5.748679e+02,1.723337e+02 L5.834400e+02,1.683316e+02 L5.920121e+02,1.630941e+02 L6.005842e+02,1.567039e+02 L6.091564e+02,1.492618e+02 L6.177285e+02,1.408850e+02 L6.263006e+02,1.317058e+02 L6.348727e+02,1.218688e+02 L6.434448e+02,1.115292e+02 L6.520170e+02,1.008501e+02 L6.605891e+02,9.000000e+01 L6.691612e+02,7.914979e+01 L6.777333e+02,6.847070e+01 L6.863055e+02,5.813114e+01 L6.948776e+02,4.829417e+01 L7.034497e+02,3.911493e+01 L7.120218e+02,3.073817e+01 L7.205939e+02,2.329602e+01 L7.291661e+02,1.690582e+01 L7.377382e+02,1.166836e+01 L7.463103e+02,7.666243e+00 L7.548824e+02,4.962576e+00 L7.634545e+02,3.600000e+00 L7.720267e+02,3.600010e+00 L7.805988e+02,4.962597e+00 L7.891709e+02,7.666274e+00 L7.977430e+02,1.166841e+01 L8.063152e+02,1.690588e+01 L8.148873e+02,2.329609e+01 L8.234594e+02,3.073825e+01 L8.320315e+02,3.911502e+01 L8.406036e+02,4.829427e+01 L8.491758e+02,5.813117e+01 L8.577479e+02,6.847074e+01 L8.663200e+02,7.914983e+01 \"/></g><g stroke-linejoin=\"round\" transform=\"translate(70 250 )scale(1 -1 )\" stroke-width=\"2px\" stroke-linecap=\"round\" fill=\"none\" stroke=\"black\"><path vector-effect=\"non-scaling-stroke\" d=\"M1.768000e+01,0 L1.768000e+01,-6 M1.034012e+02,0 L1.034012e+02,-6 M1.891224e+02,0 L1.891224e+02,-6 M2.748436e+02,0 L2.748436e+02,-6 M3.605648e+02,0 L3.605648e+02,-6 M4.462861e+02,0 L4.462861e+02,-6 M5.320073e+02,0 L5.320073e+02,-6 M6.177285e+02,0 L6.177285e+02,-6 M7.034497e+02,0 L7.034497e+02,-6 M7.891709e+02,0 L7.891709e+02,-6 \"/></g><g text-anchor=\"middle\" font-size=\"12px\" stroke-linejoin=\"round\" font-style=\"normal\" stroke-width=\"2px\" stroke-linecap=\"round\" dominant-baseline=\"hanging\" fill=\"black\" stroke=\"black\" transform=\"translate(70 250 )scale(1 1 )\" font-family=\"sans-serif\" font-weight=\"normal\"><text y=\"10\" dominant-baseline=\"hanging\" stroke=\"none\" vector-effect=\"non-scaling-stroke\" x=\"1.768000e+01\">0</text><text vector-effect=\"non-scaling-stroke\" x=\"1.034012e+02\" y=\"10\" dominant-baseline=\"hanging\" stroke=\"none\">10</text><text stroke=\"none\" vector-effect=\"non-scaling-stroke\" x=\"1.891224e+02\" y=\"10\" dominant-baseline=\"hanging\">20</text><text x=\"2.748436e+02\" y=\"10\" dominant-baseline=\"hanging\" stroke=\"none\" vector-effect=\"non-scaling-stroke\">30</text><text dominant-baseline=\"hanging\" stroke=\"none\" vector-effect=\"non-scaling-stroke\" x=\"3.605648e+02\" y=\"10\">40</text><text stroke=\"none\" vector-effect=\"non-scaling-stroke\" x=\"4.462861e+02\" y=\"10\" dominant-baseline=\"hanging\">50</text><text stroke=\"none\" vector-effect=\"non-scaling-stroke\" x=\"5.320073e+02\" y=\"10\" dominant-baseline=\"hanging\">60</text><text x=\"6.177285e+02\" y=\"10\" dominant-baseline=\"hanging\" stroke=\"none\" vector-effect=\"non-scaling-stroke\">70</text><text vector-effect=\"non-scaling-stroke\" x=\"7.034497e+02\" y=\"10\" dominant-baseline=\"hanging\" stroke=\"none\">80</text><text y=\"10\" dominant-baseline=\"hanging\" stroke=\"none\" vector-effect=\"non-scaling-stroke\" x=\"7.891709e+02\">90</text></g><g font-style=\"normal\" text-anchor=\"middle\" stroke-width=\"2px\" stroke-linecap=\"round\" fill=\"black\" stroke=\"black\" stroke-linejoin=\"round\" font-family=\"sans-serif\" font-weight=\"bold\" font-size=\"12px\" dominant-baseline=\"baseline\" transform=\"translate(70 250 )scale(1 1 )rotate(0 0 0 )\"><text vector-effect=\"non-scaling-stroke\" x=\"442\" y=\"-6\" dominant-baseline=\"baseline\" stroke=\"none\">Steps</text></g><g font-style=\"normal\" font-weight=\"bold\" stroke-width=\"2px\" stroke-linecap=\"round\" dominant-baseline=\"baseline\" fill=\"black\" font-family=\"sans-serif\" text-anchor=\"middle\" font-size=\"12px\" stroke=\"black\" stroke-linejoin=\"round\" transform=\"translate(70 250 )scale(1 -1 )\"><path d=\"M0,9.000000e+01 L-6,9.000000e+01 \" vector-effect=\"non-scaling-stroke\"/></g><g stroke-linecap=\"round\" font-size=\"12px\" stroke=\"black\" stroke-linejoin=\"round\" transform=\"translate(70 250 )scale(1 1 )\" font-family=\"sans-serif\" font-weight=\"normal\" text-anchor=\"end\" dominant-baseline=\"middle\" fill=\"black\" font-style=\"normal\" stroke-width=\"2px\"><text x=\"-10\" y=\"-9.000000e+01\" dominant-baseline=\"middle\" stroke=\"none\" vector-effect=\"non-scaling-stroke\">-0.000</text></g><g text-anchor=\"end\" stroke-width=\"0.5px\" font-size=\"12px\" fill=\"black\" stroke=\"gray\" stroke-linejoin=\"round\" transform=\"translate(70 250 )scale(1 -1 )\" stroke-linecap=\"round\" dominant-baseline=\"middle\" font-family=\"sans-serif\" font-style=\"normal\" font-weight=\"normal\"><path vector-effect=\"non-scaling-stroke\" d=\"M0,9.000000e+01 L884,9.000000e+01 \"/></g><g text-anchor=\"end\" stroke-linecap=\"round\" font-size=\"12px\" fill=\"none\" stroke=\"black\" stroke-linejoin=\"round\" font-style=\"normal\" font-weight=\"normal\" stroke-width=\"2px\" dominant-baseline=\"middle\" font-family=\"sans-serif\"><rect height=\"180\" vector-effect=\"non-scaling-stroke\" x=\"70\" y=\"70\" width=\"884\"/></g></svg>"
      ]
     },
     "metadata": {},
     "output_type": "display_data"
    }
   ],
   "source": [
    "import (\n",
    "    \"github.com/gomlx/gopjrt/dtypes\"\n",
    "    . \"github.com/gomlx/gomlx/pkg/core/graph\"\n",
    "    . \"github.com/gomlx/exceptions\"\n",
    "    \"github.com/gomlx/gomlx/pkg/core/tensors\"\n",
    "    \"github.com/gomlx/gomlx/pkg/support/xslices\"\n",
    "    mg \"github.com/gomlx/gomlx/ui/gonb/margaid\"\n",
    "    \"github.com/janpfeifer/gonb/gonbui\"\n",
    "\n",
    "    _ \"github.com/gomlx/gomlx/backends/default\"\n",
    ")\n",
    "\n",
    "// manager always created at initialization.\n",
    "var backend = backends.MustNew()\n",
    "\n",
    "const (\n",
    "    NumPoints = 100\n",
    "    Frequency = 2.0  // Number of curves in samples.\n",
    "    RealDType = dtypes.Float32\n",
    "    ComplexDType = dtypes.Complex64\n",
    ")\n",
    "\n",
    "// CalculateXY returns (x, y) of our problem, where y is a sinusoidal curve and x is its FFT.\n",
    "func CalculateXY() (x, y *tensors.Tensor) {\n",
    "    e := MustNewExec(backend, func (g *Graph) (x, y *Node) {\n",
    "        x = Iota(g, shapes.Make(RealDType, 1, NumPoints), 1)\n",
    "        x = MulScalar(x, 2.0*math.Pi*Frequency/float64(NumPoints))\n",
    "        x = Sin(x)\n",
    "        y = RealFFT(x)\n",
    "        return\n",
    "    })\n",
    "    return e.Call2()\n",
    "}\n",
    "\n",
    "func Plot(displayId string, width, height int, coordinates []*tensors.Tensor, names []string) {\n",
    "    plts := mg.New(width, height)\n",
    "    for ii, t := range coordinates {\n",
    "        var values []float64\n",
    "        switch t.DType() {\n",
    "        case dtypes.Float64:\n",
    "            values = tensors.CopyFlatData[float64](t)\n",
    "        case dtypes.Float32:\n",
    "            values32 := tensors.CopyFlatData[float32](t)\n",
    "            values = xslices.Map(values32, func (v float32) float64 { return float64(v) })\n",
    "        default:\n",
    "            Panicf(\"only float32 and float64 tensor dtypes are accepted by Plot, got t.shape=%s\", t.Shape())\n",
    "        }\n",
    "        var name string\n",
    "        if len(names) > ii {\n",
    "            name = names[ii]\n",
    "        }\n",
    "        plts.AddValues(name, \"\", values)\n",
    "    }\n",
    "    if displayId == \"\" {\n",
    "        plts.Plot()\n",
    "    } else {\n",
    "        gonbui.UpdateHTML(displayId, plts.PlotToHTML())\n",
    "    }\n",
    "}\n",
    "\n",
    "%%\n",
    "x, y := CalculateXY()\n",
    "fmt.Printf(\"x: shape=%s\\n\", x.Shape())\n",
    "fmt.Printf(\"y: shape=%s\\n\", y.Shape())\n",
    "Plot(\"\", 1024, 320, []*tensors.Tensor{x}, nil)"
   ]
  },
  {
   "cell_type": "markdown",
   "id": "749d6fbd-c7ad-4bec-80d4-8a2dd1dd1531",
   "metadata": {},
   "source": [
    "### Train the model\n",
    "\n",
    "If you run it, you'll see the plot of the \"learnedX\" adjusting towards \"x\", the original sinusoidal curve."
   ]
  },
  {
   "cell_type": "code",
   "execution_count": 3,
   "id": "555b0279-e565-4857-a422-6ed214305408",
   "metadata": {},
   "outputs": [
    {
     "data": {
      "text/html": [
       "<svg viewbox=\"0 0 1024 320\" style=\"background-color:#f8f8f8\" preserveAspectRatio=\"xMidYMid meet\" xmlns=\"http://www.w3.org/2000/svg\" width=\"1024\" height=\"356\"><defs><marker refY=\"5\" markerUnits=\"userSpaceOnUse\" markerWidth=\"2%\" markerHeight=\"2%\" id=\"circle\" viewBox=\"0 0 10 10 \" refX=\"5\"><circle cx=\"5\" cy=\"5\" r=\"3\" fill=\"none\" stroke=\"black\"/></marker><marker viewBox=\"0 0 10 10 \" refX=\"5\" refY=\"5\" markerUnits=\"userSpaceOnUse\" markerWidth=\"2%\" markerHeight=\"2%\" id=\"filled-circle\"><circle cx=\"5\" cy=\"5\" r=\"3\" fill=\"black\" stroke=\"none\"/></marker><marker refX=\"5\" refY=\"5\" markerUnits=\"userSpaceOnUse\" markerWidth=\"2%\" markerHeight=\"2%\" id=\"square\" viewBox=\"0 0 10 10 \"><rect x=\"2\" y=\"2\" width=\"6\" height=\"6\" fill=\"none\" stroke=\"black\"/></marker><marker refY=\"5\" markerUnits=\"userSpaceOnUse\" markerWidth=\"2%\" markerHeight=\"2%\" id=\"filled-square\" viewBox=\"0 0 10 10 \" refX=\"5\"><rect height=\"6\" fill=\"black\" stroke=\"none\" x=\"2\" y=\"2\" width=\"6\"/></marker></defs><g stroke-linejoin=\"round\" marker-start=\"url(#square)\" marker-mid=\"url(#square)\" marker-end=\"url(#square)\" fill=\"none\" stroke-width=\"2px\" transform=\"translate(70 250 )scale(1 -1 )\" stroke-linecap=\"round\" stroke=\"hsl(90, 47%, 65%)\"><path vector-effect=\"non-scaling-stroke\" d=\"M1.768000e+01,9.021671e+01 L2.625212e+01,1.009384e+02 L3.482424e+01,1.115920e+02 L4.339636e+01,1.218933e+02 L5.196848e+01,1.318013e+02 L6.054061e+01,1.409161e+02 L6.911273e+01,1.493723e+02 L7.768485e+01,1.566330e+02 L8.625697e+01,1.632546e+02 L9.482909e+01,1.683125e+02 L1.034012e+02,1.722125e+02 L1.119733e+02,1.751229e+02 L1.205455e+02,1.763531e+02 L1.291176e+02,1.763746e+02 L1.376897e+02,1.750604e+02 L1.462618e+02,1.722286e+02 L1.548339e+02,1.682860e+02 L1.634061e+02,1.631155e+02 L1.719782e+02,1.567240e+02 L1.805503e+02,1.492605e+02 L1.891224e+02,1.411002e+02 L1.976945e+02,1.319460e+02 L2.062667e+02,1.217475e+02 L2.148388e+02,1.115085e+02 L2.234109e+02,1.010200e+02 L2.319830e+02,8.997130e+01 L2.405552e+02,7.931481e+01 L2.491273e+02,6.846198e+01 L2.576994e+02,5.824688e+01 L2.662715e+02,4.855512e+01 L2.748436e+02,3.927127e+01 L2.834158e+02,3.096312e+01 L2.919879e+02,2.352825e+01 L3.005600e+02,1.695038e+01 L3.091321e+02,1.196284e+01 L3.177042e+02,7.853250e+00 L3.262764e+02,5.144928e+00 L3.348485e+02,3.652575e+00 L3.434206e+02,3.925570e+00 L3.519927e+02,5.087284e+00 L3.605648e+02,7.874798e+00 L3.691370e+02,1.206746e+01 L3.777091e+02,1.708435e+01 L3.862812e+02,2.341827e+01 L3.948533e+02,3.106246e+01 L4.034255e+02,3.928310e+01 L4.119976e+02,4.847520e+01 L4.205697e+02,5.837503e+01 L4.291418e+02,6.848902e+01 L4.377139e+02,7.928568e+01 L4.462861e+02,9.017962e+01 L4.548582e+02,1.007601e+02 L4.634303e+02,1.116344e+02 L4.720024e+02,1.219590e+02 L4.805745e+02,1.317074e+02 L4.891467e+02,1.408827e+02 L4.977188e+02,1.492368e+02 L5.062909e+02,1.566607e+02 L5.148630e+02,1.631113e+02 L5.234352e+02,1.682568e+02 L5.320073e+02,1.724044e+02 L5.405794e+02,1.750587e+02 L5.491515e+02,1.763813e+02 L5.577236e+02,1.762831e+02 L5.662958e+02,1.750835e+02 L5.748679e+02,1.723697e+02 L5.834400e+02,1.682940e+02 L5.920121e+02,1.630749e+02 L6.005842e+02,1.568025e+02 L6.091564e+02,1.492336e+02 L6.177285e+02,1.409459e+02 L6.263006e+02,1.317252e+02 L6.348727e+02,1.220132e+02 L6.434448e+02,1.115567e+02 L6.520170e+02,1.008048e+02 L6.605891e+02,9.002309e+01 L6.691612e+02,7.931499e+01 L6.777333e+02,6.847970e+01 L6.863055e+02,5.833285e+01 L6.948776e+02,4.838380e+01 L7.034497e+02,3.929021e+01 L7.120218e+02,3.094937e+01 L7.205939e+02,2.354823e+01 L7.291661e+02,1.708486e+01 L7.377382e+02,1.174654e+01 L7.463103e+02,7.905892e+00 L7.548824e+02,5.237474e+00 L7.634545e+02,3.600000e+00 L7.720267e+02,3.900055e+00 L7.805988e+02,5.049508e+00 L7.891709e+02,7.875009e+00 L7.977430e+02,1.204044e+01 L8.063152e+02,1.715000e+01 L8.148873e+02,2.340840e+01 L8.234594e+02,3.098923e+01 L8.320315e+02,3.926782e+01 L8.406036e+02,4.839677e+01 L8.491758e+02,5.829645e+01 L8.577479e+02,6.860636e+01 L8.663200e+02,7.922538e+01 \"/></g><g fill=\"none\" stroke=\"hsl(301, 88%, 65%)\" transform=\"translate(70 250 )scale(1 -1 )\" stroke-linecap=\"round\" marker-end=\"url(#square)\" stroke-width=\"2px\" stroke-linejoin=\"round\" marker-start=\"url(#square)\" marker-mid=\"url(#square)\"><path vector-effect=\"non-scaling-stroke\" d=\"M1.768000e+01,9.014395e+01 L2.625212e+01,1.009761e+02 L3.482424e+01,1.116374e+02 L4.339636e+01,1.219597e+02 L5.196848e+01,1.317803e+02 L6.054061e+01,1.409442e+02 L6.911273e+01,1.493070e+02 L7.768485e+01,1.567368e+02 L8.625697e+01,1.631163e+02 L9.482909e+01,1.683451e+02 L1.034012e+02,1.723405e+02 L1.119733e+02,1.750397e+02 L1.205455e+02,1.764000e+02 L1.291176e+02,1.764000e+02 L1.376897e+02,1.750397e+02 L1.462618e+02,1.723405e+02 L1.548339e+02,1.683451e+02 L1.634061e+02,1.631163e+02 L1.719782e+02,1.567368e+02 L1.805503e+02,1.493070e+02 L1.891224e+02,1.409442e+02 L1.976945e+02,1.317803e+02 L2.062667e+02,1.219597e+02 L2.148388e+02,1.116373e+02 L2.234109e+02,1.009760e+02 L2.319830e+02,9.014394e+01 L2.405552e+02,7.931181e+01 L2.491273e+02,6.865051e+01 L2.576994e+02,5.832817e+01 L2.662715e+02,4.850759e+01 L2.748436e+02,3.934366e+01 L2.834158e+02,3.098086e+01 L2.919879e+02,2.355110e+01 L3.005600e+02,1.717154e+01 L3.091321e+02,1.194281e+01 L3.177042e+02,7.947356e+00 L3.262764e+02,5.248194e+00 L3.348485e+02,3.887893e+00 L3.434206e+02,3.887893e+00 L3.519927e+02,5.248204e+00 L3.605648e+02,7.947371e+00 L3.691370e+02,1.194283e+01 L3.777091e+02,1.717157e+01 L3.862812e+02,2.355112e+01 L3.948533e+02,3.098089e+01 L4.034255e+02,3.934369e+01 L4.119976e+02,4.850765e+01 L4.205697e+02,5.832823e+01 L4.291418e+02,6.865057e+01 L4.377139e+02,7.931183e+01 L4.462861e+02,9.014396e+01 L4.548582e+02,1.009761e+02 L4.634303e+02,1.116374e+02 L4.720024e+02,1.219597e+02 L4.805745e+02,1.317803e+02 L4.891467e+02,1.409443e+02 L4.977188e+02,1.493071e+02 L5.062909e+02,1.567368e+02 L5.148630e+02,1.631164e+02 L5.234352e+02,1.683451e+02 L5.320073e+02,1.723405e+02 L5.405794e+02,1.750397e+02 L5.491515e+02,1.764000e+02 L5.577236e+02,1.764000e+02 L5.662958e+02,1.750397e+02 L5.748679e+02,1.723405e+02 L5.834400e+02,1.683450e+02 L5.920121e+02,1.631163e+02 L6.005842e+02,1.567368e+02 L6.091564e+02,1.493070e+02 L6.177285e+02,1.409442e+02 L6.263006e+02,1.317802e+02 L6.348727e+02,1.219596e+02 L6.434448e+02,1.116373e+02 L6.520170e+02,1.009760e+02 L6.605891e+02,9.014394e+01 L6.691612e+02,7.931181e+01 L6.777333e+02,6.865052e+01 L6.863055e+02,5.832818e+01 L6.948776e+02,4.850760e+01 L7.034497e+02,3.934365e+01 L7.120218e+02,3.098085e+01 L7.205939e+02,2.355109e+01 L7.291661e+02,1.717154e+01 L7.377382e+02,1.194280e+01 L7.463103e+02,7.947356e+00 L7.548824e+02,5.248194e+00 L7.634545e+02,3.887887e+00 L7.720267e+02,3.887898e+00 L7.805988e+02,5.248214e+00 L7.891709e+02,7.947387e+00 L7.977430e+02,1.194285e+01 L8.063152e+02,1.717160e+01 L8.148873e+02,2.355116e+01 L8.234594e+02,3.098093e+01 L8.320315e+02,3.934374e+01 L8.406036e+02,4.850770e+01 L8.491758e+02,5.832821e+01 L8.577479e+02,6.865055e+01 L8.663200e+02,7.931185e+01 \"/></g><g fill=\"none\" stroke=\"black\" stroke-width=\"2px\" transform=\"translate(70 250 )scale(1 -1 )\" stroke-linecap=\"round\" stroke-linejoin=\"round\"><path vector-effect=\"non-scaling-stroke\" d=\"M1.768000e+01,0 L1.768000e+01,-6 M1.034012e+02,0 L1.034012e+02,-6 M1.891224e+02,0 L1.891224e+02,-6 M2.748436e+02,0 L2.748436e+02,-6 M3.605648e+02,0 L3.605648e+02,-6 M4.462861e+02,0 L4.462861e+02,-6 M5.320073e+02,0 L5.320073e+02,-6 M6.177285e+02,0 L6.177285e+02,-6 M7.034497e+02,0 L7.034497e+02,-6 M7.891709e+02,0 L7.891709e+02,-6 \"/></g><g stroke-linejoin=\"round\" font-weight=\"normal\" stroke=\"black\" stroke-width=\"2px\" font-size=\"12px\" text-anchor=\"middle\" dominant-baseline=\"hanging\" font-style=\"normal\" fill=\"black\" transform=\"translate(70 250 )scale(1 1 )\" font-family=\"sans-serif\" stroke-linecap=\"round\"><text x=\"1.768000e+01\" y=\"10\" dominant-baseline=\"hanging\" stroke=\"none\" vector-effect=\"non-scaling-stroke\">0</text><text stroke=\"none\" vector-effect=\"non-scaling-stroke\" x=\"1.034012e+02\" y=\"10\" dominant-baseline=\"hanging\">10</text><text y=\"10\" dominant-baseline=\"hanging\" stroke=\"none\" vector-effect=\"non-scaling-stroke\" x=\"1.891224e+02\">20</text><text x=\"2.748436e+02\" y=\"10\" dominant-baseline=\"hanging\" stroke=\"none\" vector-effect=\"non-scaling-stroke\">30</text><text y=\"10\" dominant-baseline=\"hanging\" stroke=\"none\" vector-effect=\"non-scaling-stroke\" x=\"3.605648e+02\">40</text><text stroke=\"none\" vector-effect=\"non-scaling-stroke\" x=\"4.462861e+02\" y=\"10\" dominant-baseline=\"hanging\">50</text><text vector-effect=\"non-scaling-stroke\" x=\"5.320073e+02\" y=\"10\" dominant-baseline=\"hanging\" stroke=\"none\">60</text><text stroke=\"none\" vector-effect=\"non-scaling-stroke\" x=\"6.177285e+02\" y=\"10\" dominant-baseline=\"hanging\">70</text><text y=\"10\" dominant-baseline=\"hanging\" stroke=\"none\" vector-effect=\"non-scaling-stroke\" x=\"7.034497e+02\">80</text><text stroke=\"none\" vector-effect=\"non-scaling-stroke\" x=\"7.891709e+02\" y=\"10\" dominant-baseline=\"hanging\">90</text></g><g font-family=\"sans-serif\" font-size=\"12px\" text-anchor=\"middle\" stroke-linecap=\"round\" stroke-linejoin=\"round\" font-weight=\"bold\" fill=\"black\" transform=\"translate(70 250 )scale(1 1 )rotate(0 0 0 )\" dominant-baseline=\"baseline\" font-style=\"normal\" stroke=\"black\" stroke-width=\"2px\"><text stroke=\"none\" vector-effect=\"non-scaling-stroke\" x=\"442\" y=\"-6\" dominant-baseline=\"baseline\">Steps</text></g><g font-family=\"sans-serif\" text-anchor=\"middle\" dominant-baseline=\"baseline\" font-size=\"12px\" stroke-linecap=\"round\" stroke-linejoin=\"round\" font-style=\"normal\" font-weight=\"bold\" fill=\"black\" stroke=\"black\" stroke-width=\"2px\" transform=\"translate(70 250 )scale(1 -1 )\"><path vector-effect=\"non-scaling-stroke\" d=\"M0,3.717349e+00 L-6,3.717349e+00 M0,9.014395e+01 L-6,9.014395e+01 \"/></g><g fill=\"black\" stroke=\"black\" transform=\"translate(70 250 )scale(1 1 )\" font-size=\"12px\" stroke-linecap=\"round\" stroke-linejoin=\"round\" font-style=\"normal\" font-weight=\"normal\" stroke-width=\"2px\" font-family=\"sans-serif\" text-anchor=\"end\" dominant-baseline=\"middle\"><text y=\"-3.717349e+00\" dominant-baseline=\"middle\" stroke=\"none\" vector-effect=\"non-scaling-stroke\" x=\"-10\">-1.000</text><text y=\"-9.014395e+01\" dominant-baseline=\"middle\" stroke=\"none\" vector-effect=\"non-scaling-stroke\" x=\"-10\">0.000</text></g><g dominant-baseline=\"middle\" stroke-linejoin=\"round\" font-style=\"normal\" stroke=\"gray\" stroke-width=\"0.5px\" transform=\"translate(70 250 )scale(1 -1 )\" font-family=\"sans-serif\" stroke-linecap=\"round\" font-weight=\"normal\" fill=\"black\" font-size=\"12px\" text-anchor=\"end\"><path d=\"M0,3.717349e+00 L884,3.717349e+00 M0,9.014395e+01 L884,9.014395e+01 \" vector-effect=\"non-scaling-stroke\"/></g><g font-weight=\"normal\" fill=\"none\" stroke=\"black\" stroke-width=\"2px\" font-size=\"12px\" text-anchor=\"end\" dominant-baseline=\"middle\" stroke-linecap=\"round\" font-family=\"sans-serif\" stroke-linejoin=\"round\" font-style=\"normal\"><rect y=\"70\" width=\"884\" height=\"180\" vector-effect=\"non-scaling-stroke\" x=\"70\"/><g fill=\"hsl(90, 47%, 65%)\" stroke=\"hsl(90, 47%, 65%)\" stroke-width=\"1px\" text-anchor=\"start\" dominant-baseline=\"hanging\"><rect y=\"286\" width=\"12\" height=\"12\" vector-effect=\"non-scaling-stroke\" x=\"76\"/><g stroke=\"black\" font-family=\"sans-serif\" font-size=\"12px\" stroke-linecap=\"round\" stroke-linejoin=\"round\" font-style=\"normal\" font-weight=\"normal\" fill=\"black\"><text stroke=\"none\" vector-effect=\"non-scaling-stroke\" x=\"92\" y=\"286\" dominant-baseline=\"hanging\">Learned</text><g text-anchor=\"start\" dominant-baseline=\"hanging\" fill=\"hsl(301, 88%, 65%)\" stroke=\"hsl(301, 88%, 65%)\" stroke-width=\"1px\"><rect vector-effect=\"non-scaling-stroke\" x=\"76\" y=\"304\" width=\"12\" height=\"12\"/><g font-weight=\"normal\" fill=\"black\" stroke=\"black\" font-family=\"sans-serif\" font-size=\"12px\" stroke-linecap=\"round\" stroke-linejoin=\"round\" font-style=\"normal\"><text x=\"92\" y=\"304\" dominant-baseline=\"hanging\" stroke=\"none\" vector-effect=\"non-scaling-stroke\">Truth</text></g></g></g></g></g></svg>"
      ]
     },
     "metadata": {},
     "output_type": "display_data"
    },
    {
     "name": "stdout",
     "output_type": "stream",
     "text": [
      "      \u001b[1m 100% [========================================] (1251 steps/s)\u001b[0m [step=799] [loss+=0.0102] [~loss+=0.0781] [~loss=0.0781]                 \n"
     ]
    }
   ],
   "source": [
    "import (\n",
    "    . \"github.com/gomlx/gomlx/pkg/core/graph\"\n",
    "    \"github.com/gomlx/gomlx/pkg/ml/context\"\n",
    "    \"github.com/gomlx/gomlx/pkg/ml/data\"\n",
    "    \"github.com/gomlx/gomlx/pkg/ml/train\"\n",
    ")\n",
    "\n",
    "var (\n",
    "\tflagNumSteps     = flag.Int(\"steps\", 1000, \"Number of gradient descent steps to perform\")\n",
    "\tflagLearningRate = flag.Float64(\"learning_rate\", 0.1, \"Initial learning rate.\")\n",
    ")\n",
    "\n",
    "func TrainInverseRealFFT() {\n",
    "    x, y := CalculateXY()\n",
    "    ctx := context.New()\n",
    "\tctx.SetParam(optimizers.LearningRateKey, *flagLearningRate)\n",
    "\n",
    "    modelFn := func(ctx *context.Context, spec any, inputs []*Node) []*Node {\n",
    "        g := inputs[0].Graph()\n",
    "        learnedXVar := ctx.VariableWithShape(\"learnedX\", x.Shape())\n",
    "        predictedY := RealFFT(learnedXVar.ValueGraph(g))\n",
    "        return []*Node{predictedY}\n",
    "    }\n",
    "\n",
    "    dataset, err := data.InMemoryFromData(backend, \"dataset\", []any{x}, []any{y})\n",
    "    if err != nil {\n",
    "        panic(err)\n",
    "    }\n",
    "    dataset.BatchSize(1, false).Infinite(true)\n",
    "\n",
    "    opt := optimizers.Adam().Done()\n",
    "    trainer := train.NewTrainer(\n",
    "        backend, ctx, modelFn,\n",
    "        losses.MeanAbsoluteError,\n",
    "        opt,\n",
    "        nil, nil) // trainMetrics, evalMetrics\n",
    "\n",
    "\tloop := train.NewLoop(trainer)\n",
    "\tcommandline.AttachProgressBar(loop) // Attaches a progress bar to the loop.\n",
    "\n",
    "    // Plot learnedX\n",
    "    displayId := gonbui.UniqueID()\n",
    "    gonbui.UpdateHTML(displayId, \"\")\n",
    "    train.EveryNSteps(loop, 10, \"plot\", 0, func(loop *train.Loop, metrics []*tensors.Tensor) error {\n",
    "        learnedXVar := ctx.InspectVariable(context.RootScope, \"learnedX\")\n",
    "        learnedX := learnedXVar.Value()\n",
    "        Plot(displayId, 1024, 320, []*tensors.Tensor{x, learnedX}, []string{\"Truth\", \"Learned\"})\n",
    "        return nil\n",
    "    })\n",
    "    \n",
    "\t// Loop for given number of steps.\n",
    "\t_, err = loop.RunSteps(dataset, *flagNumSteps)\n",
    "\tif err != nil {\n",
    "\t\tpanic(err)\n",
    "\t}\n",
    "\n",
    "}\n",
    "\n",
    "%% --steps=800 --learning_rate=0.01\n",
    "TrainInverseRealFFT()"
   ]
  }
 ],
 "metadata": {
  "kernelspec": {
   "display_name": "Go (gonb)",
   "language": "go",
   "name": "gonb"
  },
  "language_info": {
   "codemirror_mode": "",
   "file_extension": ".go",
   "mimetype": "text/x-go",
   "name": "go",
   "nbconvert_exporter": "",
   "pygments_lexer": "",
   "version": "go1.24.2"
  }
 },
 "nbformat": 4,
 "nbformat_minor": 5
}
