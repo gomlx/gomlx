{
 "cells": [
  {
   "cell_type": "markdown",
   "id": "89c9afa4-399c-4a64-ac27-dd1aeecbc8f3",
   "metadata": {},
   "source": [
    "# Fast-Fourier-Transformation Example\n",
    "\n",
    "## Machine-Learned Inverse FFT\n",
    "\n",
    "Let's start with a sinusoidal curve: that's the input (`x`) that we want to learn, given its FFT (`y`).\n",
    "The goal is to do an `InverseRealFFT` by gradient descent.\n",
    "\n",
    "For this problem the input (`x`) is real (`float32`) and label (`y`), the FFT, is complex (`complex64`)."
   ]
  },
  {
   "cell_type": "code",
   "execution_count": 1,
   "id": "2a73f9ca-19a5-44e8-96c1-c488ecf356c0",
   "metadata": {},
   "outputs": [
    {
     "name": "stdout",
     "output_type": "stream",
     "text": [
      "\t- Added replace rule for module \"github.com/gomlx/gomlx\" to local directory \"/home/jupyter/Projects/gomlx\".\n"
     ]
    }
   ],
   "source": [
    "!*go work init && go work use . ~/Projects/gomlx\n",
    "%goworkfix"
   ]
  },
  {
   "cell_type": "code",
   "execution_count": 2,
   "id": "e34bf9b0-a4ed-4afe-a52d-deccd7bd4620",
   "metadata": {},
   "outputs": [
    {
     "name": "stdout",
     "output_type": "stream",
     "text": [
      "x: shape=(Float32)[1 100]\n",
      "y: shape=(Complex64)[1 51]\n"
     ]
    },
    {
     "data": {
      "text/html": [
       "<svg preserveAspectRatio=\"xMidYMid meet\" xmlns=\"http://www.w3.org/2000/svg\" width=\"1024\" height=\"320\" viewbox=\"0 0 1024 320\" style=\"background-color:#f8f8f8\"><defs><marker markerWidth=\"2%\" markerHeight=\"2%\" id=\"circle\" viewBox=\"0 0 10 10 \" refX=\"5\" refY=\"5\" markerUnits=\"userSpaceOnUse\"><circle cy=\"5\" r=\"3\" fill=\"none\" stroke=\"black\" cx=\"5\"/></marker><marker markerUnits=\"userSpaceOnUse\" markerWidth=\"2%\" markerHeight=\"2%\" id=\"filled-circle\" viewBox=\"0 0 10 10 \" refX=\"5\" refY=\"5\"><circle cy=\"5\" r=\"3\" fill=\"black\" stroke=\"none\" cx=\"5\"/></marker><marker markerHeight=\"2%\" id=\"square\" viewBox=\"0 0 10 10 \" refX=\"5\" refY=\"5\" markerUnits=\"userSpaceOnUse\" markerWidth=\"2%\"><rect height=\"6\" fill=\"none\" stroke=\"black\" x=\"2\" y=\"2\" width=\"6\"/></marker><marker markerWidth=\"2%\" markerHeight=\"2%\" id=\"filled-square\" viewBox=\"0 0 10 10 \" refX=\"5\" refY=\"5\" markerUnits=\"userSpaceOnUse\"><rect y=\"2\" width=\"6\" height=\"6\" fill=\"black\" stroke=\"none\" x=\"2\"/></marker></defs><g stroke=\"hsl(90, 47%, 65%)\" marker-mid=\"url(#square)\" transform=\"translate(70 250 )scale(1 -1 )\" stroke-linecap=\"round\" marker-end=\"url(#square)\" stroke-width=\"2px\" stroke-linejoin=\"round\" marker-start=\"url(#square)\" fill=\"none\"><path vector-effect=\"non-scaling-stroke\" d=\"M1.768000e+01,9.000000e+01 L2.625212e+01,1.008502e+02 L3.482424e+01,1.115293e+02 L4.339636e+01,1.218689e+02 L5.196848e+01,1.317058e+02 L6.054061e+01,1.408851e+02 L6.911273e+01,1.492618e+02 L7.768485e+01,1.567040e+02 L8.625697e+01,1.630942e+02 L9.482909e+01,1.683316e+02 L1.034012e+02,1.723338e+02 L1.119733e+02,1.750374e+02 L1.205455e+02,1.764000e+02 L1.291176e+02,1.764000e+02 L1.376897e+02,1.750374e+02 L1.462618e+02,1.723337e+02 L1.548339e+02,1.683316e+02 L1.634061e+02,1.630942e+02 L1.719782e+02,1.567040e+02 L1.805503e+02,1.492618e+02 L1.891224e+02,1.408851e+02 L1.976945e+02,1.317058e+02 L2.062667e+02,1.218688e+02 L2.148388e+02,1.115293e+02 L2.234109e+02,1.008502e+02 L2.319830e+02,9.000000e+01 L2.405552e+02,7.914979e+01 L2.491273e+02,6.847070e+01 L2.576994e+02,5.813114e+01 L2.662715e+02,4.829417e+01 L2.748436e+02,3.911494e+01 L2.834158e+02,3.073819e+01 L2.919879e+02,2.329603e+01 L3.005600e+02,1.690582e+01 L3.091321e+02,1.166837e+01 L3.177042e+02,7.666243e+00 L3.262764e+02,4.962576e+00 L3.348485e+02,3.600005e+00 L3.434206e+02,3.600005e+00 L3.519927e+02,4.962587e+00 L3.605648e+02,7.666258e+00 L3.691370e+02,1.166838e+01 L3.777091e+02,1.690585e+01 L3.862812e+02,2.329605e+01 L3.948533e+02,3.073821e+01 L4.034255e+02,3.911497e+01 L4.119976e+02,4.829422e+01 L4.205697e+02,5.813120e+01 L4.291418e+02,6.847076e+01 L4.377139e+02,7.914981e+01 L4.462861e+02,9.000002e+01 L4.548582e+02,1.008502e+02 L4.634303e+02,1.115293e+02 L4.720024e+02,1.218689e+02 L4.805745e+02,1.317058e+02 L4.891467e+02,1.408851e+02 L4.977188e+02,1.492618e+02 L5.062909e+02,1.567040e+02 L5.148630e+02,1.630942e+02 L5.234352e+02,1.683316e+02 L5.320073e+02,1.723338e+02 L5.405794e+02,1.750374e+02 L5.491515e+02,1.764000e+02 L5.577236e+02,1.764000e+02 L5.662958e+02,1.750374e+02 L5.748679e+02,1.723337e+02 L5.834400e+02,1.683316e+02 L5.920121e+02,1.630941e+02 L6.005842e+02,1.567039e+02 L6.091564e+02,1.492618e+02 L6.177285e+02,1.408850e+02 L6.263006e+02,1.317058e+02 L6.348727e+02,1.218688e+02 L6.434448e+02,1.115292e+02 L6.520170e+02,1.008501e+02 L6.605891e+02,9.000000e+01 L6.691612e+02,7.914979e+01 L6.777333e+02,6.847070e+01 L6.863055e+02,5.813114e+01 L6.948776e+02,4.829417e+01 L7.034497e+02,3.911493e+01 L7.120218e+02,3.073817e+01 L7.205939e+02,2.329602e+01 L7.291661e+02,1.690582e+01 L7.377382e+02,1.166836e+01 L7.463103e+02,7.666243e+00 L7.548824e+02,4.962576e+00 L7.634545e+02,3.600000e+00 L7.720267e+02,3.600010e+00 L7.805988e+02,4.962597e+00 L7.891709e+02,7.666274e+00 L7.977430e+02,1.166841e+01 L8.063152e+02,1.690588e+01 L8.148873e+02,2.329609e+01 L8.234594e+02,3.073825e+01 L8.320315e+02,3.911502e+01 L8.406036e+02,4.829427e+01 L8.491758e+02,5.813117e+01 L8.577479e+02,6.847074e+01 L8.663200e+02,7.914983e+01 \"/></g><g stroke-width=\"2px\" transform=\"translate(70 250 )scale(1 -1 )\" stroke-linecap=\"round\" stroke-linejoin=\"round\" fill=\"none\" stroke=\"black\"><path d=\"M1.768000e+01,0 L1.768000e+01,-6 M1.034012e+02,0 L1.034012e+02,-6 M1.891224e+02,0 L1.891224e+02,-6 M2.748436e+02,0 L2.748436e+02,-6 M3.605648e+02,0 L3.605648e+02,-6 M4.462861e+02,0 L4.462861e+02,-6 M5.320073e+02,0 L5.320073e+02,-6 M6.177285e+02,0 L6.177285e+02,-6 M7.034497e+02,0 L7.034497e+02,-6 M7.891709e+02,0 L7.891709e+02,-6 \" vector-effect=\"non-scaling-stroke\"/></g><g font-style=\"normal\" font-weight=\"normal\" dominant-baseline=\"hanging\" stroke-width=\"2px\" stroke-linecap=\"round\" stroke-linejoin=\"round\" font-family=\"sans-serif\" transform=\"translate(70 250 )scale(1 1 )\" font-size=\"12px\" text-anchor=\"middle\" fill=\"black\" stroke=\"black\"><text stroke=\"none\" vector-effect=\"non-scaling-stroke\" x=\"1.768000e+01\" y=\"10\" dominant-baseline=\"hanging\">0</text><text stroke=\"none\" vector-effect=\"non-scaling-stroke\" x=\"1.034012e+02\" y=\"10\" dominant-baseline=\"hanging\">10</text><text y=\"10\" dominant-baseline=\"hanging\" stroke=\"none\" vector-effect=\"non-scaling-stroke\" x=\"1.891224e+02\">20</text><text x=\"2.748436e+02\" y=\"10\" dominant-baseline=\"hanging\" stroke=\"none\" vector-effect=\"non-scaling-stroke\">30</text><text stroke=\"none\" vector-effect=\"non-scaling-stroke\" x=\"3.605648e+02\" y=\"10\" dominant-baseline=\"hanging\">40</text><text stroke=\"none\" vector-effect=\"non-scaling-stroke\" x=\"4.462861e+02\" y=\"10\" dominant-baseline=\"hanging\">50</text><text stroke=\"none\" vector-effect=\"non-scaling-stroke\" x=\"5.320073e+02\" y=\"10\" dominant-baseline=\"hanging\">60</text><text y=\"10\" dominant-baseline=\"hanging\" stroke=\"none\" vector-effect=\"non-scaling-stroke\" x=\"6.177285e+02\">70</text><text dominant-baseline=\"hanging\" stroke=\"none\" vector-effect=\"non-scaling-stroke\" x=\"7.034497e+02\" y=\"10\">80</text><text stroke=\"none\" vector-effect=\"non-scaling-stroke\" x=\"7.891709e+02\" y=\"10\" dominant-baseline=\"hanging\">90</text></g><g stroke=\"black\" stroke-width=\"2px\" stroke-linejoin=\"round\" font-family=\"sans-serif\" text-anchor=\"middle\" fill=\"black\" stroke-linecap=\"round\" dominant-baseline=\"baseline\" transform=\"translate(70 250 )scale(1 1 )rotate(0 0 0 )\" font-size=\"12px\" font-style=\"normal\" font-weight=\"bold\"><text y=\"-6\" dominant-baseline=\"baseline\" stroke=\"none\" vector-effect=\"non-scaling-stroke\" x=\"442\">Steps</text></g><g stroke-linecap=\"round\" font-family=\"sans-serif\" dominant-baseline=\"baseline\" transform=\"translate(70 250 )scale(1 -1 )\" fill=\"black\" font-weight=\"bold\" text-anchor=\"middle\" stroke=\"black\" stroke-width=\"2px\" stroke-linejoin=\"round\" font-size=\"12px\" font-style=\"normal\"><path vector-effect=\"non-scaling-stroke\" d=\"M0,9.000000e+01 L-6,9.000000e+01 \"/></g><g stroke=\"black\" stroke-linecap=\"round\" stroke-linejoin=\"round\" font-family=\"sans-serif\" font-style=\"normal\" font-weight=\"normal\" text-anchor=\"end\" fill=\"black\" stroke-width=\"2px\" dominant-baseline=\"middle\" transform=\"translate(70 250 )scale(1 1 )\" font-size=\"12px\"><text vector-effect=\"non-scaling-stroke\" x=\"-10\" y=\"-9.000000e+01\" dominant-baseline=\"middle\" stroke=\"none\">-0.000</text></g><g font-weight=\"normal\" dominant-baseline=\"middle\" fill=\"black\" stroke-width=\"0.5px\" stroke-linecap=\"round\" font-style=\"normal\" font-size=\"12px\" text-anchor=\"end\" stroke=\"gray\" stroke-linejoin=\"round\" font-family=\"sans-serif\" transform=\"translate(70 250 )scale(1 -1 )\"><path vector-effect=\"non-scaling-stroke\" d=\"M0,9.000000e+01 L884,9.000000e+01 \"/></g><g font-size=\"12px\" font-style=\"normal\" stroke=\"black\" stroke-width=\"2px\" stroke-linecap=\"round\" font-family=\"sans-serif\" dominant-baseline=\"middle\" font-weight=\"normal\" text-anchor=\"end\" fill=\"none\" stroke-linejoin=\"round\"><rect vector-effect=\"non-scaling-stroke\" x=\"70\" y=\"70\" width=\"884\" height=\"180\"/></g></svg>"
      ]
     },
     "metadata": {},
     "output_type": "display_data"
    }
   ],
   "source": [
    "import (\n",
    "    . \"github.com/gomlx/gomlx/graph\"\n",
    "    . \"github.com/gomlx/gomlx/types/exceptions\"\n",
    "    mg \"github.com/gomlx/gomlx/examples/notebook/gonb/margaid\"\n",
    "    \"github.com/janpfeifer/gonb/gonbui\"\n",
    ")\n",
    "\n",
    "// manager always created at initialization.\n",
    "var manager = NewManager()\n",
    "\n",
    "const (\n",
    "    NumPoints = 100\n",
    "    Frequency = 2.0  // Number of curves in samples.\n",
    "    RealDType = shapes.Float32\n",
    "    ComplexDType = shapes.Complex64\n",
    ")\n",
    "\n",
    "// CalculateXY returns (x, y) of our problem, where y is a sinusoidal curve and x is its FFT.\n",
    "func CalculateXY() (x, y tensor.Tensor) {\n",
    "    e := NewExec(manager, func (g *Graph) (x, y *Node) {\n",
    "        x = Iota(g, shapes.Make(RealDType, 1, NumPoints), 1)\n",
    "        x = MulScalar(x, 2.0*math.Pi*Frequency/float64(NumPoints))\n",
    "        x = Sin(x)\n",
    "        y = RealFFT(x)\n",
    "        return\n",
    "    })\n",
    "    res := e.Call()\n",
    "    return res[0], res[1]\n",
    "}\n",
    "\n",
    "func Plot(displayId string, width, height int, tensors []tensor.Tensor, names []string) {\n",
    "    plts := mg.New(width, height)\n",
    "    for ii, t := range tensors {\n",
    "        var values []float64\n",
    "        switch t.DType() {\n",
    "        case shapes.F64:\n",
    "            values = t.Local().FlatCopy().([]float64)\n",
    "        case shapes.F32:\n",
    "            values32 := t.Local().FlatCopy().([]float32)\n",
    "            values = slices.Map(values32, func (v float32) float64 { return float64(v) })\n",
    "        default:\n",
    "            Panicf(\"only float32 and float64 tensor dtypes are accepted by Plot, got t.shape=%s\", t.Shape())\n",
    "        }\n",
    "        var name string\n",
    "        if len(names) > ii {\n",
    "            name = names[ii]\n",
    "        }\n",
    "        plts.AddValues(name, \"\", values)\n",
    "    }\n",
    "    if displayId == \"\" {\n",
    "        plts.Plot()\n",
    "    } else {\n",
    "        gonbui.UpdateHTML(displayId, plts.PlotToHTML())\n",
    "    }\n",
    "}\n",
    "\n",
    "%%\n",
    "x, y := CalculateXY()\n",
    "fmt.Printf(\"x: shape=%s\\n\", x.Shape())\n",
    "fmt.Printf(\"y: shape=%s\\n\", y.Shape())\n",
    "Plot(\"\", 1024, 320, []tensor.Tensor{x}, nil)"
   ]
  },
  {
   "cell_type": "markdown",
   "id": "749d6fbd-c7ad-4bec-80d4-8a2dd1dd1531",
   "metadata": {},
   "source": [
    "### Train the model\n",
    "\n",
    "If you run it, you'll see the plot of the \"learnedX\" adjusting towards \"x\", the original sinusoidal curve."
   ]
  },
  {
   "cell_type": "code",
   "execution_count": 3,
   "id": "555b0279-e565-4857-a422-6ed214305408",
   "metadata": {},
   "outputs": [
    {
     "data": {
      "text/html": [
       "<svg xmlns=\"http://www.w3.org/2000/svg\" width=\"1024\" height=\"356\" viewbox=\"0 0 1024 320\" style=\"background-color:#f8f8f8\" preserveAspectRatio=\"xMidYMid meet\"><defs><marker refX=\"5\" refY=\"5\" markerUnits=\"userSpaceOnUse\" markerWidth=\"2%\" markerHeight=\"2%\" id=\"circle\" viewBox=\"0 0 10 10 \"><circle stroke=\"black\" cx=\"5\" cy=\"5\" r=\"3\" fill=\"none\"/></marker><marker markerWidth=\"2%\" markerHeight=\"2%\" id=\"filled-circle\" viewBox=\"0 0 10 10 \" refX=\"5\" refY=\"5\" markerUnits=\"userSpaceOnUse\"><circle cy=\"5\" r=\"3\" fill=\"black\" stroke=\"none\" cx=\"5\"/></marker><marker viewBox=\"0 0 10 10 \" refX=\"5\" refY=\"5\" markerUnits=\"userSpaceOnUse\" markerWidth=\"2%\" markerHeight=\"2%\" id=\"square\"><rect height=\"6\" fill=\"none\" stroke=\"black\" x=\"2\" y=\"2\" width=\"6\"/></marker><marker refY=\"5\" markerUnits=\"userSpaceOnUse\" markerWidth=\"2%\" markerHeight=\"2%\" id=\"filled-square\" viewBox=\"0 0 10 10 \" refX=\"5\"><rect width=\"6\" height=\"6\" fill=\"black\" stroke=\"none\" x=\"2\" y=\"2\"/></marker></defs><g stroke-linecap=\"round\" stroke-width=\"2px\" marker-mid=\"url(#square)\" fill=\"none\" stroke=\"hsl(90, 47%, 65%)\" stroke-linejoin=\"round\" marker-start=\"url(#square)\" marker-end=\"url(#square)\" transform=\"translate(70 250 )scale(1 -1 )\"><path vector-effect=\"non-scaling-stroke\" d=\"M1.768000e+01,9.018120e+01 L2.625212e+01,1.006958e+02 L3.482424e+01,1.115536e+02 L4.339636e+01,1.217513e+02 L5.196848e+01,1.314727e+02 L6.054061e+01,1.405707e+02 L6.911273e+01,1.491462e+02 L7.768485e+01,1.564159e+02 L8.625697e+01,1.631321e+02 L9.482909e+01,1.681049e+02 L1.034012e+02,1.723060e+02 L1.119733e+02,1.745644e+02 L1.205455e+02,1.762130e+02 L1.291176e+02,1.763419e+02 L1.376897e+02,1.747207e+02 L1.462618e+02,1.721316e+02 L1.548339e+02,1.680847e+02 L1.634061e+02,1.628537e+02 L1.719782e+02,1.566042e+02 L1.805503e+02,1.490163e+02 L1.891224e+02,1.406620e+02 L1.976945e+02,1.315597e+02 L2.062667e+02,1.217255e+02 L2.148388e+02,1.114377e+02 L2.234109e+02,1.006957e+02 L2.319830e+02,8.990813e+01 L2.405552e+02,7.885279e+01 L2.491273e+02,6.855273e+01 L2.576994e+02,5.809295e+01 L2.662715e+02,4.825479e+01 L2.748436e+02,3.919389e+01 L2.834158e+02,3.074564e+01 L2.919879e+02,2.329524e+01 L3.005600e+02,1.695855e+01 L3.091321e+02,1.159204e+01 L3.177042e+02,7.774250e+00 L3.262764e+02,4.930336e+00 L3.348485e+02,3.662223e+00 L3.434206e+02,3.849555e+00 L3.519927e+02,4.903904e+00 L3.605648e+02,7.804903e+00 L3.691370e+02,1.144608e+01 L3.777091e+02,1.710793e+01 L3.862812e+02,2.341786e+01 L3.948533e+02,3.068285e+01 L4.034255e+02,3.906179e+01 L4.119976e+02,4.817448e+01 L4.205697e+02,5.802264e+01 L4.291418e+02,6.843263e+01 L4.377139e+02,7.894916e+01 L4.462861e+02,8.981927e+01 L4.548582e+02,1.005912e+02 L4.634303e+02,1.114872e+02 L4.720024e+02,1.215624e+02 L4.805745e+02,1.315823e+02 L4.891467e+02,1.408297e+02 L4.977188e+02,1.489412e+02 L5.062909e+02,1.565110e+02 L5.148630e+02,1.629146e+02 L5.234352e+02,1.680109e+02 L5.320073e+02,1.723219e+02 L5.405794e+02,1.748158e+02 L5.491515e+02,1.764000e+02 L5.577236e+02,1.763482e+02 L5.662958e+02,1.747142e+02 L5.748679e+02,1.722201e+02 L5.834400e+02,1.680838e+02 L5.920121e+02,1.628995e+02 L6.005842e+02,1.566185e+02 L6.091564e+02,1.488197e+02 L6.177285e+02,1.410766e+02 L6.263006e+02,1.315655e+02 L6.348727e+02,1.218031e+02 L6.434448e+02,1.113859e+02 L6.520170e+02,1.008417e+02 L6.605891e+02,8.964620e+01 L6.691612e+02,7.925150e+01 L6.777333e+02,6.851291e+01 L6.863055e+02,5.837338e+01 L6.948776e+02,4.826076e+01 L7.034497e+02,3.949437e+01 L7.120218e+02,3.079944e+01 L7.205939e+02,2.327350e+01 L7.291661e+02,1.677931e+01 L7.377382e+02,1.180418e+01 L7.463103e+02,7.646240e+00 L7.548824e+02,4.929048e+00 L7.634545e+02,3.683389e+00 L7.720267e+02,3.600000e+00 L7.805988e+02,5.189001e+00 L7.891709e+02,7.830022e+00 L7.977430e+02,1.169964e+01 L8.063152e+02,1.711882e+01 L8.148873e+02,2.316947e+01 L8.234594e+02,3.066363e+01 L8.320315e+02,3.921102e+01 L8.406036e+02,4.830082e+01 L8.491758e+02,5.820456e+01 L8.577479e+02,6.847261e+01 L8.663200e+02,7.906623e+01 \"/></g><g stroke-linejoin=\"round\" marker-start=\"url(#square)\" fill=\"none\" stroke=\"hsl(301, 88%, 65%)\" stroke-width=\"2px\" marker-mid=\"url(#square)\" marker-end=\"url(#square)\" transform=\"translate(70 250 )scale(1 -1 )\" stroke-linecap=\"round\"><path vector-effect=\"non-scaling-stroke\" d=\"M1.768000e+01,8.995526e+01 L2.625212e+01,1.007898e+02 L3.482424e+01,1.114535e+02 L4.339636e+01,1.217782e+02 L5.196848e+01,1.316010e+02 L6.054061e+01,1.407670e+02 L6.911273e+01,1.491317e+02 L7.768485e+01,1.565631e+02 L8.625697e+01,1.629441e+02 L9.482909e+01,1.681740e+02 L1.034012e+02,1.721704e+02 L1.119733e+02,1.748701e+02 L1.205455e+02,1.762308e+02 L1.291176e+02,1.762308e+02 L1.376897e+02,1.748701e+02 L1.462618e+02,1.721704e+02 L1.548339e+02,1.681740e+02 L1.634061e+02,1.629441e+02 L1.719782e+02,1.565631e+02 L1.805503e+02,1.491317e+02 L1.891224e+02,1.407670e+02 L1.976945e+02,1.316010e+02 L2.062667e+02,1.217782e+02 L2.148388e+02,1.114535e+02 L2.234109e+02,1.007898e+02 L2.319830e+02,8.995525e+01 L2.405552e+02,7.912068e+01 L2.491273e+02,6.845698e+01 L2.576994e+02,5.813231e+01 L2.662715e+02,4.830952e+01 L2.748436e+02,3.914352e+01 L2.834158e+02,3.077884e+01 L2.919879e+02,2.334740e+01 L3.005600e+02,1.696641e+01 L3.091321e+02,1.173650e+01 L3.177042e+02,7.740140e+00 L3.262764e+02,5.040370e+00 L3.348485e+02,3.679762e+00 L3.434206e+02,3.679762e+00 L3.519927e+02,5.040380e+00 L3.605648e+02,7.740156e+00 L3.691370e+02,1.173651e+01 L3.777091e+02,1.696643e+01 L3.862812e+02,2.334743e+01 L3.948533e+02,3.077886e+01 L4.034255e+02,3.914355e+01 L4.119976e+02,4.830958e+01 L4.205697e+02,5.813237e+01 L4.291418e+02,6.845704e+01 L4.377139e+02,7.912070e+01 L4.462861e+02,8.995527e+01 L4.548582e+02,1.007898e+02 L4.634303e+02,1.114535e+02 L4.720024e+02,1.217782e+02 L4.805745e+02,1.316010e+02 L4.891467e+02,1.407670e+02 L4.977188e+02,1.491317e+02 L5.062909e+02,1.565631e+02 L5.148630e+02,1.629441e+02 L5.234352e+02,1.681740e+02 L5.320073e+02,1.721704e+02 L5.405794e+02,1.748701e+02 L5.491515e+02,1.762308e+02 L5.577236e+02,1.762308e+02 L5.662958e+02,1.748701e+02 L5.748679e+02,1.721703e+02 L5.834400e+02,1.681740e+02 L5.920121e+02,1.629441e+02 L6.005842e+02,1.565631e+02 L6.091564e+02,1.491316e+02 L6.177285e+02,1.407669e+02 L6.263006e+02,1.316009e+02 L6.348727e+02,1.217781e+02 L6.434448e+02,1.114534e+02 L6.520170e+02,1.007897e+02 L6.605891e+02,8.995526e+01 L6.691612e+02,7.912068e+01 L6.777333e+02,6.845698e+01 L6.863055e+02,5.813232e+01 L6.948776e+02,4.830953e+01 L7.034497e+02,3.914351e+01 L7.120218e+02,3.077882e+01 L7.205939e+02,2.334739e+01 L7.291661e+02,1.696640e+01 L7.377382e+02,1.173649e+01 L7.463103e+02,7.740140e+00 L7.548824e+02,5.040370e+00 L7.634545e+02,3.679757e+00 L7.720267e+02,3.679767e+00 L7.805988e+02,5.040390e+00 L7.891709e+02,7.740171e+00 L7.977430e+02,1.173654e+01 L8.063152e+02,1.696646e+01 L8.148873e+02,2.334746e+01 L8.234594e+02,3.077891e+01 L8.320315e+02,3.914360e+01 L8.406036e+02,4.830963e+01 L8.491758e+02,5.813235e+01 L8.577479e+02,6.845701e+01 L8.663200e+02,7.912072e+01 \"/></g><g stroke-linecap=\"round\" stroke-width=\"2px\" stroke-linejoin=\"round\" transform=\"translate(70 250 )scale(1 -1 )\" fill=\"none\" stroke=\"black\"><path vector-effect=\"non-scaling-stroke\" d=\"M1.768000e+01,0 L1.768000e+01,-6 M1.034012e+02,0 L1.034012e+02,-6 M1.891224e+02,0 L1.891224e+02,-6 M2.748436e+02,0 L2.748436e+02,-6 M3.605648e+02,0 L3.605648e+02,-6 M4.462861e+02,0 L4.462861e+02,-6 M5.320073e+02,0 L5.320073e+02,-6 M6.177285e+02,0 L6.177285e+02,-6 M7.034497e+02,0 L7.034497e+02,-6 M7.891709e+02,0 L7.891709e+02,-6 \"/></g><g stroke-linejoin=\"round\" font-style=\"normal\" font-weight=\"normal\" text-anchor=\"middle\" font-family=\"sans-serif\" dominant-baseline=\"hanging\" stroke-width=\"2px\" transform=\"translate(70 250 )scale(1 1 )\" fill=\"black\" stroke=\"black\" stroke-linecap=\"round\" font-size=\"12px\"><text y=\"10\" dominant-baseline=\"hanging\" stroke=\"none\" vector-effect=\"non-scaling-stroke\" x=\"1.768000e+01\">0</text><text x=\"1.034012e+02\" y=\"10\" dominant-baseline=\"hanging\" stroke=\"none\" vector-effect=\"non-scaling-stroke\">10</text><text stroke=\"none\" vector-effect=\"non-scaling-stroke\" x=\"1.891224e+02\" y=\"10\" dominant-baseline=\"hanging\">20</text><text vector-effect=\"non-scaling-stroke\" x=\"2.748436e+02\" y=\"10\" dominant-baseline=\"hanging\" stroke=\"none\">30</text><text dominant-baseline=\"hanging\" stroke=\"none\" vector-effect=\"non-scaling-stroke\" x=\"3.605648e+02\" y=\"10\">40</text><text dominant-baseline=\"hanging\" stroke=\"none\" vector-effect=\"non-scaling-stroke\" x=\"4.462861e+02\" y=\"10\">50</text><text stroke=\"none\" vector-effect=\"non-scaling-stroke\" x=\"5.320073e+02\" y=\"10\" dominant-baseline=\"hanging\">60</text><text x=\"6.177285e+02\" y=\"10\" dominant-baseline=\"hanging\" stroke=\"none\" vector-effect=\"non-scaling-stroke\">70</text><text y=\"10\" dominant-baseline=\"hanging\" stroke=\"none\" vector-effect=\"non-scaling-stroke\" x=\"7.034497e+02\">80</text><text dominant-baseline=\"hanging\" stroke=\"none\" vector-effect=\"non-scaling-stroke\" x=\"7.891709e+02\" y=\"10\">90</text></g><g stroke-linejoin=\"round\" transform=\"translate(70 250 )scale(1 1 )rotate(0 0 0 )\" font-style=\"normal\" font-weight=\"bold\" stroke=\"black\" font-family=\"sans-serif\" font-size=\"12px\" dominant-baseline=\"baseline\" stroke-width=\"2px\" text-anchor=\"middle\" fill=\"black\" stroke-linecap=\"round\"><text stroke=\"none\" vector-effect=\"non-scaling-stroke\" x=\"442\" y=\"-6\" dominant-baseline=\"baseline\">Steps</text></g><g stroke-linejoin=\"round\" font-style=\"normal\" font-weight=\"bold\" stroke-width=\"2px\" stroke=\"black\" font-size=\"12px\" dominant-baseline=\"baseline\" transform=\"translate(70 250 )scale(1 -1 )\" text-anchor=\"middle\" stroke-linecap=\"round\" font-family=\"sans-serif\" fill=\"black\"><path d=\"M0,8.995526e+01 L-6,8.995526e+01 \" vector-effect=\"non-scaling-stroke\"/></g><g font-size=\"12px\" transform=\"translate(70 250 )scale(1 1 )\" font-weight=\"normal\" font-family=\"sans-serif\" stroke=\"black\" stroke-linecap=\"round\" dominant-baseline=\"middle\" stroke-width=\"2px\" stroke-linejoin=\"round\" font-style=\"normal\" text-anchor=\"end\" fill=\"black\"><text vector-effect=\"non-scaling-stroke\" x=\"-10\" y=\"-8.995526e+01\" dominant-baseline=\"middle\" stroke=\"none\">-0.000</text></g><g fill=\"black\" stroke=\"gray\" stroke-linecap=\"round\" font-family=\"sans-serif\" dominant-baseline=\"middle\" stroke-width=\"0.5px\" stroke-linejoin=\"round\" text-anchor=\"end\" font-size=\"12px\" transform=\"translate(70 250 )scale(1 -1 )\" font-style=\"normal\" font-weight=\"normal\"><path vector-effect=\"non-scaling-stroke\" d=\"M0,8.995526e+01 L884,8.995526e+01 \"/></g><g stroke=\"black\" font-family=\"sans-serif\" font-style=\"normal\" font-weight=\"normal\" text-anchor=\"end\" stroke-linecap=\"round\" font-size=\"12px\" dominant-baseline=\"middle\" stroke-width=\"2px\" stroke-linejoin=\"round\" fill=\"none\"><rect height=\"180\" vector-effect=\"non-scaling-stroke\" x=\"70\" y=\"70\" width=\"884\"/><g fill=\"hsl(90, 47%, 65%)\" text-anchor=\"start\" stroke-width=\"1px\" stroke=\"hsl(90, 47%, 65%)\" dominant-baseline=\"hanging\"><rect x=\"76\" y=\"286\" width=\"12\" height=\"12\" vector-effect=\"non-scaling-stroke\"/><g font-style=\"normal\" font-weight=\"normal\" fill=\"black\" stroke=\"black\" stroke-linecap=\"round\" font-family=\"sans-serif\" font-size=\"12px\" stroke-linejoin=\"round\"><text y=\"286\" dominant-baseline=\"hanging\" stroke=\"none\" vector-effect=\"non-scaling-stroke\" x=\"92\">Learned</text><g fill=\"hsl(301, 88%, 65%)\" stroke=\"hsl(301, 88%, 65%)\" dominant-baseline=\"hanging\" stroke-width=\"1px\" text-anchor=\"start\"><rect x=\"76\" y=\"304\" width=\"12\" height=\"12\" vector-effect=\"non-scaling-stroke\"/><g font-family=\"sans-serif\" font-size=\"12px\" fill=\"black\" stroke=\"black\" stroke-linecap=\"round\" font-style=\"normal\" font-weight=\"normal\" stroke-linejoin=\"round\"><text stroke=\"none\" vector-effect=\"non-scaling-stroke\" x=\"92\" y=\"304\" dominant-baseline=\"hanging\">Truth</text></g></g></g></g></g></svg>"
      ]
     },
     "metadata": {},
     "output_type": "display_data"
    },
    {
     "name": "stdout",
     "output_type": "stream",
     "text": [
      "Training (800 steps):  100% [\u001b[32m=\u001b[0m\u001b[32m=\u001b[0m\u001b[32m=\u001b[0m\u001b[32m=\u001b[0m\u001b[32m=\u001b[0m\u001b[32m=\u001b[0m\u001b[32m=\u001b[0m\u001b[32m=\u001b[0m\u001b[32m=\u001b[0m\u001b[32m=\u001b[0m\u001b[32m=\u001b[0m\u001b[32m=\u001b[0m\u001b[32m=\u001b[0m\u001b[32m=\u001b[0m\u001b[32m=\u001b[0m\u001b[32m=\u001b[0m\u001b[32m=\u001b[0m\u001b[32m=\u001b[0m\u001b[32m=\u001b[0m\u001b[32m=\u001b[0m\u001b[32m=\u001b[0m\u001b[32m=\u001b[0m\u001b[32m=\u001b[0m\u001b[32m=\u001b[0m\u001b[32m=\u001b[0m\u001b[32m=\u001b[0m\u001b[32m=\u001b[0m\u001b[32m=\u001b[0m\u001b[32m=\u001b[0m\u001b[32m=\u001b[0m\u001b[32m=\u001b[0m\u001b[32m=\u001b[0m\u001b[32m=\u001b[0m\u001b[32m=\u001b[0m\u001b[32m=\u001b[0m\u001b[32m=\u001b[0m\u001b[32m=\u001b[0m\u001b[32m=\u001b[0m\u001b[32m=\u001b[0m\u001b[32m=\u001b[0m] (2009 steps/s)\u001b[0m [loss=0.011] [~loss=0.022]        \n"
     ]
    }
   ],
   "source": [
    "import (\n",
    "    . \"github.com/gomlx/gomlx/graph\"\n",
    "    \"github.com/gomlx/gomlx/ml/context\"\n",
    "    \"github.com/gomlx/gomlx/ml/data\"\n",
    "    \"github.com/gomlx/gomlx/ml/train\"\n",
    ")\n",
    "\n",
    "var (\n",
    "\tflagNumSteps     = flag.Int(\"steps\", 1000, \"Number of gradient descent steps to perform\")\n",
    "\tflagLearningRate = flag.Float64(\"learning_rate\", 0.1, \"Initial learning rate.\")\n",
    ")\n",
    "\n",
    "func TrainInverseRealFFT() {\n",
    "    x, y := CalculateXY()\n",
    "    ctx := context.NewContext(manager)\n",
    "\tctx.SetParam(optimizers.LearningRateKey, *flagLearningRate)\n",
    "\n",
    "    modelFn := func(ctx *context.Context, spec any, inputs []*Node) []*Node {\n",
    "        g := inputs[0].Graph()\n",
    "        learnedXVar := ctx.VariableWithShape(\"learnedX\", x.Shape())\n",
    "        predictedY := RealFFT(learnedXVar.ValueGraph(g))\n",
    "        return []*Node{predictedY}\n",
    "    }\n",
    "\n",
    "    dataset, err := data.InMemoryFromData(manager, \"dataset\", []any{x}, []any{y})\n",
    "    if err != nil {\n",
    "        panic(err)\n",
    "    }\n",
    "    dataset.BatchSize(1, false).Infinite(true)\n",
    "\n",
    "    opt := optimizers.Adam().Done()\n",
    "    trainer := train.NewTrainer(\n",
    "        manager, ctx, modelFn,\n",
    "        losses.MeanAbsoluteError,\n",
    "        opt,\n",
    "        nil, nil) // trainMetrics, evalMetrics\n",
    "\n",
    "\tloop := train.NewLoop(trainer)\n",
    "\tcommandline.AttachProgressBar(loop) // Attaches a progress bar to the loop.\n",
    "\n",
    "    // Plot learnedX\n",
    "    displayId := gonbui.UniqueID()\n",
    "    gonbui.UpdateHTML(displayId, \"\")\n",
    "    train.EveryNSteps(loop, 10, \"plot\", 0, func(loop *train.Loop, metrics []tensor.Tensor) error {\n",
    "        learnedXVar := ctx.InspectVariable(context.RootScope, \"learnedX\")\n",
    "        learnedX := learnedXVar.Value()\n",
    "        Plot(displayId, 1024, 320, []tensor.Tensor{x, learnedX}, []string{\"Truth\", \"Learned\"})\n",
    "        return nil\n",
    "    })\n",
    "    \n",
    "\t// Loop for given number of steps.\n",
    "\t_, err = loop.RunSteps(dataset, *flagNumSteps)\n",
    "\tif err != nil {\n",
    "\t\tpanic(err)\n",
    "\t}\n",
    "\n",
    "}\n",
    "\n",
    "%% --steps=800 --learning_rate=0.01\n",
    "TrainInverseRealFFT()"
   ]
  }
 ],
 "metadata": {
  "kernelspec": {
   "display_name": "Go (gonb)",
   "language": "go",
   "name": "gonb"
  },
  "language_info": {
   "codemirror_mode": "",
   "file_extension": ".go",
   "mimetype": "",
   "name": "go",
   "nbconvert_exporter": "",
   "pygments_lexer": "",
   "version": "go1.21.4"
  }
 },
 "nbformat": 4,
 "nbformat_minor": 5
}
